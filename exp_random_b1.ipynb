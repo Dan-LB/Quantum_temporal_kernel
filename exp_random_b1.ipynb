{
 "cells": [
  {
   "cell_type": "code",
   "execution_count": 1,
   "metadata": {},
   "outputs": [],
   "source": [
    "import seaborn as sns\n",
    "import matplotlib.pyplot as plt\n",
    "import numpy as np\n",
    "import pandas as pd\n",
    "from dtaidistance import dtw\n",
    "import itertools\n",
    "from tqdm import tqdm\n",
    "from sklearn.model_selection import train_test_split\n",
    "from sklearn.svm import OneClassSVM\n",
    "from sklearn.metrics import accuracy_score\n",
    "from sklearn.preprocessing import StandardScaler\n",
    "\n",
    "import os\n",
    "\n",
    "import random\n",
    "\n",
    "from SVM_models.models import evaluate_binary_SVM_standard, evaluate_binary_SVM_custom\n",
    "\n",
    "# import GunPoint dataset from GunPoint/GunPoint_test.txt and GunPoint/GunPoint_train.txt\n",
    "\n",
    "\n",
    "def load_dataset(file_path):\n",
    "    with open(file_path) as f:\n",
    "        lines = f.readlines()\n",
    "    # Parse each line, separating the label and features\n",
    "    labels = []\n",
    "    features = []\n",
    "    for line in lines:\n",
    "        values = list(map(float, line.strip().split()))\n",
    "        labels.append(int(values[0])-1)  # First value is the label, cast to int\n",
    "        features.append(values[1:])    # Remaining values are features\n",
    "    # Convert lists to numpy arrays for easier handling\n",
    "    labels = np.array(labels)\n",
    "    features = np.array(features)\n",
    "    # normalize dataset to 0 1\n",
    "    features = (features - features.min()) / (features.max() - features.min())\n",
    "    return labels, features\n",
    "\n",
    "# Load the GunPoint dataset\n",
    "\n",
    "#dataset_path with join\n",
    "\n",
    "train_path = os.path.join(\"GunPoint\", \"GunPoint_TRAIN.txt\")\n",
    "test_path = os.path.join(\"GunPoint\", \"GunPoint_TEST.txt\")\n",
    "\n",
    "train_labels, train_features = load_dataset(train_path)\n",
    "INITIAL_TEST_LABELS, INITIAL_TEST_FEATURES = load_dataset(test_path)\n",
    "\n",
    "# split test in validation (50) and test (100)\n",
    "\n"
   ]
  },
  {
   "cell_type": "code",
   "execution_count": 2,
   "metadata": {},
   "outputs": [],
   "source": [
    "EXPS = [\n",
    "    \"RANDOM\",\n",
    "    \"RANDOM_BEST\",\n",
    "    \"BAYESIAN_HAMILTONIAN\",\n",
    "    \"BAYESIAN_MODEL\",\n",
    "]\n",
    "\n",
    "OPT_TIMES = 30\n",
    "\n",
    "CONFIG = {\n",
    "    \"N_QUBITS\": 2,\n",
    "    \"SPARSITY\": 0.95,\n",
    "    \"ENCODING\": \"euler\",\n",
    "}\n",
    "\n",
    "SEEDS = range(10)\n",
    "EXP = \"RANDOM\"\n"
   ]
  },
  {
   "cell_type": "code",
   "execution_count": 3,
   "metadata": {},
   "outputs": [],
   "source": [
    "import os\n",
    "def save_results(EXP, encoding, seed, train_accuracy, val_accuracy, test_accuracy, Hamiltonian_c, hidden_alphas):\n",
    "    # Create folder structure\n",
    "    folder_name = f\"{EXP}__{encoding}\"\n",
    "    seed_folder = os.path.join(\"exps_results\", folder_name, f\"exp_{seed}\")\n",
    "    os.makedirs(seed_folder, exist_ok=True)\n",
    "\n",
    "    # Save configuration and OPT_TIMES to a text file\n",
    "    with open(os.path.join(seed_folder, \"config.txt\"), \"w\") as f:\n",
    "        f.write(f\"Experiment: {EXP}\\n\")\n",
    "        f.write(f\"Encoding: {encoding}\\n\")\n",
    "        f.write(f\"Number of Qubits: {CONFIG['N_QUBITS']}\\n\")\n",
    "        f.write(f\"Sparsity Coefficient: {CONFIG['SPARSITY']}\\n\")\n",
    "        f.write(f\"OPT_TIMES: {OPT_TIMES}\\n\")\n",
    "\n",
    "    # Save train, validation, and test accuracy\n",
    "    with open(os.path.join(seed_folder, \"train_accuracy.txt\"), \"w\") as f:\n",
    "        f.write(f\"Train Accuracy: {train_accuracy}\\n\")\n",
    "    \n",
    "    with open(os.path.join(seed_folder, \"val_accuracy.txt\"), \"w\") as f:\n",
    "        f.write(f\"Validation Accuracy: {val_accuracy}\\n\")\n",
    "\n",
    "    with open(os.path.join(seed_folder, \"test_accuracy.txt\"), \"w\") as f:\n",
    "        f.write(f\"Test Accuracy: {test_accuracy}\\n\")\n",
    "\n",
    "    # Save Hamiltonian_c and hidden_alphas\n",
    "    with open(os.path.join(seed_folder, \"Hamiltonian_c.txt\"), \"w\") as f:\n",
    "        f.write(str(Hamiltonian_c))\n",
    "\n",
    "    with open(os.path.join(seed_folder, \"hidden_alphas.txt\"), \"w\") as f:\n",
    "        f.write(str(hidden_alphas))\n"
   ]
  },
  {
   "cell_type": "code",
   "execution_count": 4,
   "metadata": {},
   "outputs": [],
   "source": [
    "from SVM_models.QuantumSVM import QuantumSVM\n",
    "from sklearn.metrics import accuracy_score"
   ]
  },
  {
   "cell_type": "code",
   "execution_count": 5,
   "metadata": {},
   "outputs": [
    {
     "name": "stdout",
     "output_type": "stream",
     "text": [
      "\n",
      "Generating random coefficients for the Hamiltonian...\n",
      "\n",
      "Generating random alphas...\n",
      "Non-zero alphas: 8\n"
     ]
    },
    {
     "name": "stderr",
     "output_type": "stream",
     "text": [
      "Building TRAIN_KERNEL: 100%|██████████| 1225/1225 [00:42<00:00, 28.89it/s]\n"
     ]
    },
    {
     "name": "stdout",
     "output_type": "stream",
     "text": [
      "Train Accuracy: 0.66\n"
     ]
    },
    {
     "name": "stderr",
     "output_type": "stream",
     "text": [
      "Building TEST_KERNEL: 100%|██████████| 2500/2500 [01:41<00:00, 24.52it/s]\n"
     ]
    },
    {
     "name": "stdout",
     "output_type": "stream",
     "text": [
      "Validation Accuracy: 0.46\n"
     ]
    },
    {
     "name": "stderr",
     "output_type": "stream",
     "text": [
      "Building TEST_KERNEL: 100%|██████████| 5000/5000 [03:22<00:00, 24.64it/s]\n"
     ]
    },
    {
     "name": "stdout",
     "output_type": "stream",
     "text": [
      "Test Accuracy: 0.53\n",
      "Saving model...\n",
      "\n",
      "Generating random coefficients for the Hamiltonian...\n",
      "\n",
      "Generating random alphas...\n",
      "Non-zero alphas: 7\n"
     ]
    },
    {
     "name": "stderr",
     "output_type": "stream",
     "text": [
      "Building TRAIN_KERNEL: 100%|██████████| 1225/1225 [00:46<00:00, 26.50it/s]\n"
     ]
    },
    {
     "name": "stdout",
     "output_type": "stream",
     "text": [
      "Train Accuracy: 0.88\n"
     ]
    },
    {
     "name": "stderr",
     "output_type": "stream",
     "text": [
      "Building TEST_KERNEL: 100%|██████████| 2500/2500 [01:31<00:00, 27.31it/s]\n"
     ]
    },
    {
     "name": "stdout",
     "output_type": "stream",
     "text": [
      "Validation Accuracy: 0.74\n"
     ]
    },
    {
     "name": "stderr",
     "output_type": "stream",
     "text": [
      "Building TEST_KERNEL: 100%|██████████| 5000/5000 [03:01<00:00, 27.59it/s]\n"
     ]
    },
    {
     "name": "stdout",
     "output_type": "stream",
     "text": [
      "Test Accuracy: 0.71\n",
      "Saving model...\n",
      "\n",
      "Generating random coefficients for the Hamiltonian...\n",
      "\n",
      "Generating random alphas...\n",
      "Non-zero alphas: 6\n"
     ]
    },
    {
     "name": "stderr",
     "output_type": "stream",
     "text": [
      "Building TRAIN_KERNEL: 100%|██████████| 1225/1225 [00:40<00:00, 30.26it/s]\n"
     ]
    },
    {
     "name": "stdout",
     "output_type": "stream",
     "text": [
      "Train Accuracy: 0.8\n"
     ]
    },
    {
     "name": "stderr",
     "output_type": "stream",
     "text": [
      "Building TEST_KERNEL: 100%|██████████| 2500/2500 [01:19<00:00, 31.47it/s]\n"
     ]
    },
    {
     "name": "stdout",
     "output_type": "stream",
     "text": [
      "Validation Accuracy: 0.6\n"
     ]
    },
    {
     "name": "stderr",
     "output_type": "stream",
     "text": [
      "Building TEST_KERNEL: 100%|██████████| 5000/5000 [02:34<00:00, 32.29it/s]\n"
     ]
    },
    {
     "name": "stdout",
     "output_type": "stream",
     "text": [
      "Test Accuracy: 0.57\n",
      "Saving model...\n",
      "\n",
      "Generating random coefficients for the Hamiltonian...\n",
      "\n",
      "Generating random alphas...\n",
      "Non-zero alphas: 9\n"
     ]
    },
    {
     "name": "stderr",
     "output_type": "stream",
     "text": [
      "Building TRAIN_KERNEL: 100%|██████████| 1225/1225 [00:59<00:00, 20.52it/s]\n"
     ]
    },
    {
     "name": "stdout",
     "output_type": "stream",
     "text": [
      "Train Accuracy: 0.82\n"
     ]
    },
    {
     "name": "stderr",
     "output_type": "stream",
     "text": [
      "Building TEST_KERNEL: 100%|██████████| 2500/2500 [01:56<00:00, 21.42it/s]\n"
     ]
    },
    {
     "name": "stdout",
     "output_type": "stream",
     "text": [
      "Validation Accuracy: 0.74\n"
     ]
    },
    {
     "name": "stderr",
     "output_type": "stream",
     "text": [
      "Building TEST_KERNEL: 100%|██████████| 5000/5000 [03:52<00:00, 21.46it/s]\n"
     ]
    },
    {
     "name": "stdout",
     "output_type": "stream",
     "text": [
      "Test Accuracy: 0.76\n",
      "Saving model...\n",
      "\n",
      "Generating random coefficients for the Hamiltonian...\n",
      "\n",
      "Generating random alphas...\n",
      "Non-zero alphas: 13\n"
     ]
    },
    {
     "name": "stderr",
     "output_type": "stream",
     "text": [
      "Building TRAIN_KERNEL: 100%|██████████| 1225/1225 [01:29<00:00, 13.66it/s]\n"
     ]
    },
    {
     "name": "stdout",
     "output_type": "stream",
     "text": [
      "Train Accuracy: 0.8\n"
     ]
    },
    {
     "name": "stderr",
     "output_type": "stream",
     "text": [
      "Building TEST_KERNEL: 100%|██████████| 2500/2500 [02:52<00:00, 14.45it/s]\n"
     ]
    },
    {
     "name": "stdout",
     "output_type": "stream",
     "text": [
      "Validation Accuracy: 0.82\n"
     ]
    },
    {
     "name": "stderr",
     "output_type": "stream",
     "text": [
      "Building TEST_KERNEL: 100%|██████████| 5000/5000 [05:10<00:00, 16.11it/s]\n"
     ]
    },
    {
     "name": "stdout",
     "output_type": "stream",
     "text": [
      "Test Accuracy: 0.69\n",
      "Saving model...\n",
      "\n",
      "Generating random coefficients for the Hamiltonian...\n",
      "\n",
      "Generating random alphas...\n",
      "Non-zero alphas: 7\n"
     ]
    },
    {
     "name": "stderr",
     "output_type": "stream",
     "text": [
      "Building TRAIN_KERNEL: 100%|██████████| 1225/1225 [00:37<00:00, 32.25it/s]\n"
     ]
    },
    {
     "name": "stdout",
     "output_type": "stream",
     "text": [
      "Train Accuracy: 0.82\n"
     ]
    },
    {
     "name": "stderr",
     "output_type": "stream",
     "text": [
      "Building TEST_KERNEL: 100%|██████████| 2500/2500 [01:27<00:00, 28.66it/s]\n"
     ]
    },
    {
     "name": "stdout",
     "output_type": "stream",
     "text": [
      "Validation Accuracy: 0.66\n"
     ]
    },
    {
     "name": "stderr",
     "output_type": "stream",
     "text": [
      "Building TEST_KERNEL: 100%|██████████| 5000/5000 [02:47<00:00, 29.79it/s]\n"
     ]
    },
    {
     "name": "stdout",
     "output_type": "stream",
     "text": [
      "Test Accuracy: 0.74\n",
      "Saving model...\n",
      "\n",
      "Generating random coefficients for the Hamiltonian...\n",
      "\n",
      "Generating random alphas...\n",
      "Non-zero alphas: 7\n"
     ]
    },
    {
     "name": "stderr",
     "output_type": "stream",
     "text": [
      "Building TRAIN_KERNEL: 100%|██████████| 1225/1225 [00:43<00:00, 28.45it/s]\n"
     ]
    },
    {
     "name": "stdout",
     "output_type": "stream",
     "text": [
      "Train Accuracy: 0.72\n"
     ]
    },
    {
     "name": "stderr",
     "output_type": "stream",
     "text": [
      "Building TEST_KERNEL: 100%|██████████| 2500/2500 [01:24<00:00, 29.72it/s]\n"
     ]
    },
    {
     "name": "stdout",
     "output_type": "stream",
     "text": [
      "Validation Accuracy: 0.64\n"
     ]
    },
    {
     "name": "stderr",
     "output_type": "stream",
     "text": [
      "Building TEST_KERNEL: 100%|██████████| 5000/5000 [02:46<00:00, 30.06it/s]\n"
     ]
    },
    {
     "name": "stdout",
     "output_type": "stream",
     "text": [
      "Test Accuracy: 0.63\n",
      "Saving model...\n",
      "\n",
      "Generating random coefficients for the Hamiltonian...\n",
      "\n",
      "Generating random alphas...\n",
      "Non-zero alphas: 3\n"
     ]
    },
    {
     "name": "stderr",
     "output_type": "stream",
     "text": [
      "Building TRAIN_KERNEL: 100%|██████████| 1225/1225 [00:16<00:00, 73.77it/s]\n"
     ]
    },
    {
     "name": "stdout",
     "output_type": "stream",
     "text": [
      "Train Accuracy: 0.82\n"
     ]
    },
    {
     "name": "stderr",
     "output_type": "stream",
     "text": [
      "Building TEST_KERNEL: 100%|██████████| 2500/2500 [00:38<00:00, 65.10it/s]\n"
     ]
    },
    {
     "name": "stdout",
     "output_type": "stream",
     "text": [
      "Validation Accuracy: 0.74\n"
     ]
    },
    {
     "name": "stderr",
     "output_type": "stream",
     "text": [
      "Building TEST_KERNEL: 100%|██████████| 5000/5000 [01:13<00:00, 67.67it/s]\n"
     ]
    },
    {
     "name": "stdout",
     "output_type": "stream",
     "text": [
      "Test Accuracy: 0.84\n",
      "Saving model...\n",
      "\n",
      "Generating random coefficients for the Hamiltonian...\n",
      "\n",
      "Generating random alphas...\n",
      "Non-zero alphas: 7\n"
     ]
    },
    {
     "name": "stderr",
     "output_type": "stream",
     "text": [
      "Building TRAIN_KERNEL: 100%|██████████| 1225/1225 [00:42<00:00, 28.75it/s]\n"
     ]
    },
    {
     "name": "stdout",
     "output_type": "stream",
     "text": [
      "Train Accuracy: 0.8\n"
     ]
    },
    {
     "name": "stderr",
     "output_type": "stream",
     "text": [
      "Building TEST_KERNEL: 100%|██████████| 2500/2500 [01:23<00:00, 30.09it/s]\n"
     ]
    },
    {
     "name": "stdout",
     "output_type": "stream",
     "text": [
      "Validation Accuracy: 0.74\n"
     ]
    },
    {
     "name": "stderr",
     "output_type": "stream",
     "text": [
      "Building TEST_KERNEL: 100%|██████████| 5000/5000 [02:45<00:00, 30.14it/s]\n"
     ]
    },
    {
     "name": "stdout",
     "output_type": "stream",
     "text": [
      "Test Accuracy: 0.73\n",
      "Saving model...\n",
      "\n",
      "Generating random coefficients for the Hamiltonian...\n",
      "\n",
      "Generating random alphas...\n",
      "Non-zero alphas: 13\n"
     ]
    },
    {
     "name": "stderr",
     "output_type": "stream",
     "text": [
      "Building TRAIN_KERNEL: 100%|██████████| 1225/1225 [01:18<00:00, 15.69it/s]\n"
     ]
    },
    {
     "name": "stdout",
     "output_type": "stream",
     "text": [
      "Train Accuracy: 0.76\n"
     ]
    },
    {
     "name": "stderr",
     "output_type": "stream",
     "text": [
      "Building TEST_KERNEL: 100%|██████████| 2500/2500 [02:36<00:00, 15.96it/s]\n"
     ]
    },
    {
     "name": "stdout",
     "output_type": "stream",
     "text": [
      "Validation Accuracy: 0.68\n"
     ]
    },
    {
     "name": "stderr",
     "output_type": "stream",
     "text": [
      "Building TEST_KERNEL: 100%|██████████| 5000/5000 [05:11<00:00, 16.06it/s]"
     ]
    },
    {
     "name": "stdout",
     "output_type": "stream",
     "text": [
      "Test Accuracy: 0.76\n",
      "Saving model...\n"
     ]
    },
    {
     "name": "stderr",
     "output_type": "stream",
     "text": [
      "\n"
     ]
    }
   ],
   "source": [
    "for SEED in SEEDS:\n",
    "\n",
    "    random.seed(SEED)\n",
    "    test_labels, val_labels, test_features, val_features = train_test_split(INITIAL_TEST_LABELS, INITIAL_TEST_FEATURES, test_size=0.33, random_state=SEED)\n",
    "    \n",
    "    quantum_svm = QuantumSVM(n_qubits=CONFIG[\"N_QUBITS\"], sparsity_coefficient=CONFIG[\"SPARSITY\"], embedding_code=CONFIG[\"ENCODING\"])\n",
    "\n",
    "    quantum_svm.fit(train_features, train_labels)\n",
    "    y_train = quantum_svm.predict_on_train()\n",
    "    train_accuracy = accuracy_score(train_labels, y_train)\n",
    "    print(f\"Train Accuracy: {train_accuracy}\")\n",
    "\n",
    "    y_val = quantum_svm.predict(val_features)\n",
    "    val_accuracy = accuracy_score(val_labels, y_val)\n",
    "    print(f\"Validation Accuracy: {val_accuracy}\")\n",
    "\n",
    "    y_test = quantum_svm.predict(test_features)\n",
    "    accuracy = accuracy_score(test_labels, y_test)\n",
    "    print(f\"Test Accuracy: {accuracy}\")\n",
    "\n",
    "\n",
    "    # now I want to save the model Hamiltonian_c and hidden_alphas\n",
    "    print(\"Saving model...\")\n",
    "    Hamiltonian_c = quantum_svm.Hamiltonian_c\n",
    "    hidden_alphas = quantum_svm.hidden_alphas\n",
    "\n",
    "    #print(\"Hamiltonian_c: \", Hamiltonian_c)\n",
    "    #print(\"hidden_alphas: \", hidden_alphas)\n",
    "\n",
    "    save_results(EXP, CONFIG[\"ENCODING\"], SEED, train_accuracy, val_accuracy, accuracy, Hamiltonian_c, hidden_alphas)"
   ]
  }
 ],
 "metadata": {
  "kernelspec": {
   "display_name": "venv",
   "language": "python",
   "name": "python3"
  },
  "language_info": {
   "codemirror_mode": {
    "name": "ipython",
    "version": 3
   },
   "file_extension": ".py",
   "mimetype": "text/x-python",
   "name": "python",
   "nbconvert_exporter": "python",
   "pygments_lexer": "ipython3",
   "version": "3.11.5"
  }
 },
 "nbformat": 4,
 "nbformat_minor": 2
}
