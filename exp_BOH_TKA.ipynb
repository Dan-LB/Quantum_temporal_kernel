{
 "cells": [
  {
   "cell_type": "code",
   "execution_count": 1,
   "metadata": {},
   "outputs": [],
   "source": [
    "import seaborn as sns\n",
    "import matplotlib.pyplot as plt\n",
    "import numpy as np\n",
    "import pandas as pd\n",
    "from dtaidistance import dtw\n",
    "import itertools\n",
    "from tqdm import tqdm\n",
    "from sklearn.model_selection import train_test_split\n",
    "from sklearn.svm import OneClassSVM\n",
    "from sklearn.metrics import accuracy_score\n",
    "from sklearn.preprocessing import StandardScaler\n",
    "\n",
    "import os\n",
    "\n",
    "import random\n",
    "\n",
    "from SVM_models.models import evaluate_binary_SVM_standard, evaluate_binary_SVM_custom\n",
    "\n",
    "# import GunPoint dataset from GunPoint/GunPoint_test.txt and GunPoint/GunPoint_train.txt\n",
    "\n",
    "\n",
    "def load_dataset(file_path):\n",
    "    with open(file_path) as f:\n",
    "        lines = f.readlines()\n",
    "    # Parse each line, separating the label and features\n",
    "    labels = []\n",
    "    features = []\n",
    "    for line in lines:\n",
    "        values = list(map(float, line.strip().split()))\n",
    "        labels.append(int(values[0])-1)  # First value is the label, cast to int\n",
    "        features.append(values[1:])    # Remaining values are features\n",
    "    # Convert lists to numpy arrays for easier handling\n",
    "    labels = np.array(labels)\n",
    "    features = np.array(features)\n",
    "    # normalize dataset to 0 1\n",
    "    features = (features - features.min()) / (features.max() - features.min())\n",
    "    return labels, features\n",
    "\n",
    "# Load the GunPoint dataset\n",
    "\n",
    "#dataset_path with join\n",
    "\n",
    "train_path = os.path.join(\"GunPoint\", \"GunPoint_TRAIN.txt\")\n",
    "test_path = os.path.join(\"GunPoint\", \"GunPoint_TEST.txt\")\n",
    "\n",
    "train_labels, train_features = load_dataset(train_path)\n",
    "INITIAL_TEST_LABELS, INITIAL_TEST_FEATURES = load_dataset(test_path)\n",
    "\n",
    "# split test in validation (50) and test (100)\n",
    "\n"
   ]
  },
  {
   "cell_type": "code",
   "execution_count": 2,
   "metadata": {},
   "outputs": [],
   "source": [
    "EXPS = [\n",
    "    \"RANDOM\",\n",
    "    \"RANDOM_BEST\",\n",
    "    \"BAYESIAN_HAMILTONIAN\",\n",
    "    \"BAYESIAN_MODEL\",\n",
    "]\n",
    "\n",
    "OPT_TIMES = 30\n",
    "\n",
    "CONFIG = {\n",
    "    \"N_QUBITS\": 2,\n",
    "    \"SPARSITY\": 0.95,\n",
    "    \"ENCODING\": \"euler\",\n",
    "}\n",
    "\n",
    "SEEDS = range(10)\n",
    "EXP = \"BAYESIAN_HAMILTONIAN_TKA\"\n"
   ]
  },
  {
   "cell_type": "code",
   "execution_count": 3,
   "metadata": {},
   "outputs": [],
   "source": [
    "import os\n",
    "def save_results(EXP, encoding, seed, train_accuracy, val_accuracy, test_accuracy, Hamiltonian_c, hidden_alphas):\n",
    "    # Create folder structure\n",
    "    folder_name = f\"{EXP}__{encoding}\"\n",
    "    seed_folder = os.path.join(\"exps_results\", folder_name, f\"exp_{seed}\")\n",
    "    os.makedirs(seed_folder, exist_ok=True)\n",
    "\n",
    "    # Save configuration and OPT_TIMES to a text file\n",
    "    with open(os.path.join(seed_folder, \"config.txt\"), \"w\") as f:\n",
    "        f.write(f\"Experiment: {EXP}\\n\")\n",
    "        f.write(f\"Encoding: {encoding}\\n\")\n",
    "        f.write(f\"Number of Qubits: {CONFIG['N_QUBITS']}\\n\")\n",
    "        f.write(f\"Sparsity Coefficient: {CONFIG['SPARSITY']}\\n\")\n",
    "        f.write(f\"OPT_TIMES: {OPT_TIMES}\\n\")\n",
    "\n",
    "    # Save train, validation, and test accuracy\n",
    "    with open(os.path.join(seed_folder, \"train_accuracy.txt\"), \"w\") as f:\n",
    "        f.write(f\"Train Accuracy: {train_accuracy}\\n\")\n",
    "    \n",
    "    with open(os.path.join(seed_folder, \"val_accuracy.txt\"), \"w\") as f:\n",
    "        f.write(f\"Validation Accuracy: {val_accuracy}\\n\")\n",
    "\n",
    "    with open(os.path.join(seed_folder, \"test_accuracy.txt\"), \"w\") as f:\n",
    "        f.write(f\"Test Accuracy: {test_accuracy}\\n\")\n",
    "\n",
    "    # Save Hamiltonian_c and hidden_alphas\n",
    "    with open(os.path.join(seed_folder, \"Hamiltonian_c.txt\"), \"w\") as f:\n",
    "        f.write(str(Hamiltonian_c))\n",
    "\n",
    "    with open(os.path.join(seed_folder, \"hidden_alphas.txt\"), \"w\") as f:\n",
    "        f.write(str(hidden_alphas))\n"
   ]
  },
  {
   "cell_type": "code",
   "execution_count": 4,
   "metadata": {},
   "outputs": [],
   "source": [
    "from SVM_models.QuantumSVM import QuantumSVM\n",
    "from sklearn.metrics import accuracy_score"
   ]
  },
  {
   "cell_type": "code",
   "execution_count": 5,
   "metadata": {},
   "outputs": [],
   "source": [
    "from bayes_opt import BayesianOptimization\n",
    "\n",
    "I = np.array([[1, 0], [0, 1]])  # Identity\n",
    "X = np.array([[0, 1], [1, 0]])  # Pauli-X\n",
    "Y = np.array([[0, -1j], [1j, 0]])  # Pauli-Y\n",
    "Z = np.array([[1, 0], [0, -1]]) \n",
    "\n",
    "L = 150\n",
    "\n",
    "def generate_H_from_C(coefficients):\n",
    "    \"\"\"Generates a random Hamiltonian for the given number of qubits by combining Pauli matrices.\"\"\"\n",
    "    pauli_matrices = [I, X, Y, Z]  # Random coefficients for each term\n",
    "    H = None\n",
    "    # Generate all possible combinations of Pauli matrices for the given number of qubits\n",
    "    for i in range(4**CONFIG[\"N_QUBITS\"]):\n",
    "        indices = np.unravel_index(i, (4,) * CONFIG[\"N_QUBITS\"])\n",
    "        kron_product = pauli_matrices[indices[0]]\n",
    "        for idx in indices[1:]:\n",
    "            kron_product = np.kron(kron_product, pauli_matrices[idx])\n",
    "        kron_product = np.array(kron_product, dtype=complex)\n",
    "        if H is None:\n",
    "            H = coefficients[i] * kron_product\n",
    "        else:\n",
    "            H += coefficients[i] * kron_product\n",
    "    H = H / np.linalg.norm(H)  # Normalize the Hamiltonian\n",
    "    return H\n",
    "\n",
    "def generate_random_alphas():\n",
    "    return np.random.rand(L)"
   ]
  },
  {
   "cell_type": "code",
   "execution_count": 6,
   "metadata": {},
   "outputs": [],
   "source": [
    "def target_kernel_alignment(predicted_kernel, target_kernel):\n",
    "    # Normalize kernels\n",
    "    predicted_norm = np.linalg.norm(predicted_kernel, 'fro')\n",
    "    target_norm = np.linalg.norm(target_kernel, 'fro')\n",
    "    \n",
    "    # Compute alignment\n",
    "    alignment = np.sum(predicted_kernel * target_kernel) / (predicted_norm * target_norm)\n",
    "    return alignment"
   ]
  },
  {
   "cell_type": "code",
   "execution_count": 7,
   "metadata": {},
   "outputs": [
    {
     "name": "stdout",
     "output_type": "stream",
     "text": [
      "|   iter    |  target   |  coeff_0  |  coeff_1  | coeff_10  | coeff_11  | coeff_12  | coeff_13  | coeff_14  | coeff_15  |  coeff_2  |  coeff_3  |  coeff_4  |  coeff_5  |  coeff_6  |  coeff_7  |  coeff_8  |  coeff_9  |\n",
      "-------------------------------------------------------------------------------------------------------------------------------------------------------------------------------------------------------------------------\n",
      "Non-zero alphas: 8\n"
     ]
    },
    {
     "name": "stderr",
     "output_type": "stream",
     "text": [
      "Building TRAIN_KERNEL:   0%|          | 0/1225 [00:00<?, ?it/s]"
     ]
    },
    {
     "name": "stderr",
     "output_type": "stream",
     "text": [
      "Building TRAIN_KERNEL: 100%|██████████| 1225/1225 [00:52<00:00, 23.14it/s]\n",
      "Building TEST_KERNEL: 100%|██████████| 2500/2500 [01:46<00:00, 23.54it/s]\n"
     ]
    },
    {
     "name": "stdout",
     "output_type": "stream",
     "text": [
      "| \u001b[39m1        \u001b[39m | \u001b[39m0.4208   \u001b[39m | \u001b[39m0.3745   \u001b[39m | \u001b[39m0.9507   \u001b[39m | \u001b[39m0.732    \u001b[39m | \u001b[39m0.5987   \u001b[39m | \u001b[39m0.156    \u001b[39m | \u001b[39m0.156    \u001b[39m | \u001b[39m0.05808  \u001b[39m | \u001b[39m0.8662   \u001b[39m | \u001b[39m0.6011   \u001b[39m | \u001b[39m0.7081   \u001b[39m | \u001b[39m0.02058  \u001b[39m | \u001b[39m0.9699   \u001b[39m | \u001b[39m0.8324   \u001b[39m | \u001b[39m0.2123   \u001b[39m | \u001b[39m0.1818   \u001b[39m | \u001b[39m0.1834   \u001b[39m |\n",
      "Non-zero alphas: 8\n"
     ]
    },
    {
     "name": "stderr",
     "output_type": "stream",
     "text": [
      "Building TRAIN_KERNEL: 100%|██████████| 1225/1225 [00:57<00:00, 21.19it/s]\n",
      "Building TEST_KERNEL: 100%|██████████| 2500/2500 [01:43<00:00, 24.10it/s]\n"
     ]
    },
    {
     "name": "stdout",
     "output_type": "stream",
     "text": [
      "| \u001b[35m2        \u001b[39m | \u001b[35m0.4243   \u001b[39m | \u001b[35m0.3042   \u001b[39m | \u001b[35m0.5248   \u001b[39m | \u001b[35m0.4319   \u001b[39m | \u001b[35m0.2912   \u001b[39m | \u001b[35m0.6119   \u001b[39m | \u001b[35m0.1395   \u001b[39m | \u001b[35m0.2921   \u001b[39m | \u001b[35m0.3664   \u001b[39m | \u001b[35m0.4561   \u001b[39m | \u001b[35m0.7852   \u001b[39m | \u001b[35m0.1997   \u001b[39m | \u001b[35m0.5142   \u001b[39m | \u001b[35m0.5924   \u001b[39m | \u001b[35m0.04645  \u001b[39m | \u001b[35m0.6075   \u001b[39m | \u001b[35m0.1705   \u001b[39m |\n",
      "Non-zero alphas: 8\n"
     ]
    },
    {
     "name": "stderr",
     "output_type": "stream",
     "text": [
      "Building TRAIN_KERNEL: 100%|██████████| 1225/1225 [00:53<00:00, 22.83it/s]\n",
      "Building TEST_KERNEL: 100%|██████████| 2500/2500 [01:47<00:00, 23.28it/s]\n"
     ]
    },
    {
     "name": "stdout",
     "output_type": "stream",
     "text": [
      "| \u001b[39m3        \u001b[39m | \u001b[39m0.4141   \u001b[39m | \u001b[39m0.06505  \u001b[39m | \u001b[39m0.9489   \u001b[39m | \u001b[39m0.9656   \u001b[39m | \u001b[39m0.8084   \u001b[39m | \u001b[39m0.3046   \u001b[39m | \u001b[39m0.09767  \u001b[39m | \u001b[39m0.6842   \u001b[39m | \u001b[39m0.4402   \u001b[39m | \u001b[39m0.122    \u001b[39m | \u001b[39m0.4952   \u001b[39m | \u001b[39m0.03439  \u001b[39m | \u001b[39m0.9093   \u001b[39m | \u001b[39m0.2588   \u001b[39m | \u001b[39m0.6625   \u001b[39m | \u001b[39m0.3117   \u001b[39m | \u001b[39m0.5201   \u001b[39m |\n",
      "Non-zero alphas: 8\n"
     ]
    },
    {
     "name": "stderr",
     "output_type": "stream",
     "text": [
      "Building TRAIN_KERNEL: 100%|██████████| 1225/1225 [00:53<00:00, 22.71it/s]\n",
      "Building TEST_KERNEL: 100%|██████████| 2500/2500 [01:47<00:00, 23.30it/s]\n"
     ]
    },
    {
     "name": "stdout",
     "output_type": "stream",
     "text": [
      "| \u001b[39m4        \u001b[39m | \u001b[39m0.42     \u001b[39m | \u001b[39m0.5467   \u001b[39m | \u001b[39m0.1849   \u001b[39m | \u001b[39m0.9696   \u001b[39m | \u001b[39m0.7751   \u001b[39m | \u001b[39m0.9395   \u001b[39m | \u001b[39m0.8948   \u001b[39m | \u001b[39m0.5979   \u001b[39m | \u001b[39m0.9219   \u001b[39m | \u001b[39m0.08849  \u001b[39m | \u001b[39m0.196    \u001b[39m | \u001b[39m0.04523  \u001b[39m | \u001b[39m0.3253   \u001b[39m | \u001b[39m0.3887   \u001b[39m | \u001b[39m0.2713   \u001b[39m | \u001b[39m0.8287   \u001b[39m | \u001b[39m0.3568   \u001b[39m |\n",
      "Non-zero alphas: 8\n"
     ]
    },
    {
     "name": "stderr",
     "output_type": "stream",
     "text": [
      "Building TRAIN_KERNEL: 100%|██████████| 1225/1225 [00:53<00:00, 23.11it/s]\n",
      "Building TEST_KERNEL: 100%|██████████| 2500/2500 [01:54<00:00, 21.78it/s]\n"
     ]
    },
    {
     "name": "stdout",
     "output_type": "stream",
     "text": [
      "| \u001b[39m5        \u001b[39m | \u001b[39m0.4173   \u001b[39m | \u001b[39m0.2809   \u001b[39m | \u001b[39m0.5427   \u001b[39m | \u001b[39m0.1409   \u001b[39m | \u001b[39m0.8022   \u001b[39m | \u001b[39m0.07455  \u001b[39m | \u001b[39m0.9869   \u001b[39m | \u001b[39m0.7722   \u001b[39m | \u001b[39m0.1987   \u001b[39m | \u001b[39m0.005522 \u001b[39m | \u001b[39m0.8155   \u001b[39m | \u001b[39m0.7069   \u001b[39m | \u001b[39m0.729    \u001b[39m | \u001b[39m0.7713   \u001b[39m | \u001b[39m0.07404  \u001b[39m | \u001b[39m0.3585   \u001b[39m | \u001b[39m0.1159   \u001b[39m |\n",
      "Non-zero alphas: 8\n"
     ]
    },
    {
     "name": "stderr",
     "output_type": "stream",
     "text": [
      "Building TRAIN_KERNEL: 100%|██████████| 1225/1225 [00:57<00:00, 21.28it/s]\n",
      "Building TEST_KERNEL: 100%|██████████| 2500/2500 [02:00<00:00, 20.79it/s]\n"
     ]
    },
    {
     "name": "stdout",
     "output_type": "stream",
     "text": [
      "| \u001b[39m6        \u001b[39m | \u001b[39m0.4235   \u001b[39m | \u001b[39m0.3812   \u001b[39m | \u001b[39m0.3258   \u001b[39m | \u001b[39m0.2989   \u001b[39m | \u001b[39m0.09328  \u001b[39m | \u001b[39m0.6074   \u001b[39m | \u001b[39m0.2534   \u001b[39m | \u001b[39m0.347    \u001b[39m | \u001b[39m0.3361   \u001b[39m | \u001b[39m0.3396   \u001b[39m | \u001b[39m0.8794   \u001b[39m | \u001b[39m0.471    \u001b[39m | \u001b[39m0.51     \u001b[39m | \u001b[39m0.784    \u001b[39m | \u001b[39m0.3079   \u001b[39m | \u001b[39m0.7605   \u001b[39m | \u001b[39m0.1805   \u001b[39m |\n",
      "Non-zero alphas: 8\n"
     ]
    },
    {
     "name": "stderr",
     "output_type": "stream",
     "text": [
      "Building TRAIN_KERNEL: 100%|██████████| 1225/1225 [00:50<00:00, 24.43it/s]\n",
      "Building TEST_KERNEL: 100%|██████████| 2500/2500 [01:44<00:00, 23.94it/s]\n"
     ]
    },
    {
     "name": "stdout",
     "output_type": "stream",
     "text": [
      "| \u001b[39m7        \u001b[39m | \u001b[39m0.4226   \u001b[39m | \u001b[39m0.4566   \u001b[39m | \u001b[39m0.3969   \u001b[39m | \u001b[39m0.3113   \u001b[39m | \u001b[39m0.0      \u001b[39m | \u001b[39m0.7594   \u001b[39m | \u001b[39m0.0      \u001b[39m | \u001b[39m0.0      \u001b[39m | \u001b[39m0.5189   \u001b[39m | \u001b[39m0.7477   \u001b[39m | \u001b[39m0.9243   \u001b[39m | \u001b[39m0.1689   \u001b[39m | \u001b[39m0.4123   \u001b[39m | \u001b[39m0.8184   \u001b[39m | \u001b[39m0.0      \u001b[39m | \u001b[39m0.7184   \u001b[39m | \u001b[39m0.03623  \u001b[39m |\n",
      "Non-zero alphas: 8\n"
     ]
    },
    {
     "name": "stderr",
     "output_type": "stream",
     "text": [
      "Building TRAIN_KERNEL: 100%|██████████| 1225/1225 [00:51<00:00, 23.62it/s]\n",
      "Building TEST_KERNEL: 100%|██████████| 2500/2500 [01:46<00:00, 23.58it/s]\n"
     ]
    },
    {
     "name": "stdout",
     "output_type": "stream",
     "text": [
      "| \u001b[35m8        \u001b[39m | \u001b[35m0.4246   \u001b[39m | \u001b[35m0.14     \u001b[39m | \u001b[35m0.3354   \u001b[39m | \u001b[35m0.2431   \u001b[39m | \u001b[35m0.009402 \u001b[39m | \u001b[35m0.8957   \u001b[39m | \u001b[35m0.0      \u001b[39m | \u001b[35m0.265    \u001b[39m | \u001b[35m0.0      \u001b[39m | \u001b[35m0.3239   \u001b[39m | \u001b[35m0.8114   \u001b[39m | \u001b[35m0.2441   \u001b[39m | \u001b[35m0.1781   \u001b[39m | \u001b[35m0.2625   \u001b[39m | \u001b[35m0.0      \u001b[39m | \u001b[35m0.8554   \u001b[39m | \u001b[35m0.1475   \u001b[39m |\n",
      "Non-zero alphas: 8\n"
     ]
    },
    {
     "name": "stderr",
     "output_type": "stream",
     "text": [
      "Building TRAIN_KERNEL: 100%|██████████| 1225/1225 [00:53<00:00, 22.99it/s]\n",
      "Building TEST_KERNEL: 100%|██████████| 2500/2500 [01:46<00:00, 23.42it/s]\n"
     ]
    },
    {
     "name": "stdout",
     "output_type": "stream",
     "text": [
      "| \u001b[39m9        \u001b[39m | \u001b[39m0.4217   \u001b[39m | \u001b[39m0.4993   \u001b[39m | \u001b[39m0.3079   \u001b[39m | \u001b[39m0.4754   \u001b[39m | \u001b[39m0.2103   \u001b[39m | \u001b[39m0.6438   \u001b[39m | \u001b[39m0.0      \u001b[39m | \u001b[39m0.0      \u001b[39m | \u001b[39m0.0      \u001b[39m | \u001b[39m0.8274   \u001b[39m | \u001b[39m0.887    \u001b[39m | \u001b[39m0.8026   \u001b[39m | \u001b[39m0.1062   \u001b[39m | \u001b[39m0.0535   \u001b[39m | \u001b[39m0.0      \u001b[39m | \u001b[39m0.8052   \u001b[39m | \u001b[39m0.5432   \u001b[39m |\n",
      "Non-zero alphas: 8\n"
     ]
    },
    {
     "name": "stderr",
     "output_type": "stream",
     "text": [
      "Building TRAIN_KERNEL: 100%|██████████| 1225/1225 [00:52<00:00, 23.50it/s]\n",
      "Building TEST_KERNEL: 100%|██████████| 2500/2500 [01:45<00:00, 23.67it/s]\n"
     ]
    },
    {
     "name": "stdout",
     "output_type": "stream",
     "text": [
      "| \u001b[39m10       \u001b[39m | \u001b[39m0.418    \u001b[39m | \u001b[39m0.0      \u001b[39m | \u001b[39m0.4065   \u001b[39m | \u001b[39m0.0      \u001b[39m | \u001b[39m0.0      \u001b[39m | \u001b[39m1.0      \u001b[39m | \u001b[39m0.0      \u001b[39m | \u001b[39m0.435    \u001b[39m | \u001b[39m0.0      \u001b[39m | \u001b[39m0.3862   \u001b[39m | \u001b[39m0.1885   \u001b[39m | \u001b[39m0.0      \u001b[39m | \u001b[39m0.4248   \u001b[39m | \u001b[39m0.8618   \u001b[39m | \u001b[39m0.0      \u001b[39m | \u001b[39m0.8235   \u001b[39m | \u001b[39m0.0      \u001b[39m |\n",
      "Non-zero alphas: 8\n"
     ]
    },
    {
     "name": "stderr",
     "output_type": "stream",
     "text": [
      "Building TRAIN_KERNEL: 100%|██████████| 1225/1225 [00:52<00:00, 23.40it/s]\n",
      "Building TEST_KERNEL: 100%|██████████| 2500/2500 [01:44<00:00, 23.82it/s]\n"
     ]
    },
    {
     "name": "stdout",
     "output_type": "stream",
     "text": [
      "| \u001b[35m11       \u001b[39m | \u001b[35m0.4274   \u001b[39m | \u001b[35m0.4027   \u001b[39m | \u001b[35m0.3545   \u001b[39m | \u001b[35m0.4749   \u001b[39m | \u001b[35m0.0      \u001b[39m | \u001b[35m0.6297   \u001b[39m | \u001b[35m0.08602  \u001b[39m | \u001b[35m0.1134   \u001b[39m | \u001b[35m0.4106   \u001b[39m | \u001b[35m0.125    \u001b[39m | \u001b[35m1.0      \u001b[39m | \u001b[35m0.2854   \u001b[39m | \u001b[35m0.2661   \u001b[39m | \u001b[35m0.1756   \u001b[39m | \u001b[35m0.0      \u001b[39m | \u001b[35m0.741    \u001b[39m | \u001b[35m0.009863 \u001b[39m |\n",
      "Non-zero alphas: 8\n"
     ]
    },
    {
     "name": "stderr",
     "output_type": "stream",
     "text": [
      "Building TRAIN_KERNEL: 100%|██████████| 1225/1225 [00:52<00:00, 23.15it/s]\n",
      "Building TEST_KERNEL: 100%|██████████| 2500/2500 [01:47<00:00, 23.35it/s]\n"
     ]
    },
    {
     "name": "stdout",
     "output_type": "stream",
     "text": [
      "| \u001b[39m12       \u001b[39m | \u001b[39m0.4231   \u001b[39m | \u001b[39m0.6897   \u001b[39m | \u001b[39m0.0      \u001b[39m | \u001b[39m0.4823   \u001b[39m | \u001b[39m0.0      \u001b[39m | \u001b[39m0.4661   \u001b[39m | \u001b[39m0.0      \u001b[39m | \u001b[39m0.0      \u001b[39m | \u001b[39m0.1416   \u001b[39m | \u001b[39m0.0      \u001b[39m | \u001b[39m1.0      \u001b[39m | \u001b[39m0.0      \u001b[39m | \u001b[39m0.5244   \u001b[39m | \u001b[39m0.0      \u001b[39m | \u001b[39m0.0      \u001b[39m | \u001b[39m1.0      \u001b[39m | \u001b[39m0.0      \u001b[39m |\n",
      "Non-zero alphas: 8\n"
     ]
    },
    {
     "name": "stderr",
     "output_type": "stream",
     "text": [
      "Building TRAIN_KERNEL: 100%|██████████| 1225/1225 [00:53<00:00, 22.97it/s]\n",
      "Building TEST_KERNEL: 100%|██████████| 2500/2500 [01:42<00:00, 24.29it/s]\n"
     ]
    },
    {
     "name": "stdout",
     "output_type": "stream",
     "text": [
      "| \u001b[39m13       \u001b[39m | \u001b[39m0.4261   \u001b[39m | \u001b[39m0.104    \u001b[39m | \u001b[39m0.4154   \u001b[39m | \u001b[39m0.2948   \u001b[39m | \u001b[39m0.0      \u001b[39m | \u001b[39m0.8924   \u001b[39m | \u001b[39m0.0      \u001b[39m | \u001b[39m0.05092  \u001b[39m | \u001b[39m0.7731   \u001b[39m | \u001b[39m0.0      \u001b[39m | \u001b[39m1.0      \u001b[39m | \u001b[39m0.432    \u001b[39m | \u001b[39m0.0      \u001b[39m | \u001b[39m0.0      \u001b[39m | \u001b[39m0.0      \u001b[39m | \u001b[39m0.4822   \u001b[39m | \u001b[39m0.0      \u001b[39m |\n",
      "Non-zero alphas: 8\n"
     ]
    },
    {
     "name": "stderr",
     "output_type": "stream",
     "text": [
      "Building TRAIN_KERNEL: 100%|██████████| 1225/1225 [00:52<00:00, 23.47it/s]\n",
      "Building TEST_KERNEL: 100%|██████████| 2500/2500 [01:43<00:00, 24.14it/s]\n"
     ]
    },
    {
     "name": "stdout",
     "output_type": "stream",
     "text": [
      "| \u001b[39m14       \u001b[39m | \u001b[39m0.4262   \u001b[39m | \u001b[39m0.9279   \u001b[39m | \u001b[39m0.3325   \u001b[39m | \u001b[39m0.5505   \u001b[39m | \u001b[39m0.1056   \u001b[39m | \u001b[39m0.8571   \u001b[39m | \u001b[39m0.007291 \u001b[39m | \u001b[39m0.3337   \u001b[39m | \u001b[39m0.9953   \u001b[39m | \u001b[39m0.03597  \u001b[39m | \u001b[39m0.9544   \u001b[39m | \u001b[39m0.6649   \u001b[39m | \u001b[39m0.2811   \u001b[39m | \u001b[39m0.02505  \u001b[39m | \u001b[39m0.2002   \u001b[39m | \u001b[39m0.9982   \u001b[39m | \u001b[39m0.5696   \u001b[39m |\n",
      "Non-zero alphas: 8\n"
     ]
    },
    {
     "name": "stderr",
     "output_type": "stream",
     "text": [
      "Building TRAIN_KERNEL: 100%|██████████| 1225/1225 [00:52<00:00, 23.50it/s]\n",
      "Building TEST_KERNEL: 100%|██████████| 2500/2500 [01:43<00:00, 24.24it/s]\n"
     ]
    },
    {
     "name": "stdout",
     "output_type": "stream",
     "text": [
      "| \u001b[39m15       \u001b[39m | \u001b[39m0.4244   \u001b[39m | \u001b[39m0.7477   \u001b[39m | \u001b[39m1.0      \u001b[39m | \u001b[39m0.5128   \u001b[39m | \u001b[39m0.0      \u001b[39m | \u001b[39m0.9376   \u001b[39m | \u001b[39m0.01708  \u001b[39m | \u001b[39m0.2812   \u001b[39m | \u001b[39m0.6504   \u001b[39m | \u001b[39m0.0      \u001b[39m | \u001b[39m1.0      \u001b[39m | \u001b[39m0.4219   \u001b[39m | \u001b[39m0.0      \u001b[39m | \u001b[39m0.05117  \u001b[39m | \u001b[39m0.0      \u001b[39m | \u001b[39m1.0      \u001b[39m | \u001b[39m0.0      \u001b[39m |\n",
      "Non-zero alphas: 8\n"
     ]
    },
    {
     "name": "stderr",
     "output_type": "stream",
     "text": [
      "Building TRAIN_KERNEL: 100%|██████████| 1225/1225 [00:51<00:00, 23.78it/s]\n",
      "Building TEST_KERNEL: 100%|██████████| 2500/2500 [01:43<00:00, 24.25it/s]\n"
     ]
    },
    {
     "name": "stdout",
     "output_type": "stream",
     "text": [
      "| \u001b[39m16       \u001b[39m | \u001b[39m0.4253   \u001b[39m | \u001b[39m0.2388   \u001b[39m | \u001b[39m0.0      \u001b[39m | \u001b[39m0.8949   \u001b[39m | \u001b[39m0.0      \u001b[39m | \u001b[39m0.6272   \u001b[39m | \u001b[39m0.0      \u001b[39m | \u001b[39m0.3351   \u001b[39m | \u001b[39m0.9553   \u001b[39m | \u001b[39m0.0      \u001b[39m | \u001b[39m1.0      \u001b[39m | \u001b[39m0.6963   \u001b[39m | \u001b[39m0.0      \u001b[39m | \u001b[39m0.1929   \u001b[39m | \u001b[39m0.0      \u001b[39m | \u001b[39m1.0      \u001b[39m | \u001b[39m0.0      \u001b[39m |\n",
      "Non-zero alphas: 8\n"
     ]
    },
    {
     "name": "stderr",
     "output_type": "stream",
     "text": [
      "Building TRAIN_KERNEL: 100%|██████████| 1225/1225 [00:52<00:00, 23.41it/s]\n",
      "Building TEST_KERNEL: 100%|██████████| 2500/2500 [01:43<00:00, 24.13it/s]\n"
     ]
    },
    {
     "name": "stdout",
     "output_type": "stream",
     "text": [
      "| \u001b[39m17       \u001b[39m | \u001b[39m0.4109   \u001b[39m | \u001b[39m0.7232   \u001b[39m | \u001b[39m0.3043   \u001b[39m | \u001b[39m0.8562   \u001b[39m | \u001b[39m0.1045   \u001b[39m | \u001b[39m0.3844   \u001b[39m | \u001b[39m0.3782   \u001b[39m | \u001b[39m0.09901  \u001b[39m | \u001b[39m0.8077   \u001b[39m | \u001b[39m0.03217  \u001b[39m | \u001b[39m0.953    \u001b[39m | \u001b[39m0.9274   \u001b[39m | \u001b[39m0.08689  \u001b[39m | \u001b[39m0.1284   \u001b[39m | \u001b[39m0.2817   \u001b[39m | \u001b[39m0.02601  \u001b[39m | \u001b[39m0.4895   \u001b[39m |\n",
      "Non-zero alphas: 8\n"
     ]
    },
    {
     "name": "stderr",
     "output_type": "stream",
     "text": [
      "Building TRAIN_KERNEL: 100%|██████████| 1225/1225 [00:51<00:00, 23.70it/s]\n",
      "Building TEST_KERNEL: 100%|██████████| 2500/2500 [01:44<00:00, 24.01it/s]\n"
     ]
    },
    {
     "name": "stdout",
     "output_type": "stream",
     "text": [
      "| \u001b[35m18       \u001b[39m | \u001b[35m0.4276   \u001b[39m | \u001b[35m0.2692   \u001b[39m | \u001b[35m0.1428   \u001b[39m | \u001b[35m0.3438   \u001b[39m | \u001b[35m0.2915   \u001b[39m | \u001b[35m0.6028   \u001b[39m | \u001b[35m0.28     \u001b[39m | \u001b[35m0.005992 \u001b[39m | \u001b[35m0.7878   \u001b[39m | \u001b[35m0.04578  \u001b[39m | \u001b[35m0.9621   \u001b[39m | \u001b[35m0.0112   \u001b[39m | \u001b[35m0.3869   \u001b[39m | \u001b[35m0.306    \u001b[39m | \u001b[35m0.418    \u001b[39m | \u001b[35m0.9381   \u001b[39m | \u001b[35m0.2004   \u001b[39m |\n",
      "Non-zero alphas: 8\n"
     ]
    },
    {
     "name": "stderr",
     "output_type": "stream",
     "text": [
      "Building TRAIN_KERNEL: 100%|██████████| 1225/1225 [00:51<00:00, 23.56it/s]\n",
      "Building TEST_KERNEL: 100%|██████████| 2500/2500 [01:42<00:00, 24.36it/s]\n"
     ]
    },
    {
     "name": "stdout",
     "output_type": "stream",
     "text": [
      "| \u001b[39m19       \u001b[39m | \u001b[39m0.4262   \u001b[39m | \u001b[39m0.5273   \u001b[39m | \u001b[39m0.006497 \u001b[39m | \u001b[39m0.1034   \u001b[39m | \u001b[39m0.2968   \u001b[39m | \u001b[39m0.9721   \u001b[39m | \u001b[39m0.05787  \u001b[39m | \u001b[39m0.2374   \u001b[39m | \u001b[39m0.8274   \u001b[39m | \u001b[39m0.1772   \u001b[39m | \u001b[39m0.6223   \u001b[39m | \u001b[39m0.1151   \u001b[39m | \u001b[39m0.02682  \u001b[39m | \u001b[39m0.04331  \u001b[39m | \u001b[39m0.4268   \u001b[39m | \u001b[39m0.7763   \u001b[39m | \u001b[39m0.5916   \u001b[39m |\n",
      "Non-zero alphas: 8\n"
     ]
    },
    {
     "name": "stderr",
     "output_type": "stream",
     "text": [
      "Building TRAIN_KERNEL: 100%|██████████| 1225/1225 [00:51<00:00, 23.80it/s]\n",
      "Building TEST_KERNEL: 100%|██████████| 2500/2500 [01:44<00:00, 23.98it/s]\n"
     ]
    },
    {
     "name": "stdout",
     "output_type": "stream",
     "text": [
      "| \u001b[39m20       \u001b[39m | \u001b[39m0.4245   \u001b[39m | \u001b[39m0.2162   \u001b[39m | \u001b[39m0.06468  \u001b[39m | \u001b[39m0.2594   \u001b[39m | \u001b[39m0.01632  \u001b[39m | \u001b[39m0.8218   \u001b[39m | \u001b[39m0.2619   \u001b[39m | \u001b[39m0.2806   \u001b[39m | \u001b[39m0.9204   \u001b[39m | \u001b[39m0.6355   \u001b[39m | \u001b[39m0.8384   \u001b[39m | \u001b[39m0.5001   \u001b[39m | \u001b[39m0.07967  \u001b[39m | \u001b[39m0.1319   \u001b[39m | \u001b[39m0.9796   \u001b[39m | \u001b[39m0.9573   \u001b[39m | \u001b[39m0.4902   \u001b[39m |\n",
      "Non-zero alphas: 8\n"
     ]
    },
    {
     "name": "stderr",
     "output_type": "stream",
     "text": [
      "Building TRAIN_KERNEL: 100%|██████████| 1225/1225 [00:51<00:00, 23.83it/s]\n",
      "Building TEST_KERNEL: 100%|██████████| 2500/2500 [01:43<00:00, 24.04it/s]\n"
     ]
    },
    {
     "name": "stdout",
     "output_type": "stream",
     "text": [
      "| \u001b[39m21       \u001b[39m | \u001b[39m0.4249   \u001b[39m | \u001b[39m0.1514   \u001b[39m | \u001b[39m0.1202   \u001b[39m | \u001b[39m0.1581   \u001b[39m | \u001b[39m0.5721   \u001b[39m | \u001b[39m0.06289  \u001b[39m | \u001b[39m0.2206   \u001b[39m | \u001b[39m0.1814   \u001b[39m | \u001b[39m0.9487   \u001b[39m | \u001b[39m0.8888   \u001b[39m | \u001b[39m0.917    \u001b[39m | \u001b[39m0.08219  \u001b[39m | \u001b[39m0.2095   \u001b[39m | \u001b[39m0.1279   \u001b[39m | \u001b[39m0.2834   \u001b[39m | \u001b[39m0.9608   \u001b[39m | \u001b[39m0.1748   \u001b[39m |\n",
      "Non-zero alphas: 8\n"
     ]
    },
    {
     "name": "stderr",
     "output_type": "stream",
     "text": [
      "Building TRAIN_KERNEL: 100%|██████████| 1225/1225 [00:51<00:00, 23.70it/s]\n",
      "Building TEST_KERNEL: 100%|██████████| 2500/2500 [01:44<00:00, 23.99it/s]\n"
     ]
    },
    {
     "name": "stdout",
     "output_type": "stream",
     "text": [
      "| \u001b[35m22       \u001b[39m | \u001b[35m0.4291   \u001b[39m | \u001b[35m0.2609   \u001b[39m | \u001b[35m0.09522  \u001b[39m | \u001b[35m0.5449   \u001b[39m | \u001b[35m0.02235  \u001b[39m | \u001b[35m0.9739   \u001b[39m | \u001b[35m0.08881  \u001b[39m | \u001b[35m0.8523   \u001b[39m | \u001b[35m0.9355   \u001b[39m | \u001b[35m0.1943   \u001b[39m | \u001b[35m0.9863   \u001b[39m | \u001b[35m0.1306   \u001b[39m | \u001b[35m0.1729   \u001b[39m | \u001b[35m0.4574   \u001b[39m | \u001b[35m0.005138 \u001b[39m | \u001b[35m0.8921   \u001b[39m | \u001b[35m0.1344   \u001b[39m |\n",
      "Non-zero alphas: 8\n"
     ]
    },
    {
     "name": "stderr",
     "output_type": "stream",
     "text": [
      "Building TRAIN_KERNEL: 100%|██████████| 1225/1225 [00:52<00:00, 23.49it/s]\n",
      "Building TEST_KERNEL: 100%|██████████| 2500/2500 [01:28<00:00, 28.17it/s]\n"
     ]
    },
    {
     "name": "stdout",
     "output_type": "stream",
     "text": [
      "| \u001b[39m23       \u001b[39m | \u001b[39m0.4277   \u001b[39m | \u001b[39m0.4873   \u001b[39m | \u001b[39m0.3856   \u001b[39m | \u001b[39m0.2489   \u001b[39m | \u001b[39m0.4787   \u001b[39m | \u001b[39m0.9462   \u001b[39m | \u001b[39m0.2305   \u001b[39m | \u001b[39m0.8329   \u001b[39m | \u001b[39m0.9587   \u001b[39m | \u001b[39m0.5162   \u001b[39m | \u001b[39m0.943    \u001b[39m | \u001b[39m0.2071   \u001b[39m | \u001b[39m0.196    \u001b[39m | \u001b[39m0.3083   \u001b[39m | \u001b[39m0.1106   \u001b[39m | \u001b[39m0.9089   \u001b[39m | \u001b[39m0.0552   \u001b[39m |\n",
      "Non-zero alphas: 8\n"
     ]
    },
    {
     "name": "stderr",
     "output_type": "stream",
     "text": [
      "Building TRAIN_KERNEL: 100%|██████████| 1225/1225 [00:52<00:00, 23.55it/s]\n",
      "Building TEST_KERNEL: 100%|██████████| 2500/2500 [01:44<00:00, 23.82it/s]\n"
     ]
    },
    {
     "name": "stdout",
     "output_type": "stream",
     "text": [
      "| \u001b[39m24       \u001b[39m | \u001b[39m0.423    \u001b[39m | \u001b[39m0.1732   \u001b[39m | \u001b[39m0.153    \u001b[39m | \u001b[39m0.1671   \u001b[39m | \u001b[39m0.06986  \u001b[39m | \u001b[39m0.3944   \u001b[39m | \u001b[39m0.1067   \u001b[39m | \u001b[39m0.5326   \u001b[39m | \u001b[39m0.9461   \u001b[39m | \u001b[39m0.4064   \u001b[39m | \u001b[39m0.9365   \u001b[39m | \u001b[39m0.156    \u001b[39m | \u001b[39m0.7225   \u001b[39m | \u001b[39m0.03722  \u001b[39m | \u001b[39m0.2794   \u001b[39m | \u001b[39m0.8417   \u001b[39m | \u001b[39m0.9156   \u001b[39m |\n",
      "Non-zero alphas: 8\n"
     ]
    },
    {
     "name": "stderr",
     "output_type": "stream",
     "text": [
      "Building TRAIN_KERNEL: 100%|██████████| 1225/1225 [00:50<00:00, 24.04it/s]\n",
      "Building TEST_KERNEL: 100%|██████████| 2500/2500 [01:43<00:00, 24.25it/s]\n"
     ]
    },
    {
     "name": "stdout",
     "output_type": "stream",
     "text": [
      "| \u001b[39m25       \u001b[39m | \u001b[39m0.4217   \u001b[39m | \u001b[39m0.7015   \u001b[39m | \u001b[39m0.1439   \u001b[39m | \u001b[39m0.09029  \u001b[39m | \u001b[39m0.284    \u001b[39m | \u001b[39m0.9161   \u001b[39m | \u001b[39m0.07404  \u001b[39m | \u001b[39m0.2729   \u001b[39m | \u001b[39m0.9601   \u001b[39m | \u001b[39m0.1774   \u001b[39m | \u001b[39m0.4609   \u001b[39m | \u001b[39m0.3899   \u001b[39m | \u001b[39m0.7161   \u001b[39m | \u001b[39m0.07623  \u001b[39m | \u001b[39m0.01389  \u001b[39m | \u001b[39m0.7174   \u001b[39m | \u001b[39m0.04987  \u001b[39m |\n",
      "Non-zero alphas: 8\n"
     ]
    },
    {
     "name": "stderr",
     "output_type": "stream",
     "text": [
      "Building TRAIN_KERNEL: 100%|██████████| 1225/1225 [00:51<00:00, 23.97it/s]\n",
      "Building TEST_KERNEL: 100%|██████████| 2500/2500 [01:43<00:00, 24.25it/s]\n"
     ]
    },
    {
     "name": "stdout",
     "output_type": "stream",
     "text": [
      "| \u001b[39m26       \u001b[39m | \u001b[39m0.4256   \u001b[39m | \u001b[39m0.0      \u001b[39m | \u001b[39m0.0      \u001b[39m | \u001b[39m0.2077   \u001b[39m | \u001b[39m0.4555   \u001b[39m | \u001b[39m1.0      \u001b[39m | \u001b[39m0.0      \u001b[39m | \u001b[39m0.5497   \u001b[39m | \u001b[39m1.0      \u001b[39m | \u001b[39m0.0      \u001b[39m | \u001b[39m1.0      \u001b[39m | \u001b[39m0.0      \u001b[39m | \u001b[39m0.0      \u001b[39m | \u001b[39m0.0      \u001b[39m | \u001b[39m0.0      \u001b[39m | \u001b[39m1.0      \u001b[39m | \u001b[39m0.0      \u001b[39m |\n",
      "Non-zero alphas: 8\n"
     ]
    },
    {
     "name": "stderr",
     "output_type": "stream",
     "text": [
      "Building TRAIN_KERNEL: 100%|██████████| 1225/1225 [00:50<00:00, 24.07it/s]\n",
      "Building TEST_KERNEL: 100%|██████████| 2500/2500 [01:42<00:00, 24.35it/s]\n"
     ]
    },
    {
     "name": "stdout",
     "output_type": "stream",
     "text": [
      "| \u001b[39m27       \u001b[39m | \u001b[39m0.4213   \u001b[39m | \u001b[39m0.9116   \u001b[39m | \u001b[39m0.01348  \u001b[39m | \u001b[39m0.02906  \u001b[39m | \u001b[39m0.02075  \u001b[39m | \u001b[39m0.7358   \u001b[39m | \u001b[39m0.9358   \u001b[39m | \u001b[39m0.1089   \u001b[39m | \u001b[39m0.8654   \u001b[39m | \u001b[39m0.6315   \u001b[39m | \u001b[39m0.8615   \u001b[39m | \u001b[39m0.07129  \u001b[39m | \u001b[39m0.01801  \u001b[39m | \u001b[39m0.5542   \u001b[39m | \u001b[39m0.1107   \u001b[39m | \u001b[39m0.9367   \u001b[39m | \u001b[39m0.352    \u001b[39m |\n",
      "Non-zero alphas: 8\n"
     ]
    },
    {
     "name": "stderr",
     "output_type": "stream",
     "text": [
      "Building TRAIN_KERNEL: 100%|██████████| 1225/1225 [00:50<00:00, 24.07it/s]\n",
      "Building TEST_KERNEL: 100%|██████████| 2500/2500 [01:43<00:00, 24.11it/s]\n"
     ]
    },
    {
     "name": "stdout",
     "output_type": "stream",
     "text": [
      "| \u001b[39m28       \u001b[39m | \u001b[39m0.4254   \u001b[39m | \u001b[39m0.47     \u001b[39m | \u001b[39m0.3837   \u001b[39m | \u001b[39m0.5298   \u001b[39m | \u001b[39m0.1286   \u001b[39m | \u001b[39m0.5056   \u001b[39m | \u001b[39m0.1877   \u001b[39m | \u001b[39m0.8827   \u001b[39m | \u001b[39m0.8471   \u001b[39m | \u001b[39m0.3883   \u001b[39m | \u001b[39m0.8484   \u001b[39m | \u001b[39m0.1584   \u001b[39m | \u001b[39m0.08793  \u001b[39m | \u001b[39m0.6361   \u001b[39m | \u001b[39m0.7745   \u001b[39m | \u001b[39m0.9843   \u001b[39m | \u001b[39m0.04393  \u001b[39m |\n",
      "Non-zero alphas: 8\n"
     ]
    },
    {
     "name": "stderr",
     "output_type": "stream",
     "text": [
      "Building TRAIN_KERNEL: 100%|██████████| 1225/1225 [00:50<00:00, 24.06it/s]\n",
      "Building TEST_KERNEL: 100%|██████████| 2500/2500 [01:43<00:00, 24.25it/s]\n"
     ]
    },
    {
     "name": "stdout",
     "output_type": "stream",
     "text": [
      "| \u001b[39m29       \u001b[39m | \u001b[39m0.4249   \u001b[39m | \u001b[39m0.4644   \u001b[39m | \u001b[39m0.2068   \u001b[39m | \u001b[39m0.8906   \u001b[39m | \u001b[39m0.5097   \u001b[39m | \u001b[39m0.8843   \u001b[39m | \u001b[39m0.4286   \u001b[39m | \u001b[39m0.9731   \u001b[39m | \u001b[39m0.9701   \u001b[39m | \u001b[39m0.9027   \u001b[39m | \u001b[39m0.727    \u001b[39m | \u001b[39m0.001122 \u001b[39m | \u001b[39m0.4096   \u001b[39m | \u001b[39m0.01832  \u001b[39m | \u001b[39m0.1209   \u001b[39m | \u001b[39m0.9376   \u001b[39m | \u001b[39m0.06072  \u001b[39m |\n",
      "Non-zero alphas: 8\n"
     ]
    },
    {
     "name": "stderr",
     "output_type": "stream",
     "text": [
      "Building TRAIN_KERNEL: 100%|██████████| 1225/1225 [00:51<00:00, 23.63it/s]\n",
      "Building TEST_KERNEL: 100%|██████████| 2500/2500 [01:42<00:00, 24.33it/s]\n"
     ]
    },
    {
     "name": "stdout",
     "output_type": "stream",
     "text": [
      "| \u001b[39m30       \u001b[39m | \u001b[39m0.426    \u001b[39m | \u001b[39m0.07685  \u001b[39m | \u001b[39m0.5274   \u001b[39m | \u001b[39m0.4912   \u001b[39m | \u001b[39m0.7447   \u001b[39m | \u001b[39m0.9368   \u001b[39m | \u001b[39m0.08278  \u001b[39m | \u001b[39m0.709    \u001b[39m | \u001b[39m0.8083   \u001b[39m | \u001b[39m0.6959   \u001b[39m | \u001b[39m0.9695   \u001b[39m | \u001b[39m0.008487 \u001b[39m | \u001b[39m0.1775   \u001b[39m | \u001b[39m0.9234   \u001b[39m | \u001b[39m0.08934  \u001b[39m | \u001b[39m0.7324   \u001b[39m | \u001b[39m0.7439   \u001b[39m |\n",
      "=========================================================================================================================================================================================================================\n",
      "Best Coefficients: [np.float64(0.26087900993574265), np.float64(0.09521793414357427), np.float64(0.19431977906012654), np.float64(0.9863244457817116), np.float64(0.13055266408124488), np.float64(0.17287659785571363), np.float64(0.4574033080700528), np.float64(0.0051379246768255005), np.float64(0.8921438562539046), np.float64(0.13441552302010196), np.float64(0.5449290500939882), np.float64(0.022352998231197407), np.float64(0.9739441898199279), np.float64(0.08880831134401224), np.float64(0.8523098566610776), np.float64(0.9355384172454826)]\n",
      "Best Val Accuracy: 0.4290613015470944\n",
      "Non-zero alphas: 8\n"
     ]
    },
    {
     "name": "stderr",
     "output_type": "stream",
     "text": [
      "Building TRAIN_KERNEL: 100%|██████████| 1225/1225 [00:51<00:00, 23.96it/s]\n"
     ]
    },
    {
     "name": "stdout",
     "output_type": "stream",
     "text": [
      "Train Accuracy: 0.84\n"
     ]
    },
    {
     "name": "stderr",
     "output_type": "stream",
     "text": [
      "Building TEST_KERNEL: 100%|██████████| 2500/2500 [01:42<00:00, 24.45it/s]\n"
     ]
    },
    {
     "name": "stdout",
     "output_type": "stream",
     "text": [
      "Validation Accuracy: 0.72\n"
     ]
    },
    {
     "name": "stderr",
     "output_type": "stream",
     "text": [
      "Building TEST_KERNEL: 100%|██████████| 5000/5000 [03:27<00:00, 24.14it/s]\n"
     ]
    },
    {
     "name": "stdout",
     "output_type": "stream",
     "text": [
      "Test Accuracy: 0.76\n",
      "Saving model...\n",
      "|   iter    |  target   |  coeff_0  |  coeff_1  | coeff_10  | coeff_11  | coeff_12  | coeff_13  | coeff_14  | coeff_15  |  coeff_2  |  coeff_3  |  coeff_4  |  coeff_5  |  coeff_6  |  coeff_7  |  coeff_8  |  coeff_9  |\n",
      "-------------------------------------------------------------------------------------------------------------------------------------------------------------------------------------------------------------------------\n",
      "Non-zero alphas: 10\n"
     ]
    },
    {
     "name": "stderr",
     "output_type": "stream",
     "text": [
      "Building TRAIN_KERNEL: 100%|██████████| 1225/1225 [01:02<00:00, 19.68it/s]\n",
      "Building TEST_KERNEL: 100%|██████████| 2500/2500 [02:07<00:00, 19.64it/s]\n"
     ]
    },
    {
     "name": "stdout",
     "output_type": "stream",
     "text": [
      "| \u001b[39m1        \u001b[39m | \u001b[39m0.4701   \u001b[39m | \u001b[39m0.3745   \u001b[39m | \u001b[39m0.9507   \u001b[39m | \u001b[39m0.732    \u001b[39m | \u001b[39m0.5987   \u001b[39m | \u001b[39m0.156    \u001b[39m | \u001b[39m0.156    \u001b[39m | \u001b[39m0.05808  \u001b[39m | \u001b[39m0.8662   \u001b[39m | \u001b[39m0.6011   \u001b[39m | \u001b[39m0.7081   \u001b[39m | \u001b[39m0.02058  \u001b[39m | \u001b[39m0.9699   \u001b[39m | \u001b[39m0.8324   \u001b[39m | \u001b[39m0.2123   \u001b[39m | \u001b[39m0.1818   \u001b[39m | \u001b[39m0.1834   \u001b[39m |\n",
      "Non-zero alphas: 10\n"
     ]
    },
    {
     "name": "stderr",
     "output_type": "stream",
     "text": [
      "Building TRAIN_KERNEL: 100%|██████████| 1225/1225 [01:03<00:00, 19.36it/s]\n",
      "Building TEST_KERNEL: 100%|██████████| 2500/2500 [02:09<00:00, 19.24it/s]\n"
     ]
    },
    {
     "name": "stdout",
     "output_type": "stream",
     "text": [
      "| \u001b[35m2        \u001b[39m | \u001b[35m0.4712   \u001b[39m | \u001b[35m0.3042   \u001b[39m | \u001b[35m0.5248   \u001b[39m | \u001b[35m0.4319   \u001b[39m | \u001b[35m0.2912   \u001b[39m | \u001b[35m0.6119   \u001b[39m | \u001b[35m0.1395   \u001b[39m | \u001b[35m0.2921   \u001b[39m | \u001b[35m0.3664   \u001b[39m | \u001b[35m0.4561   \u001b[39m | \u001b[35m0.7852   \u001b[39m | \u001b[35m0.1997   \u001b[39m | \u001b[35m0.5142   \u001b[39m | \u001b[35m0.5924   \u001b[39m | \u001b[35m0.04645  \u001b[39m | \u001b[35m0.6075   \u001b[39m | \u001b[35m0.1705   \u001b[39m |\n",
      "Non-zero alphas: 10\n"
     ]
    },
    {
     "name": "stderr",
     "output_type": "stream",
     "text": [
      "Building TRAIN_KERNEL: 100%|██████████| 1225/1225 [00:59<00:00, 20.64it/s]\n",
      "Building TEST_KERNEL: 100%|██████████| 2500/2500 [02:09<00:00, 19.27it/s]\n"
     ]
    },
    {
     "name": "stdout",
     "output_type": "stream",
     "text": [
      "| \u001b[39m3        \u001b[39m | \u001b[39m0.4617   \u001b[39m | \u001b[39m0.06505  \u001b[39m | \u001b[39m0.9489   \u001b[39m | \u001b[39m0.9656   \u001b[39m | \u001b[39m0.8084   \u001b[39m | \u001b[39m0.3046   \u001b[39m | \u001b[39m0.09767  \u001b[39m | \u001b[39m0.6842   \u001b[39m | \u001b[39m0.4402   \u001b[39m | \u001b[39m0.122    \u001b[39m | \u001b[39m0.4952   \u001b[39m | \u001b[39m0.03439  \u001b[39m | \u001b[39m0.9093   \u001b[39m | \u001b[39m0.2588   \u001b[39m | \u001b[39m0.6625   \u001b[39m | \u001b[39m0.3117   \u001b[39m | \u001b[39m0.5201   \u001b[39m |\n",
      "Non-zero alphas: 10\n"
     ]
    },
    {
     "name": "stderr",
     "output_type": "stream",
     "text": [
      "Building TRAIN_KERNEL: 100%|██████████| 1225/1225 [01:07<00:00, 18.25it/s]\n",
      "Building TEST_KERNEL: 100%|██████████| 2500/2500 [02:07<00:00, 19.59it/s]\n"
     ]
    },
    {
     "name": "stdout",
     "output_type": "stream",
     "text": [
      "| \u001b[39m4        \u001b[39m | \u001b[39m0.469    \u001b[39m | \u001b[39m0.5467   \u001b[39m | \u001b[39m0.1849   \u001b[39m | \u001b[39m0.9696   \u001b[39m | \u001b[39m0.7751   \u001b[39m | \u001b[39m0.9395   \u001b[39m | \u001b[39m0.8948   \u001b[39m | \u001b[39m0.5979   \u001b[39m | \u001b[39m0.9219   \u001b[39m | \u001b[39m0.08849  \u001b[39m | \u001b[39m0.196    \u001b[39m | \u001b[39m0.04523  \u001b[39m | \u001b[39m0.3253   \u001b[39m | \u001b[39m0.3887   \u001b[39m | \u001b[39m0.2713   \u001b[39m | \u001b[39m0.8287   \u001b[39m | \u001b[39m0.3568   \u001b[39m |\n",
      "Non-zero alphas: 10\n"
     ]
    },
    {
     "name": "stderr",
     "output_type": "stream",
     "text": [
      "Building TRAIN_KERNEL: 100%|██████████| 1225/1225 [01:04<00:00, 19.09it/s]\n",
      "Building TEST_KERNEL: 100%|██████████| 2500/2500 [02:08<00:00, 19.45it/s]\n"
     ]
    },
    {
     "name": "stdout",
     "output_type": "stream",
     "text": [
      "| \u001b[39m5        \u001b[39m | \u001b[39m0.4676   \u001b[39m | \u001b[39m0.2809   \u001b[39m | \u001b[39m0.5427   \u001b[39m | \u001b[39m0.1409   \u001b[39m | \u001b[39m0.8022   \u001b[39m | \u001b[39m0.07455  \u001b[39m | \u001b[39m0.9869   \u001b[39m | \u001b[39m0.7722   \u001b[39m | \u001b[39m0.1987   \u001b[39m | \u001b[39m0.005522 \u001b[39m | \u001b[39m0.8155   \u001b[39m | \u001b[39m0.7069   \u001b[39m | \u001b[39m0.729    \u001b[39m | \u001b[39m0.7713   \u001b[39m | \u001b[39m0.07404  \u001b[39m | \u001b[39m0.3585   \u001b[39m | \u001b[39m0.1159   \u001b[39m |\n",
      "Non-zero alphas: 10\n"
     ]
    },
    {
     "name": "stderr",
     "output_type": "stream",
     "text": [
      "Building TRAIN_KERNEL: 100%|██████████| 1225/1225 [01:06<00:00, 18.30it/s]\n",
      "Building TEST_KERNEL: 100%|██████████| 2500/2500 [02:06<00:00, 19.70it/s]\n"
     ]
    },
    {
     "name": "stdout",
     "output_type": "stream",
     "text": [
      "| \u001b[39m6        \u001b[39m | \u001b[39m0.4709   \u001b[39m | \u001b[39m0.3812   \u001b[39m | \u001b[39m0.3258   \u001b[39m | \u001b[39m0.2989   \u001b[39m | \u001b[39m0.09328  \u001b[39m | \u001b[39m0.6074   \u001b[39m | \u001b[39m0.2534   \u001b[39m | \u001b[39m0.347    \u001b[39m | \u001b[39m0.3361   \u001b[39m | \u001b[39m0.3396   \u001b[39m | \u001b[39m0.8794   \u001b[39m | \u001b[39m0.471    \u001b[39m | \u001b[39m0.51     \u001b[39m | \u001b[39m0.784    \u001b[39m | \u001b[39m0.3079   \u001b[39m | \u001b[39m0.7605   \u001b[39m | \u001b[39m0.1805   \u001b[39m |\n",
      "Non-zero alphas: 10\n"
     ]
    },
    {
     "name": "stderr",
     "output_type": "stream",
     "text": [
      "Building TRAIN_KERNEL: 100%|██████████| 1225/1225 [01:10<00:00, 17.39it/s]\n",
      "Building TEST_KERNEL: 100%|██████████| 2500/2500 [02:16<00:00, 18.36it/s]\n"
     ]
    },
    {
     "name": "stdout",
     "output_type": "stream",
     "text": [
      "| \u001b[39m7        \u001b[39m | \u001b[39m0.4707   \u001b[39m | \u001b[39m0.5373   \u001b[39m | \u001b[39m0.5205   \u001b[39m | \u001b[39m0.3862   \u001b[39m | \u001b[39m0.1368   \u001b[39m | \u001b[39m0.4657   \u001b[39m | \u001b[39m0.1962   \u001b[39m | \u001b[39m0.0      \u001b[39m | \u001b[39m0.7439   \u001b[39m | \u001b[39m0.6946   \u001b[39m | \u001b[39m0.8875   \u001b[39m | \u001b[39m0.2441   \u001b[39m | \u001b[39m0.6482   \u001b[39m | \u001b[39m1.0      \u001b[39m | \u001b[39m0.07493  \u001b[39m | \u001b[39m0.5387   \u001b[39m | \u001b[39m0.03523  \u001b[39m |\n",
      "Non-zero alphas: 10\n"
     ]
    },
    {
     "name": "stderr",
     "output_type": "stream",
     "text": [
      "Building TRAIN_KERNEL: 100%|██████████| 1225/1225 [01:05<00:00, 18.70it/s]\n",
      "Building TEST_KERNEL: 100%|██████████| 2500/2500 [02:07<00:00, 19.66it/s]\n"
     ]
    },
    {
     "name": "stdout",
     "output_type": "stream",
     "text": [
      "| \u001b[35m8        \u001b[39m | \u001b[35m0.4734   \u001b[39m | \u001b[35m0.4304   \u001b[39m | \u001b[35m0.2288   \u001b[39m | \u001b[35m0.0905   \u001b[39m | \u001b[35m0.0      \u001b[39m | \u001b[35m1.0      \u001b[39m | \u001b[35m0.02399  \u001b[39m | \u001b[35m0.0      \u001b[39m | \u001b[35m0.3074   \u001b[39m | \u001b[35m0.851    \u001b[39m | \u001b[35m0.8742   \u001b[39m | \u001b[35m0.106    \u001b[39m | \u001b[35m0.04178  \u001b[39m | \u001b[35m0.4866   \u001b[39m | \u001b[35m0.0      \u001b[39m | \u001b[35m0.9296   \u001b[39m | \u001b[35m0.0      \u001b[39m |\n",
      "Non-zero alphas: 10\n"
     ]
    },
    {
     "name": "stderr",
     "output_type": "stream",
     "text": [
      "Building TRAIN_KERNEL: 100%|██████████| 1225/1225 [01:04<00:00, 18.92it/s]\n",
      "Building TEST_KERNEL: 100%|██████████| 2500/2500 [02:30<00:00, 16.56it/s]\n"
     ]
    },
    {
     "name": "stdout",
     "output_type": "stream",
     "text": [
      "| \u001b[35m9        \u001b[39m | \u001b[35m0.4739   \u001b[39m | \u001b[35m0.0      \u001b[39m | \u001b[35m0.0      \u001b[39m | \u001b[35m0.0      \u001b[39m | \u001b[35m0.0      \u001b[39m | \u001b[35m1.0      \u001b[39m | \u001b[35m0.0      \u001b[39m | \u001b[35m0.0      \u001b[39m | \u001b[35m0.7543   \u001b[39m | \u001b[35m1.0      \u001b[39m | \u001b[35m1.0      \u001b[39m | \u001b[35m0.8663   \u001b[39m | \u001b[35m0.0      \u001b[39m | \u001b[35m0.0      \u001b[39m | \u001b[35m0.0      \u001b[39m | \u001b[35m1.0      \u001b[39m | \u001b[35m0.0      \u001b[39m |\n",
      "Non-zero alphas: 10\n"
     ]
    },
    {
     "name": "stderr",
     "output_type": "stream",
     "text": [
      "Building TRAIN_KERNEL: 100%|██████████| 1225/1225 [01:11<00:00, 17.12it/s]\n",
      "Building TEST_KERNEL: 100%|██████████| 2500/2500 [02:21<00:00, 17.67it/s]\n"
     ]
    },
    {
     "name": "stdout",
     "output_type": "stream",
     "text": [
      "| \u001b[39m10       \u001b[39m | \u001b[39m0.4688   \u001b[39m | \u001b[39m0.4851   \u001b[39m | \u001b[39m1.0      \u001b[39m | \u001b[39m0.0      \u001b[39m | \u001b[39m0.0      \u001b[39m | \u001b[39m1.0      \u001b[39m | \u001b[39m0.0      \u001b[39m | \u001b[39m0.0      \u001b[39m | \u001b[39m0.0      \u001b[39m | \u001b[39m1.0      \u001b[39m | \u001b[39m1.0      \u001b[39m | \u001b[39m1.0      \u001b[39m | \u001b[39m0.0      \u001b[39m | \u001b[39m0.0      \u001b[39m | \u001b[39m0.0      \u001b[39m | \u001b[39m1.0      \u001b[39m | \u001b[39m0.0      \u001b[39m |\n",
      "Non-zero alphas: 10\n"
     ]
    },
    {
     "name": "stderr",
     "output_type": "stream",
     "text": [
      "Building TRAIN_KERNEL: 100%|██████████| 1225/1225 [01:06<00:00, 18.33it/s]\n",
      "Building TEST_KERNEL: 100%|██████████| 2500/2500 [02:26<00:00, 17.04it/s]\n"
     ]
    },
    {
     "name": "stdout",
     "output_type": "stream",
     "text": [
      "| \u001b[35m11       \u001b[39m | \u001b[35m0.4752   \u001b[39m | \u001b[35m0.0      \u001b[39m | \u001b[35m0.0      \u001b[39m | \u001b[35m0.0      \u001b[39m | \u001b[35m0.0      \u001b[39m | \u001b[35m1.0      \u001b[39m | \u001b[35m0.0      \u001b[39m | \u001b[35m0.0      \u001b[39m | \u001b[35m1.0      \u001b[39m | \u001b[35m1.0      \u001b[39m | \u001b[35m0.3334   \u001b[39m | \u001b[35m0.0      \u001b[39m | \u001b[35m0.0      \u001b[39m | \u001b[35m0.0      \u001b[39m | \u001b[35m0.0      \u001b[39m | \u001b[35m1.0      \u001b[39m | \u001b[35m0.0      \u001b[39m |\n",
      "Non-zero alphas: 10\n"
     ]
    },
    {
     "name": "stderr",
     "output_type": "stream",
     "text": [
      "Building TRAIN_KERNEL: 100%|██████████| 1225/1225 [00:55<00:00, 22.13it/s]\n",
      "Building TEST_KERNEL: 100%|██████████| 2500/2500 [02:01<00:00, 20.63it/s]\n"
     ]
    },
    {
     "name": "stdout",
     "output_type": "stream",
     "text": [
      "| \u001b[39m12       \u001b[39m | \u001b[39m0.4739   \u001b[39m | \u001b[39m1.0      \u001b[39m | \u001b[39m0.0      \u001b[39m | \u001b[39m0.0      \u001b[39m | \u001b[39m0.0      \u001b[39m | \u001b[39m1.0      \u001b[39m | \u001b[39m0.0      \u001b[39m | \u001b[39m0.0      \u001b[39m | \u001b[39m1.0      \u001b[39m | \u001b[39m1.0      \u001b[39m | \u001b[39m0.0      \u001b[39m | \u001b[39m0.4531   \u001b[39m | \u001b[39m0.0      \u001b[39m | \u001b[39m0.0      \u001b[39m | \u001b[39m0.0      \u001b[39m | \u001b[39m1.0      \u001b[39m | \u001b[39m0.0      \u001b[39m |\n",
      "Non-zero alphas: 10\n"
     ]
    },
    {
     "name": "stderr",
     "output_type": "stream",
     "text": [
      "Building TRAIN_KERNEL: 100%|██████████| 1225/1225 [01:01<00:00, 19.88it/s]\n",
      "Building TEST_KERNEL: 100%|██████████| 2500/2500 [01:58<00:00, 21.06it/s]\n"
     ]
    },
    {
     "name": "stdout",
     "output_type": "stream",
     "text": [
      "| \u001b[39m13       \u001b[39m | \u001b[39m0.4719   \u001b[39m | \u001b[39m0.0      \u001b[39m | \u001b[39m0.0      \u001b[39m | \u001b[39m0.0      \u001b[39m | \u001b[39m0.0      \u001b[39m | \u001b[39m1.0      \u001b[39m | \u001b[39m1.0      \u001b[39m | \u001b[39m0.0      \u001b[39m | \u001b[39m1.0      \u001b[39m | \u001b[39m1.0      \u001b[39m | \u001b[39m0.0      \u001b[39m | \u001b[39m0.564    \u001b[39m | \u001b[39m0.0      \u001b[39m | \u001b[39m0.0      \u001b[39m | \u001b[39m0.0      \u001b[39m | \u001b[39m1.0      \u001b[39m | \u001b[39m0.0      \u001b[39m |\n",
      "Non-zero alphas: 10\n"
     ]
    },
    {
     "name": "stderr",
     "output_type": "stream",
     "text": [
      "Building TRAIN_KERNEL: 100%|██████████| 1225/1225 [00:59<00:00, 20.75it/s]\n",
      "Building TEST_KERNEL: 100%|██████████| 2500/2500 [01:58<00:00, 21.15it/s]\n"
     ]
    },
    {
     "name": "stdout",
     "output_type": "stream",
     "text": [
      "| \u001b[39m14       \u001b[39m | \u001b[39m0.4737   \u001b[39m | \u001b[39m0.0      \u001b[39m | \u001b[39m0.0      \u001b[39m | \u001b[39m0.0      \u001b[39m | \u001b[39m0.807    \u001b[39m | \u001b[39m1.0      \u001b[39m | \u001b[39m0.0      \u001b[39m | \u001b[39m0.0      \u001b[39m | \u001b[39m1.0      \u001b[39m | \u001b[39m1.0      \u001b[39m | \u001b[39m0.0      \u001b[39m | \u001b[39m0.0      \u001b[39m | \u001b[39m0.0      \u001b[39m | \u001b[39m1.0      \u001b[39m | \u001b[39m0.0      \u001b[39m | \u001b[39m1.0      \u001b[39m | \u001b[39m0.0      \u001b[39m |\n",
      "Non-zero alphas: 10\n"
     ]
    },
    {
     "name": "stderr",
     "output_type": "stream",
     "text": [
      "Building TRAIN_KERNEL: 100%|██████████| 1225/1225 [00:59<00:00, 20.46it/s]\n",
      "Building TEST_KERNEL: 100%|██████████| 2500/2500 [01:59<00:00, 20.91it/s]\n"
     ]
    },
    {
     "name": "stdout",
     "output_type": "stream",
     "text": [
      "| \u001b[39m15       \u001b[39m | \u001b[39m0.4741   \u001b[39m | \u001b[39m0.0      \u001b[39m | \u001b[39m0.0      \u001b[39m | \u001b[39m1.0      \u001b[39m | \u001b[39m0.0      \u001b[39m | \u001b[39m1.0      \u001b[39m | \u001b[39m0.0      \u001b[39m | \u001b[39m0.0      \u001b[39m | \u001b[39m1.0      \u001b[39m | \u001b[39m1.0      \u001b[39m | \u001b[39m1.0      \u001b[39m | \u001b[39m0.0      \u001b[39m | \u001b[39m0.0      \u001b[39m | \u001b[39m0.0      \u001b[39m | \u001b[39m0.0      \u001b[39m | \u001b[39m1.0      \u001b[39m | \u001b[39m0.0      \u001b[39m |\n",
      "Non-zero alphas: 10\n"
     ]
    },
    {
     "name": "stderr",
     "output_type": "stream",
     "text": [
      "Building TRAIN_KERNEL: 100%|██████████| 1225/1225 [01:05<00:00, 18.75it/s]\n",
      "Building TEST_KERNEL: 100%|██████████| 2500/2500 [02:04<00:00, 20.13it/s]\n"
     ]
    },
    {
     "name": "stdout",
     "output_type": "stream",
     "text": [
      "| \u001b[39m16       \u001b[39m | \u001b[39m0.4671   \u001b[39m | \u001b[39m1.0      \u001b[39m | \u001b[39m0.0      \u001b[39m | \u001b[39m1.0      \u001b[39m | \u001b[39m0.0      \u001b[39m | \u001b[39m0.0      \u001b[39m | \u001b[39m0.0      \u001b[39m | \u001b[39m0.0      \u001b[39m | \u001b[39m0.0      \u001b[39m | \u001b[39m1.0      \u001b[39m | \u001b[39m0.0      \u001b[39m | \u001b[39m1.0      \u001b[39m | \u001b[39m0.0      \u001b[39m | \u001b[39m1.0      \u001b[39m | \u001b[39m0.0      \u001b[39m | \u001b[39m0.0      \u001b[39m | \u001b[39m0.0      \u001b[39m |\n",
      "Non-zero alphas: 10\n"
     ]
    },
    {
     "name": "stderr",
     "output_type": "stream",
     "text": [
      "Building TRAIN_KERNEL: 100%|██████████| 1225/1225 [01:01<00:00, 19.78it/s]\n",
      "Building TEST_KERNEL: 100%|██████████| 2500/2500 [02:03<00:00, 20.22it/s]\n"
     ]
    },
    {
     "name": "stdout",
     "output_type": "stream",
     "text": [
      "| \u001b[39m17       \u001b[39m | \u001b[39m0.47     \u001b[39m | \u001b[39m0.0      \u001b[39m | \u001b[39m0.0      \u001b[39m | \u001b[39m1.0      \u001b[39m | \u001b[39m0.0      \u001b[39m | \u001b[39m1.0      \u001b[39m | \u001b[39m0.0      \u001b[39m | \u001b[39m0.0      \u001b[39m | \u001b[39m1.0      \u001b[39m | \u001b[39m1.0      \u001b[39m | \u001b[39m0.0      \u001b[39m | \u001b[39m0.0      \u001b[39m | \u001b[39m0.0      \u001b[39m | \u001b[39m0.9718   \u001b[39m | \u001b[39m0.0      \u001b[39m | \u001b[39m1.0      \u001b[39m | \u001b[39m0.0      \u001b[39m |\n",
      "Non-zero alphas: 10\n"
     ]
    },
    {
     "name": "stderr",
     "output_type": "stream",
     "text": [
      "Building TRAIN_KERNEL: 100%|██████████| 1225/1225 [01:02<00:00, 19.60it/s]\n",
      "Building TEST_KERNEL: 100%|██████████| 2500/2500 [02:03<00:00, 20.22it/s]\n"
     ]
    },
    {
     "name": "stdout",
     "output_type": "stream",
     "text": [
      "| \u001b[39m18       \u001b[39m | \u001b[39m0.4714   \u001b[39m | \u001b[39m0.01152  \u001b[39m | \u001b[39m0.2973   \u001b[39m | \u001b[39m0.04494  \u001b[39m | \u001b[39m0.06196  \u001b[39m | \u001b[39m0.8674   \u001b[39m | \u001b[39m0.284    \u001b[39m | \u001b[39m0.1113   \u001b[39m | \u001b[39m0.992    \u001b[39m | \u001b[39m0.4549   \u001b[39m | \u001b[39m0.8998   \u001b[39m | \u001b[39m0.05961  \u001b[39m | \u001b[39m0.3531   \u001b[39m | \u001b[39m0.3985   \u001b[39m | \u001b[39m0.9692   \u001b[39m | \u001b[39m0.9359   \u001b[39m | \u001b[39m0.8574   \u001b[39m |\n",
      "Non-zero alphas: 10\n"
     ]
    },
    {
     "name": "stderr",
     "output_type": "stream",
     "text": [
      "Building TRAIN_KERNEL: 100%|██████████| 1225/1225 [01:02<00:00, 19.75it/s]\n",
      "Building TEST_KERNEL: 100%|██████████| 2500/2500 [02:07<00:00, 19.57it/s]\n"
     ]
    },
    {
     "name": "stdout",
     "output_type": "stream",
     "text": [
      "| \u001b[35m19       \u001b[39m | \u001b[35m0.4759   \u001b[39m | \u001b[35m0.3994   \u001b[39m | \u001b[35m0.0      \u001b[39m | \u001b[35m0.0      \u001b[39m | \u001b[35m1.0      \u001b[39m | \u001b[35m1.0      \u001b[39m | \u001b[35m0.0      \u001b[39m | \u001b[35m0.0      \u001b[39m | \u001b[35m1.0      \u001b[39m | \u001b[35m1.0      \u001b[39m | \u001b[35m1.0      \u001b[39m | \u001b[35m0.0      \u001b[39m | \u001b[35m0.0      \u001b[39m | \u001b[35m0.0      \u001b[39m | \u001b[35m0.0      \u001b[39m | \u001b[35m1.0      \u001b[39m | \u001b[35m0.0      \u001b[39m |\n",
      "Non-zero alphas: 10\n"
     ]
    },
    {
     "name": "stderr",
     "output_type": "stream",
     "text": [
      "Building TRAIN_KERNEL: 100%|██████████| 1225/1225 [01:02<00:00, 19.48it/s]\n",
      "Building TEST_KERNEL: 100%|██████████| 2500/2500 [02:04<00:00, 20.04it/s]\n"
     ]
    },
    {
     "name": "stdout",
     "output_type": "stream",
     "text": [
      "| \u001b[39m20       \u001b[39m | \u001b[39m0.4738   \u001b[39m | \u001b[39m0.0      \u001b[39m | \u001b[39m0.0      \u001b[39m | \u001b[39m0.0      \u001b[39m | \u001b[39m0.6578   \u001b[39m | \u001b[39m1.0      \u001b[39m | \u001b[39m0.0      \u001b[39m | \u001b[39m0.0      \u001b[39m | \u001b[39m1.0      \u001b[39m | \u001b[39m1.0      \u001b[39m | \u001b[39m1.0      \u001b[39m | \u001b[39m0.0      \u001b[39m | \u001b[39m0.0      \u001b[39m | \u001b[39m0.0      \u001b[39m | \u001b[39m0.0      \u001b[39m | \u001b[39m1.0      \u001b[39m | \u001b[39m1.0      \u001b[39m |\n",
      "Non-zero alphas: 10\n"
     ]
    },
    {
     "name": "stderr",
     "output_type": "stream",
     "text": [
      "Building TRAIN_KERNEL: 100%|██████████| 1225/1225 [01:02<00:00, 19.49it/s]\n",
      "Building TEST_KERNEL: 100%|██████████| 2500/2500 [02:10<00:00, 19.13it/s]\n"
     ]
    },
    {
     "name": "stdout",
     "output_type": "stream",
     "text": [
      "| \u001b[39m21       \u001b[39m | \u001b[39m0.4737   \u001b[39m | \u001b[39m0.1514   \u001b[39m | \u001b[39m0.1202   \u001b[39m | \u001b[39m0.1581   \u001b[39m | \u001b[39m0.5721   \u001b[39m | \u001b[39m0.06289  \u001b[39m | \u001b[39m0.2206   \u001b[39m | \u001b[39m0.1814   \u001b[39m | \u001b[39m0.9487   \u001b[39m | \u001b[39m0.8888   \u001b[39m | \u001b[39m0.917    \u001b[39m | \u001b[39m0.08219  \u001b[39m | \u001b[39m0.2095   \u001b[39m | \u001b[39m0.1279   \u001b[39m | \u001b[39m0.2834   \u001b[39m | \u001b[39m0.9608   \u001b[39m | \u001b[39m0.1748   \u001b[39m |\n",
      "Non-zero alphas: 10\n"
     ]
    },
    {
     "name": "stderr",
     "output_type": "stream",
     "text": [
      "Building TRAIN_KERNEL: 100%|██████████| 1225/1225 [01:00<00:00, 20.32it/s]\n",
      "Building TEST_KERNEL: 100%|██████████| 2500/2500 [02:07<00:00, 19.68it/s]\n"
     ]
    },
    {
     "name": "stdout",
     "output_type": "stream",
     "text": [
      "| \u001b[39m22       \u001b[39m | \u001b[39m0.4746   \u001b[39m | \u001b[39m0.0      \u001b[39m | \u001b[39m0.0      \u001b[39m | \u001b[39m0.0      \u001b[39m | \u001b[39m0.8957   \u001b[39m | \u001b[39m1.0      \u001b[39m | \u001b[39m0.0      \u001b[39m | \u001b[39m0.0      \u001b[39m | \u001b[39m1.0      \u001b[39m | \u001b[39m1.0      \u001b[39m | \u001b[39m1.0      \u001b[39m | \u001b[39m0.0      \u001b[39m | \u001b[39m0.0      \u001b[39m | \u001b[39m0.0      \u001b[39m | \u001b[39m1.0      \u001b[39m | \u001b[39m1.0      \u001b[39m | \u001b[39m0.0      \u001b[39m |\n",
      "Non-zero alphas: 10\n"
     ]
    },
    {
     "name": "stderr",
     "output_type": "stream",
     "text": [
      "Building TRAIN_KERNEL: 100%|██████████| 1225/1225 [01:08<00:00, 17.98it/s]\n",
      "Building TEST_KERNEL: 100%|██████████| 2500/2500 [02:12<00:00, 18.86it/s]\n"
     ]
    },
    {
     "name": "stdout",
     "output_type": "stream",
     "text": [
      "| \u001b[39m23       \u001b[39m | \u001b[39m0.4726   \u001b[39m | \u001b[39m0.0      \u001b[39m | \u001b[39m0.0      \u001b[39m | \u001b[39m0.0      \u001b[39m | \u001b[39m1.0      \u001b[39m | \u001b[39m1.0      \u001b[39m | \u001b[39m0.0      \u001b[39m | \u001b[39m0.0      \u001b[39m | \u001b[39m0.08137  \u001b[39m | \u001b[39m1.0      \u001b[39m | \u001b[39m0.387    \u001b[39m | \u001b[39m0.0      \u001b[39m | \u001b[39m0.0      \u001b[39m | \u001b[39m0.0      \u001b[39m | \u001b[39m0.0      \u001b[39m | \u001b[39m1.0      \u001b[39m | \u001b[39m0.0      \u001b[39m |\n",
      "Non-zero alphas: 10\n"
     ]
    },
    {
     "name": "stderr",
     "output_type": "stream",
     "text": [
      "Building TRAIN_KERNEL: 100%|██████████| 1225/1225 [01:05<00:00, 18.60it/s]\n",
      "Building TEST_KERNEL: 100%|██████████| 2500/2500 [02:10<00:00, 19.21it/s]\n"
     ]
    },
    {
     "name": "stdout",
     "output_type": "stream",
     "text": [
      "| \u001b[39m24       \u001b[39m | \u001b[39m0.473    \u001b[39m | \u001b[39m0.5653   \u001b[39m | \u001b[39m0.06964  \u001b[39m | \u001b[39m0.05381  \u001b[39m | \u001b[39m0.9667   \u001b[39m | \u001b[39m0.8429   \u001b[39m | \u001b[39m0.07002  \u001b[39m | \u001b[39m0.06464  \u001b[39m | \u001b[39m0.9768   \u001b[39m | \u001b[39m0.8378   \u001b[39m | \u001b[39m0.1384   \u001b[39m | \u001b[39m0.9007   \u001b[39m | \u001b[39m0.107    \u001b[39m | \u001b[39m0.02221  \u001b[39m | \u001b[39m0.4078   \u001b[39m | \u001b[39m0.4724   \u001b[39m | \u001b[39m0.2529   \u001b[39m |\n",
      "Non-zero alphas: 10\n"
     ]
    },
    {
     "name": "stderr",
     "output_type": "stream",
     "text": [
      "Building TRAIN_KERNEL: 100%|██████████| 1225/1225 [01:05<00:00, 18.58it/s]\n",
      "Building TEST_KERNEL: 100%|██████████| 2500/2500 [02:10<00:00, 19.22it/s]\n"
     ]
    },
    {
     "name": "stdout",
     "output_type": "stream",
     "text": [
      "| \u001b[39m25       \u001b[39m | \u001b[39m0.4733   \u001b[39m | \u001b[39m0.7015   \u001b[39m | \u001b[39m0.1439   \u001b[39m | \u001b[39m0.09029  \u001b[39m | \u001b[39m0.284    \u001b[39m | \u001b[39m0.9161   \u001b[39m | \u001b[39m0.07404  \u001b[39m | \u001b[39m0.2729   \u001b[39m | \u001b[39m0.9601   \u001b[39m | \u001b[39m0.1774   \u001b[39m | \u001b[39m0.4609   \u001b[39m | \u001b[39m0.3899   \u001b[39m | \u001b[39m0.7161   \u001b[39m | \u001b[39m0.07623  \u001b[39m | \u001b[39m0.01389  \u001b[39m | \u001b[39m0.7174   \u001b[39m | \u001b[39m0.04987  \u001b[39m |\n",
      "Non-zero alphas: 10\n"
     ]
    },
    {
     "name": "stderr",
     "output_type": "stream",
     "text": [
      "Building TRAIN_KERNEL: 100%|██████████| 1225/1225 [01:07<00:00, 18.23it/s]\n",
      "Building TEST_KERNEL: 100%|██████████| 2500/2500 [01:56<00:00, 21.39it/s]\n"
     ]
    },
    {
     "name": "stdout",
     "output_type": "stream",
     "text": [
      "| \u001b[39m26       \u001b[39m | \u001b[39m0.4742   \u001b[39m | \u001b[39m1.0      \u001b[39m | \u001b[39m0.9557   \u001b[39m | \u001b[39m0.0      \u001b[39m | \u001b[39m1.0      \u001b[39m | \u001b[39m1.0      \u001b[39m | \u001b[39m0.0      \u001b[39m | \u001b[39m0.0      \u001b[39m | \u001b[39m1.0      \u001b[39m | \u001b[39m1.0      \u001b[39m | \u001b[39m1.0      \u001b[39m | \u001b[39m0.0      \u001b[39m | \u001b[39m0.0      \u001b[39m | \u001b[39m0.0      \u001b[39m | \u001b[39m0.0      \u001b[39m | \u001b[39m1.0      \u001b[39m | \u001b[39m0.0      \u001b[39m |\n",
      "Non-zero alphas: 10\n"
     ]
    },
    {
     "name": "stderr",
     "output_type": "stream",
     "text": [
      "Building TRAIN_KERNEL: 100%|██████████| 1225/1225 [01:03<00:00, 19.27it/s]\n",
      "Building TEST_KERNEL: 100%|██████████| 2500/2500 [02:07<00:00, 19.56it/s]\n"
     ]
    },
    {
     "name": "stdout",
     "output_type": "stream",
     "text": [
      "| \u001b[39m27       \u001b[39m | \u001b[39m0.4722   \u001b[39m | \u001b[39m0.5937   \u001b[39m | \u001b[39m0.1384   \u001b[39m | \u001b[39m0.03063  \u001b[39m | \u001b[39m0.4497   \u001b[39m | \u001b[39m0.002686 \u001b[39m | \u001b[39m0.04963  \u001b[39m | \u001b[39m0.1323   \u001b[39m | \u001b[39m0.9849   \u001b[39m | \u001b[39m0.0709   \u001b[39m | \u001b[39m0.9554   \u001b[39m | \u001b[39m0.2598   \u001b[39m | \u001b[39m0.01503  \u001b[39m | \u001b[39m0.1757   \u001b[39m | \u001b[39m0.2709   \u001b[39m | \u001b[39m0.2986   \u001b[39m | \u001b[39m0.02896  \u001b[39m |\n",
      "Non-zero alphas: 10\n"
     ]
    },
    {
     "name": "stderr",
     "output_type": "stream",
     "text": [
      "Building TRAIN_KERNEL: 100%|██████████| 1225/1225 [01:03<00:00, 19.21it/s]\n",
      "Building TEST_KERNEL: 100%|██████████| 2500/2500 [02:16<00:00, 18.37it/s]\n"
     ]
    },
    {
     "name": "stdout",
     "output_type": "stream",
     "text": [
      "| \u001b[39m28       \u001b[39m | \u001b[39m0.4746   \u001b[39m | \u001b[39m0.0      \u001b[39m | \u001b[39m0.0      \u001b[39m | \u001b[39m0.0      \u001b[39m | \u001b[39m0.4171   \u001b[39m | \u001b[39m1.0      \u001b[39m | \u001b[39m0.0      \u001b[39m | \u001b[39m0.0      \u001b[39m | \u001b[39m1.0      \u001b[39m | \u001b[39m1.0      \u001b[39m | \u001b[39m1.0      \u001b[39m | \u001b[39m0.0      \u001b[39m | \u001b[39m0.0      \u001b[39m | \u001b[39m0.0      \u001b[39m | \u001b[39m0.0      \u001b[39m | \u001b[39m0.0      \u001b[39m | \u001b[39m0.0      \u001b[39m |\n",
      "Non-zero alphas: 10\n"
     ]
    },
    {
     "name": "stderr",
     "output_type": "stream",
     "text": [
      "Building TRAIN_KERNEL: 100%|██████████| 1225/1225 [01:08<00:00, 17.99it/s]\n",
      "Building TEST_KERNEL: 100%|██████████| 2500/2500 [02:14<00:00, 18.62it/s]\n"
     ]
    },
    {
     "name": "stdout",
     "output_type": "stream",
     "text": [
      "| \u001b[39m29       \u001b[39m | \u001b[39m0.4731   \u001b[39m | \u001b[39m1.0      \u001b[39m | \u001b[39m0.0      \u001b[39m | \u001b[39m0.0      \u001b[39m | \u001b[39m1.0      \u001b[39m | \u001b[39m1.0      \u001b[39m | \u001b[39m1.0      \u001b[39m | \u001b[39m0.0      \u001b[39m | \u001b[39m1.0      \u001b[39m | \u001b[39m1.0      \u001b[39m | \u001b[39m1.0      \u001b[39m | \u001b[39m0.0      \u001b[39m | \u001b[39m0.0      \u001b[39m | \u001b[39m0.0      \u001b[39m | \u001b[39m0.4402   \u001b[39m | \u001b[39m1.0      \u001b[39m | \u001b[39m0.0      \u001b[39m |\n",
      "Non-zero alphas: 10\n"
     ]
    },
    {
     "name": "stderr",
     "output_type": "stream",
     "text": [
      "Building TRAIN_KERNEL: 100%|██████████| 1225/1225 [01:02<00:00, 19.55it/s]\n",
      "Building TEST_KERNEL: 100%|██████████| 2500/2500 [02:16<00:00, 18.30it/s]\n"
     ]
    },
    {
     "name": "stdout",
     "output_type": "stream",
     "text": [
      "| \u001b[39m30       \u001b[39m | \u001b[39m0.4733   \u001b[39m | \u001b[39m1.0      \u001b[39m | \u001b[39m0.0      \u001b[39m | \u001b[39m0.0      \u001b[39m | \u001b[39m1.0      \u001b[39m | \u001b[39m1.0      \u001b[39m | \u001b[39m0.0      \u001b[39m | \u001b[39m0.0      \u001b[39m | \u001b[39m1.0      \u001b[39m | \u001b[39m1.0      \u001b[39m | \u001b[39m1.0      \u001b[39m | \u001b[39m0.0      \u001b[39m | \u001b[39m1.0      \u001b[39m | \u001b[39m0.0      \u001b[39m | \u001b[39m0.0      \u001b[39m | \u001b[39m1.0      \u001b[39m | \u001b[39m0.0      \u001b[39m |\n",
      "=========================================================================================================================================================================================================================\n",
      "Best Coefficients: [np.float64(0.3993993895542542), np.float64(0.0), np.float64(1.0), np.float64(1.0), np.float64(0.0), np.float64(0.0), np.float64(0.0), np.float64(0.0), np.float64(1.0), np.float64(0.0), np.float64(0.0), np.float64(1.0), np.float64(1.0), np.float64(0.0), np.float64(0.0), np.float64(1.0)]\n",
      "Best Val Accuracy: 0.47585374262225516\n",
      "Non-zero alphas: 10\n"
     ]
    },
    {
     "name": "stderr",
     "output_type": "stream",
     "text": [
      "Building TRAIN_KERNEL: 100%|██████████| 1225/1225 [01:09<00:00, 17.68it/s]\n"
     ]
    },
    {
     "name": "stdout",
     "output_type": "stream",
     "text": [
      "Train Accuracy: 0.76\n"
     ]
    },
    {
     "name": "stderr",
     "output_type": "stream",
     "text": [
      "Building TEST_KERNEL: 100%|██████████| 2500/2500 [02:11<00:00, 18.95it/s]\n"
     ]
    },
    {
     "name": "stdout",
     "output_type": "stream",
     "text": [
      "Validation Accuracy: 0.76\n"
     ]
    },
    {
     "name": "stderr",
     "output_type": "stream",
     "text": [
      "Building TEST_KERNEL: 100%|██████████| 5000/5000 [04:25<00:00, 18.85it/s]\n"
     ]
    },
    {
     "name": "stdout",
     "output_type": "stream",
     "text": [
      "Test Accuracy: 0.72\n",
      "Saving model...\n",
      "|   iter    |  target   |  coeff_0  |  coeff_1  | coeff_10  | coeff_11  | coeff_12  | coeff_13  | coeff_14  | coeff_15  |  coeff_2  |  coeff_3  |  coeff_4  |  coeff_5  |  coeff_6  |  coeff_7  |  coeff_8  |  coeff_9  |\n",
      "-------------------------------------------------------------------------------------------------------------------------------------------------------------------------------------------------------------------------\n",
      "Non-zero alphas: 11\n"
     ]
    },
    {
     "name": "stderr",
     "output_type": "stream",
     "text": [
      "Building TRAIN_KERNEL: 100%|██████████| 1225/1225 [01:11<00:00, 17.17it/s]\n",
      "Building TEST_KERNEL: 100%|██████████| 2500/2500 [02:24<00:00, 17.25it/s]\n"
     ]
    },
    {
     "name": "stdout",
     "output_type": "stream",
     "text": [
      "| \u001b[39m1        \u001b[39m | \u001b[39m0.4548   \u001b[39m | \u001b[39m0.3745   \u001b[39m | \u001b[39m0.9507   \u001b[39m | \u001b[39m0.732    \u001b[39m | \u001b[39m0.5987   \u001b[39m | \u001b[39m0.156    \u001b[39m | \u001b[39m0.156    \u001b[39m | \u001b[39m0.05808  \u001b[39m | \u001b[39m0.8662   \u001b[39m | \u001b[39m0.6011   \u001b[39m | \u001b[39m0.7081   \u001b[39m | \u001b[39m0.02058  \u001b[39m | \u001b[39m0.9699   \u001b[39m | \u001b[39m0.8324   \u001b[39m | \u001b[39m0.2123   \u001b[39m | \u001b[39m0.1818   \u001b[39m | \u001b[39m0.1834   \u001b[39m |\n",
      "Non-zero alphas: 11\n"
     ]
    },
    {
     "name": "stderr",
     "output_type": "stream",
     "text": [
      "Building TRAIN_KERNEL: 100%|██████████| 1225/1225 [01:13<00:00, 16.74it/s]\n",
      "Building TEST_KERNEL:  89%|████████▉ | 2221/2500 [02:20<00:17, 15.85it/s]\n"
     ]
    },
    {
     "ename": "KeyboardInterrupt",
     "evalue": "",
     "output_type": "error",
     "traceback": [
      "\u001b[0;31m---------------------------------------------------------------------------\u001b[0m",
      "\u001b[0;31mKeyboardInterrupt\u001b[0m                         Traceback (most recent call last)",
      "Cell \u001b[0;32mIn[7], line 39\u001b[0m\n\u001b[1;32m     31\u001b[0m \u001b[38;5;66;03m# Initialize Bayesian Optimizer\u001b[39;00m\n\u001b[1;32m     32\u001b[0m optimizer \u001b[38;5;241m=\u001b[39m BayesianOptimization(\n\u001b[1;32m     33\u001b[0m     f\u001b[38;5;241m=\u001b[39mobjective_function,\n\u001b[1;32m     34\u001b[0m     pbounds\u001b[38;5;241m=\u001b[39mpbounds,\n\u001b[1;32m     35\u001b[0m     random_state\u001b[38;5;241m=\u001b[39m\u001b[38;5;241m42\u001b[39m,\n\u001b[1;32m     36\u001b[0m     verbose\u001b[38;5;241m=\u001b[39m\u001b[38;5;241m2\u001b[39m\n\u001b[1;32m     37\u001b[0m )\n\u001b[0;32m---> 39\u001b[0m \u001b[43moptimizer\u001b[49m\u001b[38;5;241;43m.\u001b[39;49m\u001b[43mmaximize\u001b[49m\u001b[43m(\u001b[49m\n\u001b[1;32m     40\u001b[0m \u001b[43m    \u001b[49m\u001b[43minit_points\u001b[49m\u001b[38;5;241;43m=\u001b[39;49m\u001b[38;5;241;43m5\u001b[39;49m\u001b[43m,\u001b[49m\u001b[43m  \u001b[49m\u001b[38;5;66;43;03m# Number of random initial points\u001b[39;49;00m\n\u001b[1;32m     41\u001b[0m \u001b[43m    \u001b[49m\u001b[43mn_iter\u001b[49m\u001b[38;5;241;43m=\u001b[39;49m\u001b[43mOPT_TIMES\u001b[49m\u001b[38;5;241;43m-\u001b[39;49m\u001b[38;5;241;43m5\u001b[39;49m\u001b[43m        \u001b[49m\u001b[38;5;66;43;03m# Number of optimization steps\u001b[39;49;00m\n\u001b[1;32m     42\u001b[0m \u001b[43m\u001b[49m\u001b[43m)\u001b[49m\n\u001b[1;32m     43\u001b[0m \u001b[38;5;66;03m# Retrieve the best coefficients\u001b[39;00m\n\u001b[1;32m     44\u001b[0m best_coefficients \u001b[38;5;241m=\u001b[39m [optimizer\u001b[38;5;241m.\u001b[39mmax[\u001b[38;5;124m\"\u001b[39m\u001b[38;5;124mparams\u001b[39m\u001b[38;5;124m\"\u001b[39m][\u001b[38;5;124mf\u001b[39m\u001b[38;5;124m\"\u001b[39m\u001b[38;5;124mcoeff_\u001b[39m\u001b[38;5;132;01m{\u001b[39;00mi\u001b[38;5;132;01m}\u001b[39;00m\u001b[38;5;124m\"\u001b[39m] \u001b[38;5;28;01mfor\u001b[39;00m i \u001b[38;5;129;01min\u001b[39;00m \u001b[38;5;28mrange\u001b[39m(\u001b[38;5;241m4\u001b[39m\u001b[38;5;241m*\u001b[39m\u001b[38;5;241m*\u001b[39mCONFIG[\u001b[38;5;124m\"\u001b[39m\u001b[38;5;124mN_QUBITS\u001b[39m\u001b[38;5;124m\"\u001b[39m])]\n",
      "File \u001b[0;32m/media/HDD/danlb/projects_4TB/temporal_kernel/venv/lib/python3.11/site-packages/bayes_opt/bayesian_optimization.py:312\u001b[0m, in \u001b[0;36mBayesianOptimization.maximize\u001b[0;34m(self, init_points, n_iter)\u001b[0m\n\u001b[1;32m    310\u001b[0m     x_probe \u001b[38;5;241m=\u001b[39m \u001b[38;5;28mself\u001b[39m\u001b[38;5;241m.\u001b[39msuggest()\n\u001b[1;32m    311\u001b[0m     iteration \u001b[38;5;241m+\u001b[39m\u001b[38;5;241m=\u001b[39m \u001b[38;5;241m1\u001b[39m\n\u001b[0;32m--> 312\u001b[0m \u001b[38;5;28;43mself\u001b[39;49m\u001b[38;5;241;43m.\u001b[39;49m\u001b[43mprobe\u001b[49m\u001b[43m(\u001b[49m\u001b[43mx_probe\u001b[49m\u001b[43m,\u001b[49m\u001b[43m \u001b[49m\u001b[43mlazy\u001b[49m\u001b[38;5;241;43m=\u001b[39;49m\u001b[38;5;28;43;01mFalse\u001b[39;49;00m\u001b[43m)\u001b[49m\n\u001b[1;32m    314\u001b[0m \u001b[38;5;28;01mif\u001b[39;00m \u001b[38;5;28mself\u001b[39m\u001b[38;5;241m.\u001b[39m_bounds_transformer \u001b[38;5;129;01mand\u001b[39;00m iteration \u001b[38;5;241m>\u001b[39m \u001b[38;5;241m0\u001b[39m:\n\u001b[1;32m    315\u001b[0m     \u001b[38;5;66;03m# The bounds transformer should only modify the bounds after\u001b[39;00m\n\u001b[1;32m    316\u001b[0m     \u001b[38;5;66;03m# the init_points points (only for the true iterations)\u001b[39;00m\n\u001b[1;32m    317\u001b[0m     \u001b[38;5;28mself\u001b[39m\u001b[38;5;241m.\u001b[39mset_bounds(\u001b[38;5;28mself\u001b[39m\u001b[38;5;241m.\u001b[39m_bounds_transformer\u001b[38;5;241m.\u001b[39mtransform(\u001b[38;5;28mself\u001b[39m\u001b[38;5;241m.\u001b[39m_space))\n",
      "File \u001b[0;32m/media/HDD/danlb/projects_4TB/temporal_kernel/venv/lib/python3.11/site-packages/bayes_opt/bayesian_optimization.py:245\u001b[0m, in \u001b[0;36mBayesianOptimization.probe\u001b[0;34m(self, params, lazy)\u001b[0m\n\u001b[1;32m    243\u001b[0m     \u001b[38;5;28mself\u001b[39m\u001b[38;5;241m.\u001b[39m_queue\u001b[38;5;241m.\u001b[39mappend(params)\n\u001b[1;32m    244\u001b[0m \u001b[38;5;28;01melse\u001b[39;00m:\n\u001b[0;32m--> 245\u001b[0m     \u001b[38;5;28;43mself\u001b[39;49m\u001b[38;5;241;43m.\u001b[39;49m\u001b[43m_space\u001b[49m\u001b[38;5;241;43m.\u001b[39;49m\u001b[43mprobe\u001b[49m\u001b[43m(\u001b[49m\u001b[43mparams\u001b[49m\u001b[43m)\u001b[49m\n\u001b[1;32m    246\u001b[0m     \u001b[38;5;28mself\u001b[39m\u001b[38;5;241m.\u001b[39mdispatch(Events\u001b[38;5;241m.\u001b[39mOPTIMIZATION_STEP)\n",
      "File \u001b[0;32m/media/HDD/danlb/projects_4TB/temporal_kernel/venv/lib/python3.11/site-packages/bayes_opt/target_space.py:418\u001b[0m, in \u001b[0;36mTargetSpace.probe\u001b[0;34m(self, params)\u001b[0m\n\u001b[1;32m    416\u001b[0m     error_msg \u001b[38;5;241m=\u001b[39m \u001b[38;5;124m\"\u001b[39m\u001b[38;5;124mNo target function has been provided.\u001b[39m\u001b[38;5;124m\"\u001b[39m\n\u001b[1;32m    417\u001b[0m     \u001b[38;5;28;01mraise\u001b[39;00m \u001b[38;5;167;01mValueError\u001b[39;00m(error_msg)\n\u001b[0;32m--> 418\u001b[0m target \u001b[38;5;241m=\u001b[39m \u001b[38;5;28;43mself\u001b[39;49m\u001b[38;5;241;43m.\u001b[39;49m\u001b[43mtarget_func\u001b[49m\u001b[43m(\u001b[49m\u001b[38;5;241;43m*\u001b[39;49m\u001b[38;5;241;43m*\u001b[39;49m\u001b[43mdict_params\u001b[49m\u001b[43m)\u001b[49m\n\u001b[1;32m    420\u001b[0m \u001b[38;5;28;01mif\u001b[39;00m \u001b[38;5;28mself\u001b[39m\u001b[38;5;241m.\u001b[39m_constraint \u001b[38;5;129;01mis\u001b[39;00m \u001b[38;5;28;01mNone\u001b[39;00m:\n\u001b[1;32m    421\u001b[0m     \u001b[38;5;28mself\u001b[39m\u001b[38;5;241m.\u001b[39mregister(x, target)\n",
      "Cell \u001b[0;32mIn[7], line 19\u001b[0m, in \u001b[0;36mobjective_function\u001b[0;34m(**kwargs)\u001b[0m\n\u001b[1;32m     16\u001b[0m quantum_svm \u001b[38;5;241m=\u001b[39m QuantumSVM(n_qubits\u001b[38;5;241m=\u001b[39mCONFIG[\u001b[38;5;124m\"\u001b[39m\u001b[38;5;124mN_QUBITS\u001b[39m\u001b[38;5;124m\"\u001b[39m], Hamiltonian_c\u001b[38;5;241m=\u001b[39mcoefficients, alphas_c\u001b[38;5;241m=\u001b[39mfixed_alphas, embedding_code\u001b[38;5;241m=\u001b[39mCONFIG[\u001b[38;5;124m\"\u001b[39m\u001b[38;5;124mENCODING\u001b[39m\u001b[38;5;124m\"\u001b[39m], sparsity_coefficient\u001b[38;5;241m=\u001b[39mCONFIG[\u001b[38;5;124m\"\u001b[39m\u001b[38;5;124mSPARSITY\u001b[39m\u001b[38;5;124m\"\u001b[39m])\n\u001b[1;32m     17\u001b[0m quantum_svm\u001b[38;5;241m.\u001b[39mfit(train_features, train_labels)\n\u001b[0;32m---> 19\u001b[0m y_val \u001b[38;5;241m=\u001b[39m \u001b[43mquantum_svm\u001b[49m\u001b[38;5;241;43m.\u001b[39;49m\u001b[43mpredict\u001b[49m\u001b[43m(\u001b[49m\u001b[43mval_features\u001b[49m\u001b[43m)\u001b[49m\n\u001b[1;32m     20\u001b[0m K_val \u001b[38;5;241m=\u001b[39m quantum_svm\u001b[38;5;241m.\u001b[39mK_test\n\u001b[1;32m     22\u001b[0m target_kernel \u001b[38;5;241m=\u001b[39m np\u001b[38;5;241m.\u001b[39mouter(val_labels, val_labels)\n",
      "File \u001b[0;32m/media/HDD/danlb/projects_4TB/temporal_kernel/Quantum_temporal_kernel/SVM_models/QuantumSVM.py:194\u001b[0m, in \u001b[0;36mQuantumSVM.predict\u001b[0;34m(self, X)\u001b[0m\n\u001b[1;32m    190\u001b[0m X \u001b[38;5;241m=\u001b[39m check_array(X)\n\u001b[1;32m    191\u001b[0m \u001b[38;5;66;03m# Scale features\u001b[39;00m\n\u001b[1;32m    192\u001b[0m \u001b[38;5;66;03m#X = self.scaler.transform(X)\u001b[39;00m\n\u001b[1;32m    193\u001b[0m \u001b[38;5;66;03m# Build the kernel matrix between test data and training data\u001b[39;00m\n\u001b[0;32m--> 194\u001b[0m K_test \u001b[38;5;241m=\u001b[39m \u001b[38;5;28;43mself\u001b[39;49m\u001b[38;5;241;43m.\u001b[39;49m\u001b[43mbuild_kernel_matrix\u001b[49m\u001b[43m(\u001b[49m\u001b[43mX\u001b[49m\u001b[43m,\u001b[49m\u001b[43m \u001b[49m\u001b[38;5;28;43mself\u001b[39;49m\u001b[38;5;241;43m.\u001b[39;49m\u001b[43mX_\u001b[49m\u001b[43m,\u001b[49m\u001b[43m \u001b[49m\u001b[43mTYPE\u001b[49m\u001b[38;5;241;43m=\u001b[39;49m\u001b[38;5;124;43m\"\u001b[39;49m\u001b[38;5;124;43mTEST_KERNEL\u001b[39;49m\u001b[38;5;124;43m\"\u001b[39;49m\u001b[43m)\u001b[49m\n\u001b[1;32m    195\u001b[0m \u001b[38;5;28mself\u001b[39m\u001b[38;5;241m.\u001b[39mK_test \u001b[38;5;241m=\u001b[39m K_test\n\u001b[1;32m    196\u001b[0m \u001b[38;5;66;03m# Predict using the trained SVM\u001b[39;00m\n",
      "File \u001b[0;32m/media/HDD/danlb/projects_4TB/temporal_kernel/Quantum_temporal_kernel/SVM_models/QuantumSVM.py:162\u001b[0m, in \u001b[0;36mQuantumSVM.build_kernel_matrix\u001b[0;34m(self, DATASET1, DATASET2, TYPE)\u001b[0m\n\u001b[1;32m    160\u001b[0m         X1 \u001b[38;5;241m=\u001b[39m DATASET1[i]\n\u001b[1;32m    161\u001b[0m         X2 \u001b[38;5;241m=\u001b[39m DATASET2[j]\n\u001b[0;32m--> 162\u001b[0m         similarity_score \u001b[38;5;241m=\u001b[39m \u001b[38;5;28;43mself\u001b[39;49m\u001b[38;5;241;43m.\u001b[39;49m\u001b[43mevaluate_similarity\u001b[49m\u001b[43m(\u001b[49m\u001b[43mX1\u001b[49m\u001b[43m,\u001b[49m\u001b[43m \u001b[49m\u001b[43mX2\u001b[49m\u001b[43m)\u001b[49m\n\u001b[1;32m    163\u001b[0m         similarity_matrix[i, j] \u001b[38;5;241m=\u001b[39m similarity_score\n\u001b[1;32m    164\u001b[0m \u001b[38;5;28;01melse\u001b[39;00m:\n",
      "File \u001b[0;32m/media/HDD/danlb/projects_4TB/temporal_kernel/Quantum_temporal_kernel/SVM_models/QuantumSVM.py:119\u001b[0m, in \u001b[0;36mQuantumSVM.evaluate_similarity\u001b[0;34m(self, x1, x2)\u001b[0m\n\u001b[1;32m    116\u001b[0m \u001b[38;5;28;01mfor\u001b[39;00m t \u001b[38;5;129;01min\u001b[39;00m \u001b[38;5;28mrange\u001b[39m(\u001b[38;5;28mself\u001b[39m\u001b[38;5;241m.\u001b[39mlength):\n\u001b[1;32m    117\u001b[0m     \u001b[38;5;28;01mif\u001b[39;00m \u001b[38;5;28mself\u001b[39m\u001b[38;5;241m.\u001b[39malphas[t] \u001b[38;5;241m>\u001b[39m \u001b[38;5;241m0\u001b[39m:\n\u001b[1;32m    118\u001b[0m         \u001b[38;5;66;03m# Create the two quantum states |ψ⟩ and |φ⟩\u001b[39;00m\n\u001b[0;32m--> 119\u001b[0m         psi \u001b[38;5;241m=\u001b[39m \u001b[38;5;28;43mself\u001b[39;49m\u001b[38;5;241;43m.\u001b[39;49m\u001b[43membedding\u001b[49m\u001b[43m(\u001b[49m\u001b[43mx1\u001b[49m\u001b[43m,\u001b[49m\u001b[43m \u001b[49m\u001b[43mt\u001b[49m\u001b[43m)\u001b[49m\n\u001b[1;32m    120\u001b[0m         phi \u001b[38;5;241m=\u001b[39m \u001b[38;5;28mself\u001b[39m\u001b[38;5;241m.\u001b[39membedding(x2, t)\n\u001b[1;32m    121\u001b[0m         \u001b[38;5;66;03m# Inverse of psi\u001b[39;00m\n",
      "File \u001b[0;32m/media/HDD/danlb/projects_4TB/temporal_kernel/Quantum_temporal_kernel/SVM_models/QuantumSVM.py:90\u001b[0m, in \u001b[0;36mQuantumSVM.embedding\u001b[0;34m(self, x, t)\u001b[0m\n\u001b[1;32m     87\u001b[0m \u001b[38;5;250m\u001b[39m\u001b[38;5;124;03m\"\"\"Default data embedding method.\"\"\"\u001b[39;00m\n\u001b[1;32m     88\u001b[0m qc \u001b[38;5;241m=\u001b[39m QuantumCircuit(\u001b[38;5;28mself\u001b[39m\u001b[38;5;241m.\u001b[39mn_qubits)\n\u001b[0;32m---> 90\u001b[0m U \u001b[38;5;241m=\u001b[39m \u001b[43mexpm\u001b[49m\u001b[43m(\u001b[49m\u001b[38;5;241;43m-\u001b[39;49m\u001b[38;5;241;43m1\u001b[39;49m\u001b[43mj\u001b[49m\u001b[43m \u001b[49m\u001b[38;5;241;43m*\u001b[39;49m\u001b[43m \u001b[49m\u001b[38;5;28;43mself\u001b[39;49m\u001b[38;5;241;43m.\u001b[39;49m\u001b[43mH\u001b[49m\u001b[43m \u001b[49m\u001b[38;5;241;43m*\u001b[39;49m\u001b[43m \u001b[49m\u001b[38;5;241;43m2\u001b[39;49m\u001b[43m \u001b[49m\u001b[38;5;241;43m*\u001b[39;49m\u001b[43m \u001b[49m\u001b[43mnp\u001b[49m\u001b[38;5;241;43m.\u001b[39;49m\u001b[43mpi\u001b[49m\u001b[43m \u001b[49m\u001b[38;5;241;43m*\u001b[39;49m\u001b[43m \u001b[49m\u001b[43mt\u001b[49m\u001b[43m \u001b[49m\u001b[38;5;241;43m/\u001b[39;49m\u001b[43m \u001b[49m\u001b[38;5;28;43mself\u001b[39;49m\u001b[38;5;241;43m.\u001b[39;49m\u001b[43mlength\u001b[49m\u001b[43m)\u001b[49m\n\u001b[1;32m     91\u001b[0m qc\u001b[38;5;241m.\u001b[39munitary(Operator(U), \u001b[38;5;28mrange\u001b[39m(\u001b[38;5;28mself\u001b[39m\u001b[38;5;241m.\u001b[39mn_qubits))\n\u001b[1;32m     93\u001b[0m \u001b[38;5;28;01mif\u001b[39;00m \u001b[38;5;28mself\u001b[39m\u001b[38;5;241m.\u001b[39membedding_code \u001b[38;5;241m==\u001b[39m \u001b[38;5;124m\"\u001b[39m\u001b[38;5;124meuler\u001b[39m\u001b[38;5;124m\"\u001b[39m:\n",
      "File \u001b[0;32m/media/HDD/danlb/projects_4TB/temporal_kernel/venv/lib/python3.11/site-packages/scipy/linalg/_matfuncs.py:328\u001b[0m, in \u001b[0;36mexpm\u001b[0;34m(A)\u001b[0m\n\u001b[1;32m    325\u001b[0m \u001b[38;5;28;01mif\u001b[39;00m s \u001b[38;5;241m!=\u001b[39m \u001b[38;5;241m0\u001b[39m:  \u001b[38;5;66;03m# scaling needed\u001b[39;00m\n\u001b[1;32m    326\u001b[0m     Am[:\u001b[38;5;241m4\u001b[39m] \u001b[38;5;241m*\u001b[39m\u001b[38;5;241m=\u001b[39m [[[\u001b[38;5;241m2\u001b[39m\u001b[38;5;241m*\u001b[39m\u001b[38;5;241m*\u001b[39m(\u001b[38;5;241m-\u001b[39ms)]], [[\u001b[38;5;241m4\u001b[39m\u001b[38;5;241m*\u001b[39m\u001b[38;5;241m*\u001b[39m(\u001b[38;5;241m-\u001b[39ms)]], [[\u001b[38;5;241m16\u001b[39m\u001b[38;5;241m*\u001b[39m\u001b[38;5;241m*\u001b[39m(\u001b[38;5;241m-\u001b[39ms)]], [[\u001b[38;5;241m64\u001b[39m\u001b[38;5;241m*\u001b[39m\u001b[38;5;241m*\u001b[39m(\u001b[38;5;241m-\u001b[39ms)]]]\n\u001b[0;32m--> 328\u001b[0m \u001b[43mpade_UV_calc\u001b[49m\u001b[43m(\u001b[49m\u001b[43mAm\u001b[49m\u001b[43m,\u001b[49m\u001b[43m \u001b[49m\u001b[43mn\u001b[49m\u001b[43m,\u001b[49m\u001b[43m \u001b[49m\u001b[43mm\u001b[49m\u001b[43m)\u001b[49m\n\u001b[1;32m    329\u001b[0m eAw \u001b[38;5;241m=\u001b[39m Am[\u001b[38;5;241m0\u001b[39m]\n\u001b[1;32m    331\u001b[0m \u001b[38;5;28;01mif\u001b[39;00m s \u001b[38;5;241m!=\u001b[39m \u001b[38;5;241m0\u001b[39m:  \u001b[38;5;66;03m# squaring needed\u001b[39;00m\n",
      "\u001b[0;31mKeyboardInterrupt\u001b[0m: "
     ]
    }
   ],
   "source": [
    "from time import sleep\n",
    "\n",
    "for SEED in SEEDS:\n",
    "\n",
    "    random.seed(SEED)\n",
    "\n",
    "    test_labels, val_labels, test_features, val_features = train_test_split(INITIAL_TEST_LABELS, INITIAL_TEST_FEATURES, test_size=0.33, random_state=SEED)\n",
    "\n",
    "    fixed_alphas = generate_random_alphas()\n",
    "\n",
    "    def objective_function(**kwargs):\n",
    "        # Convert kwargs to a coefficient array\n",
    "        coefficients = np.array([kwargs[f\"coeff_{i}\"] for i in range(4**CONFIG[\"N_QUBITS\"])])\n",
    "        #print(\"Coefficients:\", coefficients)\n",
    "        # Fit the QuantumSVM model with the generated Hamiltonian\n",
    "        quantum_svm = QuantumSVM(n_qubits=CONFIG[\"N_QUBITS\"], Hamiltonian_c=coefficients, alphas_c=fixed_alphas, embedding_code=CONFIG[\"ENCODING\"], sparsity_coefficient=CONFIG[\"SPARSITY\"])\n",
    "        quantum_svm.fit(train_features, train_labels)\n",
    "        \n",
    "        y_val = quantum_svm.predict(val_features)\n",
    "        K_val = quantum_svm.K_test\n",
    "\n",
    "        target_kernel = np.outer(val_labels, val_labels)\n",
    "        \n",
    "\n",
    "        alignment_score = target_kernel_alignment(K_val, target_kernel)\n",
    "        return alignment_score\n",
    "\n",
    "\n",
    "    pbounds = {f\"coeff_{i}\": (0, 1) for i in range(4**CONFIG[\"N_QUBITS\"])}\n",
    "\n",
    "    # Initialize Bayesian Optimizer\n",
    "    optimizer = BayesianOptimization(\n",
    "        f=objective_function,\n",
    "        pbounds=pbounds,\n",
    "        random_state=42,\n",
    "        verbose=2\n",
    "    )\n",
    "\n",
    "    optimizer.maximize(\n",
    "        init_points=5,  # Number of random initial points\n",
    "        n_iter=OPT_TIMES-5        # Number of optimization steps\n",
    "    )\n",
    "    # Retrieve the best coefficients\n",
    "    best_coefficients = [optimizer.max[\"params\"][f\"coeff_{i}\"] for i in range(4**CONFIG[\"N_QUBITS\"])]\n",
    "\n",
    "    print(\"Best Coefficients:\", best_coefficients)\n",
    "    print(\"Best Val Accuracy:\", optimizer.max[\"target\"])\n",
    "\n",
    "    quantum_svm = QuantumSVM(n_qubits=CONFIG[\"N_QUBITS\"], Hamiltonian_c=best_coefficients, alphas_c=fixed_alphas, embedding_code=CONFIG[\"ENCODING\"], sparsity_coefficient=CONFIG[\"SPARSITY\"])\n",
    "\n",
    "    quantum_svm.fit(train_features, train_labels)\n",
    "    y_train = quantum_svm.predict_on_train()\n",
    "    train_accuracy = accuracy_score(train_labels, y_train)\n",
    "    print(f\"Train Accuracy: {train_accuracy}\")\n",
    "\n",
    "    y_val = quantum_svm.predict(val_features)\n",
    "    val_accuracy = accuracy_score(val_labels, y_val)\n",
    "    print(f\"Validation Accuracy: {val_accuracy}\")\n",
    "\n",
    "    y_test = quantum_svm.predict(test_features)\n",
    "    accuracy = accuracy_score(test_labels, y_test)\n",
    "    print(f\"Test Accuracy: {accuracy}\")\n",
    "\n",
    "\n",
    "    # now I want to save the model Hamiltonian_c and hidden_alphas\n",
    "    print(\"Saving model...\")\n",
    "    Hamiltonian_c = quantum_svm.Hamiltonian_c\n",
    "    hidden_alphas = quantum_svm.hidden_alphas\n",
    "\n",
    "    #print(\"Hamiltonian_c: \", Hamiltonian_c)\n",
    "    #print(\"hidden_alphas: \", hidden_alphas)\n",
    "    save_results(EXP, CONFIG[\"ENCODING\"], SEED, train_accuracy, val_accuracy, accuracy, Hamiltonian_c, hidden_alphas)"
   ]
  }
 ],
 "metadata": {
  "kernelspec": {
   "display_name": "venv",
   "language": "python",
   "name": "python3"
  },
  "language_info": {
   "codemirror_mode": {
    "name": "ipython",
    "version": 3
   },
   "file_extension": ".py",
   "mimetype": "text/x-python",
   "name": "python",
   "nbconvert_exporter": "python",
   "pygments_lexer": "ipython3",
   "version": "3.11.5"
  }
 },
 "nbformat": 4,
 "nbformat_minor": 2
}
