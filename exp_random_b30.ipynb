{
 "cells": [
  {
   "cell_type": "code",
   "execution_count": 11,
   "metadata": {},
   "outputs": [],
   "source": [
    "import seaborn as sns\n",
    "import matplotlib.pyplot as plt\n",
    "import numpy as np\n",
    "import pandas as pd\n",
    "from dtaidistance import dtw\n",
    "import itertools\n",
    "from tqdm import tqdm\n",
    "from sklearn.model_selection import train_test_split\n",
    "from sklearn.svm import OneClassSVM\n",
    "from sklearn.metrics import accuracy_score\n",
    "from sklearn.preprocessing import StandardScaler\n",
    "\n",
    "import os\n",
    "import random\n",
    "\n",
    "from SVM_models.models import evaluate_binary_SVM_standard, evaluate_binary_SVM_custom\n",
    "\n",
    "# import GunPoint dataset from GunPoint/GunPoint_test.txt and GunPoint/GunPoint_train.txt\n",
    "\n",
    "\n",
    "def load_dataset(file_path):\n",
    "    with open(file_path) as f:\n",
    "        lines = f.readlines()\n",
    "    # Parse each line, separating the label and features\n",
    "    labels = []\n",
    "    features = []\n",
    "    for line in lines:\n",
    "        values = list(map(float, line.strip().split()))\n",
    "        labels.append(int(values[0])-1)  # First value is the label, cast to int\n",
    "        features.append(values[1:])    # Remaining values are features\n",
    "    # Convert lists to numpy arrays for easier handling\n",
    "    labels = np.array(labels)\n",
    "    features = np.array(features)\n",
    "    # normalize dataset to 0 1\n",
    "    features = (features - features.min()) / (features.max() - features.min())\n",
    "    return labels, features\n",
    "\n",
    "# Load the GunPoint dataset\n",
    "train_path = os.path.join(\"GunPoint\", \"GunPoint_TRAIN.txt\")\n",
    "test_path = os.path.join(\"GunPoint\", \"GunPoint_TEST.txt\")\n",
    "\n",
    "train_labels, train_features = load_dataset(train_path)\n",
    "INITIAL_TEST_LABELS, INITIAL_TEST_FEATURES = load_dataset(test_path)\n",
    "\n",
    "# split test in validation (50) and test (100)\n",
    "\n"
   ]
  },
  {
   "cell_type": "code",
   "execution_count": 12,
   "metadata": {},
   "outputs": [],
   "source": [
    "EXPS = [\n",
    "    \"RANDOM\",\n",
    "    \"RANDOM_BEST\",\n",
    "    \"BAYESIAN_HAMILTONIAN\",\n",
    "    \"BAYESIAN_MODEL\",\n",
    "]\n",
    "\n",
    "OPT_TIMES = 30\n",
    "\n",
    "CONFIG = {\n",
    "    \"N_QUBITS\": 2,\n",
    "    \"SPARSITY\": 0.95,\n",
    "    \"ENCODING\": \"euler\",\n",
    "}\n",
    "\n",
    "SEEDS = [1, 2, 3, 4, 5, 6, 7, 8, 9]\n",
    "EXP = \"RANDOM_BEST\"\n"
   ]
  },
  {
   "cell_type": "code",
   "execution_count": 13,
   "metadata": {},
   "outputs": [],
   "source": [
    "\n",
    "def save_results(EXP, encoding, seed, train_accuracy, val_accuracy, test_accuracy, Hamiltonian_c, hidden_alphas):\n",
    "    # Create folder structure\n",
    "    folder_name = f\"{EXP}__{encoding}\"\n",
    "    seed_folder = os.path.join(\"exps_results\", folder_name, f\"exp_{seed}\")\n",
    "    os.makedirs(seed_folder, exist_ok=True)\n",
    "\n",
    "    # Save configuration and OPT_TIMES to a text file\n",
    "    with open(os.path.join(seed_folder, \"config.txt\"), \"w\") as f:\n",
    "        f.write(f\"Experiment: {EXP}\\n\")\n",
    "        f.write(f\"Encoding: {encoding}\\n\")\n",
    "        f.write(f\"Number of Qubits: {CONFIG['N_QUBITS']}\\n\")\n",
    "        f.write(f\"Sparsity Coefficient: {CONFIG['SPARSITY']}\\n\")\n",
    "        f.write(f\"OPT_TIMES: {OPT_TIMES}\\n\")\n",
    "\n",
    "    # Save train, validation, and test accuracy\n",
    "    with open(os.path.join(seed_folder, \"train_accuracy.txt\"), \"w\") as f:\n",
    "        f.write(f\"Train Accuracy: {train_accuracy}\\n\")\n",
    "    \n",
    "    with open(os.path.join(seed_folder, \"val_accuracy.txt\"), \"w\") as f:\n",
    "        f.write(f\"Validation Accuracy: {val_accuracy}\\n\")\n",
    "\n",
    "    with open(os.path.join(seed_folder, \"test_accuracy.txt\"), \"w\") as f:\n",
    "        f.write(f\"Test Accuracy: {test_accuracy}\\n\")\n",
    "\n",
    "    # Save Hamiltonian_c and hidden_alphas\n",
    "    with open(os.path.join(seed_folder, \"Hamiltonian_c.txt\"), \"w\") as f:\n",
    "        f.write(str(Hamiltonian_c))\n",
    "\n",
    "    with open(os.path.join(seed_folder, \"hidden_alphas.txt\"), \"w\") as f:\n",
    "        f.write(str(hidden_alphas))\n"
   ]
  },
  {
   "cell_type": "code",
   "execution_count": 14,
   "metadata": {},
   "outputs": [],
   "source": [
    "from SVM_models.QuantumSVM import QuantumSVM\n",
    "from sklearn.metrics import accuracy_score"
   ]
  },
  {
   "cell_type": "code",
   "execution_count": 15,
   "metadata": {},
   "outputs": [
    {
     "name": "stdout",
     "output_type": "stream",
     "text": [
      "Seed: 1 - Try: 0\n",
      "\n",
      "Generating random coefficients for the Hamiltonian...\n",
      "\n",
      "Generating random alphas...\n",
      "Non-zero alphas: 12\n"
     ]
    },
    {
     "name": "stderr",
     "output_type": "stream",
     "text": [
      "Building TRAIN_KERNEL: 100%|██████████| 1225/1225 [01:22<00:00, 14.87it/s]\n"
     ]
    },
    {
     "name": "stdout",
     "output_type": "stream",
     "text": [
      "Train Accuracy: 0.76\n"
     ]
    },
    {
     "name": "stderr",
     "output_type": "stream",
     "text": [
      "Building TEST_KERNEL: 100%|██████████| 2500/2500 [02:44<00:00, 15.15it/s]\n"
     ]
    },
    {
     "name": "stdout",
     "output_type": "stream",
     "text": [
      "Validation Accuracy: 0.78\n",
      "Seed: 1 - Try: 1\n",
      "\n",
      "Generating random coefficients for the Hamiltonian...\n",
      "\n",
      "Generating random alphas...\n",
      "Non-zero alphas: 6\n"
     ]
    },
    {
     "name": "stderr",
     "output_type": "stream",
     "text": [
      "Building TRAIN_KERNEL: 100%|██████████| 1225/1225 [00:38<00:00, 31.95it/s]\n"
     ]
    },
    {
     "name": "stdout",
     "output_type": "stream",
     "text": [
      "Train Accuracy: 0.52\n"
     ]
    },
    {
     "name": "stderr",
     "output_type": "stream",
     "text": [
      "Building TEST_KERNEL: 100%|██████████| 2500/2500 [01:26<00:00, 28.86it/s]\n"
     ]
    },
    {
     "name": "stdout",
     "output_type": "stream",
     "text": [
      "Validation Accuracy: 0.48\n",
      "Seed: 1 - Try: 2\n",
      "\n",
      "Generating random coefficients for the Hamiltonian...\n",
      "\n",
      "Generating random alphas...\n",
      "Non-zero alphas: 9\n"
     ]
    },
    {
     "name": "stderr",
     "output_type": "stream",
     "text": [
      "Building TRAIN_KERNEL: 100%|██████████| 1225/1225 [01:02<00:00, 19.65it/s]\n"
     ]
    },
    {
     "name": "stdout",
     "output_type": "stream",
     "text": [
      "Train Accuracy: 0.82\n"
     ]
    },
    {
     "name": "stderr",
     "output_type": "stream",
     "text": [
      "Building TEST_KERNEL: 100%|██████████| 2500/2500 [02:04<00:00, 20.06it/s]\n"
     ]
    },
    {
     "name": "stdout",
     "output_type": "stream",
     "text": [
      "Validation Accuracy: 0.72\n",
      "Seed: 1 - Try: 3\n",
      "\n",
      "Generating random coefficients for the Hamiltonian...\n",
      "\n",
      "Generating random alphas...\n",
      "Non-zero alphas: 8\n"
     ]
    },
    {
     "name": "stderr",
     "output_type": "stream",
     "text": [
      "Building TRAIN_KERNEL: 100%|██████████| 1225/1225 [00:56<00:00, 21.65it/s]\n"
     ]
    },
    {
     "name": "stdout",
     "output_type": "stream",
     "text": [
      "Train Accuracy: 0.86\n"
     ]
    },
    {
     "name": "stderr",
     "output_type": "stream",
     "text": [
      "Building TEST_KERNEL: 100%|██████████| 2500/2500 [01:50<00:00, 22.61it/s]\n"
     ]
    },
    {
     "name": "stdout",
     "output_type": "stream",
     "text": [
      "Validation Accuracy: 0.58\n",
      "Seed: 1 - Try: 4\n",
      "\n",
      "Generating random coefficients for the Hamiltonian...\n",
      "\n",
      "Generating random alphas...\n",
      "Non-zero alphas: 6\n"
     ]
    },
    {
     "name": "stderr",
     "output_type": "stream",
     "text": [
      "Building TRAIN_KERNEL: 100%|██████████| 1225/1225 [00:43<00:00, 28.31it/s]\n"
     ]
    },
    {
     "name": "stdout",
     "output_type": "stream",
     "text": [
      "Train Accuracy: 0.56\n"
     ]
    },
    {
     "name": "stderr",
     "output_type": "stream",
     "text": [
      "Building TEST_KERNEL: 100%|██████████| 2500/2500 [01:23<00:00, 29.98it/s]\n"
     ]
    },
    {
     "name": "stdout",
     "output_type": "stream",
     "text": [
      "Validation Accuracy: 0.38\n",
      "Seed: 1 - Try: 5\n",
      "\n",
      "Generating random coefficients for the Hamiltonian...\n",
      "\n",
      "Generating random alphas...\n",
      "Non-zero alphas: 6\n"
     ]
    },
    {
     "name": "stderr",
     "output_type": "stream",
     "text": [
      "Building TRAIN_KERNEL: 100%|██████████| 1225/1225 [00:41<00:00, 29.77it/s]\n"
     ]
    },
    {
     "name": "stdout",
     "output_type": "stream",
     "text": [
      "Train Accuracy: 0.64\n"
     ]
    },
    {
     "name": "stderr",
     "output_type": "stream",
     "text": [
      "Building TEST_KERNEL: 100%|██████████| 2500/2500 [01:24<00:00, 29.52it/s]\n"
     ]
    },
    {
     "name": "stdout",
     "output_type": "stream",
     "text": [
      "Validation Accuracy: 0.48\n",
      "Seed: 1 - Try: 6\n",
      "\n",
      "Generating random coefficients for the Hamiltonian...\n",
      "\n",
      "Generating random alphas...\n",
      "Non-zero alphas: 9\n"
     ]
    },
    {
     "name": "stderr",
     "output_type": "stream",
     "text": [
      "Building TRAIN_KERNEL: 100%|██████████| 1225/1225 [01:02<00:00, 19.66it/s]\n"
     ]
    },
    {
     "name": "stdout",
     "output_type": "stream",
     "text": [
      "Train Accuracy: 0.54\n"
     ]
    },
    {
     "name": "stderr",
     "output_type": "stream",
     "text": [
      "Building TEST_KERNEL: 100%|██████████| 2500/2500 [02:04<00:00, 20.14it/s]\n"
     ]
    },
    {
     "name": "stdout",
     "output_type": "stream",
     "text": [
      "Validation Accuracy: 0.48\n",
      "Seed: 1 - Try: 7\n",
      "\n",
      "Generating random coefficients for the Hamiltonian...\n",
      "\n",
      "Generating random alphas...\n",
      "Non-zero alphas: 7\n"
     ]
    },
    {
     "name": "stderr",
     "output_type": "stream",
     "text": [
      "Building TRAIN_KERNEL: 100%|██████████| 1225/1225 [00:48<00:00, 25.41it/s]\n"
     ]
    },
    {
     "name": "stdout",
     "output_type": "stream",
     "text": [
      "Train Accuracy: 0.82\n"
     ]
    },
    {
     "name": "stderr",
     "output_type": "stream",
     "text": [
      "Building TEST_KERNEL: 100%|██████████| 2500/2500 [01:43<00:00, 24.26it/s]\n"
     ]
    },
    {
     "name": "stdout",
     "output_type": "stream",
     "text": [
      "Validation Accuracy: 0.72\n",
      "Seed: 1 - Try: 8\n",
      "\n",
      "Generating random coefficients for the Hamiltonian...\n",
      "\n",
      "Generating random alphas...\n",
      "Non-zero alphas: 8\n"
     ]
    },
    {
     "name": "stderr",
     "output_type": "stream",
     "text": [
      "Building TRAIN_KERNEL: 100%|██████████| 1225/1225 [00:55<00:00, 22.09it/s]\n"
     ]
    },
    {
     "name": "stdout",
     "output_type": "stream",
     "text": [
      "Train Accuracy: 0.62\n"
     ]
    },
    {
     "name": "stderr",
     "output_type": "stream",
     "text": [
      "Building TEST_KERNEL: 100%|██████████| 2500/2500 [01:52<00:00, 22.21it/s]\n"
     ]
    },
    {
     "name": "stdout",
     "output_type": "stream",
     "text": [
      "Validation Accuracy: 0.5\n",
      "Seed: 1 - Try: 9\n",
      "\n",
      "Generating random coefficients for the Hamiltonian...\n",
      "\n",
      "Generating random alphas...\n",
      "Non-zero alphas: 8\n"
     ]
    },
    {
     "name": "stderr",
     "output_type": "stream",
     "text": [
      "Building TRAIN_KERNEL: 100%|██████████| 1225/1225 [00:54<00:00, 22.45it/s]\n"
     ]
    },
    {
     "name": "stdout",
     "output_type": "stream",
     "text": [
      "Train Accuracy: 0.76\n"
     ]
    },
    {
     "name": "stderr",
     "output_type": "stream",
     "text": [
      "Building TEST_KERNEL: 100%|██████████| 2500/2500 [01:43<00:00, 24.27it/s]\n"
     ]
    },
    {
     "name": "stdout",
     "output_type": "stream",
     "text": [
      "Validation Accuracy: 0.74\n",
      "Seed: 1 - Try: 10\n",
      "\n",
      "Generating random coefficients for the Hamiltonian...\n",
      "\n",
      "Generating random alphas...\n",
      "Non-zero alphas: 4\n"
     ]
    },
    {
     "name": "stderr",
     "output_type": "stream",
     "text": [
      "Building TRAIN_KERNEL: 100%|██████████| 1225/1225 [00:26<00:00, 45.57it/s]\n"
     ]
    },
    {
     "name": "stdout",
     "output_type": "stream",
     "text": [
      "Train Accuracy: 0.76\n"
     ]
    },
    {
     "name": "stderr",
     "output_type": "stream",
     "text": [
      "Building TEST_KERNEL: 100%|██████████| 2500/2500 [00:51<00:00, 48.69it/s]\n"
     ]
    },
    {
     "name": "stdout",
     "output_type": "stream",
     "text": [
      "Validation Accuracy: 0.78\n",
      "Seed: 1 - Try: 11\n",
      "\n",
      "Generating random coefficients for the Hamiltonian...\n",
      "\n",
      "Generating random alphas...\n",
      "Non-zero alphas: 10\n"
     ]
    },
    {
     "name": "stderr",
     "output_type": "stream",
     "text": [
      "Building TRAIN_KERNEL: 100%|██████████| 1225/1225 [01:02<00:00, 19.59it/s]\n"
     ]
    },
    {
     "name": "stdout",
     "output_type": "stream",
     "text": [
      "Train Accuracy: 0.76\n"
     ]
    },
    {
     "name": "stderr",
     "output_type": "stream",
     "text": [
      "Building TEST_KERNEL: 100%|██████████| 2500/2500 [02:06<00:00, 19.76it/s]\n"
     ]
    },
    {
     "name": "stdout",
     "output_type": "stream",
     "text": [
      "Validation Accuracy: 0.76\n",
      "Seed: 1 - Try: 12\n",
      "\n",
      "Generating random coefficients for the Hamiltonian...\n",
      "\n",
      "Generating random alphas...\n",
      "Non-zero alphas: 8\n"
     ]
    },
    {
     "name": "stderr",
     "output_type": "stream",
     "text": [
      "Building TRAIN_KERNEL: 100%|██████████| 1225/1225 [00:51<00:00, 23.91it/s]\n"
     ]
    },
    {
     "name": "stdout",
     "output_type": "stream",
     "text": [
      "Train Accuracy: 0.76\n"
     ]
    },
    {
     "name": "stderr",
     "output_type": "stream",
     "text": [
      "Building TEST_KERNEL: 100%|██████████| 2500/2500 [01:42<00:00, 24.30it/s]\n"
     ]
    },
    {
     "name": "stdout",
     "output_type": "stream",
     "text": [
      "Validation Accuracy: 0.76\n",
      "Seed: 1 - Try: 13\n",
      "\n",
      "Generating random coefficients for the Hamiltonian...\n",
      "\n",
      "Generating random alphas...\n",
      "Non-zero alphas: 6\n"
     ]
    },
    {
     "name": "stderr",
     "output_type": "stream",
     "text": [
      "Building TRAIN_KERNEL: 100%|██████████| 1225/1225 [00:38<00:00, 31.58it/s]\n"
     ]
    },
    {
     "name": "stdout",
     "output_type": "stream",
     "text": [
      "Train Accuracy: 0.74\n"
     ]
    },
    {
     "name": "stderr",
     "output_type": "stream",
     "text": [
      "Building TEST_KERNEL: 100%|██████████| 2500/2500 [01:16<00:00, 32.67it/s]\n"
     ]
    },
    {
     "name": "stdout",
     "output_type": "stream",
     "text": [
      "Validation Accuracy: 0.74\n",
      "Seed: 1 - Try: 14\n",
      "\n",
      "Generating random coefficients for the Hamiltonian...\n",
      "\n",
      "Generating random alphas...\n",
      "Non-zero alphas: 5\n"
     ]
    },
    {
     "name": "stderr",
     "output_type": "stream",
     "text": [
      "Building TRAIN_KERNEL: 100%|██████████| 1225/1225 [00:31<00:00, 38.59it/s]\n"
     ]
    },
    {
     "name": "stdout",
     "output_type": "stream",
     "text": [
      "Train Accuracy: 0.66\n"
     ]
    },
    {
     "name": "stderr",
     "output_type": "stream",
     "text": [
      "Building TEST_KERNEL: 100%|██████████| 2500/2500 [01:03<00:00, 39.42it/s]\n"
     ]
    },
    {
     "name": "stdout",
     "output_type": "stream",
     "text": [
      "Validation Accuracy: 0.4\n",
      "Seed: 1 - Try: 15\n",
      "\n",
      "Generating random coefficients for the Hamiltonian...\n",
      "\n",
      "Generating random alphas...\n",
      "Non-zero alphas: 10\n"
     ]
    },
    {
     "name": "stderr",
     "output_type": "stream",
     "text": [
      "Building TRAIN_KERNEL: 100%|██████████| 1225/1225 [01:02<00:00, 19.76it/s]\n"
     ]
    },
    {
     "name": "stdout",
     "output_type": "stream",
     "text": [
      "Train Accuracy: 0.74\n"
     ]
    },
    {
     "name": "stderr",
     "output_type": "stream",
     "text": [
      "Building TEST_KERNEL: 100%|██████████| 2500/2500 [02:05<00:00, 19.97it/s]\n"
     ]
    },
    {
     "name": "stdout",
     "output_type": "stream",
     "text": [
      "Validation Accuracy: 0.52\n",
      "Seed: 1 - Try: 16\n",
      "\n",
      "Generating random coefficients for the Hamiltonian...\n",
      "\n",
      "Generating random alphas...\n",
      "Non-zero alphas: 8\n"
     ]
    },
    {
     "name": "stderr",
     "output_type": "stream",
     "text": [
      "Building TRAIN_KERNEL: 100%|██████████| 1225/1225 [00:50<00:00, 24.10it/s]\n"
     ]
    },
    {
     "name": "stdout",
     "output_type": "stream",
     "text": [
      "Train Accuracy: 0.7\n"
     ]
    },
    {
     "name": "stderr",
     "output_type": "stream",
     "text": [
      "Building TEST_KERNEL: 100%|██████████| 2500/2500 [01:41<00:00, 24.71it/s]\n"
     ]
    },
    {
     "name": "stdout",
     "output_type": "stream",
     "text": [
      "Validation Accuracy: 0.52\n",
      "Seed: 1 - Try: 17\n",
      "\n",
      "Generating random coefficients for the Hamiltonian...\n",
      "\n",
      "Generating random alphas...\n",
      "Non-zero alphas: 9\n"
     ]
    },
    {
     "name": "stderr",
     "output_type": "stream",
     "text": [
      "Building TRAIN_KERNEL: 100%|██████████| 1225/1225 [00:58<00:00, 21.03it/s]\n"
     ]
    },
    {
     "name": "stdout",
     "output_type": "stream",
     "text": [
      "Train Accuracy: 0.84\n"
     ]
    },
    {
     "name": "stderr",
     "output_type": "stream",
     "text": [
      "Building TEST_KERNEL: 100%|██████████| 2500/2500 [01:53<00:00, 22.07it/s]\n"
     ]
    },
    {
     "name": "stdout",
     "output_type": "stream",
     "text": [
      "Validation Accuracy: 0.7\n",
      "Seed: 1 - Try: 18\n",
      "\n",
      "Generating random coefficients for the Hamiltonian...\n",
      "\n",
      "Generating random alphas...\n",
      "Non-zero alphas: 5\n"
     ]
    },
    {
     "name": "stderr",
     "output_type": "stream",
     "text": [
      "Building TRAIN_KERNEL: 100%|██████████| 1225/1225 [00:32<00:00, 37.99it/s]\n"
     ]
    },
    {
     "name": "stdout",
     "output_type": "stream",
     "text": [
      "Train Accuracy: 0.76\n"
     ]
    },
    {
     "name": "stderr",
     "output_type": "stream",
     "text": [
      "Building TEST_KERNEL: 100%|██████████| 2500/2500 [01:03<00:00, 39.47it/s]\n"
     ]
    },
    {
     "name": "stdout",
     "output_type": "stream",
     "text": [
      "Validation Accuracy: 0.74\n",
      "Seed: 1 - Try: 19\n",
      "\n",
      "Generating random coefficients for the Hamiltonian...\n",
      "\n",
      "Generating random alphas...\n",
      "Non-zero alphas: 7\n"
     ]
    },
    {
     "name": "stderr",
     "output_type": "stream",
     "text": [
      "Building TRAIN_KERNEL: 100%|██████████| 1225/1225 [00:45<00:00, 27.12it/s]\n"
     ]
    },
    {
     "name": "stdout",
     "output_type": "stream",
     "text": [
      "Train Accuracy: 0.74\n"
     ]
    },
    {
     "name": "stderr",
     "output_type": "stream",
     "text": [
      "Building TEST_KERNEL: 100%|██████████| 2500/2500 [01:28<00:00, 28.25it/s]\n"
     ]
    },
    {
     "name": "stdout",
     "output_type": "stream",
     "text": [
      "Validation Accuracy: 0.68\n",
      "Seed: 1 - Try: 20\n",
      "\n",
      "Generating random coefficients for the Hamiltonian...\n",
      "\n",
      "Generating random alphas...\n",
      "Non-zero alphas: 8\n"
     ]
    },
    {
     "name": "stderr",
     "output_type": "stream",
     "text": [
      "Building TRAIN_KERNEL: 100%|██████████| 1225/1225 [00:51<00:00, 23.56it/s]\n"
     ]
    },
    {
     "name": "stdout",
     "output_type": "stream",
     "text": [
      "Train Accuracy: 0.52\n"
     ]
    },
    {
     "name": "stderr",
     "output_type": "stream",
     "text": [
      "Building TEST_KERNEL: 100%|██████████| 2500/2500 [01:43<00:00, 24.24it/s]\n"
     ]
    },
    {
     "name": "stdout",
     "output_type": "stream",
     "text": [
      "Validation Accuracy: 0.48\n",
      "Seed: 1 - Try: 21\n",
      "\n",
      "Generating random coefficients for the Hamiltonian...\n",
      "\n",
      "Generating random alphas...\n",
      "Non-zero alphas: 9\n"
     ]
    },
    {
     "name": "stderr",
     "output_type": "stream",
     "text": [
      "Building TRAIN_KERNEL: 100%|██████████| 1225/1225 [00:55<00:00, 21.88it/s]\n"
     ]
    },
    {
     "name": "stdout",
     "output_type": "stream",
     "text": [
      "Train Accuracy: 0.76\n"
     ]
    },
    {
     "name": "stderr",
     "output_type": "stream",
     "text": [
      "Building TEST_KERNEL: 100%|██████████| 2500/2500 [01:56<00:00, 21.51it/s]\n"
     ]
    },
    {
     "name": "stdout",
     "output_type": "stream",
     "text": [
      "Validation Accuracy: 0.76\n",
      "Seed: 1 - Try: 22\n",
      "\n",
      "Generating random coefficients for the Hamiltonian...\n",
      "\n",
      "Generating random alphas...\n",
      "Non-zero alphas: 7\n"
     ]
    },
    {
     "name": "stderr",
     "output_type": "stream",
     "text": [
      "Building TRAIN_KERNEL: 100%|██████████| 1225/1225 [00:42<00:00, 28.93it/s]\n"
     ]
    },
    {
     "name": "stdout",
     "output_type": "stream",
     "text": [
      "Train Accuracy: 0.78\n"
     ]
    },
    {
     "name": "stderr",
     "output_type": "stream",
     "text": [
      "Building TEST_KERNEL: 100%|██████████| 2500/2500 [01:14<00:00, 33.71it/s]\n"
     ]
    },
    {
     "name": "stdout",
     "output_type": "stream",
     "text": [
      "Validation Accuracy: 0.74\n",
      "Seed: 1 - Try: 23\n",
      "\n",
      "Generating random coefficients for the Hamiltonian...\n",
      "\n",
      "Generating random alphas...\n",
      "Non-zero alphas: 5\n"
     ]
    },
    {
     "name": "stderr",
     "output_type": "stream",
     "text": [
      "Building TRAIN_KERNEL: 100%|██████████| 1225/1225 [00:27<00:00, 44.98it/s]\n"
     ]
    },
    {
     "name": "stdout",
     "output_type": "stream",
     "text": [
      "Train Accuracy: 0.76\n"
     ]
    },
    {
     "name": "stderr",
     "output_type": "stream",
     "text": [
      "Building TEST_KERNEL: 100%|██████████| 2500/2500 [00:53<00:00, 46.54it/s]\n"
     ]
    },
    {
     "name": "stdout",
     "output_type": "stream",
     "text": [
      "Validation Accuracy: 0.74\n",
      "Seed: 1 - Try: 24\n",
      "\n",
      "Generating random coefficients for the Hamiltonian...\n",
      "\n",
      "Generating random alphas...\n",
      "Non-zero alphas: 7\n"
     ]
    },
    {
     "name": "stderr",
     "output_type": "stream",
     "text": [
      "Building TRAIN_KERNEL: 100%|██████████| 1225/1225 [00:36<00:00, 33.95it/s]\n"
     ]
    },
    {
     "name": "stdout",
     "output_type": "stream",
     "text": [
      "Train Accuracy: 0.76\n"
     ]
    },
    {
     "name": "stderr",
     "output_type": "stream",
     "text": [
      "Building TEST_KERNEL: 100%|██████████| 2500/2500 [01:13<00:00, 34.12it/s]\n"
     ]
    },
    {
     "name": "stdout",
     "output_type": "stream",
     "text": [
      "Validation Accuracy: 0.7\n",
      "Seed: 1 - Try: 25\n",
      "\n",
      "Generating random coefficients for the Hamiltonian...\n",
      "\n",
      "Generating random alphas...\n",
      "Non-zero alphas: 7\n"
     ]
    },
    {
     "name": "stderr",
     "output_type": "stream",
     "text": [
      "Building TRAIN_KERNEL: 100%|██████████| 1225/1225 [00:37<00:00, 32.53it/s]\n"
     ]
    },
    {
     "name": "stdout",
     "output_type": "stream",
     "text": [
      "Train Accuracy: 0.86\n"
     ]
    },
    {
     "name": "stderr",
     "output_type": "stream",
     "text": [
      "Building TEST_KERNEL: 100%|██████████| 2500/2500 [01:14<00:00, 33.74it/s]\n"
     ]
    },
    {
     "name": "stdout",
     "output_type": "stream",
     "text": [
      "Validation Accuracy: 0.5\n",
      "Seed: 1 - Try: 26\n",
      "\n",
      "Generating random coefficients for the Hamiltonian...\n",
      "\n",
      "Generating random alphas...\n",
      "Non-zero alphas: 7\n"
     ]
    },
    {
     "name": "stderr",
     "output_type": "stream",
     "text": [
      "Building TRAIN_KERNEL: 100%|██████████| 1225/1225 [00:36<00:00, 33.70it/s]\n"
     ]
    },
    {
     "name": "stdout",
     "output_type": "stream",
     "text": [
      "Train Accuracy: 0.64\n"
     ]
    },
    {
     "name": "stderr",
     "output_type": "stream",
     "text": [
      "Building TEST_KERNEL: 100%|██████████| 2500/2500 [01:12<00:00, 34.27it/s]\n"
     ]
    },
    {
     "name": "stdout",
     "output_type": "stream",
     "text": [
      "Validation Accuracy: 0.6\n",
      "Seed: 1 - Try: 27\n",
      "\n",
      "Generating random coefficients for the Hamiltonian...\n",
      "\n",
      "Generating random alphas...\n",
      "Non-zero alphas: 16\n"
     ]
    },
    {
     "name": "stderr",
     "output_type": "stream",
     "text": [
      "Building TRAIN_KERNEL: 100%|██████████| 1225/1225 [01:25<00:00, 14.40it/s]\n"
     ]
    },
    {
     "name": "stdout",
     "output_type": "stream",
     "text": [
      "Train Accuracy: 0.88\n"
     ]
    },
    {
     "name": "stderr",
     "output_type": "stream",
     "text": [
      "Building TEST_KERNEL: 100%|██████████| 2500/2500 [02:49<00:00, 14.79it/s]\n"
     ]
    },
    {
     "name": "stdout",
     "output_type": "stream",
     "text": [
      "Validation Accuracy: 0.84\n",
      "Seed: 1 - Try: 28\n",
      "\n",
      "Generating random coefficients for the Hamiltonian...\n",
      "\n",
      "Generating random alphas...\n",
      "Non-zero alphas: 9\n"
     ]
    },
    {
     "name": "stderr",
     "output_type": "stream",
     "text": [
      "Building TRAIN_KERNEL: 100%|██████████| 1225/1225 [00:49<00:00, 24.94it/s]\n"
     ]
    },
    {
     "name": "stdout",
     "output_type": "stream",
     "text": [
      "Train Accuracy: 0.7\n"
     ]
    },
    {
     "name": "stderr",
     "output_type": "stream",
     "text": [
      "Building TEST_KERNEL: 100%|██████████| 2500/2500 [01:36<00:00, 25.92it/s]\n"
     ]
    },
    {
     "name": "stdout",
     "output_type": "stream",
     "text": [
      "Validation Accuracy: 0.48\n",
      "Seed: 1 - Try: 29\n",
      "\n",
      "Generating random coefficients for the Hamiltonian...\n",
      "\n",
      "Generating random alphas...\n",
      "Non-zero alphas: 9\n"
     ]
    },
    {
     "name": "stderr",
     "output_type": "stream",
     "text": [
      "Building TRAIN_KERNEL: 100%|██████████| 1225/1225 [00:52<00:00, 23.24it/s]\n"
     ]
    },
    {
     "name": "stdout",
     "output_type": "stream",
     "text": [
      "Train Accuracy: 0.74\n"
     ]
    },
    {
     "name": "stderr",
     "output_type": "stream",
     "text": [
      "Building TEST_KERNEL: 100%|██████████| 2500/2500 [01:44<00:00, 24.03it/s]\n"
     ]
    },
    {
     "name": "stdout",
     "output_type": "stream",
     "text": [
      "Validation Accuracy: 0.68\n"
     ]
    },
    {
     "name": "stderr",
     "output_type": "stream",
     "text": [
      "Building TEST_KERNEL: 100%|██████████| 5000/5000 [07:07<00:00, 11.70it/s]\n"
     ]
    },
    {
     "name": "stdout",
     "output_type": "stream",
     "text": [
      "Test Accuracy: 0.83\n",
      "Saving model...\n",
      "Seed: 2 - Try: 0\n",
      "\n",
      "Generating random coefficients for the Hamiltonian...\n",
      "\n",
      "Generating random alphas...\n",
      "Non-zero alphas: 10\n"
     ]
    },
    {
     "name": "stderr",
     "output_type": "stream",
     "text": [
      "Building TRAIN_KERNEL: 100%|██████████| 1225/1225 [01:10<00:00, 17.39it/s]\n"
     ]
    },
    {
     "name": "stdout",
     "output_type": "stream",
     "text": [
      "Train Accuracy: 0.82\n"
     ]
    },
    {
     "name": "stderr",
     "output_type": "stream",
     "text": [
      "Building TEST_KERNEL: 100%|██████████| 2500/2500 [02:14<00:00, 18.60it/s]\n"
     ]
    },
    {
     "name": "stdout",
     "output_type": "stream",
     "text": [
      "Validation Accuracy: 0.82\n",
      "Seed: 2 - Try: 1\n",
      "\n",
      "Generating random coefficients for the Hamiltonian...\n",
      "\n",
      "Generating random alphas...\n",
      "Non-zero alphas: 5\n"
     ]
    },
    {
     "name": "stderr",
     "output_type": "stream",
     "text": [
      "Building TRAIN_KERNEL: 100%|██████████| 1225/1225 [00:31<00:00, 39.33it/s]\n"
     ]
    },
    {
     "name": "stdout",
     "output_type": "stream",
     "text": [
      "Train Accuracy: 0.76\n"
     ]
    },
    {
     "name": "stderr",
     "output_type": "stream",
     "text": [
      "Building TEST_KERNEL: 100%|██████████| 2500/2500 [01:16<00:00, 32.85it/s]\n"
     ]
    },
    {
     "name": "stdout",
     "output_type": "stream",
     "text": [
      "Validation Accuracy: 0.8\n",
      "Seed: 2 - Try: 2\n",
      "\n",
      "Generating random coefficients for the Hamiltonian...\n",
      "\n",
      "Generating random alphas...\n",
      "Non-zero alphas: 5\n"
     ]
    },
    {
     "name": "stderr",
     "output_type": "stream",
     "text": [
      "Building TRAIN_KERNEL: 100%|██████████| 1225/1225 [00:32<00:00, 37.99it/s]\n"
     ]
    },
    {
     "name": "stdout",
     "output_type": "stream",
     "text": [
      "Train Accuracy: 0.62\n"
     ]
    },
    {
     "name": "stderr",
     "output_type": "stream",
     "text": [
      "Building TEST_KERNEL: 100%|██████████| 2500/2500 [01:11<00:00, 34.76it/s]\n"
     ]
    },
    {
     "name": "stdout",
     "output_type": "stream",
     "text": [
      "Validation Accuracy: 0.5\n",
      "Seed: 2 - Try: 3\n",
      "\n",
      "Generating random coefficients for the Hamiltonian...\n",
      "\n",
      "Generating random alphas...\n",
      "Non-zero alphas: 7\n"
     ]
    },
    {
     "name": "stderr",
     "output_type": "stream",
     "text": [
      "Building TRAIN_KERNEL: 100%|██████████| 1225/1225 [00:48<00:00, 25.39it/s]\n"
     ]
    },
    {
     "name": "stdout",
     "output_type": "stream",
     "text": [
      "Train Accuracy: 0.76\n"
     ]
    },
    {
     "name": "stderr",
     "output_type": "stream",
     "text": [
      "Building TEST_KERNEL: 100%|██████████| 2500/2500 [01:36<00:00, 25.89it/s]\n"
     ]
    },
    {
     "name": "stdout",
     "output_type": "stream",
     "text": [
      "Validation Accuracy: 0.82\n",
      "Seed: 2 - Try: 4\n",
      "\n",
      "Generating random coefficients for the Hamiltonian...\n",
      "\n",
      "Generating random alphas...\n",
      "Non-zero alphas: 11\n"
     ]
    },
    {
     "name": "stderr",
     "output_type": "stream",
     "text": [
      "Building TRAIN_KERNEL: 100%|██████████| 1225/1225 [01:17<00:00, 15.76it/s]\n"
     ]
    },
    {
     "name": "stdout",
     "output_type": "stream",
     "text": [
      "Train Accuracy: 0.84\n"
     ]
    },
    {
     "name": "stderr",
     "output_type": "stream",
     "text": [
      "Building TEST_KERNEL: 100%|██████████| 2500/2500 [02:50<00:00, 14.68it/s]\n"
     ]
    },
    {
     "name": "stdout",
     "output_type": "stream",
     "text": [
      "Validation Accuracy: 0.74\n",
      "Seed: 2 - Try: 5\n",
      "\n",
      "Generating random coefficients for the Hamiltonian...\n",
      "\n",
      "Generating random alphas...\n",
      "Non-zero alphas: 7\n"
     ]
    },
    {
     "name": "stderr",
     "output_type": "stream",
     "text": [
      "Building TRAIN_KERNEL: 100%|██████████| 1225/1225 [00:48<00:00, 25.19it/s]\n"
     ]
    },
    {
     "name": "stdout",
     "output_type": "stream",
     "text": [
      "Train Accuracy: 0.86\n"
     ]
    },
    {
     "name": "stderr",
     "output_type": "stream",
     "text": [
      "Building TEST_KERNEL: 100%|██████████| 2500/2500 [01:39<00:00, 25.14it/s]\n"
     ]
    },
    {
     "name": "stdout",
     "output_type": "stream",
     "text": [
      "Validation Accuracy: 0.7\n",
      "Seed: 2 - Try: 6\n",
      "\n",
      "Generating random coefficients for the Hamiltonian...\n",
      "\n",
      "Generating random alphas...\n",
      "Non-zero alphas: 7\n"
     ]
    },
    {
     "name": "stderr",
     "output_type": "stream",
     "text": [
      "Building TRAIN_KERNEL: 100%|██████████| 1225/1225 [00:48<00:00, 25.44it/s]\n"
     ]
    },
    {
     "name": "stdout",
     "output_type": "stream",
     "text": [
      "Train Accuracy: 0.78\n"
     ]
    },
    {
     "name": "stderr",
     "output_type": "stream",
     "text": [
      "Building TEST_KERNEL: 100%|██████████| 2500/2500 [01:39<00:00, 25.22it/s]\n"
     ]
    },
    {
     "name": "stdout",
     "output_type": "stream",
     "text": [
      "Validation Accuracy: 0.7\n",
      "Seed: 2 - Try: 7\n",
      "\n",
      "Generating random coefficients for the Hamiltonian...\n",
      "\n",
      "Generating random alphas...\n",
      "Non-zero alphas: 14\n"
     ]
    },
    {
     "name": "stderr",
     "output_type": "stream",
     "text": [
      "Building TRAIN_KERNEL: 100%|██████████| 1225/1225 [01:36<00:00, 12.75it/s]\n"
     ]
    },
    {
     "name": "stdout",
     "output_type": "stream",
     "text": [
      "Train Accuracy: 0.86\n"
     ]
    },
    {
     "name": "stderr",
     "output_type": "stream",
     "text": [
      "Building TEST_KERNEL: 100%|██████████| 2500/2500 [03:13<00:00, 12.95it/s]\n"
     ]
    },
    {
     "name": "stdout",
     "output_type": "stream",
     "text": [
      "Validation Accuracy: 0.7\n",
      "Seed: 2 - Try: 8\n",
      "\n",
      "Generating random coefficients for the Hamiltonian...\n",
      "\n",
      "Generating random alphas...\n",
      "Non-zero alphas: 13\n"
     ]
    },
    {
     "name": "stderr",
     "output_type": "stream",
     "text": [
      "Building TRAIN_KERNEL: 100%|██████████| 1225/1225 [01:31<00:00, 13.40it/s]\n"
     ]
    },
    {
     "name": "stdout",
     "output_type": "stream",
     "text": [
      "Train Accuracy: 0.86\n"
     ]
    },
    {
     "name": "stderr",
     "output_type": "stream",
     "text": [
      "Building TEST_KERNEL: 100%|██████████| 2500/2500 [03:03<00:00, 13.64it/s]\n"
     ]
    },
    {
     "name": "stdout",
     "output_type": "stream",
     "text": [
      "Validation Accuracy: 0.78\n",
      "Seed: 2 - Try: 9\n",
      "\n",
      "Generating random coefficients for the Hamiltonian...\n",
      "\n",
      "Generating random alphas...\n",
      "Non-zero alphas: 5\n"
     ]
    },
    {
     "name": "stderr",
     "output_type": "stream",
     "text": [
      "Building TRAIN_KERNEL: 100%|██████████| 1225/1225 [00:32<00:00, 38.06it/s]\n"
     ]
    },
    {
     "name": "stdout",
     "output_type": "stream",
     "text": [
      "Train Accuracy: 0.72\n"
     ]
    },
    {
     "name": "stderr",
     "output_type": "stream",
     "text": [
      "Building TEST_KERNEL: 100%|██████████| 2500/2500 [01:14<00:00, 33.41it/s]\n"
     ]
    },
    {
     "name": "stdout",
     "output_type": "stream",
     "text": [
      "Validation Accuracy: 0.82\n",
      "Seed: 2 - Try: 10\n",
      "\n",
      "Generating random coefficients for the Hamiltonian...\n",
      "\n",
      "Generating random alphas...\n",
      "Non-zero alphas: 4\n"
     ]
    },
    {
     "name": "stderr",
     "output_type": "stream",
     "text": [
      "Building TRAIN_KERNEL: 100%|██████████| 1225/1225 [00:28<00:00, 42.54it/s]\n"
     ]
    },
    {
     "name": "stdout",
     "output_type": "stream",
     "text": [
      "Train Accuracy: 0.66\n"
     ]
    },
    {
     "name": "stderr",
     "output_type": "stream",
     "text": [
      "Building TEST_KERNEL: 100%|██████████| 2500/2500 [00:58<00:00, 42.89it/s]\n"
     ]
    },
    {
     "name": "stdout",
     "output_type": "stream",
     "text": [
      "Validation Accuracy: 0.66\n",
      "Seed: 2 - Try: 11\n",
      "\n",
      "Generating random coefficients for the Hamiltonian...\n",
      "\n",
      "Generating random alphas...\n",
      "Non-zero alphas: 7\n"
     ]
    },
    {
     "name": "stderr",
     "output_type": "stream",
     "text": [
      "Building TRAIN_KERNEL: 100%|██████████| 1225/1225 [00:47<00:00, 25.60it/s]\n"
     ]
    },
    {
     "name": "stdout",
     "output_type": "stream",
     "text": [
      "Train Accuracy: 0.82\n"
     ]
    },
    {
     "name": "stderr",
     "output_type": "stream",
     "text": [
      "Building TEST_KERNEL: 100%|██████████| 2500/2500 [01:32<00:00, 26.90it/s]\n"
     ]
    },
    {
     "name": "stdout",
     "output_type": "stream",
     "text": [
      "Validation Accuracy: 0.76\n",
      "Seed: 2 - Try: 12\n",
      "\n",
      "Generating random coefficients for the Hamiltonian...\n",
      "\n",
      "Generating random alphas...\n",
      "Non-zero alphas: 5\n"
     ]
    },
    {
     "name": "stderr",
     "output_type": "stream",
     "text": [
      "Building TRAIN_KERNEL: 100%|██████████| 1225/1225 [00:33<00:00, 36.67it/s]\n"
     ]
    },
    {
     "name": "stdout",
     "output_type": "stream",
     "text": [
      "Train Accuracy: 0.88\n"
     ]
    },
    {
     "name": "stderr",
     "output_type": "stream",
     "text": [
      "Building TEST_KERNEL: 100%|██████████| 2500/2500 [01:08<00:00, 36.46it/s]\n"
     ]
    },
    {
     "name": "stdout",
     "output_type": "stream",
     "text": [
      "Validation Accuracy: 0.72\n",
      "Seed: 2 - Try: 13\n",
      "\n",
      "Generating random coefficients for the Hamiltonian...\n",
      "\n",
      "Generating random alphas...\n",
      "Non-zero alphas: 7\n"
     ]
    },
    {
     "name": "stderr",
     "output_type": "stream",
     "text": [
      "Building TRAIN_KERNEL: 100%|██████████| 1225/1225 [00:47<00:00, 25.79it/s]\n"
     ]
    },
    {
     "name": "stdout",
     "output_type": "stream",
     "text": [
      "Train Accuracy: 0.78\n"
     ]
    },
    {
     "name": "stderr",
     "output_type": "stream",
     "text": [
      "Building TEST_KERNEL: 100%|██████████| 2500/2500 [01:33<00:00, 26.67it/s]\n"
     ]
    },
    {
     "name": "stdout",
     "output_type": "stream",
     "text": [
      "Validation Accuracy: 0.84\n",
      "Seed: 2 - Try: 14\n",
      "\n",
      "Generating random coefficients for the Hamiltonian...\n",
      "\n",
      "Generating random alphas...\n",
      "Non-zero alphas: 7\n"
     ]
    },
    {
     "name": "stderr",
     "output_type": "stream",
     "text": [
      "Building TRAIN_KERNEL: 100%|██████████| 1225/1225 [00:47<00:00, 26.04it/s]\n"
     ]
    },
    {
     "name": "stdout",
     "output_type": "stream",
     "text": [
      "Train Accuracy: 0.76\n"
     ]
    },
    {
     "name": "stderr",
     "output_type": "stream",
     "text": [
      "Building TEST_KERNEL: 100%|██████████| 2500/2500 [01:33<00:00, 26.69it/s]\n"
     ]
    },
    {
     "name": "stdout",
     "output_type": "stream",
     "text": [
      "Validation Accuracy: 0.84\n",
      "Seed: 2 - Try: 15\n",
      "\n",
      "Generating random coefficients for the Hamiltonian...\n",
      "\n",
      "Generating random alphas...\n",
      "Non-zero alphas: 6\n"
     ]
    },
    {
     "name": "stderr",
     "output_type": "stream",
     "text": [
      "Building TRAIN_KERNEL: 100%|██████████| 1225/1225 [00:38<00:00, 31.54it/s]\n"
     ]
    },
    {
     "name": "stdout",
     "output_type": "stream",
     "text": [
      "Train Accuracy: 0.8\n"
     ]
    },
    {
     "name": "stderr",
     "output_type": "stream",
     "text": [
      "Building TEST_KERNEL: 100%|██████████| 2500/2500 [01:18<00:00, 31.75it/s]\n"
     ]
    },
    {
     "name": "stdout",
     "output_type": "stream",
     "text": [
      "Validation Accuracy: 0.7\n",
      "Seed: 2 - Try: 16\n",
      "\n",
      "Generating random coefficients for the Hamiltonian...\n",
      "\n",
      "Generating random alphas...\n",
      "Non-zero alphas: 10\n"
     ]
    },
    {
     "name": "stderr",
     "output_type": "stream",
     "text": [
      "Building TRAIN_KERNEL: 100%|██████████| 1225/1225 [01:05<00:00, 18.75it/s]\n"
     ]
    },
    {
     "name": "stdout",
     "output_type": "stream",
     "text": [
      "Train Accuracy: 0.88\n"
     ]
    },
    {
     "name": "stderr",
     "output_type": "stream",
     "text": [
      "Building TEST_KERNEL: 100%|██████████| 2500/2500 [02:09<00:00, 19.37it/s]\n"
     ]
    },
    {
     "name": "stdout",
     "output_type": "stream",
     "text": [
      "Validation Accuracy: 0.72\n",
      "Seed: 2 - Try: 17\n",
      "\n",
      "Generating random coefficients for the Hamiltonian...\n",
      "\n",
      "Generating random alphas...\n",
      "Non-zero alphas: 11\n"
     ]
    },
    {
     "name": "stderr",
     "output_type": "stream",
     "text": [
      "Building TRAIN_KERNEL: 100%|██████████| 1225/1225 [01:14<00:00, 16.51it/s]\n"
     ]
    },
    {
     "name": "stdout",
     "output_type": "stream",
     "text": [
      "Train Accuracy: 0.82\n"
     ]
    },
    {
     "name": "stderr",
     "output_type": "stream",
     "text": [
      "Building TEST_KERNEL: 100%|██████████| 2500/2500 [02:25<00:00, 17.16it/s]\n"
     ]
    },
    {
     "name": "stdout",
     "output_type": "stream",
     "text": [
      "Validation Accuracy: 0.82\n",
      "Seed: 2 - Try: 18\n",
      "\n",
      "Generating random coefficients for the Hamiltonian...\n",
      "\n",
      "Generating random alphas...\n",
      "Non-zero alphas: 9\n"
     ]
    },
    {
     "name": "stderr",
     "output_type": "stream",
     "text": [
      "Building TRAIN_KERNEL: 100%|██████████| 1225/1225 [01:00<00:00, 20.23it/s]\n"
     ]
    },
    {
     "name": "stdout",
     "output_type": "stream",
     "text": [
      "Train Accuracy: 0.82\n"
     ]
    },
    {
     "name": "stderr",
     "output_type": "stream",
     "text": [
      "Building TEST_KERNEL: 100%|██████████| 2500/2500 [01:58<00:00, 21.09it/s]\n"
     ]
    },
    {
     "name": "stdout",
     "output_type": "stream",
     "text": [
      "Validation Accuracy: 0.74\n",
      "Seed: 2 - Try: 19\n",
      "\n",
      "Generating random coefficients for the Hamiltonian...\n",
      "\n",
      "Generating random alphas...\n",
      "Non-zero alphas: 8\n"
     ]
    },
    {
     "name": "stderr",
     "output_type": "stream",
     "text": [
      "Building TRAIN_KERNEL: 100%|██████████| 1225/1225 [01:00<00:00, 20.40it/s]\n"
     ]
    },
    {
     "name": "stdout",
     "output_type": "stream",
     "text": [
      "Train Accuracy: 0.76\n"
     ]
    },
    {
     "name": "stderr",
     "output_type": "stream",
     "text": [
      "Building TEST_KERNEL: 100%|██████████| 2500/2500 [01:52<00:00, 22.20it/s]\n"
     ]
    },
    {
     "name": "stdout",
     "output_type": "stream",
     "text": [
      "Validation Accuracy: 0.82\n",
      "Seed: 2 - Try: 20\n",
      "\n",
      "Generating random coefficients for the Hamiltonian...\n",
      "\n",
      "Generating random alphas...\n",
      "Non-zero alphas: 4\n"
     ]
    },
    {
     "name": "stderr",
     "output_type": "stream",
     "text": [
      "Building TRAIN_KERNEL: 100%|██████████| 1225/1225 [00:31<00:00, 38.58it/s]\n"
     ]
    },
    {
     "name": "stdout",
     "output_type": "stream",
     "text": [
      "Train Accuracy: 0.82\n"
     ]
    },
    {
     "name": "stderr",
     "output_type": "stream",
     "text": [
      "Building TEST_KERNEL: 100%|██████████| 2500/2500 [00:58<00:00, 42.44it/s]\n"
     ]
    },
    {
     "name": "stdout",
     "output_type": "stream",
     "text": [
      "Validation Accuracy: 0.74\n",
      "Seed: 2 - Try: 21\n",
      "\n",
      "Generating random coefficients for the Hamiltonian...\n",
      "\n",
      "Generating random alphas...\n",
      "Non-zero alphas: 7\n"
     ]
    },
    {
     "name": "stderr",
     "output_type": "stream",
     "text": [
      "Building TRAIN_KERNEL: 100%|██████████| 1225/1225 [00:55<00:00, 22.00it/s]\n"
     ]
    },
    {
     "name": "stdout",
     "output_type": "stream",
     "text": [
      "Train Accuracy: 0.84\n"
     ]
    },
    {
     "name": "stderr",
     "output_type": "stream",
     "text": [
      "Building TEST_KERNEL: 100%|██████████| 2500/2500 [01:42<00:00, 24.33it/s]\n"
     ]
    },
    {
     "name": "stdout",
     "output_type": "stream",
     "text": [
      "Validation Accuracy: 0.86\n",
      "Seed: 2 - Try: 22\n",
      "\n",
      "Generating random coefficients for the Hamiltonian...\n",
      "\n",
      "Generating random alphas...\n",
      "Non-zero alphas: 9\n"
     ]
    },
    {
     "name": "stderr",
     "output_type": "stream",
     "text": [
      "Building TRAIN_KERNEL: 100%|██████████| 1225/1225 [01:09<00:00, 17.70it/s]\n"
     ]
    },
    {
     "name": "stdout",
     "output_type": "stream",
     "text": [
      "Train Accuracy: 0.86\n"
     ]
    },
    {
     "name": "stderr",
     "output_type": "stream",
     "text": [
      "Building TEST_KERNEL:  27%|██▋       | 669/2500 [00:37<01:43, 17.65it/s]\n"
     ]
    },
    {
     "ename": "KeyboardInterrupt",
     "evalue": "",
     "output_type": "error",
     "traceback": [
      "\u001b[0;31m---------------------------------------------------------------------------\u001b[0m",
      "\u001b[0;31mKeyboardInterrupt\u001b[0m                         Traceback (most recent call last)",
      "Cell \u001b[0;32mIn[15], line 19\u001b[0m\n\u001b[1;32m     16\u001b[0m train_accuracy \u001b[38;5;241m=\u001b[39m accuracy_score(train_labels, y_train)\n\u001b[1;32m     17\u001b[0m \u001b[38;5;28mprint\u001b[39m(\u001b[38;5;124mf\u001b[39m\u001b[38;5;124m\"\u001b[39m\u001b[38;5;124mTrain Accuracy: \u001b[39m\u001b[38;5;132;01m{\u001b[39;00mtrain_accuracy\u001b[38;5;132;01m}\u001b[39;00m\u001b[38;5;124m\"\u001b[39m)\n\u001b[0;32m---> 19\u001b[0m y_val \u001b[38;5;241m=\u001b[39m \u001b[43mquantum_svm\u001b[49m\u001b[38;5;241;43m.\u001b[39;49m\u001b[43mpredict\u001b[49m\u001b[43m(\u001b[49m\u001b[43mval_features\u001b[49m\u001b[43m)\u001b[49m\n\u001b[1;32m     20\u001b[0m val_accuracy \u001b[38;5;241m=\u001b[39m accuracy_score(val_labels, y_val)\n\u001b[1;32m     21\u001b[0m \u001b[38;5;28mprint\u001b[39m(\u001b[38;5;124mf\u001b[39m\u001b[38;5;124m\"\u001b[39m\u001b[38;5;124mValidation Accuracy: \u001b[39m\u001b[38;5;132;01m{\u001b[39;00mval_accuracy\u001b[38;5;132;01m}\u001b[39;00m\u001b[38;5;124m\"\u001b[39m)\n",
      "File \u001b[0;32m/media/HDD/danlb/projects_4TB/temporal_kernel/Quantum_temporal_kernel/SVM_models/QuantumSVM.py:189\u001b[0m, in \u001b[0;36mpredict\u001b[0;34m(self, X)\u001b[0m\n\u001b[1;32m    187\u001b[0m \"\"\"Predicts labels for new data.\"\"\"\n\u001b[1;32m    188\u001b[0m check_is_fitted(self)\n\u001b[0;32m--> 189\u001b[0m # Validate input\n\u001b[1;32m    190\u001b[0m X = check_array(X)\n\u001b[1;32m    191\u001b[0m # Scale features\n\u001b[1;32m    192\u001b[0m #X = self.scaler.transform(X)\n\u001b[1;32m    193\u001b[0m # Build the kernel matrix between test data and training data\n",
      "File \u001b[0;32m/media/HDD/danlb/projects_4TB/temporal_kernel/Quantum_temporal_kernel/SVM_models/QuantumSVM.py:157\u001b[0m, in \u001b[0;36mbuild_kernel_matrix\u001b[0;34m(self, DATASET1, DATASET2, TYPE)\u001b[0m\n\u001b[1;32m    155\u001b[0m n_samples_1 \u001b[38;5;241m=\u001b[39m DATASET1\u001b[38;5;241m.\u001b[39mshape[\u001b[38;5;241m0\u001b[39m]\n\u001b[1;32m    156\u001b[0m n_samples_2 \u001b[38;5;241m=\u001b[39m DATASET2\u001b[38;5;241m.\u001b[39mshape[\u001b[38;5;241m0\u001b[39m]\n\u001b[0;32m--> 157\u001b[0m similarity_matrix \u001b[38;5;241m=\u001b[39m np\u001b[38;5;241m.\u001b[39mzeros((n_samples_1, n_samples_2))\n\u001b[1;32m    158\u001b[0m test_combinations \u001b[38;5;241m=\u001b[39m \u001b[38;5;28mlist\u001b[39m(itertools\u001b[38;5;241m.\u001b[39mproduct(\u001b[38;5;28mrange\u001b[39m(n_samples_1), \u001b[38;5;28mrange\u001b[39m(n_samples_2)))\n\u001b[1;32m    159\u001b[0m \u001b[38;5;28;01mfor\u001b[39;00m i, j \u001b[38;5;129;01min\u001b[39;00m tqdm(test_combinations, desc\u001b[38;5;241m=\u001b[39m\u001b[38;5;124mf\u001b[39m\u001b[38;5;124m\"\u001b[39m\u001b[38;5;124mBuilding \u001b[39m\u001b[38;5;132;01m{\u001b[39;00mTYPE\u001b[38;5;132;01m}\u001b[39;00m\u001b[38;5;124m\"\u001b[39m):\n",
      "File \u001b[0;32m/media/HDD/danlb/projects_4TB/temporal_kernel/Quantum_temporal_kernel/SVM_models/QuantumSVM.py:123\u001b[0m, in \u001b[0;36mevaluate_similarity\u001b[0;34m(self, x1, x2)\u001b[0m\n\u001b[1;32m    121\u001b[0m # Inverse of psi\n\u001b[1;32m    122\u001b[0m psi_inv = psi.inverse()\n\u001b[0;32m--> 123\u001b[0m # Compose circuits\n\u001b[1;32m    124\u001b[0m phi.compose(psi_inv, inplace=True)\n\u001b[1;32m    125\u001b[0m # Measure\n",
      "File \u001b[0;32m/media/HDD/danlb/projects_4TB/temporal_kernel/venv/lib/python3.11/site-packages/qiskit/primitives/base/base_sampler.py:138\u001b[0m, in \u001b[0;36mBaseSamplerV1.run\u001b[0;34m(self, circuits, parameter_values, **run_options)\u001b[0m\n\u001b[1;32m    135\u001b[0m run_opts \u001b[38;5;241m=\u001b[39m copy(\u001b[38;5;28mself\u001b[39m\u001b[38;5;241m.\u001b[39moptions)\n\u001b[1;32m    136\u001b[0m run_opts\u001b[38;5;241m.\u001b[39mupdate_options(\u001b[38;5;241m*\u001b[39m\u001b[38;5;241m*\u001b[39mrun_options)\n\u001b[0;32m--> 138\u001b[0m \u001b[38;5;28;01mreturn\u001b[39;00m \u001b[38;5;28;43mself\u001b[39;49m\u001b[38;5;241;43m.\u001b[39;49m\u001b[43m_run\u001b[49m\u001b[43m(\u001b[49m\n\u001b[1;32m    139\u001b[0m \u001b[43m    \u001b[49m\u001b[43mcircuits\u001b[49m\u001b[43m,\u001b[49m\n\u001b[1;32m    140\u001b[0m \u001b[43m    \u001b[49m\u001b[43mparameter_values\u001b[49m\u001b[43m,\u001b[49m\n\u001b[1;32m    141\u001b[0m \u001b[43m    \u001b[49m\u001b[38;5;241;43m*\u001b[39;49m\u001b[38;5;241;43m*\u001b[39;49m\u001b[43mrun_opts\u001b[49m\u001b[38;5;241;43m.\u001b[39;49m\u001b[38;5;18;43m__dict__\u001b[39;49m\u001b[43m,\u001b[49m\n\u001b[1;32m    142\u001b[0m \u001b[43m\u001b[49m\u001b[43m)\u001b[49m\n",
      "File \u001b[0;32m/media/HDD/danlb/projects_4TB/temporal_kernel/venv/lib/python3.11/site-packages/qiskit/primitives/sampler.py:146\u001b[0m, in \u001b[0;36mSampler._run\u001b[0;34m(self, circuits, parameter_values, **run_options)\u001b[0m\n\u001b[1;32m    144\u001b[0m         \u001b[38;5;28mself\u001b[39m\u001b[38;5;241m.\u001b[39m_parameters\u001b[38;5;241m.\u001b[39mappend(circuit\u001b[38;5;241m.\u001b[39mparameters)\n\u001b[1;32m    145\u001b[0m job \u001b[38;5;241m=\u001b[39m PrimitiveJob(\u001b[38;5;28mself\u001b[39m\u001b[38;5;241m.\u001b[39m_call, circuit_indices, parameter_values, \u001b[38;5;241m*\u001b[39m\u001b[38;5;241m*\u001b[39mrun_options)\n\u001b[0;32m--> 146\u001b[0m \u001b[43mjob\u001b[49m\u001b[38;5;241;43m.\u001b[39;49m\u001b[43m_submit\u001b[49m\u001b[43m(\u001b[49m\u001b[43m)\u001b[49m\n\u001b[1;32m    147\u001b[0m \u001b[38;5;28;01mreturn\u001b[39;00m job\n",
      "File \u001b[0;32m/media/HDD/danlb/projects_4TB/temporal_kernel/venv/lib/python3.11/site-packages/qiskit/primitives/primitive_job.py:46\u001b[0m, in \u001b[0;36mPrimitiveJob._submit\u001b[0;34m(self)\u001b[0m\n\u001b[1;32m     43\u001b[0m     \u001b[38;5;28;01mraise\u001b[39;00m JobError(\u001b[38;5;124m\"\u001b[39m\u001b[38;5;124mPrimitive job has been submitted already.\u001b[39m\u001b[38;5;124m\"\u001b[39m)\n\u001b[1;32m     45\u001b[0m executor \u001b[38;5;241m=\u001b[39m ThreadPoolExecutor(max_workers\u001b[38;5;241m=\u001b[39m\u001b[38;5;241m1\u001b[39m)  \u001b[38;5;66;03m# pylint: disable=consider-using-with\u001b[39;00m\n\u001b[0;32m---> 46\u001b[0m \u001b[38;5;28mself\u001b[39m\u001b[38;5;241m.\u001b[39m_future \u001b[38;5;241m=\u001b[39m \u001b[43mexecutor\u001b[49m\u001b[38;5;241;43m.\u001b[39;49m\u001b[43msubmit\u001b[49m\u001b[43m(\u001b[49m\u001b[38;5;28;43mself\u001b[39;49m\u001b[38;5;241;43m.\u001b[39;49m\u001b[43m_function\u001b[49m\u001b[43m,\u001b[49m\u001b[43m \u001b[49m\u001b[38;5;241;43m*\u001b[39;49m\u001b[38;5;28;43mself\u001b[39;49m\u001b[38;5;241;43m.\u001b[39;49m\u001b[43m_args\u001b[49m\u001b[43m,\u001b[49m\u001b[43m \u001b[49m\u001b[38;5;241;43m*\u001b[39;49m\u001b[38;5;241;43m*\u001b[39;49m\u001b[38;5;28;43mself\u001b[39;49m\u001b[38;5;241;43m.\u001b[39;49m\u001b[43m_kwargs\u001b[49m\u001b[43m)\u001b[49m\n\u001b[1;32m     47\u001b[0m executor\u001b[38;5;241m.\u001b[39mshutdown(wait\u001b[38;5;241m=\u001b[39m\u001b[38;5;28;01mFalse\u001b[39;00m)\n",
      "File \u001b[0;32m~/anaconda3/lib/python3.11/concurrent/futures/thread.py:176\u001b[0m, in \u001b[0;36mThreadPoolExecutor.submit\u001b[0;34m(self, fn, *args, **kwargs)\u001b[0m\n\u001b[1;32m    173\u001b[0m w \u001b[38;5;241m=\u001b[39m _WorkItem(f, fn, args, kwargs)\n\u001b[1;32m    175\u001b[0m \u001b[38;5;28mself\u001b[39m\u001b[38;5;241m.\u001b[39m_work_queue\u001b[38;5;241m.\u001b[39mput(w)\n\u001b[0;32m--> 176\u001b[0m \u001b[38;5;28;43mself\u001b[39;49m\u001b[38;5;241;43m.\u001b[39;49m\u001b[43m_adjust_thread_count\u001b[49m\u001b[43m(\u001b[49m\u001b[43m)\u001b[49m\n\u001b[1;32m    177\u001b[0m \u001b[38;5;28;01mreturn\u001b[39;00m f\n",
      "File \u001b[0;32m~/anaconda3/lib/python3.11/concurrent/futures/thread.py:199\u001b[0m, in \u001b[0;36mThreadPoolExecutor._adjust_thread_count\u001b[0;34m(self)\u001b[0m\n\u001b[1;32m    192\u001b[0m thread_name \u001b[38;5;241m=\u001b[39m \u001b[38;5;124m'\u001b[39m\u001b[38;5;132;01m%s\u001b[39;00m\u001b[38;5;124m_\u001b[39m\u001b[38;5;132;01m%d\u001b[39;00m\u001b[38;5;124m'\u001b[39m \u001b[38;5;241m%\u001b[39m (\u001b[38;5;28mself\u001b[39m\u001b[38;5;241m.\u001b[39m_thread_name_prefix \u001b[38;5;129;01mor\u001b[39;00m \u001b[38;5;28mself\u001b[39m,\n\u001b[1;32m    193\u001b[0m                          num_threads)\n\u001b[1;32m    194\u001b[0m t \u001b[38;5;241m=\u001b[39m threading\u001b[38;5;241m.\u001b[39mThread(name\u001b[38;5;241m=\u001b[39mthread_name, target\u001b[38;5;241m=\u001b[39m_worker,\n\u001b[1;32m    195\u001b[0m                      args\u001b[38;5;241m=\u001b[39m(weakref\u001b[38;5;241m.\u001b[39mref(\u001b[38;5;28mself\u001b[39m, weakref_cb),\n\u001b[1;32m    196\u001b[0m                            \u001b[38;5;28mself\u001b[39m\u001b[38;5;241m.\u001b[39m_work_queue,\n\u001b[1;32m    197\u001b[0m                            \u001b[38;5;28mself\u001b[39m\u001b[38;5;241m.\u001b[39m_initializer,\n\u001b[1;32m    198\u001b[0m                            \u001b[38;5;28mself\u001b[39m\u001b[38;5;241m.\u001b[39m_initargs))\n\u001b[0;32m--> 199\u001b[0m \u001b[43mt\u001b[49m\u001b[38;5;241;43m.\u001b[39;49m\u001b[43mstart\u001b[49m\u001b[43m(\u001b[49m\u001b[43m)\u001b[49m\n\u001b[1;32m    200\u001b[0m \u001b[38;5;28mself\u001b[39m\u001b[38;5;241m.\u001b[39m_threads\u001b[38;5;241m.\u001b[39madd(t)\n\u001b[1;32m    201\u001b[0m _threads_queues[t] \u001b[38;5;241m=\u001b[39m \u001b[38;5;28mself\u001b[39m\u001b[38;5;241m.\u001b[39m_work_queue\n",
      "File \u001b[0;32m~/anaconda3/lib/python3.11/threading.py:962\u001b[0m, in \u001b[0;36mThread.start\u001b[0;34m(self)\u001b[0m\n\u001b[1;32m    960\u001b[0m         \u001b[38;5;28;01mdel\u001b[39;00m _limbo[\u001b[38;5;28mself\u001b[39m]\n\u001b[1;32m    961\u001b[0m     \u001b[38;5;28;01mraise\u001b[39;00m\n\u001b[0;32m--> 962\u001b[0m \u001b[38;5;28;43mself\u001b[39;49m\u001b[38;5;241;43m.\u001b[39;49m\u001b[43m_started\u001b[49m\u001b[38;5;241;43m.\u001b[39;49m\u001b[43mwait\u001b[49m\u001b[43m(\u001b[49m\u001b[43m)\u001b[49m\n",
      "File \u001b[0;32m~/anaconda3/lib/python3.11/threading.py:622\u001b[0m, in \u001b[0;36mEvent.wait\u001b[0;34m(self, timeout)\u001b[0m\n\u001b[1;32m    620\u001b[0m signaled \u001b[38;5;241m=\u001b[39m \u001b[38;5;28mself\u001b[39m\u001b[38;5;241m.\u001b[39m_flag\n\u001b[1;32m    621\u001b[0m \u001b[38;5;28;01mif\u001b[39;00m \u001b[38;5;129;01mnot\u001b[39;00m signaled:\n\u001b[0;32m--> 622\u001b[0m     signaled \u001b[38;5;241m=\u001b[39m \u001b[38;5;28;43mself\u001b[39;49m\u001b[38;5;241;43m.\u001b[39;49m\u001b[43m_cond\u001b[49m\u001b[38;5;241;43m.\u001b[39;49m\u001b[43mwait\u001b[49m\u001b[43m(\u001b[49m\u001b[43mtimeout\u001b[49m\u001b[43m)\u001b[49m\n\u001b[1;32m    623\u001b[0m \u001b[38;5;28;01mreturn\u001b[39;00m signaled\n",
      "File \u001b[0;32m~/anaconda3/lib/python3.11/threading.py:320\u001b[0m, in \u001b[0;36mCondition.wait\u001b[0;34m(self, timeout)\u001b[0m\n\u001b[1;32m    318\u001b[0m \u001b[38;5;28;01mtry\u001b[39;00m:    \u001b[38;5;66;03m# restore state no matter what (e.g., KeyboardInterrupt)\u001b[39;00m\n\u001b[1;32m    319\u001b[0m     \u001b[38;5;28;01mif\u001b[39;00m timeout \u001b[38;5;129;01mis\u001b[39;00m \u001b[38;5;28;01mNone\u001b[39;00m:\n\u001b[0;32m--> 320\u001b[0m         \u001b[43mwaiter\u001b[49m\u001b[38;5;241;43m.\u001b[39;49m\u001b[43macquire\u001b[49m\u001b[43m(\u001b[49m\u001b[43m)\u001b[49m\n\u001b[1;32m    321\u001b[0m         gotit \u001b[38;5;241m=\u001b[39m \u001b[38;5;28;01mTrue\u001b[39;00m\n\u001b[1;32m    322\u001b[0m     \u001b[38;5;28;01melse\u001b[39;00m:\n",
      "\u001b[0;31mKeyboardInterrupt\u001b[0m: "
     ]
    }
   ],
   "source": [
    "from copy import deepcopy\n",
    "from time import sleep\n",
    "\n",
    "for SEED in SEEDS:\n",
    "    \n",
    "    test_labels, val_labels, test_features, val_features = train_test_split(INITIAL_TEST_LABELS, INITIAL_TEST_FEATURES, test_size=0.33, random_state=SEED)\n",
    "    best_val_acc = 0\n",
    "\n",
    "    for TRIES in range(OPT_TIMES):\n",
    "        np.random.seed(SEED*100 + TRIES)\n",
    "        print(f\"Seed: {SEED} - Try: {TRIES}\")\n",
    "        quantum_svm = QuantumSVM(n_qubits=CONFIG[\"N_QUBITS\"], sparsity_coefficient=CONFIG[\"SPARSITY\"], embedding_code=CONFIG[\"ENCODING\"])\n",
    "\n",
    "        quantum_svm.fit(train_features, train_labels)\n",
    "        y_train = quantum_svm.predict_on_train()\n",
    "        train_accuracy = accuracy_score(train_labels, y_train)\n",
    "        print(f\"Train Accuracy: {train_accuracy}\")\n",
    "\n",
    "        y_val = quantum_svm.predict(val_features)\n",
    "        val_accuracy = accuracy_score(val_labels, y_val)\n",
    "        print(f\"Validation Accuracy: {val_accuracy}\")\n",
    "\n",
    "\n",
    "\n",
    "        if val_accuracy > best_val_acc:\n",
    "            best_val_acc = val_accuracy\n",
    "            best_quantum_svm = deepcopy(quantum_svm)\n",
    "            best_train_accuracy = train_accuracy\n",
    "\n",
    "    y_test = best_quantum_svm.predict(test_features)\n",
    "    accuracy = accuracy_score(test_labels, y_test)\n",
    "    print(f\"Test Accuracy: {accuracy}\")\n",
    "    # now I want to save the model Hamiltonian_c and hidden_alphas\n",
    "    print(\"Saving model...\")\n",
    "    Hamiltonian_c = best_quantum_svm.Hamiltonian_c\n",
    "    hidden_alphas = best_quantum_svm.hidden_alphas\n",
    "\n",
    "    #print(\"Hamiltonian_c: \", Hamiltonian_c)\n",
    "    #print(\"hidden_alphas: \", hidden_alphas)\n",
    "\n",
    "    save_results(EXP, CONFIG[\"ENCODING\"], SEED, best_train_accuracy, best_val_acc, accuracy, Hamiltonian_c, hidden_alphas)\n",
    "    sleep(600) # sleep for 15 minutes to avoid overloading the server"
   ]
  }
 ],
 "metadata": {
  "kernelspec": {
   "display_name": "venv",
   "language": "python",
   "name": "python3"
  },
  "language_info": {
   "codemirror_mode": {
    "name": "ipython",
    "version": 3
   },
   "file_extension": ".py",
   "mimetype": "text/x-python",
   "name": "python",
   "nbconvert_exporter": "python",
   "pygments_lexer": "ipython3",
   "version": "3.11.5"
  }
 },
 "nbformat": 4,
 "nbformat_minor": 2
}
