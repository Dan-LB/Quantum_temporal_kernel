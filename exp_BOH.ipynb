{
 "cells": [
  {
   "cell_type": "code",
   "execution_count": 19,
   "metadata": {},
   "outputs": [],
   "source": [
    "import seaborn as sns\n",
    "import matplotlib.pyplot as plt\n",
    "import numpy as np\n",
    "import pandas as pd\n",
    "from dtaidistance import dtw\n",
    "import itertools\n",
    "from tqdm import tqdm\n",
    "from sklearn.model_selection import train_test_split\n",
    "from sklearn.svm import OneClassSVM\n",
    "from sklearn.metrics import accuracy_score\n",
    "from sklearn.preprocessing import StandardScaler\n",
    "\n",
    "import os\n",
    "\n",
    "import random\n",
    "\n",
    "from SVM_models.models import evaluate_binary_SVM_standard, evaluate_binary_SVM_custom\n",
    "\n",
    "# import GunPoint dataset from GunPoint/GunPoint_test.txt and GunPoint/GunPoint_train.txt\n",
    "\n",
    "\n",
    "def load_dataset(file_path):\n",
    "    with open(file_path) as f:\n",
    "        lines = f.readlines()\n",
    "    # Parse each line, separating the label and features\n",
    "    labels = []\n",
    "    features = []\n",
    "    for line in lines:\n",
    "        values = list(map(float, line.strip().split()))\n",
    "        labels.append(int(values[0])-1)  # First value is the label, cast to int\n",
    "        features.append(values[1:])    # Remaining values are features\n",
    "    # Convert lists to numpy arrays for easier handling\n",
    "    labels = np.array(labels)\n",
    "    features = np.array(features)\n",
    "    # normalize dataset to 0 1\n",
    "    features = (features - features.min()) / (features.max() - features.min())\n",
    "    return labels, features\n",
    "\n",
    "# Load the GunPoint dataset\n",
    "\n",
    "#dataset_path with join\n",
    "\n",
    "train_path = os.path.join(\"GunPoint\", \"GunPoint_TRAIN.txt\")\n",
    "test_path = os.path.join(\"GunPoint\", \"GunPoint_TEST.txt\")\n",
    "\n",
    "train_labels, train_features = load_dataset(train_path)\n",
    "INITIAL_TEST_LABELS, INITIAL_TEST_FEATURES = load_dataset(test_path)\n",
    "\n",
    "# split test in validation (50) and test (100)\n",
    "\n"
   ]
  },
  {
   "cell_type": "code",
   "execution_count": 20,
   "metadata": {},
   "outputs": [],
   "source": [
    "EXPS = [\n",
    "    \"RANDOM\",\n",
    "    \"RANDOM_BEST\",\n",
    "    \"BAYESIAN_HAMILTONIAN\",\n",
    "    \"BAYESIAN_MODEL\",\n",
    "]\n",
    "\n",
    "OPT_TIMES = 30\n",
    "\n",
    "CONFIG = {\n",
    "    \"N_QUBITS\": 2,\n",
    "    \"SPARSITY\": 0.95,\n",
    "    \"ENCODING\": \"euler\",\n",
    "}\n",
    "\n",
    "SEEDS = [1, 2, 3, 4, 5, 6, 7, 8, 9]\n",
    "EXP = \"BAYESIAN_HAMILTONIAN\"\n"
   ]
  },
  {
   "cell_type": "code",
   "execution_count": 21,
   "metadata": {},
   "outputs": [],
   "source": [
    "import os\n",
    "def save_results(EXP, encoding, seed, train_accuracy, val_accuracy, test_accuracy, Hamiltonian_c, hidden_alphas):\n",
    "    # Create folder structure\n",
    "    folder_name = f\"{EXP}__{encoding}\"\n",
    "    seed_folder = os.path.join(\"exps_results\", folder_name, f\"exp_{seed}\")\n",
    "    os.makedirs(seed_folder, exist_ok=True)\n",
    "\n",
    "    # Save configuration and OPT_TIMES to a text file\n",
    "    with open(os.path.join(seed_folder, \"config.txt\"), \"w\") as f:\n",
    "        f.write(f\"Experiment: {EXP}\\n\")\n",
    "        f.write(f\"Encoding: {encoding}\\n\")\n",
    "        f.write(f\"Number of Qubits: {CONFIG['N_QUBITS']}\\n\")\n",
    "        f.write(f\"Sparsity Coefficient: {CONFIG['SPARSITY']}\\n\")\n",
    "        f.write(f\"OPT_TIMES: {OPT_TIMES}\\n\")\n",
    "\n",
    "    # Save train, validation, and test accuracy\n",
    "    with open(os.path.join(seed_folder, \"train_accuracy.txt\"), \"w\") as f:\n",
    "        f.write(f\"Train Accuracy: {train_accuracy}\\n\")\n",
    "    \n",
    "    with open(os.path.join(seed_folder, \"val_accuracy.txt\"), \"w\") as f:\n",
    "        f.write(f\"Validation Accuracy: {val_accuracy}\\n\")\n",
    "\n",
    "    with open(os.path.join(seed_folder, \"test_accuracy.txt\"), \"w\") as f:\n",
    "        f.write(f\"Test Accuracy: {test_accuracy}\\n\")\n",
    "\n",
    "    # Save Hamiltonian_c and hidden_alphas\n",
    "    with open(os.path.join(seed_folder, \"Hamiltonian_c.txt\"), \"w\") as f:\n",
    "        f.write(str(Hamiltonian_c))\n",
    "\n",
    "    with open(os.path.join(seed_folder, \"hidden_alphas.txt\"), \"w\") as f:\n",
    "        f.write(str(hidden_alphas))\n"
   ]
  },
  {
   "cell_type": "code",
   "execution_count": 22,
   "metadata": {},
   "outputs": [],
   "source": [
    "from SVM_models.QuantumSVM import QuantumSVM\n",
    "from sklearn.metrics import accuracy_score"
   ]
  },
  {
   "cell_type": "code",
   "execution_count": 23,
   "metadata": {},
   "outputs": [],
   "source": [
    "from bayes_opt import BayesianOptimization\n",
    "\n",
    "I = np.array([[1, 0], [0, 1]])  # Identity\n",
    "X = np.array([[0, 1], [1, 0]])  # Pauli-X\n",
    "Y = np.array([[0, -1j], [1j, 0]])  # Pauli-Y\n",
    "Z = np.array([[1, 0], [0, -1]]) \n",
    "\n",
    "L = 150\n",
    "\n",
    "def generate_H_from_C(coefficients):\n",
    "    \"\"\"Generates a random Hamiltonian for the given number of qubits by combining Pauli matrices.\"\"\"\n",
    "    pauli_matrices = [I, X, Y, Z]  # Random coefficients for each term\n",
    "    H = None\n",
    "    # Generate all possible combinations of Pauli matrices for the given number of qubits\n",
    "    for i in range(4**CONFIG[\"N_QUBITS\"]):\n",
    "        indices = np.unravel_index(i, (4,) * CONFIG[\"N_QUBITS\"])\n",
    "        kron_product = pauli_matrices[indices[0]]\n",
    "        for idx in indices[1:]:\n",
    "            kron_product = np.kron(kron_product, pauli_matrices[idx])\n",
    "        kron_product = np.array(kron_product, dtype=complex)\n",
    "        if H is None:\n",
    "            H = coefficients[i] * kron_product\n",
    "        else:\n",
    "            H += coefficients[i] * kron_product\n",
    "    H = H / np.linalg.norm(H)  # Normalize the Hamiltonian\n",
    "    return H\n",
    "\n",
    "def generate_random_alphas():\n",
    "    return np.random.rand(L)"
   ]
  },
  {
   "cell_type": "code",
   "execution_count": null,
   "metadata": {},
   "outputs": [],
   "source": []
  },
  {
   "cell_type": "code",
   "execution_count": 24,
   "metadata": {},
   "outputs": [
    {
     "name": "stdout",
     "output_type": "stream",
     "text": [
      "|   iter    |  target   |  coeff_0  |  coeff_1  | coeff_10  | coeff_11  | coeff_12  | coeff_13  | coeff_14  | coeff_15  |  coeff_2  |  coeff_3  |  coeff_4  |  coeff_5  |  coeff_6  |  coeff_7  |  coeff_8  |  coeff_9  |\n",
      "-------------------------------------------------------------------------------------------------------------------------------------------------------------------------------------------------------------------------\n",
      "Non-zero alphas: 5\n"
     ]
    },
    {
     "name": "stderr",
     "output_type": "stream",
     "text": [
      "Building TRAIN_KERNEL:   0%|          | 0/1225 [00:00<?, ?it/s]"
     ]
    },
    {
     "name": "stderr",
     "output_type": "stream",
     "text": [
      "Building TRAIN_KERNEL: 100%|██████████| 1225/1225 [00:34<00:00, 35.91it/s]\n",
      "Building TEST_KERNEL: 100%|██████████| 2500/2500 [01:06<00:00, 37.39it/s]\n"
     ]
    },
    {
     "name": "stdout",
     "output_type": "stream",
     "text": [
      "| \u001b[39m1        \u001b[39m | \u001b[39m0.48     \u001b[39m | \u001b[39m0.3745   \u001b[39m | \u001b[39m0.9507   \u001b[39m | \u001b[39m0.732    \u001b[39m | \u001b[39m0.5987   \u001b[39m | \u001b[39m0.156    \u001b[39m | \u001b[39m0.156    \u001b[39m | \u001b[39m0.05808  \u001b[39m | \u001b[39m0.8662   \u001b[39m | \u001b[39m0.6011   \u001b[39m | \u001b[39m0.7081   \u001b[39m | \u001b[39m0.02058  \u001b[39m | \u001b[39m0.9699   \u001b[39m | \u001b[39m0.8324   \u001b[39m | \u001b[39m0.2123   \u001b[39m | \u001b[39m0.1818   \u001b[39m | \u001b[39m0.1834   \u001b[39m |\n",
      "Non-zero alphas: 5\n"
     ]
    },
    {
     "name": "stderr",
     "output_type": "stream",
     "text": [
      "Building TRAIN_KERNEL: 100%|██████████| 1225/1225 [00:34<00:00, 35.55it/s]\n",
      "Building TEST_KERNEL: 100%|██████████| 2500/2500 [01:10<00:00, 35.69it/s]\n"
     ]
    },
    {
     "name": "stdout",
     "output_type": "stream",
     "text": [
      "| \u001b[35m2        \u001b[39m | \u001b[35m0.6      \u001b[39m | \u001b[35m0.3042   \u001b[39m | \u001b[35m0.5248   \u001b[39m | \u001b[35m0.4319   \u001b[39m | \u001b[35m0.2912   \u001b[39m | \u001b[35m0.6119   \u001b[39m | \u001b[35m0.1395   \u001b[39m | \u001b[35m0.2921   \u001b[39m | \u001b[35m0.3664   \u001b[39m | \u001b[35m0.4561   \u001b[39m | \u001b[35m0.7852   \u001b[39m | \u001b[35m0.1997   \u001b[39m | \u001b[35m0.5142   \u001b[39m | \u001b[35m0.5924   \u001b[39m | \u001b[35m0.04645  \u001b[39m | \u001b[35m0.6075   \u001b[39m | \u001b[35m0.1705   \u001b[39m |\n",
      "Non-zero alphas: 5\n"
     ]
    },
    {
     "name": "stderr",
     "output_type": "stream",
     "text": [
      "Building TRAIN_KERNEL: 100%|██████████| 1225/1225 [00:32<00:00, 38.17it/s]\n",
      "Building TEST_KERNEL: 100%|██████████| 2500/2500 [01:10<00:00, 35.35it/s]\n"
     ]
    },
    {
     "name": "stdout",
     "output_type": "stream",
     "text": [
      "| \u001b[35m3        \u001b[39m | \u001b[35m0.7      \u001b[39m | \u001b[35m0.06505  \u001b[39m | \u001b[35m0.9489   \u001b[39m | \u001b[35m0.9656   \u001b[39m | \u001b[35m0.8084   \u001b[39m | \u001b[35m0.3046   \u001b[39m | \u001b[35m0.09767  \u001b[39m | \u001b[35m0.6842   \u001b[39m | \u001b[35m0.4402   \u001b[39m | \u001b[35m0.122    \u001b[39m | \u001b[35m0.4952   \u001b[39m | \u001b[35m0.03439  \u001b[39m | \u001b[35m0.9093   \u001b[39m | \u001b[35m0.2588   \u001b[39m | \u001b[35m0.6625   \u001b[39m | \u001b[35m0.3117   \u001b[39m | \u001b[35m0.5201   \u001b[39m |\n",
      "Non-zero alphas: 5\n"
     ]
    },
    {
     "name": "stderr",
     "output_type": "stream",
     "text": [
      "Building TRAIN_KERNEL: 100%|██████████| 1225/1225 [00:35<00:00, 34.03it/s]\n",
      "Building TEST_KERNEL: 100%|██████████| 2500/2500 [01:05<00:00, 37.92it/s]\n"
     ]
    },
    {
     "name": "stdout",
     "output_type": "stream",
     "text": [
      "| \u001b[35m4        \u001b[39m | \u001b[35m0.84     \u001b[39m | \u001b[35m0.5467   \u001b[39m | \u001b[35m0.1849   \u001b[39m | \u001b[35m0.9696   \u001b[39m | \u001b[35m0.7751   \u001b[39m | \u001b[35m0.9395   \u001b[39m | \u001b[35m0.8948   \u001b[39m | \u001b[35m0.5979   \u001b[39m | \u001b[35m0.9219   \u001b[39m | \u001b[35m0.08849  \u001b[39m | \u001b[35m0.196    \u001b[39m | \u001b[35m0.04523  \u001b[39m | \u001b[35m0.3253   \u001b[39m | \u001b[35m0.3887   \u001b[39m | \u001b[35m0.2713   \u001b[39m | \u001b[35m0.8287   \u001b[39m | \u001b[35m0.3568   \u001b[39m |\n",
      "Non-zero alphas: 5\n"
     ]
    },
    {
     "name": "stderr",
     "output_type": "stream",
     "text": [
      "Building TRAIN_KERNEL: 100%|██████████| 1225/1225 [00:34<00:00, 35.47it/s]\n",
      "Building TEST_KERNEL: 100%|██████████| 2500/2500 [01:08<00:00, 36.61it/s]\n"
     ]
    },
    {
     "name": "stdout",
     "output_type": "stream",
     "text": [
      "| \u001b[39m5        \u001b[39m | \u001b[39m0.8      \u001b[39m | \u001b[39m0.2809   \u001b[39m | \u001b[39m0.5427   \u001b[39m | \u001b[39m0.1409   \u001b[39m | \u001b[39m0.8022   \u001b[39m | \u001b[39m0.07455  \u001b[39m | \u001b[39m0.9869   \u001b[39m | \u001b[39m0.7722   \u001b[39m | \u001b[39m0.1987   \u001b[39m | \u001b[39m0.005522 \u001b[39m | \u001b[39m0.8155   \u001b[39m | \u001b[39m0.7069   \u001b[39m | \u001b[39m0.729    \u001b[39m | \u001b[39m0.7713   \u001b[39m | \u001b[39m0.07404  \u001b[39m | \u001b[39m0.3585   \u001b[39m | \u001b[39m0.1159   \u001b[39m |\n",
      "Non-zero alphas: 5\n"
     ]
    },
    {
     "name": "stderr",
     "output_type": "stream",
     "text": [
      "Building TRAIN_KERNEL: 100%|██████████| 1225/1225 [00:43<00:00, 28.28it/s]\n",
      "Building TEST_KERNEL: 100%|██████████| 2500/2500 [01:14<00:00, 33.75it/s]\n"
     ]
    },
    {
     "name": "stdout",
     "output_type": "stream",
     "text": [
      "| \u001b[39m6        \u001b[39m | \u001b[39m0.8      \u001b[39m | \u001b[39m0.4848   \u001b[39m | \u001b[39m0.2113   \u001b[39m | \u001b[39m0.7496   \u001b[39m | \u001b[39m0.9133   \u001b[39m | \u001b[39m0.6951   \u001b[39m | \u001b[39m1.0      \u001b[39m | \u001b[39m0.8039   \u001b[39m | \u001b[39m0.7149   \u001b[39m | \u001b[39m0.0      \u001b[39m | \u001b[39m0.2935   \u001b[39m | \u001b[39m0.3036   \u001b[39m | \u001b[39m0.4112   \u001b[39m | \u001b[39m0.4584   \u001b[39m | \u001b[39m0.2547   \u001b[39m | \u001b[39m0.7233   \u001b[39m | \u001b[39m0.3172   \u001b[39m |\n",
      "Non-zero alphas: 5\n"
     ]
    },
    {
     "name": "stderr",
     "output_type": "stream",
     "text": [
      "Building TRAIN_KERNEL: 100%|██████████| 1225/1225 [00:38<00:00, 31.58it/s]\n",
      "Building TEST_KERNEL: 100%|██████████| 2500/2500 [01:13<00:00, 33.87it/s]\n"
     ]
    },
    {
     "name": "stdout",
     "output_type": "stream",
     "text": [
      "| \u001b[39m7        \u001b[39m | \u001b[39m0.76     \u001b[39m | \u001b[39m0.9186   \u001b[39m | \u001b[39m0.3535   \u001b[39m | \u001b[39m0.7786   \u001b[39m | \u001b[39m0.01459  \u001b[39m | \u001b[39m0.9524   \u001b[39m | \u001b[39m0.7481   \u001b[39m | \u001b[39m0.9411   \u001b[39m | \u001b[39m0.7552   \u001b[39m | \u001b[39m0.06301  \u001b[39m | \u001b[39m0.0021   \u001b[39m | \u001b[39m0.4859   \u001b[39m | \u001b[39m0.3997   \u001b[39m | \u001b[39m0.09005  \u001b[39m | \u001b[39m0.7048   \u001b[39m | \u001b[39m0.6452   \u001b[39m | \u001b[39m0.7011   \u001b[39m |\n",
      "Non-zero alphas: 5\n"
     ]
    },
    {
     "name": "stderr",
     "output_type": "stream",
     "text": [
      "Building TRAIN_KERNEL: 100%|██████████| 1225/1225 [00:29<00:00, 41.91it/s]\n",
      "Building TEST_KERNEL: 100%|██████████| 2500/2500 [01:10<00:00, 35.71it/s]\n"
     ]
    },
    {
     "name": "stdout",
     "output_type": "stream",
     "text": [
      "| \u001b[39m8        \u001b[39m | \u001b[39m0.84     \u001b[39m | \u001b[39m0.0      \u001b[39m | \u001b[39m0.0      \u001b[39m | \u001b[39m0.0      \u001b[39m | \u001b[39m1.0      \u001b[39m | \u001b[39m0.0      \u001b[39m | \u001b[39m1.0      \u001b[39m | \u001b[39m1.0      \u001b[39m | \u001b[39m0.0      \u001b[39m | \u001b[39m0.0      \u001b[39m | \u001b[39m0.5925   \u001b[39m | \u001b[39m1.0      \u001b[39m | \u001b[39m0.5068   \u001b[39m | \u001b[39m0.0      \u001b[39m | \u001b[39m0.6655   \u001b[39m | \u001b[39m0.4761   \u001b[39m | \u001b[39m0.4708   \u001b[39m |\n",
      "Non-zero alphas: 5\n"
     ]
    },
    {
     "name": "stderr",
     "output_type": "stream",
     "text": [
      "Building TRAIN_KERNEL: 100%|██████████| 1225/1225 [00:31<00:00, 38.68it/s]\n",
      "Building TEST_KERNEL: 100%|██████████| 2500/2500 [01:10<00:00, 35.24it/s]\n"
     ]
    },
    {
     "name": "stdout",
     "output_type": "stream",
     "text": [
      "| \u001b[39m9        \u001b[39m | \u001b[39m0.72     \u001b[39m | \u001b[39m1.0      \u001b[39m | \u001b[39m0.0      \u001b[39m | \u001b[39m0.0      \u001b[39m | \u001b[39m1.0      \u001b[39m | \u001b[39m0.0      \u001b[39m | \u001b[39m1.0      \u001b[39m | \u001b[39m1.0      \u001b[39m | \u001b[39m0.0      \u001b[39m | \u001b[39m0.0      \u001b[39m | \u001b[39m1.0      \u001b[39m | \u001b[39m1.0      \u001b[39m | \u001b[39m1.0      \u001b[39m | \u001b[39m0.06208  \u001b[39m | \u001b[39m1.0      \u001b[39m | \u001b[39m1.0      \u001b[39m | \u001b[39m0.0      \u001b[39m |\n",
      "Non-zero alphas: 5\n"
     ]
    },
    {
     "name": "stderr",
     "output_type": "stream",
     "text": [
      "Building TRAIN_KERNEL: 100%|██████████| 1225/1225 [00:31<00:00, 39.08it/s]\n",
      "Building TEST_KERNEL: 100%|██████████| 2500/2500 [01:10<00:00, 35.51it/s]\n"
     ]
    },
    {
     "name": "stdout",
     "output_type": "stream",
     "text": [
      "| \u001b[39m10       \u001b[39m | \u001b[39m0.48     \u001b[39m | \u001b[39m0.0      \u001b[39m | \u001b[39m0.1256   \u001b[39m | \u001b[39m0.06618  \u001b[39m | \u001b[39m1.0      \u001b[39m | \u001b[39m0.06673  \u001b[39m | \u001b[39m1.0      \u001b[39m | \u001b[39m1.0      \u001b[39m | \u001b[39m0.1195   \u001b[39m | \u001b[39m0.0      \u001b[39m | \u001b[39m0.06673  \u001b[39m | \u001b[39m0.9639   \u001b[39m | \u001b[39m0.0      \u001b[39m | \u001b[39m0.7785   \u001b[39m | \u001b[39m0.9333   \u001b[39m | \u001b[39m0.0      \u001b[39m | \u001b[39m0.9333   \u001b[39m |\n",
      "Non-zero alphas: 5\n"
     ]
    },
    {
     "name": "stderr",
     "output_type": "stream",
     "text": [
      "Building TRAIN_KERNEL: 100%|██████████| 1225/1225 [00:31<00:00, 39.00it/s]\n",
      "Building TEST_KERNEL: 100%|██████████| 2500/2500 [01:11<00:00, 35.14it/s]\n"
     ]
    },
    {
     "name": "stdout",
     "output_type": "stream",
     "text": [
      "| \u001b[39m11       \u001b[39m | \u001b[39m0.7      \u001b[39m | \u001b[39m0.6853   \u001b[39m | \u001b[39m0.0      \u001b[39m | \u001b[39m1.0      \u001b[39m | \u001b[39m0.8377   \u001b[39m | \u001b[39m1.0      \u001b[39m | \u001b[39m1.0      \u001b[39m | \u001b[39m1.0      \u001b[39m | \u001b[39m0.9592   \u001b[39m | \u001b[39m0.0      \u001b[39m | \u001b[39m0.05493  \u001b[39m | \u001b[39m0.1083   \u001b[39m | \u001b[39m0.4813   \u001b[39m | \u001b[39m0.0      \u001b[39m | \u001b[39m0.6652   \u001b[39m | \u001b[39m1.0      \u001b[39m | \u001b[39m0.3542   \u001b[39m |\n",
      "Non-zero alphas: 5\n"
     ]
    },
    {
     "name": "stderr",
     "output_type": "stream",
     "text": [
      "Building TRAIN_KERNEL: 100%|██████████| 1225/1225 [00:34<00:00, 35.62it/s]\n",
      "Building TEST_KERNEL: 100%|██████████| 2500/2500 [01:06<00:00, 37.77it/s]\n"
     ]
    },
    {
     "name": "stdout",
     "output_type": "stream",
     "text": [
      "| \u001b[39m12       \u001b[39m | \u001b[39m0.7      \u001b[39m | \u001b[39m0.4356   \u001b[39m | \u001b[39m0.1079   \u001b[39m | \u001b[39m0.7442   \u001b[39m | \u001b[39m0.9893   \u001b[39m | \u001b[39m0.9985   \u001b[39m | \u001b[39m0.6498   \u001b[39m | \u001b[39m0.547    \u001b[39m | \u001b[39m0.6818   \u001b[39m | \u001b[39m0.2263   \u001b[39m | \u001b[39m0.06871  \u001b[39m | \u001b[39m0.1771   \u001b[39m | \u001b[39m0.4229   \u001b[39m | \u001b[39m0.41     \u001b[39m | \u001b[39m0.4004   \u001b[39m | \u001b[39m0.7796   \u001b[39m | \u001b[39m0.3224   \u001b[39m |\n",
      "Non-zero alphas: 5\n"
     ]
    },
    {
     "name": "stderr",
     "output_type": "stream",
     "text": [
      "Building TRAIN_KERNEL: 100%|██████████| 1225/1225 [00:34<00:00, 35.30it/s]\n",
      "Building TEST_KERNEL: 100%|██████████| 2500/2500 [01:06<00:00, 37.81it/s]\n"
     ]
    },
    {
     "name": "stdout",
     "output_type": "stream",
     "text": [
      "| \u001b[39m13       \u001b[39m | \u001b[39m0.48     \u001b[39m | \u001b[39m0.9306   \u001b[39m | \u001b[39m0.8376   \u001b[39m | \u001b[39m0.7835   \u001b[39m | \u001b[39m0.07252  \u001b[39m | \u001b[39m0.9936   \u001b[39m | \u001b[39m0.9872   \u001b[39m | \u001b[39m0.91     \u001b[39m | \u001b[39m0.7949   \u001b[39m | \u001b[39m0.8441   \u001b[39m | \u001b[39m0.1167   \u001b[39m | \u001b[39m0.3174   \u001b[39m | \u001b[39m0.05548  \u001b[39m | \u001b[39m0.3904   \u001b[39m | \u001b[39m0.7072   \u001b[39m | \u001b[39m0.1423   \u001b[39m | \u001b[39m0.8683   \u001b[39m |\n",
      "Non-zero alphas: 5\n"
     ]
    },
    {
     "name": "stderr",
     "output_type": "stream",
     "text": [
      "Building TRAIN_KERNEL: 100%|██████████| 1225/1225 [00:34<00:00, 35.63it/s]\n",
      "Building TEST_KERNEL: 100%|██████████| 2500/2500 [01:06<00:00, 37.84it/s]\n"
     ]
    },
    {
     "name": "stdout",
     "output_type": "stream",
     "text": [
      "| \u001b[39m14       \u001b[39m | \u001b[39m0.8      \u001b[39m | \u001b[39m0.3813   \u001b[39m | \u001b[39m0.1918   \u001b[39m | \u001b[39m0.8554   \u001b[39m | \u001b[39m0.2851   \u001b[39m | \u001b[39m0.7684   \u001b[39m | \u001b[39m0.831    \u001b[39m | \u001b[39m0.6603   \u001b[39m | \u001b[39m0.7806   \u001b[39m | \u001b[39m0.006178 \u001b[39m | \u001b[39m0.4248   \u001b[39m | \u001b[39m0.1326   \u001b[39m | \u001b[39m0.2857   \u001b[39m | \u001b[39m0.4284   \u001b[39m | \u001b[39m0.3039   \u001b[39m | \u001b[39m0.7174   \u001b[39m | \u001b[39m0.1093   \u001b[39m |\n",
      "Non-zero alphas: 5\n"
     ]
    },
    {
     "name": "stderr",
     "output_type": "stream",
     "text": [
      "Building TRAIN_KERNEL: 100%|██████████| 1225/1225 [00:33<00:00, 36.06it/s]\n",
      "Building TEST_KERNEL: 100%|██████████| 2500/2500 [01:07<00:00, 37.17it/s]\n"
     ]
    },
    {
     "name": "stdout",
     "output_type": "stream",
     "text": [
      "| \u001b[39m15       \u001b[39m | \u001b[39m0.48     \u001b[39m | \u001b[39m0.7589   \u001b[39m | \u001b[39m0.06674  \u001b[39m | \u001b[39m1.0      \u001b[39m | \u001b[39m0.4637   \u001b[39m | \u001b[39m0.6629   \u001b[39m | \u001b[39m1.0      \u001b[39m | \u001b[39m0.6166   \u001b[39m | \u001b[39m1.0      \u001b[39m | \u001b[39m0.0      \u001b[39m | \u001b[39m0.342    \u001b[39m | \u001b[39m0.2624   \u001b[39m | \u001b[39m0.1865   \u001b[39m | \u001b[39m0.4646   \u001b[39m | \u001b[39m0.0      \u001b[39m | \u001b[39m1.0      \u001b[39m | \u001b[39m0.5261   \u001b[39m |\n",
      "Non-zero alphas: 5\n"
     ]
    },
    {
     "name": "stderr",
     "output_type": "stream",
     "text": [
      "Building TRAIN_KERNEL: 100%|██████████| 1225/1225 [00:34<00:00, 35.61it/s]\n",
      "Building TEST_KERNEL: 100%|██████████| 2500/2500 [01:08<00:00, 36.60it/s]\n"
     ]
    },
    {
     "name": "stdout",
     "output_type": "stream",
     "text": [
      "| \u001b[39m16       \u001b[39m | \u001b[39m0.48     \u001b[39m | \u001b[39m0.6408   \u001b[39m | \u001b[39m0.5451   \u001b[39m | \u001b[39m0.3996   \u001b[39m | \u001b[39m0.74     \u001b[39m | \u001b[39m0.02666  \u001b[39m | \u001b[39m0.5511   \u001b[39m | \u001b[39m0.2818   \u001b[39m | \u001b[39m0.2533   \u001b[39m | \u001b[39m0.8916   \u001b[39m | \u001b[39m0.3739   \u001b[39m | \u001b[39m0.2868   \u001b[39m | \u001b[39m0.9204   \u001b[39m | \u001b[39m0.6048   \u001b[39m | \u001b[39m0.3257   \u001b[39m | \u001b[39m0.301    \u001b[39m | \u001b[39m0.8876   \u001b[39m |\n",
      "Non-zero alphas: 5\n"
     ]
    },
    {
     "name": "stderr",
     "output_type": "stream",
     "text": [
      "Building TRAIN_KERNEL: 100%|██████████| 1225/1225 [00:35<00:00, 34.34it/s]\n",
      "Building TEST_KERNEL: 100%|██████████| 2500/2500 [01:04<00:00, 38.65it/s]\n"
     ]
    },
    {
     "name": "stdout",
     "output_type": "stream",
     "text": [
      "| \u001b[39m17       \u001b[39m | \u001b[39m0.64     \u001b[39m | \u001b[39m0.09872  \u001b[39m | \u001b[39m0.1585   \u001b[39m | \u001b[39m0.04651  \u001b[39m | \u001b[39m0.94     \u001b[39m | \u001b[39m0.02701  \u001b[39m | \u001b[39m0.9976   \u001b[39m | \u001b[39m0.9322   \u001b[39m | \u001b[39m0.06172  \u001b[39m | \u001b[39m0.0      \u001b[39m | \u001b[39m0.6815   \u001b[39m | \u001b[39m0.9083   \u001b[39m | \u001b[39m0.5961   \u001b[39m | \u001b[39m0.205    \u001b[39m | \u001b[39m0.4794   \u001b[39m | \u001b[39m0.4679   \u001b[39m | \u001b[39m0.3383   \u001b[39m |\n",
      "Non-zero alphas: 5\n"
     ]
    },
    {
     "name": "stderr",
     "output_type": "stream",
     "text": [
      "Building TRAIN_KERNEL: 100%|██████████| 1225/1225 [00:33<00:00, 36.29it/s]\n",
      "Building TEST_KERNEL: 100%|██████████| 2500/2500 [01:06<00:00, 37.60it/s]\n"
     ]
    },
    {
     "name": "stdout",
     "output_type": "stream",
     "text": [
      "| \u001b[39m18       \u001b[39m | \u001b[39m0.48     \u001b[39m | \u001b[39m0.2204   \u001b[39m | \u001b[39m0.3533   \u001b[39m | \u001b[39m0.004992 \u001b[39m | \u001b[39m0.7255   \u001b[39m | \u001b[39m0.6118   \u001b[39m | \u001b[39m0.2944   \u001b[39m | \u001b[39m0.2215   \u001b[39m | \u001b[39m0.6808   \u001b[39m | \u001b[39m0.4829   \u001b[39m | \u001b[39m0.7047   \u001b[39m | \u001b[39m0.181    \u001b[39m | \u001b[39m0.7168   \u001b[39m | \u001b[39m0.412    \u001b[39m | \u001b[39m0.7767   \u001b[39m | \u001b[39m0.4099   \u001b[39m | \u001b[39m0.2025   \u001b[39m |\n",
      "Non-zero alphas: 5\n"
     ]
    },
    {
     "name": "stderr",
     "output_type": "stream",
     "text": [
      "Building TRAIN_KERNEL: 100%|██████████| 1225/1225 [00:30<00:00, 40.15it/s]\n",
      "Building TEST_KERNEL: 100%|██████████| 2500/2500 [01:09<00:00, 36.11it/s]\n"
     ]
    },
    {
     "name": "stdout",
     "output_type": "stream",
     "text": [
      "| \u001b[35m19       \u001b[39m | \u001b[35m0.88     \u001b[39m | \u001b[35m0.262    \u001b[39m | \u001b[35m0.7018   \u001b[39m | \u001b[35m0.7417   \u001b[39m | \u001b[35m0.3903   \u001b[39m | \u001b[35m0.5435   \u001b[39m | \u001b[35m0.1085   \u001b[39m | \u001b[35m0.4197   \u001b[39m | \u001b[35m0.06063  \u001b[39m | \u001b[35m0.6557   \u001b[39m | \u001b[35m0.554    \u001b[39m | \u001b[35m0.2698   \u001b[39m | \u001b[35m0.5881   \u001b[39m | \u001b[35m0.7687   \u001b[39m | \u001b[35m0.4663   \u001b[39m | \u001b[35m0.985    \u001b[39m | \u001b[35m0.7263   \u001b[39m |\n",
      "Non-zero alphas: 5\n"
     ]
    },
    {
     "name": "stderr",
     "output_type": "stream",
     "text": [
      "Building TRAIN_KERNEL: 100%|██████████| 1225/1225 [00:31<00:00, 39.32it/s]\n",
      "Building TEST_KERNEL: 100%|██████████| 2500/2500 [01:09<00:00, 35.99it/s]\n"
     ]
    },
    {
     "name": "stdout",
     "output_type": "stream",
     "text": [
      "| \u001b[39m20       \u001b[39m | \u001b[39m0.48     \u001b[39m | \u001b[39m0.7637   \u001b[39m | \u001b[39m0.1957   \u001b[39m | \u001b[39m0.8054   \u001b[39m | \u001b[39m0.1662   \u001b[39m | \u001b[39m0.5076   \u001b[39m | \u001b[39m0.3042   \u001b[39m | \u001b[39m0.608    \u001b[39m | \u001b[39m0.7166   \u001b[39m | \u001b[39m0.9795   \u001b[39m | \u001b[39m0.2166   \u001b[39m | \u001b[39m0.2543   \u001b[39m | \u001b[39m0.5582   \u001b[39m | \u001b[39m0.3628   \u001b[39m | \u001b[39m0.711    \u001b[39m | \u001b[39m0.8114   \u001b[39m | \u001b[39m0.3033   \u001b[39m |\n",
      "Non-zero alphas: 5\n"
     ]
    },
    {
     "name": "stderr",
     "output_type": "stream",
     "text": [
      "Building TRAIN_KERNEL: 100%|██████████| 1225/1225 [00:30<00:00, 40.51it/s]\n",
      "Building TEST_KERNEL: 100%|██████████| 2500/2500 [01:08<00:00, 36.29it/s]\n"
     ]
    },
    {
     "name": "stdout",
     "output_type": "stream",
     "text": [
      "| \u001b[39m21       \u001b[39m | \u001b[39m0.8      \u001b[39m | \u001b[39m0.3566   \u001b[39m | \u001b[39m0.5151   \u001b[39m | \u001b[39m0.3252   \u001b[39m | \u001b[39m0.7987   \u001b[39m | \u001b[39m0.2458   \u001b[39m | \u001b[39m1.0      \u001b[39m | \u001b[39m0.7757   \u001b[39m | \u001b[39m0.3511   \u001b[39m | \u001b[39m0.0      \u001b[39m | \u001b[39m0.7026   \u001b[39m | \u001b[39m0.5768   \u001b[39m | \u001b[39m0.658    \u001b[39m | \u001b[39m0.7839   \u001b[39m | \u001b[39m0.05     \u001b[39m | \u001b[39m0.4411   \u001b[39m | \u001b[39m0.1166   \u001b[39m |\n",
      "Non-zero alphas: 5\n"
     ]
    },
    {
     "name": "stderr",
     "output_type": "stream",
     "text": [
      "Building TRAIN_KERNEL: 100%|██████████| 1225/1225 [00:30<00:00, 40.02it/s]\n",
      "Building TEST_KERNEL: 100%|██████████| 2500/2500 [01:08<00:00, 36.46it/s]\n"
     ]
    },
    {
     "name": "stdout",
     "output_type": "stream",
     "text": [
      "| \u001b[39m22       \u001b[39m | \u001b[39m0.74     \u001b[39m | \u001b[39m0.6192   \u001b[39m | \u001b[39m0.5332   \u001b[39m | \u001b[39m0.2364   \u001b[39m | \u001b[39m0.8863   \u001b[39m | \u001b[39m0.3461   \u001b[39m | \u001b[39m0.9456   \u001b[39m | \u001b[39m0.9938   \u001b[39m | \u001b[39m0.0415   \u001b[39m | \u001b[39m0.1409   \u001b[39m | \u001b[39m0.638    \u001b[39m | \u001b[39m0.5633   \u001b[39m | \u001b[39m0.5412   \u001b[39m | \u001b[39m0.6037   \u001b[39m | \u001b[39m0.03291  \u001b[39m | \u001b[39m0.3896   \u001b[39m | \u001b[39m0.002761 \u001b[39m |\n",
      "Non-zero alphas: 5\n"
     ]
    },
    {
     "name": "stderr",
     "output_type": "stream",
     "text": [
      "Building TRAIN_KERNEL: 100%|██████████| 1225/1225 [00:31<00:00, 39.32it/s]\n",
      "Building TEST_KERNEL: 100%|██████████| 2500/2500 [01:08<00:00, 36.30it/s]\n"
     ]
    },
    {
     "name": "stdout",
     "output_type": "stream",
     "text": [
      "| \u001b[39m23       \u001b[39m | \u001b[39m0.86     \u001b[39m | \u001b[39m0.3605   \u001b[39m | \u001b[39m0.7409   \u001b[39m | \u001b[39m0.5263   \u001b[39m | \u001b[39m0.285    \u001b[39m | \u001b[39m0.7273   \u001b[39m | \u001b[39m0.1354   \u001b[39m | \u001b[39m0.625    \u001b[39m | \u001b[39m0.1219   \u001b[39m | \u001b[39m0.9245   \u001b[39m | \u001b[39m0.5924   \u001b[39m | \u001b[39m0.1538   \u001b[39m | \u001b[39m0.6933   \u001b[39m | \u001b[39m0.8691   \u001b[39m | \u001b[39m0.4422   \u001b[39m | \u001b[39m0.947    \u001b[39m | \u001b[39m0.4323   \u001b[39m |\n",
      "Non-zero alphas: 5\n"
     ]
    },
    {
     "name": "stderr",
     "output_type": "stream",
     "text": [
      "Building TRAIN_KERNEL: 100%|██████████| 1225/1225 [00:33<00:00, 36.21it/s]\n",
      "Building TEST_KERNEL: 100%|██████████| 2500/2500 [01:05<00:00, 38.26it/s]\n"
     ]
    },
    {
     "name": "stdout",
     "output_type": "stream",
     "text": [
      "| \u001b[39m24       \u001b[39m | \u001b[39m0.82     \u001b[39m | \u001b[39m0.349    \u001b[39m | \u001b[39m0.6509   \u001b[39m | \u001b[39m0.5153   \u001b[39m | \u001b[39m0.1459   \u001b[39m | \u001b[39m0.929    \u001b[39m | \u001b[39m0.4576   \u001b[39m | \u001b[39m0.769    \u001b[39m | \u001b[39m0.07651  \u001b[39m | \u001b[39m0.9325   \u001b[39m | \u001b[39m0.6113   \u001b[39m | \u001b[39m0.4484   \u001b[39m | \u001b[39m0.563    \u001b[39m | \u001b[39m0.7768   \u001b[39m | \u001b[39m0.3499   \u001b[39m | \u001b[39m0.7896   \u001b[39m | \u001b[39m0.904    \u001b[39m |\n",
      "Non-zero alphas: 5\n"
     ]
    },
    {
     "name": "stderr",
     "output_type": "stream",
     "text": [
      "Building TRAIN_KERNEL: 100%|██████████| 1225/1225 [00:33<00:00, 36.62it/s]\n",
      "Building TEST_KERNEL: 100%|██████████| 2500/2500 [01:04<00:00, 38.46it/s]\n"
     ]
    },
    {
     "name": "stdout",
     "output_type": "stream",
     "text": [
      "| \u001b[39m25       \u001b[39m | \u001b[39m0.78     \u001b[39m | \u001b[39m0.2918   \u001b[39m | \u001b[39m0.9933   \u001b[39m | \u001b[39m0.6162   \u001b[39m | \u001b[39m0.1704   \u001b[39m | \u001b[39m0.5959   \u001b[39m | \u001b[39m0.1138   \u001b[39m | \u001b[39m0.6047   \u001b[39m | \u001b[39m0.7634   \u001b[39m | \u001b[39m0.3989   \u001b[39m | \u001b[39m0.4102   \u001b[39m | \u001b[39m0.6913   \u001b[39m | \u001b[39m0.9013   \u001b[39m | \u001b[39m0.9394   \u001b[39m | \u001b[39m0.03754  \u001b[39m | \u001b[39m0.4325   \u001b[39m | \u001b[39m0.4857   \u001b[39m |\n",
      "Non-zero alphas: 5\n"
     ]
    },
    {
     "name": "stderr",
     "output_type": "stream",
     "text": [
      "Building TRAIN_KERNEL: 100%|██████████| 1225/1225 [00:33<00:00, 36.09it/s]\n",
      "Building TEST_KERNEL: 100%|██████████| 2500/2500 [01:04<00:00, 38.88it/s]\n"
     ]
    },
    {
     "name": "stdout",
     "output_type": "stream",
     "text": [
      "| \u001b[39m26       \u001b[39m | \u001b[39m0.88     \u001b[39m | \u001b[39m0.48     \u001b[39m | \u001b[39m0.7363   \u001b[39m | \u001b[39m0.3287   \u001b[39m | \u001b[39m0.4003   \u001b[39m | \u001b[39m0.3935   \u001b[39m | \u001b[39m0.2654   \u001b[39m | \u001b[39m0.8831   \u001b[39m | \u001b[39m0.05267  \u001b[39m | \u001b[39m0.7442   \u001b[39m | \u001b[39m0.5998   \u001b[39m | \u001b[39m0.11     \u001b[39m | \u001b[39m0.6072   \u001b[39m | \u001b[39m0.6285   \u001b[39m | \u001b[39m0.5413   \u001b[39m | \u001b[39m0.8046   \u001b[39m | \u001b[39m0.607    \u001b[39m |\n",
      "Non-zero alphas: 5\n"
     ]
    },
    {
     "name": "stderr",
     "output_type": "stream",
     "text": [
      "Building TRAIN_KERNEL: 100%|██████████| 1225/1225 [00:32<00:00, 37.31it/s]\n",
      "Building TEST_KERNEL: 100%|██████████| 2500/2500 [01:06<00:00, 37.43it/s]\n"
     ]
    },
    {
     "name": "stdout",
     "output_type": "stream",
     "text": [
      "| \u001b[39m27       \u001b[39m | \u001b[39m0.48     \u001b[39m | \u001b[39m0.09818  \u001b[39m | \u001b[39m0.7689   \u001b[39m | \u001b[39m0.009608 \u001b[39m | \u001b[39m0.422    \u001b[39m | \u001b[39m0.1105   \u001b[39m | \u001b[39m0.8875   \u001b[39m | \u001b[39m0.6212   \u001b[39m | \u001b[39m0.07029  \u001b[39m | \u001b[39m0.9199   \u001b[39m | \u001b[39m0.7059   \u001b[39m | \u001b[39m0.1872   \u001b[39m | \u001b[39m0.7392   \u001b[39m | \u001b[39m0.4586   \u001b[39m | \u001b[39m0.3119   \u001b[39m | \u001b[39m0.1317   \u001b[39m | \u001b[39m0.003327 \u001b[39m |\n",
      "Non-zero alphas: 5\n"
     ]
    },
    {
     "name": "stderr",
     "output_type": "stream",
     "text": [
      "Building TRAIN_KERNEL: 100%|██████████| 1225/1225 [00:33<00:00, 36.73it/s]\n",
      "Building TEST_KERNEL: 100%|██████████| 2500/2500 [01:04<00:00, 38.58it/s]\n"
     ]
    },
    {
     "name": "stdout",
     "output_type": "stream",
     "text": [
      "| \u001b[39m28       \u001b[39m | \u001b[39m0.74     \u001b[39m | \u001b[39m0.1369   \u001b[39m | \u001b[39m0.6269   \u001b[39m | \u001b[39m0.6313   \u001b[39m | \u001b[39m0.3996   \u001b[39m | \u001b[39m0.454    \u001b[39m | \u001b[39m0.3346   \u001b[39m | \u001b[39m0.9299   \u001b[39m | \u001b[39m0.05003  \u001b[39m | \u001b[39m0.5854   \u001b[39m | \u001b[39m0.5649   \u001b[39m | \u001b[39m0.06645  \u001b[39m | \u001b[39m0.7025   \u001b[39m | \u001b[39m0.8526   \u001b[39m | \u001b[39m0.7695   \u001b[39m | \u001b[39m0.7941   \u001b[39m | \u001b[39m0.7757   \u001b[39m |\n",
      "Non-zero alphas: 5\n"
     ]
    },
    {
     "name": "stderr",
     "output_type": "stream",
     "text": [
      "Building TRAIN_KERNEL: 100%|██████████| 1225/1225 [00:34<00:00, 35.57it/s]\n",
      "Building TEST_KERNEL: 100%|██████████| 2500/2500 [01:05<00:00, 38.40it/s]\n"
     ]
    },
    {
     "name": "stdout",
     "output_type": "stream",
     "text": [
      "| \u001b[39m29       \u001b[39m | \u001b[39m0.48     \u001b[39m | \u001b[39m0.3847   \u001b[39m | \u001b[39m0.2431   \u001b[39m | \u001b[39m0.6475   \u001b[39m | \u001b[39m0.2629   \u001b[39m | \u001b[39m0.7204   \u001b[39m | \u001b[39m0.8243   \u001b[39m | \u001b[39m0.6181   \u001b[39m | \u001b[39m0.6596   \u001b[39m | \u001b[39m0.01598  \u001b[39m | \u001b[39m0.5818   \u001b[39m | \u001b[39m0.09183  \u001b[39m | \u001b[39m0.292    \u001b[39m | \u001b[39m0.5512   \u001b[39m | \u001b[39m0.1074   \u001b[39m | \u001b[39m0.5887   \u001b[39m | \u001b[39m0.3755   \u001b[39m |\n",
      "Non-zero alphas: 5\n"
     ]
    },
    {
     "name": "stderr",
     "output_type": "stream",
     "text": [
      "Building TRAIN_KERNEL: 100%|██████████| 1225/1225 [00:33<00:00, 36.11it/s]\n",
      "Building TEST_KERNEL: 100%|██████████| 2500/2500 [01:07<00:00, 36.95it/s]\n"
     ]
    },
    {
     "name": "stdout",
     "output_type": "stream",
     "text": [
      "| \u001b[39m30       \u001b[39m | \u001b[39m0.84     \u001b[39m | \u001b[39m0.5118   \u001b[39m | \u001b[39m0.3994   \u001b[39m | \u001b[39m0.7279   \u001b[39m | \u001b[39m0.1058   \u001b[39m | \u001b[39m0.6228   \u001b[39m | \u001b[39m0.09552  \u001b[39m | \u001b[39m0.5233   \u001b[39m | \u001b[39m0.2164   \u001b[39m | \u001b[39m0.8513   \u001b[39m | \u001b[39m0.7733   \u001b[39m | \u001b[39m0.4494   \u001b[39m | \u001b[39m0.4353   \u001b[39m | \u001b[39m0.6723   \u001b[39m | \u001b[39m0.2514   \u001b[39m | \u001b[39m0.8904   \u001b[39m | \u001b[39m0.7456   \u001b[39m |\n",
      "=========================================================================================================================================================================================================================\n",
      "Best Coefficients: [np.float64(0.26204863572602977), np.float64(0.701753663504752), np.float64(0.6556841295998735), np.float64(0.5540460170846806), np.float64(0.26984740579408284), np.float64(0.5881334691620779), np.float64(0.7687156228212502), np.float64(0.46627756304312595), np.float64(0.9849695281856226), np.float64(0.7262830374620484), np.float64(0.7416968002766335), np.float64(0.3902703957428125), np.float64(0.5434964647468382), np.float64(0.10854870254564664), np.float64(0.4196632295771747), np.float64(0.060629244689290096)]\n",
      "Best Val Accuracy: 0.88\n",
      "Non-zero alphas: 5\n"
     ]
    },
    {
     "name": "stderr",
     "output_type": "stream",
     "text": [
      "Building TRAIN_KERNEL: 100%|██████████| 1225/1225 [00:30<00:00, 40.70it/s]\n"
     ]
    },
    {
     "name": "stdout",
     "output_type": "stream",
     "text": [
      "Train Accuracy: 0.78\n"
     ]
    },
    {
     "name": "stderr",
     "output_type": "stream",
     "text": [
      "Building TEST_KERNEL: 100%|██████████| 2500/2500 [01:10<00:00, 35.66it/s]\n"
     ]
    },
    {
     "name": "stdout",
     "output_type": "stream",
     "text": [
      "Validation Accuracy: 0.74\n"
     ]
    },
    {
     "name": "stderr",
     "output_type": "stream",
     "text": [
      "Building TEST_KERNEL: 100%|██████████| 5000/5000 [02:12<00:00, 37.71it/s]\n"
     ]
    },
    {
     "name": "stdout",
     "output_type": "stream",
     "text": [
      "Test Accuracy: 0.74\n",
      "Saving model...\n",
      "|   iter    |  target   |  coeff_0  |  coeff_1  | coeff_10  | coeff_11  | coeff_12  | coeff_13  | coeff_14  | coeff_15  |  coeff_2  |  coeff_3  |  coeff_4  |  coeff_5  |  coeff_6  |  coeff_7  |  coeff_8  |  coeff_9  |\n",
      "-------------------------------------------------------------------------------------------------------------------------------------------------------------------------------------------------------------------------\n",
      "Non-zero alphas: 10\n"
     ]
    },
    {
     "name": "stderr",
     "output_type": "stream",
     "text": [
      "Building TRAIN_KERNEL: 100%|██████████| 1225/1225 [01:04<00:00, 19.08it/s]\n",
      "Building TEST_KERNEL: 100%|██████████| 2500/2500 [02:11<00:00, 18.99it/s]\n"
     ]
    },
    {
     "name": "stdout",
     "output_type": "stream",
     "text": [
      "| \u001b[39m1        \u001b[39m | \u001b[39m0.6      \u001b[39m | \u001b[39m0.3745   \u001b[39m | \u001b[39m0.9507   \u001b[39m | \u001b[39m0.732    \u001b[39m | \u001b[39m0.5987   \u001b[39m | \u001b[39m0.156    \u001b[39m | \u001b[39m0.156    \u001b[39m | \u001b[39m0.05808  \u001b[39m | \u001b[39m0.8662   \u001b[39m | \u001b[39m0.6011   \u001b[39m | \u001b[39m0.7081   \u001b[39m | \u001b[39m0.02058  \u001b[39m | \u001b[39m0.9699   \u001b[39m | \u001b[39m0.8324   \u001b[39m | \u001b[39m0.2123   \u001b[39m | \u001b[39m0.1818   \u001b[39m | \u001b[39m0.1834   \u001b[39m |\n",
      "Non-zero alphas: 10\n"
     ]
    },
    {
     "name": "stderr",
     "output_type": "stream",
     "text": [
      "Building TRAIN_KERNEL: 100%|██████████| 1225/1225 [01:06<00:00, 18.28it/s]\n",
      "Building TEST_KERNEL: 100%|██████████| 2500/2500 [02:12<00:00, 18.81it/s]\n"
     ]
    },
    {
     "name": "stdout",
     "output_type": "stream",
     "text": [
      "| \u001b[39m2        \u001b[39m | \u001b[39m0.6      \u001b[39m | \u001b[39m0.3042   \u001b[39m | \u001b[39m0.5248   \u001b[39m | \u001b[39m0.4319   \u001b[39m | \u001b[39m0.2912   \u001b[39m | \u001b[39m0.6119   \u001b[39m | \u001b[39m0.1395   \u001b[39m | \u001b[39m0.2921   \u001b[39m | \u001b[39m0.3664   \u001b[39m | \u001b[39m0.4561   \u001b[39m | \u001b[39m0.7852   \u001b[39m | \u001b[39m0.1997   \u001b[39m | \u001b[39m0.5142   \u001b[39m | \u001b[39m0.5924   \u001b[39m | \u001b[39m0.04645  \u001b[39m | \u001b[39m0.6075   \u001b[39m | \u001b[39m0.1705   \u001b[39m |\n",
      "Non-zero alphas: 10\n"
     ]
    },
    {
     "name": "stderr",
     "output_type": "stream",
     "text": [
      "Building TRAIN_KERNEL: 100%|██████████| 1225/1225 [01:05<00:00, 18.66it/s]\n",
      "Building TEST_KERNEL: 100%|██████████| 2500/2500 [02:11<00:00, 18.98it/s]\n"
     ]
    },
    {
     "name": "stdout",
     "output_type": "stream",
     "text": [
      "| \u001b[35m3        \u001b[39m | \u001b[35m0.8      \u001b[39m | \u001b[35m0.06505  \u001b[39m | \u001b[35m0.9489   \u001b[39m | \u001b[35m0.9656   \u001b[39m | \u001b[35m0.8084   \u001b[39m | \u001b[35m0.3046   \u001b[39m | \u001b[35m0.09767  \u001b[39m | \u001b[35m0.6842   \u001b[39m | \u001b[35m0.4402   \u001b[39m | \u001b[35m0.122    \u001b[39m | \u001b[35m0.4952   \u001b[39m | \u001b[35m0.03439  \u001b[39m | \u001b[35m0.9093   \u001b[39m | \u001b[35m0.2588   \u001b[39m | \u001b[35m0.6625   \u001b[39m | \u001b[35m0.3117   \u001b[39m | \u001b[35m0.5201   \u001b[39m |\n",
      "Non-zero alphas: 10\n"
     ]
    },
    {
     "name": "stderr",
     "output_type": "stream",
     "text": [
      "Building TRAIN_KERNEL: 100%|██████████| 1225/1225 [01:05<00:00, 18.70it/s]\n",
      "Building TEST_KERNEL: 100%|██████████| 2500/2500 [02:11<00:00, 19.01it/s]\n"
     ]
    },
    {
     "name": "stdout",
     "output_type": "stream",
     "text": [
      "| \u001b[39m4        \u001b[39m | \u001b[39m0.56     \u001b[39m | \u001b[39m0.5467   \u001b[39m | \u001b[39m0.1849   \u001b[39m | \u001b[39m0.9696   \u001b[39m | \u001b[39m0.7751   \u001b[39m | \u001b[39m0.9395   \u001b[39m | \u001b[39m0.8948   \u001b[39m | \u001b[39m0.5979   \u001b[39m | \u001b[39m0.9219   \u001b[39m | \u001b[39m0.08849  \u001b[39m | \u001b[39m0.196    \u001b[39m | \u001b[39m0.04523  \u001b[39m | \u001b[39m0.3253   \u001b[39m | \u001b[39m0.3887   \u001b[39m | \u001b[39m0.2713   \u001b[39m | \u001b[39m0.8287   \u001b[39m | \u001b[39m0.3568   \u001b[39m |\n",
      "Non-zero alphas: 10\n"
     ]
    },
    {
     "name": "stderr",
     "output_type": "stream",
     "text": [
      "Building TRAIN_KERNEL: 100%|██████████| 1225/1225 [01:04<00:00, 19.08it/s]\n",
      "Building TEST_KERNEL: 100%|██████████| 2500/2500 [02:11<00:00, 19.05it/s]\n"
     ]
    },
    {
     "name": "stdout",
     "output_type": "stream",
     "text": [
      "| \u001b[39m5        \u001b[39m | \u001b[39m0.74     \u001b[39m | \u001b[39m0.2809   \u001b[39m | \u001b[39m0.5427   \u001b[39m | \u001b[39m0.1409   \u001b[39m | \u001b[39m0.8022   \u001b[39m | \u001b[39m0.07455  \u001b[39m | \u001b[39m0.9869   \u001b[39m | \u001b[39m0.7722   \u001b[39m | \u001b[39m0.1987   \u001b[39m | \u001b[39m0.005522 \u001b[39m | \u001b[39m0.8155   \u001b[39m | \u001b[39m0.7069   \u001b[39m | \u001b[39m0.729    \u001b[39m | \u001b[39m0.7713   \u001b[39m | \u001b[39m0.07404  \u001b[39m | \u001b[39m0.3585   \u001b[39m | \u001b[39m0.1159   \u001b[39m |\n",
      "Non-zero alphas: 10\n"
     ]
    },
    {
     "name": "stderr",
     "output_type": "stream",
     "text": [
      "Building TRAIN_KERNEL: 100%|██████████| 1225/1225 [01:07<00:00, 18.09it/s]\n",
      "Building TEST_KERNEL: 100%|██████████| 2500/2500 [02:11<00:00, 18.94it/s]\n"
     ]
    },
    {
     "name": "stdout",
     "output_type": "stream",
     "text": [
      "| \u001b[39m6        \u001b[39m | \u001b[39m0.68     \u001b[39m | \u001b[39m0.3739   \u001b[39m | \u001b[39m0.4383   \u001b[39m | \u001b[39m0.1525   \u001b[39m | \u001b[39m0.579    \u001b[39m | \u001b[39m0.1402   \u001b[39m | \u001b[39m0.9153   \u001b[39m | \u001b[39m0.4157   \u001b[39m | \u001b[39m0.04265  \u001b[39m | \u001b[39m0.001764 \u001b[39m | \u001b[39m0.6763   \u001b[39m | \u001b[39m0.6115   \u001b[39m | \u001b[39m0.7703   \u001b[39m | \u001b[39m0.7494   \u001b[39m | \u001b[39m0.003077 \u001b[39m | \u001b[39m0.167    \u001b[39m | \u001b[39m0.3259   \u001b[39m |\n",
      "Non-zero alphas: 10\n"
     ]
    },
    {
     "name": "stderr",
     "output_type": "stream",
     "text": [
      "Building TRAIN_KERNEL: 100%|██████████| 1225/1225 [01:05<00:00, 18.81it/s]\n",
      "Building TEST_KERNEL: 100%|██████████| 2500/2500 [02:12<00:00, 18.91it/s]\n"
     ]
    },
    {
     "name": "stdout",
     "output_type": "stream",
     "text": [
      "| \u001b[39m7        \u001b[39m | \u001b[39m0.74     \u001b[39m | \u001b[39m0.0      \u001b[39m | \u001b[39m1.0      \u001b[39m | \u001b[39m1.0      \u001b[39m | \u001b[39m0.9221   \u001b[39m | \u001b[39m0.2245   \u001b[39m | \u001b[39m0.07957  \u001b[39m | \u001b[39m0.8879   \u001b[39m | \u001b[39m0.2959   \u001b[39m | \u001b[39m0.0      \u001b[39m | \u001b[39m0.4651   \u001b[39m | \u001b[39m0.06819  \u001b[39m | \u001b[39m0.9833   \u001b[39m | \u001b[39m0.1204   \u001b[39m | \u001b[39m0.8268   \u001b[39m | \u001b[39m0.2624   \u001b[39m | \u001b[39m0.6183   \u001b[39m |\n",
      "Non-zero alphas: 10\n"
     ]
    },
    {
     "name": "stderr",
     "output_type": "stream",
     "text": [
      "Building TRAIN_KERNEL: 100%|██████████| 1225/1225 [01:07<00:00, 18.18it/s]\n",
      "Building TEST_KERNEL: 100%|██████████| 2500/2500 [02:11<00:00, 18.94it/s]\n"
     ]
    },
    {
     "name": "stdout",
     "output_type": "stream",
     "text": [
      "| \u001b[39m8        \u001b[39m | \u001b[39m0.7      \u001b[39m | \u001b[39m0.0      \u001b[39m | \u001b[39m1.0      \u001b[39m | \u001b[39m1.0      \u001b[39m | \u001b[39m0.6739   \u001b[39m | \u001b[39m0.5087   \u001b[39m | \u001b[39m0.0      \u001b[39m | \u001b[39m0.4353   \u001b[39m | \u001b[39m0.6555   \u001b[39m | \u001b[39m0.06542  \u001b[39m | \u001b[39m0.3759   \u001b[39m | \u001b[39m0.0      \u001b[39m | \u001b[39m0.9248   \u001b[39m | \u001b[39m0.101    \u001b[39m | \u001b[39m0.8197   \u001b[39m | \u001b[39m0.3395   \u001b[39m | \u001b[39m0.6462   \u001b[39m |\n",
      "Non-zero alphas: 10\n"
     ]
    },
    {
     "name": "stderr",
     "output_type": "stream",
     "text": [
      "Building TRAIN_KERNEL: 100%|██████████| 1225/1225 [01:06<00:00, 18.48it/s]\n",
      "Building TEST_KERNEL: 100%|██████████| 2500/2500 [02:11<00:00, 18.96it/s]\n"
     ]
    },
    {
     "name": "stdout",
     "output_type": "stream",
     "text": [
      "| \u001b[39m9        \u001b[39m | \u001b[39m0.6      \u001b[39m | \u001b[39m0.2381   \u001b[39m | \u001b[39m0.5075   \u001b[39m | \u001b[39m0.3218   \u001b[39m | \u001b[39m0.6104   \u001b[39m | \u001b[39m0.9135   \u001b[39m | \u001b[39m0.8304   \u001b[39m | \u001b[39m0.3073   \u001b[39m | \u001b[39m0.6383   \u001b[39m | \u001b[39m0.978    \u001b[39m | \u001b[39m0.6164   \u001b[39m | \u001b[39m0.5837   \u001b[39m | \u001b[39m0.1719   \u001b[39m | \u001b[39m0.1725   \u001b[39m | \u001b[39m0.1669   \u001b[39m | \u001b[39m0.9974   \u001b[39m | \u001b[39m0.2141   \u001b[39m |\n",
      "Non-zero alphas: 10\n"
     ]
    },
    {
     "name": "stderr",
     "output_type": "stream",
     "text": [
      "Building TRAIN_KERNEL: 100%|██████████| 1225/1225 [01:06<00:00, 18.37it/s]\n",
      "Building TEST_KERNEL: 100%|██████████| 2500/2500 [02:10<00:00, 19.09it/s]\n"
     ]
    },
    {
     "name": "stdout",
     "output_type": "stream",
     "text": [
      "| \u001b[39m10       \u001b[39m | \u001b[39m0.8      \u001b[39m | \u001b[39m0.0      \u001b[39m | \u001b[39m1.0      \u001b[39m | \u001b[39m1.0      \u001b[39m | \u001b[39m0.9002   \u001b[39m | \u001b[39m0.205    \u001b[39m | \u001b[39m0.2173   \u001b[39m | \u001b[39m0.8435   \u001b[39m | \u001b[39m0.3765   \u001b[39m | \u001b[39m0.0      \u001b[39m | \u001b[39m0.5762   \u001b[39m | \u001b[39m0.004094 \u001b[39m | \u001b[39m0.825    \u001b[39m | \u001b[39m0.4782   \u001b[39m | \u001b[39m0.4397   \u001b[39m | \u001b[39m0.3513   \u001b[39m | \u001b[39m0.3519   \u001b[39m |\n",
      "Non-zero alphas: 10\n"
     ]
    },
    {
     "name": "stderr",
     "output_type": "stream",
     "text": [
      "Building TRAIN_KERNEL: 100%|██████████| 1225/1225 [01:05<00:00, 18.76it/s]\n",
      "Building TEST_KERNEL: 100%|██████████| 2500/2500 [02:12<00:00, 18.83it/s]\n"
     ]
    },
    {
     "name": "stdout",
     "output_type": "stream",
     "text": [
      "| \u001b[39m11       \u001b[39m | \u001b[39m0.78     \u001b[39m | \u001b[39m0.0      \u001b[39m | \u001b[39m0.7713   \u001b[39m | \u001b[39m0.925    \u001b[39m | \u001b[39m0.9106   \u001b[39m | \u001b[39m0.08446  \u001b[39m | \u001b[39m0.2521   \u001b[39m | \u001b[39m0.947    \u001b[39m | \u001b[39m0.3995   \u001b[39m | \u001b[39m0.4059   \u001b[39m | \u001b[39m0.7537   \u001b[39m | \u001b[39m0.346    \u001b[39m | \u001b[39m0.9863   \u001b[39m | \u001b[39m0.4193   \u001b[39m | \u001b[39m0.6592   \u001b[39m | \u001b[39m0.3139   \u001b[39m | \u001b[39m0.2776   \u001b[39m |\n",
      "Non-zero alphas: 10\n"
     ]
    },
    {
     "name": "stderr",
     "output_type": "stream",
     "text": [
      "Building TRAIN_KERNEL: 100%|██████████| 1225/1225 [01:05<00:00, 18.76it/s]\n",
      "Building TEST_KERNEL: 100%|██████████| 2500/2500 [02:12<00:00, 18.90it/s]\n"
     ]
    },
    {
     "name": "stdout",
     "output_type": "stream",
     "text": [
      "| \u001b[39m12       \u001b[39m | \u001b[39m0.78     \u001b[39m | \u001b[39m0.0      \u001b[39m | \u001b[39m1.0      \u001b[39m | \u001b[39m1.0      \u001b[39m | \u001b[39m0.9609   \u001b[39m | \u001b[39m0.1722   \u001b[39m | \u001b[39m0.0      \u001b[39m | \u001b[39m0.956    \u001b[39m | \u001b[39m0.1465   \u001b[39m | \u001b[39m0.6015   \u001b[39m | \u001b[39m0.3334   \u001b[39m | \u001b[39m0.0      \u001b[39m | \u001b[39m0.8227   \u001b[39m | \u001b[39m0.4628   \u001b[39m | \u001b[39m0.3278   \u001b[39m | \u001b[39m0.2301   \u001b[39m | \u001b[39m0.5702   \u001b[39m |\n",
      "Non-zero alphas: 10\n"
     ]
    },
    {
     "name": "stderr",
     "output_type": "stream",
     "text": [
      "Building TRAIN_KERNEL: 100%|██████████| 1225/1225 [01:05<00:00, 18.61it/s]\n",
      "Building TEST_KERNEL: 100%|██████████| 2500/2500 [02:08<00:00, 19.51it/s]\n"
     ]
    },
    {
     "name": "stdout",
     "output_type": "stream",
     "text": [
      "| \u001b[39m13       \u001b[39m | \u001b[39m0.72     \u001b[39m | \u001b[39m0.03324  \u001b[39m | \u001b[39m0.9854   \u001b[39m | \u001b[39m0.3957   \u001b[39m | \u001b[39m0.7153   \u001b[39m | \u001b[39m0.08196  \u001b[39m | \u001b[39m0.5365   \u001b[39m | \u001b[39m0.9672   \u001b[39m | \u001b[39m0.565    \u001b[39m | \u001b[39m0.5547   \u001b[39m | \u001b[39m0.7384   \u001b[39m | \u001b[39m0.1252   \u001b[39m | \u001b[39m0.994    \u001b[39m | \u001b[39m0.2896   \u001b[39m | \u001b[39m0.4967   \u001b[39m | \u001b[39m0.3717   \u001b[39m | \u001b[39m0.9596   \u001b[39m |\n",
      "Non-zero alphas: 10\n"
     ]
    },
    {
     "name": "stderr",
     "output_type": "stream",
     "text": [
      "Building TRAIN_KERNEL: 100%|██████████| 1225/1225 [01:12<00:00, 16.85it/s]\n",
      "Building TEST_KERNEL: 100%|██████████| 2500/2500 [02:19<00:00, 17.87it/s]\n"
     ]
    },
    {
     "name": "stdout",
     "output_type": "stream",
     "text": [
      "| \u001b[39m14       \u001b[39m | \u001b[39m0.72     \u001b[39m | \u001b[39m0.3161   \u001b[39m | \u001b[39m1.0      \u001b[39m | \u001b[39m1.0      \u001b[39m | \u001b[39m1.0      \u001b[39m | \u001b[39m0.0      \u001b[39m | \u001b[39m0.0      \u001b[39m | \u001b[39m0.7813   \u001b[39m | \u001b[39m0.09914  \u001b[39m | \u001b[39m0.2645   \u001b[39m | \u001b[39m0.6292   \u001b[39m | \u001b[39m0.0      \u001b[39m | \u001b[39m1.0      \u001b[39m | \u001b[39m0.0      \u001b[39m | \u001b[39m0.3093   \u001b[39m | \u001b[39m0.407    \u001b[39m | \u001b[39m0.05683  \u001b[39m |\n",
      "Non-zero alphas: 10\n"
     ]
    },
    {
     "name": "stderr",
     "output_type": "stream",
     "text": [
      "Building TRAIN_KERNEL: 100%|██████████| 1225/1225 [01:04<00:00, 19.00it/s]\n",
      "Building TEST_KERNEL: 100%|██████████| 2500/2500 [02:12<00:00, 18.88it/s]\n"
     ]
    },
    {
     "name": "stdout",
     "output_type": "stream",
     "text": [
      "| \u001b[39m15       \u001b[39m | \u001b[39m0.76     \u001b[39m | \u001b[39m0.2865   \u001b[39m | \u001b[39m0.979    \u001b[39m | \u001b[39m0.5833   \u001b[39m | \u001b[39m0.8923   \u001b[39m | \u001b[39m0.3642   \u001b[39m | \u001b[39m0.2071   \u001b[39m | \u001b[39m0.7026   \u001b[39m | \u001b[39m0.08297  \u001b[39m | \u001b[39m0.2822   \u001b[39m | \u001b[39m0.7895   \u001b[39m | \u001b[39m0.2962   \u001b[39m | \u001b[39m0.8545   \u001b[39m | \u001b[39m0.6963   \u001b[39m | \u001b[39m0.8442   \u001b[39m | \u001b[39m0.2892   \u001b[39m | \u001b[39m0.991    \u001b[39m |\n",
      "Non-zero alphas: 10\n"
     ]
    },
    {
     "name": "stderr",
     "output_type": "stream",
     "text": [
      "Building TRAIN_KERNEL: 100%|██████████| 1225/1225 [01:06<00:00, 18.44it/s]\n",
      "Building TEST_KERNEL: 100%|██████████| 2500/2500 [02:27<00:00, 16.92it/s]\n"
     ]
    },
    {
     "name": "stdout",
     "output_type": "stream",
     "text": [
      "| \u001b[39m16       \u001b[39m | \u001b[39m0.76     \u001b[39m | \u001b[39m0.0      \u001b[39m | \u001b[39m0.9194   \u001b[39m | \u001b[39m1.0      \u001b[39m | \u001b[39m0.7419   \u001b[39m | \u001b[39m0.2054   \u001b[39m | \u001b[39m0.0      \u001b[39m | \u001b[39m1.0      \u001b[39m | \u001b[39m0.2668   \u001b[39m | \u001b[39m0.2481   \u001b[39m | \u001b[39m0.5811   \u001b[39m | \u001b[39m0.0      \u001b[39m | \u001b[39m0.5726   \u001b[39m | \u001b[39m0.8877   \u001b[39m | \u001b[39m0.916    \u001b[39m | \u001b[39m0.02217  \u001b[39m | \u001b[39m0.4158   \u001b[39m |\n",
      "Non-zero alphas: 10\n"
     ]
    },
    {
     "name": "stderr",
     "output_type": "stream",
     "text": [
      "Building TRAIN_KERNEL: 100%|██████████| 1225/1225 [01:17<00:00, 15.78it/s]\n",
      "Building TEST_KERNEL: 100%|██████████| 2500/2500 [02:26<00:00, 17.11it/s]\n"
     ]
    },
    {
     "name": "stdout",
     "output_type": "stream",
     "text": [
      "| \u001b[39m17       \u001b[39m | \u001b[39m0.78     \u001b[39m | \u001b[39m0.4808   \u001b[39m | \u001b[39m0.6213   \u001b[39m | \u001b[39m0.975    \u001b[39m | \u001b[39m0.6506   \u001b[39m | \u001b[39m0.1401   \u001b[39m | \u001b[39m0.3781   \u001b[39m | \u001b[39m0.9534   \u001b[39m | \u001b[39m0.02683  \u001b[39m | \u001b[39m0.124    \u001b[39m | \u001b[39m0.5893   \u001b[39m | \u001b[39m0.93     \u001b[39m | \u001b[39m0.3812   \u001b[39m | \u001b[39m0.6618   \u001b[39m | \u001b[39m0.7573   \u001b[39m | \u001b[39m0.2634   \u001b[39m | \u001b[39m0.3869   \u001b[39m |\n",
      "Non-zero alphas: 10\n"
     ]
    },
    {
     "name": "stderr",
     "output_type": "stream",
     "text": [
      "Building TRAIN_KERNEL: 100%|██████████| 1225/1225 [01:08<00:00, 17.78it/s]\n",
      "Building TEST_KERNEL: 100%|██████████| 2500/2500 [02:26<00:00, 17.10it/s]\n"
     ]
    },
    {
     "name": "stdout",
     "output_type": "stream",
     "text": [
      "| \u001b[39m18       \u001b[39m | \u001b[39m0.8      \u001b[39m | \u001b[39m0.0      \u001b[39m | \u001b[39m1.0      \u001b[39m | \u001b[39m1.0      \u001b[39m | \u001b[39m1.0      \u001b[39m | \u001b[39m0.01279  \u001b[39m | \u001b[39m0.05444  \u001b[39m | \u001b[39m1.0      \u001b[39m | \u001b[39m0.1907   \u001b[39m | \u001b[39m0.002503 \u001b[39m | \u001b[39m0.3961   \u001b[39m | \u001b[39m0.8848   \u001b[39m | \u001b[39m0.7725   \u001b[39m | \u001b[39m0.9101   \u001b[39m | \u001b[39m0.395    \u001b[39m | \u001b[39m0.3766   \u001b[39m | \u001b[39m0.6418   \u001b[39m |\n",
      "Non-zero alphas: 10\n"
     ]
    },
    {
     "name": "stderr",
     "output_type": "stream",
     "text": [
      "Building TRAIN_KERNEL: 100%|██████████| 1225/1225 [01:02<00:00, 19.50it/s]\n",
      "Building TEST_KERNEL: 100%|██████████| 2500/2500 [02:01<00:00, 20.58it/s]\n"
     ]
    },
    {
     "name": "stdout",
     "output_type": "stream",
     "text": [
      "| \u001b[39m19       \u001b[39m | \u001b[39m0.76     \u001b[39m | \u001b[39m0.705    \u001b[39m | \u001b[39m0.5529   \u001b[39m | \u001b[39m0.5818   \u001b[39m | \u001b[39m0.9529   \u001b[39m | \u001b[39m0.06259  \u001b[39m | \u001b[39m0.04109  \u001b[39m | \u001b[39m0.9599   \u001b[39m | \u001b[39m0.2098   \u001b[39m | \u001b[39m0.05659  \u001b[39m | \u001b[39m0.073    \u001b[39m | \u001b[39m0.6613   \u001b[39m | \u001b[39m0.7634   \u001b[39m | \u001b[39m0.8173   \u001b[39m | \u001b[39m0.8867   \u001b[39m | \u001b[39m0.7514   \u001b[39m | \u001b[39m0.9012   \u001b[39m |\n",
      "Non-zero alphas: 10\n"
     ]
    },
    {
     "name": "stderr",
     "output_type": "stream",
     "text": [
      "Building TRAIN_KERNEL: 100%|██████████| 1225/1225 [00:59<00:00, 20.54it/s]\n",
      "Building TEST_KERNEL: 100%|██████████| 2500/2500 [02:03<00:00, 20.31it/s]\n"
     ]
    },
    {
     "name": "stdout",
     "output_type": "stream",
     "text": [
      "| \u001b[39m20       \u001b[39m | \u001b[39m0.76     \u001b[39m | \u001b[39m0.0536   \u001b[39m | \u001b[39m0.8623   \u001b[39m | \u001b[39m0.6606   \u001b[39m | \u001b[39m0.7817   \u001b[39m | \u001b[39m0.07767  \u001b[39m | \u001b[39m0.3819   \u001b[39m | \u001b[39m0.9724   \u001b[39m | \u001b[39m0.796    \u001b[39m | \u001b[39m0.1555   \u001b[39m | \u001b[39m0.101    \u001b[39m | \u001b[39m0.4934   \u001b[39m | \u001b[39m0.8472   \u001b[39m | \u001b[39m0.8918   \u001b[39m | \u001b[39m0.7455   \u001b[39m | \u001b[39m0.1839   \u001b[39m | \u001b[39m0.4461   \u001b[39m |\n",
      "Non-zero alphas: 10\n"
     ]
    },
    {
     "name": "stderr",
     "output_type": "stream",
     "text": [
      "Building TRAIN_KERNEL: 100%|██████████| 1225/1225 [01:01<00:00, 19.80it/s]\n",
      "Building TEST_KERNEL: 100%|██████████| 2500/2500 [02:00<00:00, 20.67it/s]\n"
     ]
    },
    {
     "name": "stdout",
     "output_type": "stream",
     "text": [
      "| \u001b[39m21       \u001b[39m | \u001b[39m0.78     \u001b[39m | \u001b[39m0.1599   \u001b[39m | \u001b[39m1.0      \u001b[39m | \u001b[39m1.0      \u001b[39m | \u001b[39m1.0      \u001b[39m | \u001b[39m0.0      \u001b[39m | \u001b[39m0.26     \u001b[39m | \u001b[39m1.0      \u001b[39m | \u001b[39m0.0      \u001b[39m | \u001b[39m0.4842   \u001b[39m | \u001b[39m0.018    \u001b[39m | \u001b[39m1.0      \u001b[39m | \u001b[39m0.263    \u001b[39m | \u001b[39m1.0      \u001b[39m | \u001b[39m0.7484   \u001b[39m | \u001b[39m0.0      \u001b[39m | \u001b[39m1.0      \u001b[39m |\n",
      "Non-zero alphas: 10\n"
     ]
    },
    {
     "name": "stderr",
     "output_type": "stream",
     "text": [
      "Building TRAIN_KERNEL: 100%|██████████| 1225/1225 [00:59<00:00, 20.52it/s]\n",
      "Building TEST_KERNEL: 100%|██████████| 2500/2500 [02:05<00:00, 19.99it/s]\n"
     ]
    },
    {
     "name": "stdout",
     "output_type": "stream",
     "text": [
      "| \u001b[39m22       \u001b[39m | \u001b[39m0.76     \u001b[39m | \u001b[39m0.8998   \u001b[39m | \u001b[39m1.0      \u001b[39m | \u001b[39m1.0      \u001b[39m | \u001b[39m1.0      \u001b[39m | \u001b[39m0.0      \u001b[39m | \u001b[39m0.0      \u001b[39m | \u001b[39m1.0      \u001b[39m | \u001b[39m0.0      \u001b[39m | \u001b[39m0.0      \u001b[39m | \u001b[39m0.6788   \u001b[39m | \u001b[39m1.0      \u001b[39m | \u001b[39m0.6892   \u001b[39m | \u001b[39m1.0      \u001b[39m | \u001b[39m0.4661   \u001b[39m | \u001b[39m0.0      \u001b[39m | \u001b[39m1.0      \u001b[39m |\n",
      "Non-zero alphas: 10\n"
     ]
    },
    {
     "name": "stderr",
     "output_type": "stream",
     "text": [
      "Building TRAIN_KERNEL: 100%|██████████| 1225/1225 [01:04<00:00, 19.07it/s]\n",
      "Building TEST_KERNEL: 100%|██████████| 2500/2500 [02:06<00:00, 19.72it/s]\n"
     ]
    },
    {
     "name": "stdout",
     "output_type": "stream",
     "text": [
      "| \u001b[39m23       \u001b[39m | \u001b[39m0.8      \u001b[39m | \u001b[39m0.0      \u001b[39m | \u001b[39m0.1137   \u001b[39m | \u001b[39m1.0      \u001b[39m | \u001b[39m1.0      \u001b[39m | \u001b[39m0.0      \u001b[39m | \u001b[39m0.0      \u001b[39m | \u001b[39m1.0      \u001b[39m | \u001b[39m0.0      \u001b[39m | \u001b[39m0.1605   \u001b[39m | \u001b[39m0.3158   \u001b[39m | \u001b[39m1.0      \u001b[39m | \u001b[39m0.9407   \u001b[39m | \u001b[39m1.0      \u001b[39m | \u001b[39m0.7422   \u001b[39m | \u001b[39m0.0      \u001b[39m | \u001b[39m0.7039   \u001b[39m |\n",
      "Non-zero alphas: 10\n"
     ]
    },
    {
     "name": "stderr",
     "output_type": "stream",
     "text": [
      "Building TRAIN_KERNEL: 100%|██████████| 1225/1225 [01:04<00:00, 18.91it/s]\n",
      "Building TEST_KERNEL: 100%|██████████| 2500/2500 [02:06<00:00, 19.75it/s]\n"
     ]
    },
    {
     "name": "stdout",
     "output_type": "stream",
     "text": [
      "| \u001b[39m24       \u001b[39m | \u001b[39m0.56     \u001b[39m | \u001b[39m0.02051  \u001b[39m | \u001b[39m0.1065   \u001b[39m | \u001b[39m0.4321   \u001b[39m | \u001b[39m0.9828   \u001b[39m | \u001b[39m0.1677   \u001b[39m | \u001b[39m0.3376   \u001b[39m | \u001b[39m0.9096   \u001b[39m | \u001b[39m0.2623   \u001b[39m | \u001b[39m0.5887   \u001b[39m | \u001b[39m0.1437   \u001b[39m | \u001b[39m0.7623   \u001b[39m | \u001b[39m0.3887   \u001b[39m | \u001b[39m0.9884   \u001b[39m | \u001b[39m0.8593   \u001b[39m | \u001b[39m0.1479   \u001b[39m | \u001b[39m0.9536   \u001b[39m |\n",
      "Non-zero alphas: 10\n"
     ]
    },
    {
     "name": "stderr",
     "output_type": "stream",
     "text": [
      "Building TRAIN_KERNEL: 100%|██████████| 1225/1225 [01:03<00:00, 19.26it/s]\n",
      "Building TEST_KERNEL: 100%|██████████| 2500/2500 [02:05<00:00, 19.96it/s]\n"
     ]
    },
    {
     "name": "stdout",
     "output_type": "stream",
     "text": [
      "| \u001b[39m25       \u001b[39m | \u001b[39m0.76     \u001b[39m | \u001b[39m0.3542   \u001b[39m | \u001b[39m0.85     \u001b[39m | \u001b[39m1.0      \u001b[39m | \u001b[39m0.9496   \u001b[39m | \u001b[39m0.0      \u001b[39m | \u001b[39m0.0      \u001b[39m | \u001b[39m1.0      \u001b[39m | \u001b[39m0.0      \u001b[39m | \u001b[39m0.0      \u001b[39m | \u001b[39m0.06855  \u001b[39m | \u001b[39m1.0      \u001b[39m | \u001b[39m1.0      \u001b[39m | \u001b[39m0.9985   \u001b[39m | \u001b[39m0.9266   \u001b[39m | \u001b[39m0.0      \u001b[39m | \u001b[39m0.2241   \u001b[39m |\n",
      "Non-zero alphas: 10\n"
     ]
    },
    {
     "name": "stderr",
     "output_type": "stream",
     "text": [
      "Building TRAIN_KERNEL: 100%|██████████| 1225/1225 [01:05<00:00, 18.76it/s]\n",
      "Building TEST_KERNEL: 100%|██████████| 2500/2500 [02:07<00:00, 19.56it/s]\n"
     ]
    },
    {
     "name": "stdout",
     "output_type": "stream",
     "text": [
      "| \u001b[39m26       \u001b[39m | \u001b[39m0.78     \u001b[39m | \u001b[39m0.4192   \u001b[39m | \u001b[39m0.9356   \u001b[39m | \u001b[39m0.9733   \u001b[39m | \u001b[39m0.9763   \u001b[39m | \u001b[39m0.03454  \u001b[39m | \u001b[39m0.525    \u001b[39m | \u001b[39m0.9157   \u001b[39m | \u001b[39m0.914    \u001b[39m | \u001b[39m0.09154  \u001b[39m | \u001b[39m0.9575   \u001b[39m | \u001b[39m0.9896   \u001b[39m | \u001b[39m0.4704   \u001b[39m | \u001b[39m0.4975   \u001b[39m | \u001b[39m0.3517   \u001b[39m | \u001b[39m0.09691  \u001b[39m | \u001b[39m0.7283   \u001b[39m |\n",
      "Non-zero alphas: 10\n"
     ]
    },
    {
     "name": "stderr",
     "output_type": "stream",
     "text": [
      "Building TRAIN_KERNEL: 100%|██████████| 1225/1225 [01:05<00:00, 18.76it/s]\n",
      "Building TEST_KERNEL: 100%|██████████| 2500/2500 [02:08<00:00, 19.53it/s]\n"
     ]
    },
    {
     "name": "stdout",
     "output_type": "stream",
     "text": [
      "| \u001b[39m27       \u001b[39m | \u001b[39m0.76     \u001b[39m | \u001b[39m0.0      \u001b[39m | \u001b[39m1.0      \u001b[39m | \u001b[39m1.0      \u001b[39m | \u001b[39m1.0      \u001b[39m | \u001b[39m0.0      \u001b[39m | \u001b[39m0.0      \u001b[39m | \u001b[39m1.0      \u001b[39m | \u001b[39m0.0      \u001b[39m | \u001b[39m0.0      \u001b[39m | \u001b[39m1.0      \u001b[39m | \u001b[39m1.0      \u001b[39m | \u001b[39m0.2864   \u001b[39m | \u001b[39m0.4618   \u001b[39m | \u001b[39m0.5112   \u001b[39m | \u001b[39m0.0      \u001b[39m | \u001b[39m0.6594   \u001b[39m |\n",
      "Non-zero alphas: 10\n"
     ]
    },
    {
     "name": "stderr",
     "output_type": "stream",
     "text": [
      "Building TRAIN_KERNEL: 100%|██████████| 1225/1225 [01:04<00:00, 18.99it/s]\n",
      "Building TEST_KERNEL: 100%|██████████| 2500/2500 [02:14<00:00, 18.58it/s]\n"
     ]
    },
    {
     "name": "stdout",
     "output_type": "stream",
     "text": [
      "| \u001b[39m28       \u001b[39m | \u001b[39m0.74     \u001b[39m | \u001b[39m0.1528   \u001b[39m | \u001b[39m0.7817   \u001b[39m | \u001b[39m0.8808   \u001b[39m | \u001b[39m0.7845   \u001b[39m | \u001b[39m0.3116   \u001b[39m | \u001b[39m0.1323   \u001b[39m | \u001b[39m0.8546   \u001b[39m | \u001b[39m0.3078   \u001b[39m | \u001b[39m0.03888  \u001b[39m | \u001b[39m0.3297   \u001b[39m | \u001b[39m0.2425   \u001b[39m | \u001b[39m0.9622   \u001b[39m | \u001b[39m0.7197   \u001b[39m | \u001b[39m0.164    \u001b[39m | \u001b[39m0.01251  \u001b[39m | \u001b[39m0.4714   \u001b[39m |\n",
      "Non-zero alphas: 10\n"
     ]
    },
    {
     "name": "stderr",
     "output_type": "stream",
     "text": [
      "Building TRAIN_KERNEL: 100%|██████████| 1225/1225 [01:06<00:00, 18.55it/s]\n",
      "Building TEST_KERNEL: 100%|██████████| 2500/2500 [02:15<00:00, 18.41it/s]\n"
     ]
    },
    {
     "name": "stdout",
     "output_type": "stream",
     "text": [
      "| \u001b[39m29       \u001b[39m | \u001b[39m0.72     \u001b[39m | \u001b[39m0.9424   \u001b[39m | \u001b[39m0.7089   \u001b[39m | \u001b[39m0.9972   \u001b[39m | \u001b[39m0.634    \u001b[39m | \u001b[39m0.0154   \u001b[39m | \u001b[39m0.0548   \u001b[39m | \u001b[39m0.9516   \u001b[39m | \u001b[39m0.1374   \u001b[39m | \u001b[39m0.1408   \u001b[39m | \u001b[39m0.8623   \u001b[39m | \u001b[39m0.2106   \u001b[39m | \u001b[39m0.9529   \u001b[39m | \u001b[39m0.369    \u001b[39m | \u001b[39m0.9345   \u001b[39m | \u001b[39m0.8008   \u001b[39m | \u001b[39m0.835    \u001b[39m |\n",
      "Non-zero alphas: 10\n"
     ]
    },
    {
     "name": "stderr",
     "output_type": "stream",
     "text": [
      "Building TRAIN_KERNEL: 100%|██████████| 1225/1225 [01:05<00:00, 18.72it/s]\n",
      "Building TEST_KERNEL: 100%|██████████| 2500/2500 [02:18<00:00, 18.01it/s]\n"
     ]
    },
    {
     "name": "stdout",
     "output_type": "stream",
     "text": [
      "| \u001b[35m30       \u001b[39m | \u001b[35m0.84     \u001b[39m | \u001b[35m0.08742  \u001b[39m | \u001b[35m0.9648   \u001b[39m | \u001b[35m0.7378   \u001b[39m | \u001b[35m0.4011   \u001b[39m | \u001b[35m0.2062   \u001b[39m | \u001b[35m0.169    \u001b[39m | \u001b[35m0.886    \u001b[39m | \u001b[35m0.538    \u001b[39m | \u001b[35m0.07217  \u001b[39m | \u001b[35m0.9161   \u001b[39m | \u001b[35m0.9204   \u001b[39m | \u001b[35m0.8559   \u001b[39m | \u001b[35m0.6535   \u001b[39m | \u001b[35m0.4972   \u001b[39m | \u001b[35m0.2129   \u001b[39m | \u001b[35m0.5475   \u001b[39m |\n",
      "=========================================================================================================================================================================================================================\n",
      "Best Coefficients: [np.float64(0.0874205618846341), np.float64(0.9647802583555435), np.float64(0.0721693991164214), np.float64(0.9161092948684477), np.float64(0.9204216925013764), np.float64(0.8558527300337292), np.float64(0.6535169274630427), np.float64(0.4971851235546466), np.float64(0.21293228731487623), np.float64(0.5474834283562718), np.float64(0.7378211299285733), np.float64(0.40111767534805387), np.float64(0.20616467147053796), np.float64(0.16903180357030245), np.float64(0.8860412094180744), np.float64(0.5380439173340292)]\n",
      "Best Val Accuracy: 0.84\n",
      "Non-zero alphas: 10\n"
     ]
    },
    {
     "name": "stderr",
     "output_type": "stream",
     "text": [
      "Building TRAIN_KERNEL: 100%|██████████| 1225/1225 [01:09<00:00, 17.75it/s]\n"
     ]
    },
    {
     "name": "stdout",
     "output_type": "stream",
     "text": [
      "Train Accuracy: 0.88\n"
     ]
    },
    {
     "name": "stderr",
     "output_type": "stream",
     "text": [
      "Building TEST_KERNEL: 100%|██████████| 2500/2500 [02:15<00:00, 18.41it/s]\n"
     ]
    },
    {
     "name": "stdout",
     "output_type": "stream",
     "text": [
      "Validation Accuracy: 0.74\n"
     ]
    },
    {
     "name": "stderr",
     "output_type": "stream",
     "text": [
      "Building TEST_KERNEL: 100%|██████████| 5000/5000 [04:27<00:00, 18.66it/s]\n"
     ]
    },
    {
     "name": "stdout",
     "output_type": "stream",
     "text": [
      "Test Accuracy: 0.72\n",
      "Saving model...\n",
      "|   iter    |  target   |  coeff_0  |  coeff_1  | coeff_10  | coeff_11  | coeff_12  | coeff_13  | coeff_14  | coeff_15  |  coeff_2  |  coeff_3  |  coeff_4  |  coeff_5  |  coeff_6  |  coeff_7  |  coeff_8  |  coeff_9  |\n",
      "-------------------------------------------------------------------------------------------------------------------------------------------------------------------------------------------------------------------------\n",
      "Non-zero alphas: 8\n"
     ]
    },
    {
     "name": "stderr",
     "output_type": "stream",
     "text": [
      "Building TRAIN_KERNEL: 100%|██████████| 1225/1225 [00:49<00:00, 24.75it/s]\n",
      "Building TEST_KERNEL: 100%|██████████| 2500/2500 [01:46<00:00, 23.57it/s]\n"
     ]
    },
    {
     "name": "stdout",
     "output_type": "stream",
     "text": [
      "| \u001b[39m1        \u001b[39m | \u001b[39m0.68     \u001b[39m | \u001b[39m0.3745   \u001b[39m | \u001b[39m0.9507   \u001b[39m | \u001b[39m0.732    \u001b[39m | \u001b[39m0.5987   \u001b[39m | \u001b[39m0.156    \u001b[39m | \u001b[39m0.156    \u001b[39m | \u001b[39m0.05808  \u001b[39m | \u001b[39m0.8662   \u001b[39m | \u001b[39m0.6011   \u001b[39m | \u001b[39m0.7081   \u001b[39m | \u001b[39m0.02058  \u001b[39m | \u001b[39m0.9699   \u001b[39m | \u001b[39m0.8324   \u001b[39m | \u001b[39m0.2123   \u001b[39m | \u001b[39m0.1818   \u001b[39m | \u001b[39m0.1834   \u001b[39m |\n",
      "Non-zero alphas: 8\n"
     ]
    },
    {
     "name": "stderr",
     "output_type": "stream",
     "text": [
      "Building TRAIN_KERNEL: 100%|██████████| 1225/1225 [00:52<00:00, 23.17it/s]\n",
      "Building TEST_KERNEL: 100%|██████████| 2500/2500 [01:47<00:00, 23.27it/s]\n"
     ]
    },
    {
     "name": "stdout",
     "output_type": "stream",
     "text": [
      "| \u001b[39m2        \u001b[39m | \u001b[39m0.6      \u001b[39m | \u001b[39m0.3042   \u001b[39m | \u001b[39m0.5248   \u001b[39m | \u001b[39m0.4319   \u001b[39m | \u001b[39m0.2912   \u001b[39m | \u001b[39m0.6119   \u001b[39m | \u001b[39m0.1395   \u001b[39m | \u001b[39m0.2921   \u001b[39m | \u001b[39m0.3664   \u001b[39m | \u001b[39m0.4561   \u001b[39m | \u001b[39m0.7852   \u001b[39m | \u001b[39m0.1997   \u001b[39m | \u001b[39m0.5142   \u001b[39m | \u001b[39m0.5924   \u001b[39m | \u001b[39m0.04645  \u001b[39m | \u001b[39m0.6075   \u001b[39m | \u001b[39m0.1705   \u001b[39m |\n",
      "Non-zero alphas: 8\n"
     ]
    },
    {
     "name": "stderr",
     "output_type": "stream",
     "text": [
      "Building TRAIN_KERNEL: 100%|██████████| 1225/1225 [00:55<00:00, 21.98it/s]\n",
      "Building TEST_KERNEL: 100%|██████████| 2500/2500 [01:50<00:00, 22.58it/s]\n"
     ]
    },
    {
     "name": "stdout",
     "output_type": "stream",
     "text": [
      "| \u001b[39m3        \u001b[39m | \u001b[39m0.62     \u001b[39m | \u001b[39m0.06505  \u001b[39m | \u001b[39m0.9489   \u001b[39m | \u001b[39m0.9656   \u001b[39m | \u001b[39m0.8084   \u001b[39m | \u001b[39m0.3046   \u001b[39m | \u001b[39m0.09767  \u001b[39m | \u001b[39m0.6842   \u001b[39m | \u001b[39m0.4402   \u001b[39m | \u001b[39m0.122    \u001b[39m | \u001b[39m0.4952   \u001b[39m | \u001b[39m0.03439  \u001b[39m | \u001b[39m0.9093   \u001b[39m | \u001b[39m0.2588   \u001b[39m | \u001b[39m0.6625   \u001b[39m | \u001b[39m0.3117   \u001b[39m | \u001b[39m0.5201   \u001b[39m |\n",
      "Non-zero alphas: 8\n"
     ]
    },
    {
     "name": "stderr",
     "output_type": "stream",
     "text": [
      "Building TRAIN_KERNEL: 100%|██████████| 1225/1225 [00:50<00:00, 24.15it/s]\n",
      "Building TEST_KERNEL: 100%|██████████| 2500/2500 [01:55<00:00, 21.65it/s]\n"
     ]
    },
    {
     "name": "stdout",
     "output_type": "stream",
     "text": [
      "| \u001b[39m4        \u001b[39m | \u001b[39m0.66     \u001b[39m | \u001b[39m0.5467   \u001b[39m | \u001b[39m0.1849   \u001b[39m | \u001b[39m0.9696   \u001b[39m | \u001b[39m0.7751   \u001b[39m | \u001b[39m0.9395   \u001b[39m | \u001b[39m0.8948   \u001b[39m | \u001b[39m0.5979   \u001b[39m | \u001b[39m0.9219   \u001b[39m | \u001b[39m0.08849  \u001b[39m | \u001b[39m0.196    \u001b[39m | \u001b[39m0.04523  \u001b[39m | \u001b[39m0.3253   \u001b[39m | \u001b[39m0.3887   \u001b[39m | \u001b[39m0.2713   \u001b[39m | \u001b[39m0.8287   \u001b[39m | \u001b[39m0.3568   \u001b[39m |\n",
      "Non-zero alphas: 8\n"
     ]
    },
    {
     "name": "stderr",
     "output_type": "stream",
     "text": [
      "Building TRAIN_KERNEL: 100%|██████████| 1225/1225 [00:50<00:00, 24.18it/s]\n",
      "Building TEST_KERNEL: 100%|██████████| 2500/2500 [01:52<00:00, 22.19it/s]\n"
     ]
    },
    {
     "name": "stdout",
     "output_type": "stream",
     "text": [
      "| \u001b[39m5        \u001b[39m | \u001b[39m0.66     \u001b[39m | \u001b[39m0.2809   \u001b[39m | \u001b[39m0.5427   \u001b[39m | \u001b[39m0.1409   \u001b[39m | \u001b[39m0.8022   \u001b[39m | \u001b[39m0.07455  \u001b[39m | \u001b[39m0.9869   \u001b[39m | \u001b[39m0.7722   \u001b[39m | \u001b[39m0.1987   \u001b[39m | \u001b[39m0.005522 \u001b[39m | \u001b[39m0.8155   \u001b[39m | \u001b[39m0.7069   \u001b[39m | \u001b[39m0.729    \u001b[39m | \u001b[39m0.7713   \u001b[39m | \u001b[39m0.07404  \u001b[39m | \u001b[39m0.3585   \u001b[39m | \u001b[39m0.1159   \u001b[39m |\n",
      "Non-zero alphas: 8\n"
     ]
    },
    {
     "name": "stderr",
     "output_type": "stream",
     "text": [
      "Building TRAIN_KERNEL: 100%|██████████| 1225/1225 [00:50<00:00, 24.12it/s]\n",
      "Building TEST_KERNEL: 100%|██████████| 2500/2500 [01:52<00:00, 22.14it/s]\n"
     ]
    },
    {
     "name": "stdout",
     "output_type": "stream",
     "text": [
      "| \u001b[39m6        \u001b[39m | \u001b[39m0.66     \u001b[39m | \u001b[39m0.3281   \u001b[39m | \u001b[39m0.2964   \u001b[39m | \u001b[39m0.2134   \u001b[39m | \u001b[39m0.7604   \u001b[39m | \u001b[39m0.9828   \u001b[39m | \u001b[39m0.7039   \u001b[39m | \u001b[39m0.7735   \u001b[39m | \u001b[39m0.3162   \u001b[39m | \u001b[39m0.7072   \u001b[39m | \u001b[39m0.6251   \u001b[39m | \u001b[39m0.1425   \u001b[39m | \u001b[39m0.6568   \u001b[39m | \u001b[39m0.9344   \u001b[39m | \u001b[39m0.5009   \u001b[39m | \u001b[39m0.873    \u001b[39m | \u001b[39m0.8991   \u001b[39m |\n",
      "Non-zero alphas: 8\n"
     ]
    },
    {
     "name": "stderr",
     "output_type": "stream",
     "text": [
      "Building TRAIN_KERNEL: 100%|██████████| 1225/1225 [00:50<00:00, 24.26it/s]\n",
      "Building TEST_KERNEL: 100%|██████████| 2500/2500 [01:53<00:00, 22.04it/s]\n"
     ]
    },
    {
     "name": "stdout",
     "output_type": "stream",
     "text": [
      "| \u001b[39m7        \u001b[39m | \u001b[39m0.66     \u001b[39m | \u001b[39m0.09017  \u001b[39m | \u001b[39m0.8852   \u001b[39m | \u001b[39m0.1796   \u001b[39m | \u001b[39m0.7708   \u001b[39m | \u001b[39m0.1383   \u001b[39m | \u001b[39m0.7279   \u001b[39m | \u001b[39m0.2384   \u001b[39m | \u001b[39m0.04143  \u001b[39m | \u001b[39m0.1589   \u001b[39m | \u001b[39m0.8166   \u001b[39m | \u001b[39m0.7594   \u001b[39m | \u001b[39m0.5768   \u001b[39m | \u001b[39m0.5352   \u001b[39m | \u001b[39m0.04738  \u001b[39m | \u001b[39m0.3533   \u001b[39m | \u001b[39m0.9031   \u001b[39m |\n",
      "Non-zero alphas: 8\n"
     ]
    },
    {
     "name": "stderr",
     "output_type": "stream",
     "text": [
      "Building TRAIN_KERNEL: 100%|██████████| 1225/1225 [00:50<00:00, 24.25it/s]\n",
      "Building TEST_KERNEL: 100%|██████████| 2500/2500 [01:54<00:00, 21.76it/s]\n"
     ]
    },
    {
     "name": "stdout",
     "output_type": "stream",
     "text": [
      "| \u001b[39m8        \u001b[39m | \u001b[39m0.64     \u001b[39m | \u001b[39m0.1491   \u001b[39m | \u001b[39m0.5135   \u001b[39m | \u001b[39m0.6306   \u001b[39m | \u001b[39m0.2698   \u001b[39m | \u001b[39m0.659    \u001b[39m | \u001b[39m0.2806   \u001b[39m | \u001b[39m0.3082   \u001b[39m | \u001b[39m0.0513   \u001b[39m | \u001b[39m0.7128   \u001b[39m | \u001b[39m0.8957   \u001b[39m | \u001b[39m0.1061   \u001b[39m | \u001b[39m0.2172   \u001b[39m | \u001b[39m0.3675   \u001b[39m | \u001b[39m0.2776   \u001b[39m | \u001b[39m0.5975   \u001b[39m | \u001b[39m0.09893  \u001b[39m |\n",
      "Non-zero alphas: 8\n"
     ]
    },
    {
     "name": "stderr",
     "output_type": "stream",
     "text": [
      "Building TRAIN_KERNEL: 100%|██████████| 1225/1225 [00:52<00:00, 23.47it/s]\n",
      "Building TEST_KERNEL: 100%|██████████| 2500/2500 [01:55<00:00, 21.71it/s]\n"
     ]
    },
    {
     "name": "stdout",
     "output_type": "stream",
     "text": [
      "| \u001b[35m9        \u001b[39m | \u001b[35m0.7      \u001b[39m | \u001b[35m0.2381   \u001b[39m | \u001b[35m0.5075   \u001b[39m | \u001b[35m0.3218   \u001b[39m | \u001b[35m0.6104   \u001b[39m | \u001b[35m0.9135   \u001b[39m | \u001b[35m0.8304   \u001b[39m | \u001b[35m0.3073   \u001b[39m | \u001b[35m0.6383   \u001b[39m | \u001b[35m0.978    \u001b[39m | \u001b[35m0.6164   \u001b[39m | \u001b[35m0.5837   \u001b[39m | \u001b[35m0.1719   \u001b[39m | \u001b[35m0.1725   \u001b[39m | \u001b[35m0.1669   \u001b[39m | \u001b[35m0.9974   \u001b[39m | \u001b[35m0.2141   \u001b[39m |\n",
      "Non-zero alphas: 8\n"
     ]
    },
    {
     "name": "stderr",
     "output_type": "stream",
     "text": [
      "Building TRAIN_KERNEL: 100%|██████████| 1225/1225 [00:50<00:00, 24.11it/s]\n",
      "Building TEST_KERNEL: 100%|██████████| 2500/2500 [02:00<00:00, 20.83it/s]\n"
     ]
    },
    {
     "name": "stdout",
     "output_type": "stream",
     "text": [
      "| \u001b[39m10       \u001b[39m | \u001b[39m0.64     \u001b[39m | \u001b[39m0.3632   \u001b[39m | \u001b[39m0.7983   \u001b[39m | \u001b[39m0.1446   \u001b[39m | \u001b[39m0.4988   \u001b[39m | \u001b[39m0.8227   \u001b[39m | \u001b[39m0.8843   \u001b[39m | \u001b[39m0.4379   \u001b[39m | \u001b[39m0.5409   \u001b[39m | \u001b[39m0.9995   \u001b[39m | \u001b[39m0.7721   \u001b[39m | \u001b[39m0.6431   \u001b[39m | \u001b[39m0.4228   \u001b[39m | \u001b[39m0.3164   \u001b[39m | \u001b[39m0.1464   \u001b[39m | \u001b[39m0.9489   \u001b[39m | \u001b[39m0.5876   \u001b[39m |\n",
      "Non-zero alphas: 8\n"
     ]
    },
    {
     "name": "stderr",
     "output_type": "stream",
     "text": [
      "Building TRAIN_KERNEL: 100%|██████████| 1225/1225 [00:50<00:00, 24.17it/s]\n",
      "Building TEST_KERNEL: 100%|██████████| 2500/2500 [01:56<00:00, 21.49it/s]\n"
     ]
    },
    {
     "name": "stdout",
     "output_type": "stream",
     "text": [
      "| \u001b[39m11       \u001b[39m | \u001b[39m0.66     \u001b[39m | \u001b[39m0.3157   \u001b[39m | \u001b[39m0.6635   \u001b[39m | \u001b[39m0.8042   \u001b[39m | \u001b[39m0.003167 \u001b[39m | \u001b[39m0.7017   \u001b[39m | \u001b[39m0.5368   \u001b[39m | \u001b[39m0.4715   \u001b[39m | \u001b[39m0.6844   \u001b[39m | \u001b[39m0.1046   \u001b[39m | \u001b[39m0.872    \u001b[39m | \u001b[39m0.3788   \u001b[39m | \u001b[39m0.3335   \u001b[39m | \u001b[39m0.3684   \u001b[39m | \u001b[39m0.1503   \u001b[39m | \u001b[39m0.9851   \u001b[39m | \u001b[39m0.7451   \u001b[39m |\n",
      "Non-zero alphas: 8\n"
     ]
    },
    {
     "name": "stderr",
     "output_type": "stream",
     "text": [
      "Building TRAIN_KERNEL: 100%|██████████| 1225/1225 [00:56<00:00, 21.54it/s]\n",
      "Building TEST_KERNEL: 100%|██████████| 2500/2500 [01:49<00:00, 22.80it/s]\n"
     ]
    },
    {
     "name": "stdout",
     "output_type": "stream",
     "text": [
      "| \u001b[39m12       \u001b[39m | \u001b[39m0.7      \u001b[39m | \u001b[39m0.8081   \u001b[39m | \u001b[39m0.6462   \u001b[39m | \u001b[39m0.6599   \u001b[39m | \u001b[39m0.05111  \u001b[39m | \u001b[39m0.8338   \u001b[39m | \u001b[39m0.2336   \u001b[39m | \u001b[39m0.01959  \u001b[39m | \u001b[39m0.271    \u001b[39m | \u001b[39m0.4307   \u001b[39m | \u001b[39m0.1537   \u001b[39m | \u001b[39m0.1768   \u001b[39m | \u001b[39m0.2609   \u001b[39m | \u001b[39m0.9895   \u001b[39m | \u001b[39m0.5295   \u001b[39m | \u001b[39m0.2108   \u001b[39m | \u001b[39m0.1557   \u001b[39m |\n",
      "Non-zero alphas: 8\n"
     ]
    },
    {
     "name": "stderr",
     "output_type": "stream",
     "text": [
      "Building TRAIN_KERNEL: 100%|██████████| 1225/1225 [00:57<00:00, 21.44it/s]\n",
      "Building TEST_KERNEL: 100%|██████████| 2500/2500 [01:48<00:00, 23.10it/s]\n"
     ]
    },
    {
     "name": "stdout",
     "output_type": "stream",
     "text": [
      "| \u001b[39m13       \u001b[39m | \u001b[39m0.64     \u001b[39m | \u001b[39m0.9306   \u001b[39m | \u001b[39m0.8376   \u001b[39m | \u001b[39m0.7835   \u001b[39m | \u001b[39m0.07252  \u001b[39m | \u001b[39m0.9936   \u001b[39m | \u001b[39m0.9872   \u001b[39m | \u001b[39m0.91     \u001b[39m | \u001b[39m0.7949   \u001b[39m | \u001b[39m0.8441   \u001b[39m | \u001b[39m0.1167   \u001b[39m | \u001b[39m0.3174   \u001b[39m | \u001b[39m0.05548  \u001b[39m | \u001b[39m0.3904   \u001b[39m | \u001b[39m0.7072   \u001b[39m | \u001b[39m0.1423   \u001b[39m | \u001b[39m0.8683   \u001b[39m |\n",
      "Non-zero alphas: 8\n"
     ]
    },
    {
     "name": "stderr",
     "output_type": "stream",
     "text": [
      "Building TRAIN_KERNEL: 100%|██████████| 1225/1225 [00:56<00:00, 21.50it/s]\n",
      "Building TEST_KERNEL: 100%|██████████| 2500/2500 [01:49<00:00, 22.81it/s]\n"
     ]
    },
    {
     "name": "stdout",
     "output_type": "stream",
     "text": [
      "| \u001b[39m14       \u001b[39m | \u001b[39m0.66     \u001b[39m | \u001b[39m0.5318   \u001b[39m | \u001b[39m0.4783   \u001b[39m | \u001b[39m0.4877   \u001b[39m | \u001b[39m0.9015   \u001b[39m | \u001b[39m0.5223   \u001b[39m | \u001b[39m0.9531   \u001b[39m | \u001b[39m0.3934   \u001b[39m | \u001b[39m0.347    \u001b[39m | \u001b[39m0.09982  \u001b[39m | \u001b[39m0.3287   \u001b[39m | \u001b[39m0.8607   \u001b[39m | \u001b[39m0.3114   \u001b[39m | \u001b[39m0.7203   \u001b[39m | \u001b[39m0.7733   \u001b[39m | \u001b[39m0.6672   \u001b[39m | \u001b[39m0.1222   \u001b[39m |\n",
      "Non-zero alphas: 8\n"
     ]
    },
    {
     "name": "stderr",
     "output_type": "stream",
     "text": [
      "Building TRAIN_KERNEL: 100%|██████████| 1225/1225 [00:56<00:00, 21.80it/s]\n",
      "Building TEST_KERNEL: 100%|██████████| 2500/2500 [01:51<00:00, 22.41it/s]\n"
     ]
    },
    {
     "name": "stdout",
     "output_type": "stream",
     "text": [
      "| \u001b[39m15       \u001b[39m | \u001b[39m0.64     \u001b[39m | \u001b[39m0.5687   \u001b[39m | \u001b[39m0.821    \u001b[39m | \u001b[39m0.1681   \u001b[39m | \u001b[39m0.9414   \u001b[39m | \u001b[39m0.2384   \u001b[39m | \u001b[39m0.2118   \u001b[39m | \u001b[39m0.8863   \u001b[39m | \u001b[39m0.7654   \u001b[39m | \u001b[39m0.1898   \u001b[39m | \u001b[39m0.8091   \u001b[39m | \u001b[39m0.6285   \u001b[39m | \u001b[39m0.05496  \u001b[39m | \u001b[39m0.1604   \u001b[39m | \u001b[39m0.04872  \u001b[39m | \u001b[39m0.6927   \u001b[39m | \u001b[39m0.779    \u001b[39m |\n",
      "Non-zero alphas: 8\n"
     ]
    },
    {
     "name": "stderr",
     "output_type": "stream",
     "text": [
      "Building TRAIN_KERNEL: 100%|██████████| 1225/1225 [00:56<00:00, 21.62it/s]\n",
      "Building TEST_KERNEL: 100%|██████████| 2500/2500 [01:49<00:00, 22.91it/s]\n"
     ]
    },
    {
     "name": "stdout",
     "output_type": "stream",
     "text": [
      "| \u001b[39m16       \u001b[39m | \u001b[39m0.68     \u001b[39m | \u001b[39m0.6408   \u001b[39m | \u001b[39m0.5451   \u001b[39m | \u001b[39m0.3996   \u001b[39m | \u001b[39m0.74     \u001b[39m | \u001b[39m0.02666  \u001b[39m | \u001b[39m0.5511   \u001b[39m | \u001b[39m0.2818   \u001b[39m | \u001b[39m0.2533   \u001b[39m | \u001b[39m0.8916   \u001b[39m | \u001b[39m0.3739   \u001b[39m | \u001b[39m0.2868   \u001b[39m | \u001b[39m0.9204   \u001b[39m | \u001b[39m0.6048   \u001b[39m | \u001b[39m0.3257   \u001b[39m | \u001b[39m0.301    \u001b[39m | \u001b[39m0.8876   \u001b[39m |\n",
      "Non-zero alphas: 8\n"
     ]
    },
    {
     "name": "stderr",
     "output_type": "stream",
     "text": [
      "Building TRAIN_KERNEL: 100%|██████████| 1225/1225 [00:56<00:00, 21.57it/s]\n",
      "Building TEST_KERNEL: 100%|██████████| 2500/2500 [01:49<00:00, 22.85it/s]\n"
     ]
    },
    {
     "name": "stdout",
     "output_type": "stream",
     "text": [
      "| \u001b[39m17       \u001b[39m | \u001b[39m0.64     \u001b[39m | \u001b[39m0.369    \u001b[39m | \u001b[39m0.5786   \u001b[39m | \u001b[39m0.9015   \u001b[39m | \u001b[39m0.001486 \u001b[39m | \u001b[39m0.3995   \u001b[39m | \u001b[39m0.6676   \u001b[39m | \u001b[39m0.05527  \u001b[39m | \u001b[39m0.8329   \u001b[39m | \u001b[39m0.613    \u001b[39m | \u001b[39m0.254    \u001b[39m | \u001b[39m0.7441   \u001b[39m | \u001b[39m0.3013   \u001b[39m | \u001b[39m0.5812   \u001b[39m | \u001b[39m0.2915   \u001b[39m | \u001b[39m0.3727   \u001b[39m | \u001b[39m0.1752   \u001b[39m |\n",
      "Non-zero alphas: 8\n"
     ]
    },
    {
     "name": "stderr",
     "output_type": "stream",
     "text": [
      "Building TRAIN_KERNEL: 100%|██████████| 1225/1225 [00:56<00:00, 21.52it/s]\n",
      "Building TEST_KERNEL: 100%|██████████| 2500/2500 [01:53<00:00, 22.11it/s]\n"
     ]
    },
    {
     "name": "stdout",
     "output_type": "stream",
     "text": [
      "| \u001b[39m18       \u001b[39m | \u001b[39m0.64     \u001b[39m | \u001b[39m0.2204   \u001b[39m | \u001b[39m0.3533   \u001b[39m | \u001b[39m0.004992 \u001b[39m | \u001b[39m0.7255   \u001b[39m | \u001b[39m0.6118   \u001b[39m | \u001b[39m0.2944   \u001b[39m | \u001b[39m0.2215   \u001b[39m | \u001b[39m0.6808   \u001b[39m | \u001b[39m0.4829   \u001b[39m | \u001b[39m0.7047   \u001b[39m | \u001b[39m0.181    \u001b[39m | \u001b[39m0.7168   \u001b[39m | \u001b[39m0.412    \u001b[39m | \u001b[39m0.7767   \u001b[39m | \u001b[39m0.4099   \u001b[39m | \u001b[39m0.2025   \u001b[39m |\n",
      "Non-zero alphas: 8\n"
     ]
    },
    {
     "name": "stderr",
     "output_type": "stream",
     "text": [
      "Building TRAIN_KERNEL: 100%|██████████| 1225/1225 [00:51<00:00, 23.63it/s]\n",
      "Building TEST_KERNEL: 100%|██████████| 2500/2500 [01:56<00:00, 21.44it/s]\n"
     ]
    },
    {
     "name": "stdout",
     "output_type": "stream",
     "text": [
      "| \u001b[39m19       \u001b[39m | \u001b[39m0.64     \u001b[39m | \u001b[39m0.262    \u001b[39m | \u001b[39m0.7018   \u001b[39m | \u001b[39m0.7417   \u001b[39m | \u001b[39m0.3903   \u001b[39m | \u001b[39m0.5435   \u001b[39m | \u001b[39m0.1085   \u001b[39m | \u001b[39m0.4197   \u001b[39m | \u001b[39m0.06063  \u001b[39m | \u001b[39m0.6557   \u001b[39m | \u001b[39m0.554    \u001b[39m | \u001b[39m0.2698   \u001b[39m | \u001b[39m0.5881   \u001b[39m | \u001b[39m0.7687   \u001b[39m | \u001b[39m0.4663   \u001b[39m | \u001b[39m0.985    \u001b[39m | \u001b[39m0.7263   \u001b[39m |\n",
      "Non-zero alphas: 8\n"
     ]
    },
    {
     "name": "stderr",
     "output_type": "stream",
     "text": [
      "Building TRAIN_KERNEL: 100%|██████████| 1225/1225 [00:51<00:00, 23.72it/s]\n",
      "Building TEST_KERNEL: 100%|██████████| 2500/2500 [01:55<00:00, 21.55it/s]\n"
     ]
    },
    {
     "name": "stdout",
     "output_type": "stream",
     "text": [
      "| \u001b[39m20       \u001b[39m | \u001b[39m0.66     \u001b[39m | \u001b[39m0.7637   \u001b[39m | \u001b[39m0.1957   \u001b[39m | \u001b[39m0.8054   \u001b[39m | \u001b[39m0.1662   \u001b[39m | \u001b[39m0.5076   \u001b[39m | \u001b[39m0.3042   \u001b[39m | \u001b[39m0.608    \u001b[39m | \u001b[39m0.7166   \u001b[39m | \u001b[39m0.9795   \u001b[39m | \u001b[39m0.2166   \u001b[39m | \u001b[39m0.2543   \u001b[39m | \u001b[39m0.5582   \u001b[39m | \u001b[39m0.3628   \u001b[39m | \u001b[39m0.711    \u001b[39m | \u001b[39m0.8114   \u001b[39m | \u001b[39m0.3033   \u001b[39m |\n",
      "Non-zero alphas: 8\n"
     ]
    },
    {
     "name": "stderr",
     "output_type": "stream",
     "text": [
      "Building TRAIN_KERNEL: 100%|██████████| 1225/1225 [00:51<00:00, 23.69it/s]\n",
      "Building TEST_KERNEL: 100%|██████████| 2500/2500 [01:56<00:00, 21.48it/s]\n"
     ]
    },
    {
     "name": "stdout",
     "output_type": "stream",
     "text": [
      "| \u001b[39m21       \u001b[39m | \u001b[39m0.62     \u001b[39m | \u001b[39m0.7764   \u001b[39m | \u001b[39m0.8658   \u001b[39m | \u001b[39m0.8769   \u001b[39m | \u001b[39m0.3123   \u001b[39m | \u001b[39m0.6066   \u001b[39m | \u001b[39m0.4438   \u001b[39m | \u001b[39m0.01257  \u001b[39m | \u001b[39m0.8236   \u001b[39m | \u001b[39m0.3838   \u001b[39m | \u001b[39m0.9202   \u001b[39m | \u001b[39m0.5003   \u001b[39m | \u001b[39m0.6581   \u001b[39m | \u001b[39m0.8833   \u001b[39m | \u001b[39m0.7314   \u001b[39m | \u001b[39m0.9911   \u001b[39m | \u001b[39m0.7923   \u001b[39m |\n",
      "Non-zero alphas: 8\n"
     ]
    },
    {
     "name": "stderr",
     "output_type": "stream",
     "text": [
      "Building TRAIN_KERNEL: 100%|██████████| 1225/1225 [00:50<00:00, 24.03it/s]\n",
      "Building TEST_KERNEL: 100%|██████████| 2500/2500 [01:54<00:00, 21.84it/s]\n"
     ]
    },
    {
     "name": "stdout",
     "output_type": "stream",
     "text": [
      "| \u001b[39m22       \u001b[39m | \u001b[39m0.64     \u001b[39m | \u001b[39m0.079    \u001b[39m | \u001b[39m0.4658   \u001b[39m | \u001b[39m0.6447   \u001b[39m | \u001b[39m0.5901   \u001b[39m | \u001b[39m0.3892   \u001b[39m | \u001b[39m0.6057   \u001b[39m | \u001b[39m0.7806   \u001b[39m | \u001b[39m0.8121   \u001b[39m | \u001b[39m0.8609   \u001b[39m | \u001b[39m0.2406   \u001b[39m | \u001b[39m0.1748   \u001b[39m | \u001b[39m0.6373   \u001b[39m | \u001b[39m0.5513   \u001b[39m | \u001b[39m0.5554   \u001b[39m | \u001b[39m0.534    \u001b[39m | \u001b[39m0.3612   \u001b[39m |\n",
      "Non-zero alphas: 8\n"
     ]
    },
    {
     "name": "stderr",
     "output_type": "stream",
     "text": [
      "Building TRAIN_KERNEL: 100%|██████████| 1225/1225 [00:53<00:00, 22.73it/s]\n",
      "Building TEST_KERNEL: 100%|██████████| 2500/2500 [01:56<00:00, 21.40it/s]\n"
     ]
    },
    {
     "name": "stdout",
     "output_type": "stream",
     "text": [
      "| \u001b[39m23       \u001b[39m | \u001b[39m0.64     \u001b[39m | \u001b[39m0.5999   \u001b[39m | \u001b[39m0.9287   \u001b[39m | \u001b[39m0.3202   \u001b[39m | \u001b[39m0.635    \u001b[39m | \u001b[39m0.783    \u001b[39m | \u001b[39m0.1473   \u001b[39m | \u001b[39m0.7643   \u001b[39m | \u001b[39m0.4941   \u001b[39m | \u001b[39m0.02113  \u001b[39m | \u001b[39m0.2304   \u001b[39m | \u001b[39m0.37     \u001b[39m | \u001b[39m0.0893   \u001b[39m | \u001b[39m0.04689  \u001b[39m | \u001b[39m0.4207   \u001b[39m | \u001b[39m0.3109   \u001b[39m | \u001b[39m0.3666   \u001b[39m |\n",
      "Non-zero alphas: 8\n"
     ]
    },
    {
     "name": "stderr",
     "output_type": "stream",
     "text": [
      "Building TRAIN_KERNEL: 100%|██████████| 1225/1225 [00:49<00:00, 24.73it/s]\n",
      "Building TEST_KERNEL: 100%|██████████| 2500/2500 [01:53<00:00, 22.10it/s]\n"
     ]
    },
    {
     "name": "stdout",
     "output_type": "stream",
     "text": [
      "| \u001b[39m24       \u001b[39m | \u001b[39m0.62     \u001b[39m | \u001b[39m0.05572  \u001b[39m | \u001b[39m0.6186   \u001b[39m | \u001b[39m0.746    \u001b[39m | \u001b[39m0.5836   \u001b[39m | \u001b[39m0.2076   \u001b[39m | \u001b[39m0.6248   \u001b[39m | \u001b[39m0.4647   \u001b[39m | \u001b[39m0.5463   \u001b[39m | \u001b[39m0.04458  \u001b[39m | \u001b[39m0.1464   \u001b[39m | \u001b[39m0.3253   \u001b[39m | \u001b[39m0.5966   \u001b[39m | \u001b[39m0.6053   \u001b[39m | \u001b[39m0.7523   \u001b[39m | \u001b[39m0.549    \u001b[39m | \u001b[39m0.5289   \u001b[39m |\n",
      "Non-zero alphas: 8\n"
     ]
    },
    {
     "name": "stderr",
     "output_type": "stream",
     "text": [
      "Building TRAIN_KERNEL: 100%|██████████| 1225/1225 [00:50<00:00, 24.11it/s]\n",
      "Building TEST_KERNEL: 100%|██████████| 2500/2500 [01:54<00:00, 21.88it/s]\n"
     ]
    },
    {
     "name": "stdout",
     "output_type": "stream",
     "text": [
      "| \u001b[39m25       \u001b[39m | \u001b[39m0.64     \u001b[39m | \u001b[39m0.2918   \u001b[39m | \u001b[39m0.9933   \u001b[39m | \u001b[39m0.6162   \u001b[39m | \u001b[39m0.1704   \u001b[39m | \u001b[39m0.5959   \u001b[39m | \u001b[39m0.1138   \u001b[39m | \u001b[39m0.6047   \u001b[39m | \u001b[39m0.7634   \u001b[39m | \u001b[39m0.3989   \u001b[39m | \u001b[39m0.4102   \u001b[39m | \u001b[39m0.6913   \u001b[39m | \u001b[39m0.9013   \u001b[39m | \u001b[39m0.9394   \u001b[39m | \u001b[39m0.03754  \u001b[39m | \u001b[39m0.4325   \u001b[39m | \u001b[39m0.4857   \u001b[39m |\n",
      "Non-zero alphas: 8\n"
     ]
    },
    {
     "name": "stderr",
     "output_type": "stream",
     "text": [
      "Building TRAIN_KERNEL: 100%|██████████| 1225/1225 [00:49<00:00, 24.55it/s]\n",
      "Building TEST_KERNEL: 100%|██████████| 2500/2500 [01:53<00:00, 21.99it/s]\n"
     ]
    },
    {
     "name": "stdout",
     "output_type": "stream",
     "text": [
      "| \u001b[39m26       \u001b[39m | \u001b[39m0.6      \u001b[39m | \u001b[39m0.4892   \u001b[39m | \u001b[39m0.2586   \u001b[39m | \u001b[39m0.3416   \u001b[39m | \u001b[39m0.8598   \u001b[39m | \u001b[39m0.07477  \u001b[39m | \u001b[39m0.7394   \u001b[39m | \u001b[39m0.5796   \u001b[39m | \u001b[39m0.6912   \u001b[39m | \u001b[39m0.1403   \u001b[39m | \u001b[39m0.6253   \u001b[39m | \u001b[39m0.8636   \u001b[39m | \u001b[39m0.5237   \u001b[39m | \u001b[39m0.7512   \u001b[39m | \u001b[39m0.7249   \u001b[39m | \u001b[39m0.5371   \u001b[39m | \u001b[39m0.8393   \u001b[39m |\n",
      "Non-zero alphas: 8\n"
     ]
    },
    {
     "name": "stderr",
     "output_type": "stream",
     "text": [
      "Building TRAIN_KERNEL: 100%|██████████| 1225/1225 [00:55<00:00, 22.15it/s]\n",
      "Building TEST_KERNEL: 100%|██████████| 2500/2500 [01:45<00:00, 23.76it/s]\n"
     ]
    },
    {
     "name": "stdout",
     "output_type": "stream",
     "text": [
      "| \u001b[39m27       \u001b[39m | \u001b[39m0.62     \u001b[39m | \u001b[39m0.09818  \u001b[39m | \u001b[39m0.7689   \u001b[39m | \u001b[39m0.009608 \u001b[39m | \u001b[39m0.422    \u001b[39m | \u001b[39m0.1105   \u001b[39m | \u001b[39m0.8875   \u001b[39m | \u001b[39m0.6212   \u001b[39m | \u001b[39m0.07029  \u001b[39m | \u001b[39m0.9199   \u001b[39m | \u001b[39m0.7059   \u001b[39m | \u001b[39m0.1872   \u001b[39m | \u001b[39m0.7392   \u001b[39m | \u001b[39m0.4586   \u001b[39m | \u001b[39m0.3119   \u001b[39m | \u001b[39m0.1317   \u001b[39m | \u001b[39m0.003327 \u001b[39m |\n",
      "Non-zero alphas: 8\n"
     ]
    },
    {
     "name": "stderr",
     "output_type": "stream",
     "text": [
      "Building TRAIN_KERNEL: 100%|██████████| 1225/1225 [00:55<00:00, 21.93it/s]\n",
      "Building TEST_KERNEL: 100%|██████████| 2500/2500 [01:47<00:00, 23.26it/s]\n"
     ]
    },
    {
     "name": "stdout",
     "output_type": "stream",
     "text": [
      "| \u001b[39m28       \u001b[39m | \u001b[39m0.66     \u001b[39m | \u001b[39m0.1696   \u001b[39m | \u001b[39m0.9769   \u001b[39m | \u001b[39m0.8451   \u001b[39m | \u001b[39m0.5408   \u001b[39m | \u001b[39m0.9243   \u001b[39m | \u001b[39m0.6075   \u001b[39m | \u001b[39m0.5093   \u001b[39m | \u001b[39m0.2639   \u001b[39m | \u001b[39m0.8233   \u001b[39m | \u001b[39m0.4961   \u001b[39m | \u001b[39m0.2494   \u001b[39m | \u001b[39m0.4792   \u001b[39m | \u001b[39m0.8759   \u001b[39m | \u001b[39m0.8371   \u001b[39m | \u001b[39m0.3395   \u001b[39m | \u001b[39m0.2934   \u001b[39m |\n",
      "Non-zero alphas: 8\n"
     ]
    },
    {
     "name": "stderr",
     "output_type": "stream",
     "text": [
      "Building TRAIN_KERNEL: 100%|██████████| 1225/1225 [00:55<00:00, 22.17it/s]\n",
      "Building TEST_KERNEL: 100%|██████████| 2500/2500 [01:45<00:00, 23.63it/s]\n"
     ]
    },
    {
     "name": "stdout",
     "output_type": "stream",
     "text": [
      "| \u001b[39m29       \u001b[39m | \u001b[39m0.66     \u001b[39m | \u001b[39m0.5824   \u001b[39m | \u001b[39m0.1498   \u001b[39m | \u001b[39m0.1665   \u001b[39m | \u001b[39m0.2812   \u001b[39m | \u001b[39m0.649    \u001b[39m | \u001b[39m0.5298   \u001b[39m | \u001b[39m0.7272   \u001b[39m | \u001b[39m0.9472   \u001b[39m | \u001b[39m0.1197   \u001b[39m | \u001b[39m0.05265  \u001b[39m | \u001b[39m0.5273   \u001b[39m | \u001b[39m0.7674   \u001b[39m | \u001b[39m0.4109   \u001b[39m | \u001b[39m0.5427   \u001b[39m | \u001b[39m0.2697   \u001b[39m | \u001b[39m0.2026   \u001b[39m |\n",
      "Non-zero alphas: 8\n"
     ]
    },
    {
     "name": "stderr",
     "output_type": "stream",
     "text": [
      "Building TRAIN_KERNEL: 100%|██████████| 1225/1225 [00:54<00:00, 22.28it/s]\n",
      "Building TEST_KERNEL: 100%|██████████| 2500/2500 [01:50<00:00, 22.61it/s]\n"
     ]
    },
    {
     "name": "stdout",
     "output_type": "stream",
     "text": [
      "| \u001b[39m30       \u001b[39m | \u001b[39m0.66     \u001b[39m | \u001b[39m0.5692   \u001b[39m | \u001b[39m0.7647   \u001b[39m | \u001b[39m0.1543   \u001b[39m | \u001b[39m0.8688   \u001b[39m | \u001b[39m0.9758   \u001b[39m | \u001b[39m0.8985   \u001b[39m | \u001b[39m0.9844   \u001b[39m | \u001b[39m0.5857   \u001b[39m | \u001b[39m0.3596   \u001b[39m | \u001b[39m0.8363   \u001b[39m | \u001b[39m0.721    \u001b[39m | \u001b[39m0.2059   \u001b[39m | \u001b[39m0.2133   \u001b[39m | \u001b[39m0.5445   \u001b[39m | \u001b[39m0.007826 \u001b[39m | \u001b[39m0.3605   \u001b[39m |\n",
      "=========================================================================================================================================================================================================================\n",
      "Best Coefficients: [np.float64(0.23810847744490393), np.float64(0.5074905650788947), np.float64(0.9779541753597686), np.float64(0.6163671027402883), np.float64(0.5837467692086313), np.float64(0.17190163781311907), np.float64(0.17246465177415438), np.float64(0.16685704204824414), np.float64(0.9974030984044261), np.float64(0.2140681623359949), np.float64(0.32175180446095686), np.float64(0.610378688086008), np.float64(0.9134778635765125), np.float64(0.8304258224727685), np.float64(0.30727130537359304), np.float64(0.6382899357400913)]\n",
      "Best Val Accuracy: 0.7\n",
      "Non-zero alphas: 8\n"
     ]
    },
    {
     "name": "stderr",
     "output_type": "stream",
     "text": [
      "Building TRAIN_KERNEL: 100%|██████████| 1225/1225 [00:54<00:00, 22.30it/s]\n"
     ]
    },
    {
     "name": "stdout",
     "output_type": "stream",
     "text": [
      "Train Accuracy: 0.76\n"
     ]
    },
    {
     "name": "stderr",
     "output_type": "stream",
     "text": [
      "Building TEST_KERNEL: 100%|██████████| 2500/2500 [01:44<00:00, 24.02it/s]\n"
     ]
    },
    {
     "name": "stdout",
     "output_type": "stream",
     "text": [
      "Validation Accuracy: 0.7\n"
     ]
    },
    {
     "name": "stderr",
     "output_type": "stream",
     "text": [
      "Building TEST_KERNEL: 100%|██████████| 5000/5000 [03:40<00:00, 22.63it/s]\n"
     ]
    },
    {
     "name": "stdout",
     "output_type": "stream",
     "text": [
      "Test Accuracy: 0.7\n",
      "Saving model...\n",
      "|   iter    |  target   |  coeff_0  |  coeff_1  | coeff_10  | coeff_11  | coeff_12  | coeff_13  | coeff_14  | coeff_15  |  coeff_2  |  coeff_3  |  coeff_4  |  coeff_5  |  coeff_6  |  coeff_7  |  coeff_8  |  coeff_9  |\n",
      "-------------------------------------------------------------------------------------------------------------------------------------------------------------------------------------------------------------------------\n",
      "Non-zero alphas: 6\n"
     ]
    },
    {
     "name": "stderr",
     "output_type": "stream",
     "text": [
      "Building TRAIN_KERNEL: 100%|██████████| 1225/1225 [00:37<00:00, 32.27it/s]\n",
      "Building TEST_KERNEL: 100%|██████████| 2500/2500 [01:23<00:00, 30.06it/s]\n"
     ]
    },
    {
     "name": "stdout",
     "output_type": "stream",
     "text": [
      "| \u001b[39m1        \u001b[39m | \u001b[39m0.52     \u001b[39m | \u001b[39m0.3745   \u001b[39m | \u001b[39m0.9507   \u001b[39m | \u001b[39m0.732    \u001b[39m | \u001b[39m0.5987   \u001b[39m | \u001b[39m0.156    \u001b[39m | \u001b[39m0.156    \u001b[39m | \u001b[39m0.05808  \u001b[39m | \u001b[39m0.8662   \u001b[39m | \u001b[39m0.6011   \u001b[39m | \u001b[39m0.7081   \u001b[39m | \u001b[39m0.02058  \u001b[39m | \u001b[39m0.9699   \u001b[39m | \u001b[39m0.8324   \u001b[39m | \u001b[39m0.2123   \u001b[39m | \u001b[39m0.1818   \u001b[39m | \u001b[39m0.1834   \u001b[39m |\n",
      "Non-zero alphas: 6\n"
     ]
    },
    {
     "name": "stderr",
     "output_type": "stream",
     "text": [
      "Building TRAIN_KERNEL: 100%|██████████| 1225/1225 [00:42<00:00, 28.85it/s]\n",
      "Building TEST_KERNEL: 100%|██████████| 2500/2500 [01:22<00:00, 30.37it/s]\n"
     ]
    },
    {
     "name": "stdout",
     "output_type": "stream",
     "text": [
      "| \u001b[39m2        \u001b[39m | \u001b[39m0.52     \u001b[39m | \u001b[39m0.3042   \u001b[39m | \u001b[39m0.5248   \u001b[39m | \u001b[39m0.4319   \u001b[39m | \u001b[39m0.2912   \u001b[39m | \u001b[39m0.6119   \u001b[39m | \u001b[39m0.1395   \u001b[39m | \u001b[39m0.2921   \u001b[39m | \u001b[39m0.3664   \u001b[39m | \u001b[39m0.4561   \u001b[39m | \u001b[39m0.7852   \u001b[39m | \u001b[39m0.1997   \u001b[39m | \u001b[39m0.5142   \u001b[39m | \u001b[39m0.5924   \u001b[39m | \u001b[39m0.04645  \u001b[39m | \u001b[39m0.6075   \u001b[39m | \u001b[39m0.1705   \u001b[39m |\n",
      "Non-zero alphas: 6\n"
     ]
    },
    {
     "name": "stderr",
     "output_type": "stream",
     "text": [
      "Building TRAIN_KERNEL: 100%|██████████| 1225/1225 [00:42<00:00, 29.06it/s]\n",
      "Building TEST_KERNEL: 100%|██████████| 2500/2500 [01:19<00:00, 31.38it/s]\n"
     ]
    },
    {
     "name": "stdout",
     "output_type": "stream",
     "text": [
      "| \u001b[35m3        \u001b[39m | \u001b[35m0.72     \u001b[39m | \u001b[35m0.06505  \u001b[39m | \u001b[35m0.9489   \u001b[39m | \u001b[35m0.9656   \u001b[39m | \u001b[35m0.8084   \u001b[39m | \u001b[35m0.3046   \u001b[39m | \u001b[35m0.09767  \u001b[39m | \u001b[35m0.6842   \u001b[39m | \u001b[35m0.4402   \u001b[39m | \u001b[35m0.122    \u001b[39m | \u001b[35m0.4952   \u001b[39m | \u001b[35m0.03439  \u001b[39m | \u001b[35m0.9093   \u001b[39m | \u001b[35m0.2588   \u001b[39m | \u001b[35m0.6625   \u001b[39m | \u001b[35m0.3117   \u001b[39m | \u001b[35m0.5201   \u001b[39m |\n",
      "Non-zero alphas: 6\n"
     ]
    },
    {
     "name": "stderr",
     "output_type": "stream",
     "text": [
      "Building TRAIN_KERNEL: 100%|██████████| 1225/1225 [00:42<00:00, 28.76it/s]\n",
      "Building TEST_KERNEL: 100%|██████████| 2500/2500 [01:21<00:00, 30.74it/s]\n"
     ]
    },
    {
     "name": "stdout",
     "output_type": "stream",
     "text": [
      "| \u001b[39m4        \u001b[39m | \u001b[39m0.52     \u001b[39m | \u001b[39m0.5467   \u001b[39m | \u001b[39m0.1849   \u001b[39m | \u001b[39m0.9696   \u001b[39m | \u001b[39m0.7751   \u001b[39m | \u001b[39m0.9395   \u001b[39m | \u001b[39m0.8948   \u001b[39m | \u001b[39m0.5979   \u001b[39m | \u001b[39m0.9219   \u001b[39m | \u001b[39m0.08849  \u001b[39m | \u001b[39m0.196    \u001b[39m | \u001b[39m0.04523  \u001b[39m | \u001b[39m0.3253   \u001b[39m | \u001b[39m0.3887   \u001b[39m | \u001b[39m0.2713   \u001b[39m | \u001b[39m0.8287   \u001b[39m | \u001b[39m0.3568   \u001b[39m |\n",
      "Non-zero alphas: 6\n"
     ]
    },
    {
     "name": "stderr",
     "output_type": "stream",
     "text": [
      "Building TRAIN_KERNEL: 100%|██████████| 1225/1225 [00:42<00:00, 29.04it/s]\n",
      "Building TEST_KERNEL: 100%|██████████| 2500/2500 [01:18<00:00, 32.00it/s]\n"
     ]
    },
    {
     "name": "stdout",
     "output_type": "stream",
     "text": [
      "| \u001b[39m5        \u001b[39m | \u001b[39m0.62     \u001b[39m | \u001b[39m0.2809   \u001b[39m | \u001b[39m0.5427   \u001b[39m | \u001b[39m0.1409   \u001b[39m | \u001b[39m0.8022   \u001b[39m | \u001b[39m0.07455  \u001b[39m | \u001b[39m0.9869   \u001b[39m | \u001b[39m0.7722   \u001b[39m | \u001b[39m0.1987   \u001b[39m | \u001b[39m0.005522 \u001b[39m | \u001b[39m0.8155   \u001b[39m | \u001b[39m0.7069   \u001b[39m | \u001b[39m0.729    \u001b[39m | \u001b[39m0.7713   \u001b[39m | \u001b[39m0.07404  \u001b[39m | \u001b[39m0.3585   \u001b[39m | \u001b[39m0.1159   \u001b[39m |\n",
      "Non-zero alphas: 6\n"
     ]
    },
    {
     "name": "stderr",
     "output_type": "stream",
     "text": [
      "Building TRAIN_KERNEL: 100%|██████████| 1225/1225 [00:41<00:00, 29.41it/s]\n",
      "Building TEST_KERNEL: 100%|██████████| 2500/2500 [01:18<00:00, 31.71it/s]\n"
     ]
    },
    {
     "name": "stdout",
     "output_type": "stream",
     "text": [
      "| \u001b[39m6        \u001b[39m | \u001b[39m0.52     \u001b[39m | \u001b[39m0.3739   \u001b[39m | \u001b[39m0.4383   \u001b[39m | \u001b[39m0.1525   \u001b[39m | \u001b[39m0.579    \u001b[39m | \u001b[39m0.1402   \u001b[39m | \u001b[39m0.9153   \u001b[39m | \u001b[39m0.4157   \u001b[39m | \u001b[39m0.04265  \u001b[39m | \u001b[39m0.001764 \u001b[39m | \u001b[39m0.6763   \u001b[39m | \u001b[39m0.6115   \u001b[39m | \u001b[39m0.7703   \u001b[39m | \u001b[39m0.7494   \u001b[39m | \u001b[39m0.003077 \u001b[39m | \u001b[39m0.167    \u001b[39m | \u001b[39m0.3259   \u001b[39m |\n",
      "Non-zero alphas: 6\n"
     ]
    },
    {
     "name": "stderr",
     "output_type": "stream",
     "text": [
      "Building TRAIN_KERNEL: 100%|██████████| 1225/1225 [00:40<00:00, 30.00it/s]\n",
      "Building TEST_KERNEL: 100%|██████████| 2500/2500 [01:21<00:00, 30.70it/s]\n"
     ]
    },
    {
     "name": "stdout",
     "output_type": "stream",
     "text": [
      "| \u001b[39m7        \u001b[39m | \u001b[39m0.64     \u001b[39m | \u001b[39m0.09017  \u001b[39m | \u001b[39m0.8852   \u001b[39m | \u001b[39m0.1796   \u001b[39m | \u001b[39m0.7708   \u001b[39m | \u001b[39m0.1383   \u001b[39m | \u001b[39m0.7279   \u001b[39m | \u001b[39m0.2384   \u001b[39m | \u001b[39m0.04143  \u001b[39m | \u001b[39m0.1589   \u001b[39m | \u001b[39m0.8166   \u001b[39m | \u001b[39m0.7594   \u001b[39m | \u001b[39m0.5768   \u001b[39m | \u001b[39m0.5352   \u001b[39m | \u001b[39m0.04738  \u001b[39m | \u001b[39m0.3533   \u001b[39m | \u001b[39m0.9031   \u001b[39m |\n",
      "Non-zero alphas: 6\n"
     ]
    },
    {
     "name": "stderr",
     "output_type": "stream",
     "text": [
      "Building TRAIN_KERNEL: 100%|██████████| 1225/1225 [00:35<00:00, 34.22it/s]\n",
      "Building TEST_KERNEL: 100%|██████████| 2500/2500 [01:26<00:00, 29.06it/s]\n"
     ]
    },
    {
     "name": "stdout",
     "output_type": "stream",
     "text": [
      "| \u001b[39m8        \u001b[39m | \u001b[39m0.68     \u001b[39m | \u001b[39m0.1491   \u001b[39m | \u001b[39m0.5135   \u001b[39m | \u001b[39m0.6306   \u001b[39m | \u001b[39m0.2698   \u001b[39m | \u001b[39m0.659    \u001b[39m | \u001b[39m0.2806   \u001b[39m | \u001b[39m0.3082   \u001b[39m | \u001b[39m0.0513   \u001b[39m | \u001b[39m0.7128   \u001b[39m | \u001b[39m0.8957   \u001b[39m | \u001b[39m0.1061   \u001b[39m | \u001b[39m0.2172   \u001b[39m | \u001b[39m0.3675   \u001b[39m | \u001b[39m0.2776   \u001b[39m | \u001b[39m0.5975   \u001b[39m | \u001b[39m0.09893  \u001b[39m |\n",
      "Non-zero alphas: 6\n"
     ]
    },
    {
     "name": "stderr",
     "output_type": "stream",
     "text": [
      "Building TRAIN_KERNEL: 100%|██████████| 1225/1225 [00:38<00:00, 31.96it/s]\n",
      "Building TEST_KERNEL: 100%|██████████| 2500/2500 [01:22<00:00, 30.23it/s]\n"
     ]
    },
    {
     "name": "stdout",
     "output_type": "stream",
     "text": [
      "| \u001b[39m9        \u001b[39m | \u001b[39m0.52     \u001b[39m | \u001b[39m0.2381   \u001b[39m | \u001b[39m0.5075   \u001b[39m | \u001b[39m0.3218   \u001b[39m | \u001b[39m0.6104   \u001b[39m | \u001b[39m0.9135   \u001b[39m | \u001b[39m0.8304   \u001b[39m | \u001b[39m0.3073   \u001b[39m | \u001b[39m0.6383   \u001b[39m | \u001b[39m0.978    \u001b[39m | \u001b[39m0.6164   \u001b[39m | \u001b[39m0.5837   \u001b[39m | \u001b[39m0.1719   \u001b[39m | \u001b[39m0.1725   \u001b[39m | \u001b[39m0.1669   \u001b[39m | \u001b[39m0.9974   \u001b[39m | \u001b[39m0.2141   \u001b[39m |\n",
      "Non-zero alphas: 6\n"
     ]
    },
    {
     "name": "stderr",
     "output_type": "stream",
     "text": [
      "Building TRAIN_KERNEL: 100%|██████████| 1225/1225 [00:42<00:00, 28.98it/s]\n",
      "Building TEST_KERNEL: 100%|██████████| 2500/2500 [01:21<00:00, 30.78it/s]\n"
     ]
    },
    {
     "name": "stdout",
     "output_type": "stream",
     "text": [
      "| \u001b[39m10       \u001b[39m | \u001b[39m0.56     \u001b[39m | \u001b[39m0.8743   \u001b[39m | \u001b[39m0.4682   \u001b[39m | \u001b[39m0.1181   \u001b[39m | \u001b[39m0.561    \u001b[39m | \u001b[39m0.9829   \u001b[39m | \u001b[39m0.6561   \u001b[39m | \u001b[39m0.6104   \u001b[39m | \u001b[39m0.02032  \u001b[39m | \u001b[39m0.3413   \u001b[39m | \u001b[39m0.6338   \u001b[39m | \u001b[39m0.9261   \u001b[39m | \u001b[39m0.2267   \u001b[39m | \u001b[39m0.6446   \u001b[39m | \u001b[39m0.6518   \u001b[39m | \u001b[39m0.7886   \u001b[39m | \u001b[39m0.3401   \u001b[39m |\n",
      "Non-zero alphas: 6\n"
     ]
    },
    {
     "name": "stderr",
     "output_type": "stream",
     "text": [
      "Building TRAIN_KERNEL: 100%|██████████| 1225/1225 [00:38<00:00, 32.23it/s]\n",
      "Building TEST_KERNEL: 100%|██████████| 2500/2500 [01:25<00:00, 29.09it/s]\n"
     ]
    },
    {
     "name": "stdout",
     "output_type": "stream",
     "text": [
      "| \u001b[39m11       \u001b[39m | \u001b[39m0.52     \u001b[39m | \u001b[39m0.3157   \u001b[39m | \u001b[39m0.6635   \u001b[39m | \u001b[39m0.8042   \u001b[39m | \u001b[39m0.003167 \u001b[39m | \u001b[39m0.7017   \u001b[39m | \u001b[39m0.5368   \u001b[39m | \u001b[39m0.4715   \u001b[39m | \u001b[39m0.6844   \u001b[39m | \u001b[39m0.1046   \u001b[39m | \u001b[39m0.872    \u001b[39m | \u001b[39m0.3788   \u001b[39m | \u001b[39m0.3335   \u001b[39m | \u001b[39m0.3684   \u001b[39m | \u001b[39m0.1503   \u001b[39m | \u001b[39m0.9851   \u001b[39m | \u001b[39m0.7451   \u001b[39m |\n",
      "Non-zero alphas: 6\n"
     ]
    },
    {
     "name": "stderr",
     "output_type": "stream",
     "text": [
      "Building TRAIN_KERNEL: 100%|██████████| 1225/1225 [00:37<00:00, 32.73it/s]\n",
      "Building TEST_KERNEL: 100%|██████████| 2500/2500 [01:26<00:00, 28.83it/s]\n"
     ]
    },
    {
     "name": "stdout",
     "output_type": "stream",
     "text": [
      "| \u001b[39m12       \u001b[39m | \u001b[39m0.7      \u001b[39m | \u001b[39m0.8081   \u001b[39m | \u001b[39m0.6462   \u001b[39m | \u001b[39m0.6599   \u001b[39m | \u001b[39m0.05111  \u001b[39m | \u001b[39m0.8338   \u001b[39m | \u001b[39m0.2336   \u001b[39m | \u001b[39m0.01959  \u001b[39m | \u001b[39m0.271    \u001b[39m | \u001b[39m0.4307   \u001b[39m | \u001b[39m0.1537   \u001b[39m | \u001b[39m0.1768   \u001b[39m | \u001b[39m0.2609   \u001b[39m | \u001b[39m0.9895   \u001b[39m | \u001b[39m0.5295   \u001b[39m | \u001b[39m0.2108   \u001b[39m | \u001b[39m0.1557   \u001b[39m |\n",
      "Non-zero alphas: 6\n"
     ]
    },
    {
     "name": "stderr",
     "output_type": "stream",
     "text": [
      "Building TRAIN_KERNEL: 100%|██████████| 1225/1225 [00:38<00:00, 32.00it/s]\n",
      "Building TEST_KERNEL: 100%|██████████| 2500/2500 [01:27<00:00, 28.43it/s]\n"
     ]
    },
    {
     "name": "stdout",
     "output_type": "stream",
     "text": [
      "| \u001b[39m13       \u001b[39m | \u001b[39m0.52     \u001b[39m | \u001b[39m0.9306   \u001b[39m | \u001b[39m0.8376   \u001b[39m | \u001b[39m0.7835   \u001b[39m | \u001b[39m0.07252  \u001b[39m | \u001b[39m0.9936   \u001b[39m | \u001b[39m0.9872   \u001b[39m | \u001b[39m0.91     \u001b[39m | \u001b[39m0.7949   \u001b[39m | \u001b[39m0.8441   \u001b[39m | \u001b[39m0.1167   \u001b[39m | \u001b[39m0.3174   \u001b[39m | \u001b[39m0.05548  \u001b[39m | \u001b[39m0.3904   \u001b[39m | \u001b[39m0.7072   \u001b[39m | \u001b[39m0.1423   \u001b[39m | \u001b[39m0.8683   \u001b[39m |\n",
      "Non-zero alphas: 6\n"
     ]
    },
    {
     "name": "stderr",
     "output_type": "stream",
     "text": [
      "Building TRAIN_KERNEL: 100%|██████████| 1225/1225 [00:37<00:00, 32.81it/s]\n",
      "Building TEST_KERNEL: 100%|██████████| 2500/2500 [01:21<00:00, 30.59it/s]\n"
     ]
    },
    {
     "name": "stdout",
     "output_type": "stream",
     "text": [
      "| \u001b[39m14       \u001b[39m | \u001b[39m0.62     \u001b[39m | \u001b[39m0.5318   \u001b[39m | \u001b[39m0.4783   \u001b[39m | \u001b[39m0.4877   \u001b[39m | \u001b[39m0.9015   \u001b[39m | \u001b[39m0.5223   \u001b[39m | \u001b[39m0.9531   \u001b[39m | \u001b[39m0.3934   \u001b[39m | \u001b[39m0.347    \u001b[39m | \u001b[39m0.09982  \u001b[39m | \u001b[39m0.3287   \u001b[39m | \u001b[39m0.8607   \u001b[39m | \u001b[39m0.3114   \u001b[39m | \u001b[39m0.7203   \u001b[39m | \u001b[39m0.7733   \u001b[39m | \u001b[39m0.6672   \u001b[39m | \u001b[39m0.1222   \u001b[39m |\n",
      "Non-zero alphas: 6\n"
     ]
    },
    {
     "name": "stderr",
     "output_type": "stream",
     "text": [
      "Building TRAIN_KERNEL: 100%|██████████| 1225/1225 [00:42<00:00, 28.76it/s]\n",
      "Building TEST_KERNEL: 100%|██████████| 2500/2500 [01:22<00:00, 30.25it/s]\n"
     ]
    },
    {
     "name": "stdout",
     "output_type": "stream",
     "text": [
      "| \u001b[39m15       \u001b[39m | \u001b[39m0.7      \u001b[39m | \u001b[39m0.5687   \u001b[39m | \u001b[39m0.821    \u001b[39m | \u001b[39m0.1681   \u001b[39m | \u001b[39m0.9414   \u001b[39m | \u001b[39m0.2384   \u001b[39m | \u001b[39m0.2118   \u001b[39m | \u001b[39m0.8863   \u001b[39m | \u001b[39m0.7654   \u001b[39m | \u001b[39m0.1898   \u001b[39m | \u001b[39m0.8091   \u001b[39m | \u001b[39m0.6285   \u001b[39m | \u001b[39m0.05496  \u001b[39m | \u001b[39m0.1604   \u001b[39m | \u001b[39m0.04872  \u001b[39m | \u001b[39m0.6927   \u001b[39m | \u001b[39m0.779    \u001b[39m |\n",
      "Non-zero alphas: 6\n"
     ]
    },
    {
     "name": "stderr",
     "output_type": "stream",
     "text": [
      "Building TRAIN_KERNEL: 100%|██████████| 1225/1225 [00:37<00:00, 32.92it/s]\n",
      "Building TEST_KERNEL: 100%|██████████| 2500/2500 [01:27<00:00, 28.64it/s]\n"
     ]
    },
    {
     "name": "stdout",
     "output_type": "stream",
     "text": [
      "| \u001b[39m16       \u001b[39m | \u001b[39m0.52     \u001b[39m | \u001b[39m0.6408   \u001b[39m | \u001b[39m0.5451   \u001b[39m | \u001b[39m0.3996   \u001b[39m | \u001b[39m0.74     \u001b[39m | \u001b[39m0.02666  \u001b[39m | \u001b[39m0.5511   \u001b[39m | \u001b[39m0.2818   \u001b[39m | \u001b[39m0.2533   \u001b[39m | \u001b[39m0.8916   \u001b[39m | \u001b[39m0.3739   \u001b[39m | \u001b[39m0.2868   \u001b[39m | \u001b[39m0.9204   \u001b[39m | \u001b[39m0.6048   \u001b[39m | \u001b[39m0.3257   \u001b[39m | \u001b[39m0.301    \u001b[39m | \u001b[39m0.8876   \u001b[39m |\n",
      "Non-zero alphas: 6\n"
     ]
    },
    {
     "name": "stderr",
     "output_type": "stream",
     "text": [
      "Building TRAIN_KERNEL: 100%|██████████| 1225/1225 [00:37<00:00, 32.24it/s]\n",
      "Building TEST_KERNEL: 100%|██████████| 2500/2500 [01:27<00:00, 28.52it/s]\n"
     ]
    },
    {
     "name": "stdout",
     "output_type": "stream",
     "text": [
      "| \u001b[39m17       \u001b[39m | \u001b[39m0.54     \u001b[39m | \u001b[39m0.369    \u001b[39m | \u001b[39m0.5786   \u001b[39m | \u001b[39m0.9015   \u001b[39m | \u001b[39m0.001486 \u001b[39m | \u001b[39m0.3995   \u001b[39m | \u001b[39m0.6676   \u001b[39m | \u001b[39m0.05527  \u001b[39m | \u001b[39m0.8329   \u001b[39m | \u001b[39m0.613    \u001b[39m | \u001b[39m0.254    \u001b[39m | \u001b[39m0.7441   \u001b[39m | \u001b[39m0.3013   \u001b[39m | \u001b[39m0.5812   \u001b[39m | \u001b[39m0.2915   \u001b[39m | \u001b[39m0.3727   \u001b[39m | \u001b[39m0.1752   \u001b[39m |\n",
      "Non-zero alphas: 6\n"
     ]
    },
    {
     "name": "stderr",
     "output_type": "stream",
     "text": [
      "Building TRAIN_KERNEL: 100%|██████████| 1225/1225 [00:38<00:00, 31.43it/s]\n",
      "Building TEST_KERNEL: 100%|██████████| 2500/2500 [01:27<00:00, 28.68it/s]\n"
     ]
    },
    {
     "name": "stdout",
     "output_type": "stream",
     "text": [
      "| \u001b[39m18       \u001b[39m | \u001b[39m0.52     \u001b[39m | \u001b[39m0.2204   \u001b[39m | \u001b[39m0.3533   \u001b[39m | \u001b[39m0.004992 \u001b[39m | \u001b[39m0.7255   \u001b[39m | \u001b[39m0.6118   \u001b[39m | \u001b[39m0.2944   \u001b[39m | \u001b[39m0.2215   \u001b[39m | \u001b[39m0.6808   \u001b[39m | \u001b[39m0.4829   \u001b[39m | \u001b[39m0.7047   \u001b[39m | \u001b[39m0.181    \u001b[39m | \u001b[39m0.7168   \u001b[39m | \u001b[39m0.412    \u001b[39m | \u001b[39m0.7767   \u001b[39m | \u001b[39m0.4099   \u001b[39m | \u001b[39m0.2025   \u001b[39m |\n",
      "Non-zero alphas: 6\n"
     ]
    },
    {
     "name": "stderr",
     "output_type": "stream",
     "text": [
      "Building TRAIN_KERNEL: 100%|██████████| 1225/1225 [00:38<00:00, 32.08it/s]\n",
      "Building TEST_KERNEL: 100%|██████████| 2500/2500 [01:23<00:00, 30.00it/s]\n"
     ]
    },
    {
     "name": "stdout",
     "output_type": "stream",
     "text": [
      "| \u001b[39m19       \u001b[39m | \u001b[39m0.54     \u001b[39m | \u001b[39m0.262    \u001b[39m | \u001b[39m0.7018   \u001b[39m | \u001b[39m0.7417   \u001b[39m | \u001b[39m0.3903   \u001b[39m | \u001b[39m0.5435   \u001b[39m | \u001b[39m0.1085   \u001b[39m | \u001b[39m0.4197   \u001b[39m | \u001b[39m0.06063  \u001b[39m | \u001b[39m0.6557   \u001b[39m | \u001b[39m0.554    \u001b[39m | \u001b[39m0.2698   \u001b[39m | \u001b[39m0.5881   \u001b[39m | \u001b[39m0.7687   \u001b[39m | \u001b[39m0.4663   \u001b[39m | \u001b[39m0.985    \u001b[39m | \u001b[39m0.7263   \u001b[39m |\n",
      "Non-zero alphas: 6\n"
     ]
    },
    {
     "name": "stderr",
     "output_type": "stream",
     "text": [
      "Building TRAIN_KERNEL: 100%|██████████| 1225/1225 [00:36<00:00, 33.35it/s]\n",
      "Building TEST_KERNEL: 100%|██████████| 2500/2500 [01:21<00:00, 30.51it/s]\n"
     ]
    },
    {
     "name": "stdout",
     "output_type": "stream",
     "text": [
      "| \u001b[39m20       \u001b[39m | \u001b[39m0.56     \u001b[39m | \u001b[39m0.7637   \u001b[39m | \u001b[39m0.1957   \u001b[39m | \u001b[39m0.8054   \u001b[39m | \u001b[39m0.1662   \u001b[39m | \u001b[39m0.5076   \u001b[39m | \u001b[39m0.3042   \u001b[39m | \u001b[39m0.608    \u001b[39m | \u001b[39m0.7166   \u001b[39m | \u001b[39m0.9795   \u001b[39m | \u001b[39m0.2166   \u001b[39m | \u001b[39m0.2543   \u001b[39m | \u001b[39m0.5582   \u001b[39m | \u001b[39m0.3628   \u001b[39m | \u001b[39m0.711    \u001b[39m | \u001b[39m0.8114   \u001b[39m | \u001b[39m0.3033   \u001b[39m |\n",
      "Non-zero alphas: 6\n"
     ]
    },
    {
     "name": "stderr",
     "output_type": "stream",
     "text": [
      "Building TRAIN_KERNEL: 100%|██████████| 1225/1225 [00:41<00:00, 29.60it/s]\n",
      "Building TEST_KERNEL: 100%|██████████| 2500/2500 [01:23<00:00, 29.88it/s]\n"
     ]
    },
    {
     "name": "stdout",
     "output_type": "stream",
     "text": [
      "| \u001b[39m21       \u001b[39m | \u001b[39m0.52     \u001b[39m | \u001b[39m0.7764   \u001b[39m | \u001b[39m0.8658   \u001b[39m | \u001b[39m0.8769   \u001b[39m | \u001b[39m0.3123   \u001b[39m | \u001b[39m0.6066   \u001b[39m | \u001b[39m0.4438   \u001b[39m | \u001b[39m0.01257  \u001b[39m | \u001b[39m0.8236   \u001b[39m | \u001b[39m0.3838   \u001b[39m | \u001b[39m0.9202   \u001b[39m | \u001b[39m0.5003   \u001b[39m | \u001b[39m0.6581   \u001b[39m | \u001b[39m0.8833   \u001b[39m | \u001b[39m0.7314   \u001b[39m | \u001b[39m0.9911   \u001b[39m | \u001b[39m0.7923   \u001b[39m |\n",
      "Non-zero alphas: 6\n"
     ]
    },
    {
     "name": "stderr",
     "output_type": "stream",
     "text": [
      "Building TRAIN_KERNEL: 100%|██████████| 1225/1225 [00:37<00:00, 32.80it/s]\n",
      "Building TEST_KERNEL: 100%|██████████| 2500/2500 [01:24<00:00, 29.48it/s]\n"
     ]
    },
    {
     "name": "stdout",
     "output_type": "stream",
     "text": [
      "| \u001b[39m22       \u001b[39m | \u001b[39m0.52     \u001b[39m | \u001b[39m0.079    \u001b[39m | \u001b[39m0.4658   \u001b[39m | \u001b[39m0.6447   \u001b[39m | \u001b[39m0.5901   \u001b[39m | \u001b[39m0.3892   \u001b[39m | \u001b[39m0.6057   \u001b[39m | \u001b[39m0.7806   \u001b[39m | \u001b[39m0.8121   \u001b[39m | \u001b[39m0.8609   \u001b[39m | \u001b[39m0.2406   \u001b[39m | \u001b[39m0.1748   \u001b[39m | \u001b[39m0.6373   \u001b[39m | \u001b[39m0.5513   \u001b[39m | \u001b[39m0.5554   \u001b[39m | \u001b[39m0.534    \u001b[39m | \u001b[39m0.3612   \u001b[39m |\n",
      "Non-zero alphas: 6\n"
     ]
    },
    {
     "name": "stderr",
     "output_type": "stream",
     "text": [
      "Building TRAIN_KERNEL: 100%|██████████| 1225/1225 [00:40<00:00, 30.50it/s]\n",
      "Building TEST_KERNEL: 100%|██████████| 2500/2500 [01:25<00:00, 29.30it/s]\n"
     ]
    },
    {
     "name": "stdout",
     "output_type": "stream",
     "text": [
      "| \u001b[39m23       \u001b[39m | \u001b[39m0.68     \u001b[39m | \u001b[39m0.5999   \u001b[39m | \u001b[39m0.9287   \u001b[39m | \u001b[39m0.3202   \u001b[39m | \u001b[39m0.635    \u001b[39m | \u001b[39m0.783    \u001b[39m | \u001b[39m0.1473   \u001b[39m | \u001b[39m0.7643   \u001b[39m | \u001b[39m0.4941   \u001b[39m | \u001b[39m0.02113  \u001b[39m | \u001b[39m0.2304   \u001b[39m | \u001b[39m0.37     \u001b[39m | \u001b[39m0.0893   \u001b[39m | \u001b[39m0.04689  \u001b[39m | \u001b[39m0.4207   \u001b[39m | \u001b[39m0.3109   \u001b[39m | \u001b[39m0.3666   \u001b[39m |\n",
      "Non-zero alphas: 6\n"
     ]
    },
    {
     "name": "stderr",
     "output_type": "stream",
     "text": [
      "Building TRAIN_KERNEL: 100%|██████████| 1225/1225 [00:41<00:00, 29.39it/s]\n",
      "Building TEST_KERNEL: 100%|██████████| 2500/2500 [01:24<00:00, 29.68it/s]\n"
     ]
    },
    {
     "name": "stdout",
     "output_type": "stream",
     "text": [
      "| \u001b[39m24       \u001b[39m | \u001b[39m0.54     \u001b[39m | \u001b[39m0.05572  \u001b[39m | \u001b[39m0.6186   \u001b[39m | \u001b[39m0.746    \u001b[39m | \u001b[39m0.5836   \u001b[39m | \u001b[39m0.2076   \u001b[39m | \u001b[39m0.6248   \u001b[39m | \u001b[39m0.4647   \u001b[39m | \u001b[39m0.5463   \u001b[39m | \u001b[39m0.04458  \u001b[39m | \u001b[39m0.1464   \u001b[39m | \u001b[39m0.3253   \u001b[39m | \u001b[39m0.5966   \u001b[39m | \u001b[39m0.6053   \u001b[39m | \u001b[39m0.7523   \u001b[39m | \u001b[39m0.549    \u001b[39m | \u001b[39m0.5289   \u001b[39m |\n",
      "Non-zero alphas: 6\n"
     ]
    },
    {
     "name": "stderr",
     "output_type": "stream",
     "text": [
      "Building TRAIN_KERNEL: 100%|██████████| 1225/1225 [00:39<00:00, 30.66it/s]\n",
      "Building TEST_KERNEL: 100%|██████████| 2500/2500 [01:26<00:00, 28.92it/s]\n"
     ]
    },
    {
     "name": "stdout",
     "output_type": "stream",
     "text": [
      "| \u001b[39m25       \u001b[39m | \u001b[39m0.56     \u001b[39m | \u001b[39m0.2918   \u001b[39m | \u001b[39m0.9933   \u001b[39m | \u001b[39m0.6162   \u001b[39m | \u001b[39m0.1704   \u001b[39m | \u001b[39m0.5959   \u001b[39m | \u001b[39m0.1138   \u001b[39m | \u001b[39m0.6047   \u001b[39m | \u001b[39m0.7634   \u001b[39m | \u001b[39m0.3989   \u001b[39m | \u001b[39m0.4102   \u001b[39m | \u001b[39m0.6913   \u001b[39m | \u001b[39m0.9013   \u001b[39m | \u001b[39m0.9394   \u001b[39m | \u001b[39m0.03754  \u001b[39m | \u001b[39m0.4325   \u001b[39m | \u001b[39m0.4857   \u001b[39m |\n",
      "Non-zero alphas: 6\n"
     ]
    },
    {
     "name": "stderr",
     "output_type": "stream",
     "text": [
      "Building TRAIN_KERNEL: 100%|██████████| 1225/1225 [00:38<00:00, 32.14it/s]\n",
      "Building TEST_KERNEL: 100%|██████████| 2500/2500 [01:25<00:00, 29.39it/s]\n"
     ]
    },
    {
     "name": "stdout",
     "output_type": "stream",
     "text": [
      "| \u001b[39m26       \u001b[39m | \u001b[39m0.52     \u001b[39m | \u001b[39m0.4892   \u001b[39m | \u001b[39m0.2586   \u001b[39m | \u001b[39m0.3416   \u001b[39m | \u001b[39m0.8598   \u001b[39m | \u001b[39m0.07477  \u001b[39m | \u001b[39m0.7394   \u001b[39m | \u001b[39m0.5796   \u001b[39m | \u001b[39m0.6912   \u001b[39m | \u001b[39m0.1403   \u001b[39m | \u001b[39m0.6253   \u001b[39m | \u001b[39m0.8636   \u001b[39m | \u001b[39m0.5237   \u001b[39m | \u001b[39m0.7512   \u001b[39m | \u001b[39m0.7249   \u001b[39m | \u001b[39m0.5371   \u001b[39m | \u001b[39m0.8393   \u001b[39m |\n",
      "Non-zero alphas: 6\n"
     ]
    },
    {
     "name": "stderr",
     "output_type": "stream",
     "text": [
      "Building TRAIN_KERNEL: 100%|██████████| 1225/1225 [00:38<00:00, 32.08it/s]\n",
      "Building TEST_KERNEL: 100%|██████████| 2500/2500 [01:26<00:00, 29.06it/s]\n"
     ]
    },
    {
     "name": "stdout",
     "output_type": "stream",
     "text": [
      "| \u001b[39m27       \u001b[39m | \u001b[39m0.52     \u001b[39m | \u001b[39m0.09818  \u001b[39m | \u001b[39m0.7689   \u001b[39m | \u001b[39m0.009608 \u001b[39m | \u001b[39m0.422    \u001b[39m | \u001b[39m0.1105   \u001b[39m | \u001b[39m0.8875   \u001b[39m | \u001b[39m0.6212   \u001b[39m | \u001b[39m0.07029  \u001b[39m | \u001b[39m0.9199   \u001b[39m | \u001b[39m0.7059   \u001b[39m | \u001b[39m0.1872   \u001b[39m | \u001b[39m0.7392   \u001b[39m | \u001b[39m0.4586   \u001b[39m | \u001b[39m0.3119   \u001b[39m | \u001b[39m0.1317   \u001b[39m | \u001b[39m0.003327 \u001b[39m |\n",
      "Non-zero alphas: 6\n"
     ]
    },
    {
     "name": "stderr",
     "output_type": "stream",
     "text": [
      "Building TRAIN_KERNEL: 100%|██████████| 1225/1225 [00:37<00:00, 32.33it/s]\n",
      "Building TEST_KERNEL: 100%|██████████| 2500/2500 [01:26<00:00, 28.88it/s]\n"
     ]
    },
    {
     "name": "stdout",
     "output_type": "stream",
     "text": [
      "| \u001b[39m28       \u001b[39m | \u001b[39m0.72     \u001b[39m | \u001b[39m0.1696   \u001b[39m | \u001b[39m0.9769   \u001b[39m | \u001b[39m0.8451   \u001b[39m | \u001b[39m0.5408   \u001b[39m | \u001b[39m0.9243   \u001b[39m | \u001b[39m0.6075   \u001b[39m | \u001b[39m0.5093   \u001b[39m | \u001b[39m0.2639   \u001b[39m | \u001b[39m0.8233   \u001b[39m | \u001b[39m0.4961   \u001b[39m | \u001b[39m0.2494   \u001b[39m | \u001b[39m0.4792   \u001b[39m | \u001b[39m0.8759   \u001b[39m | \u001b[39m0.8371   \u001b[39m | \u001b[39m0.3395   \u001b[39m | \u001b[39m0.2934   \u001b[39m |\n",
      "Non-zero alphas: 6\n"
     ]
    },
    {
     "name": "stderr",
     "output_type": "stream",
     "text": [
      "Building TRAIN_KERNEL: 100%|██████████| 1225/1225 [00:38<00:00, 32.06it/s]\n",
      "Building TEST_KERNEL: 100%|██████████| 2500/2500 [01:22<00:00, 30.19it/s]\n"
     ]
    },
    {
     "name": "stdout",
     "output_type": "stream",
     "text": [
      "| \u001b[39m29       \u001b[39m | \u001b[39m0.56     \u001b[39m | \u001b[39m0.5824   \u001b[39m | \u001b[39m0.1498   \u001b[39m | \u001b[39m0.1665   \u001b[39m | \u001b[39m0.2812   \u001b[39m | \u001b[39m0.649    \u001b[39m | \u001b[39m0.5298   \u001b[39m | \u001b[39m0.7272   \u001b[39m | \u001b[39m0.9472   \u001b[39m | \u001b[39m0.1197   \u001b[39m | \u001b[39m0.05265  \u001b[39m | \u001b[39m0.5273   \u001b[39m | \u001b[39m0.7674   \u001b[39m | \u001b[39m0.4109   \u001b[39m | \u001b[39m0.5427   \u001b[39m | \u001b[39m0.2697   \u001b[39m | \u001b[39m0.2026   \u001b[39m |\n",
      "Non-zero alphas: 6\n"
     ]
    },
    {
     "name": "stderr",
     "output_type": "stream",
     "text": [
      "Building TRAIN_KERNEL: 100%|██████████| 1225/1225 [00:41<00:00, 29.43it/s]\n",
      "Building TEST_KERNEL: 100%|██████████| 2500/2500 [01:24<00:00, 29.53it/s]\n"
     ]
    },
    {
     "name": "stdout",
     "output_type": "stream",
     "text": [
      "| \u001b[39m30       \u001b[39m | \u001b[39m0.7      \u001b[39m | \u001b[39m0.5692   \u001b[39m | \u001b[39m0.7647   \u001b[39m | \u001b[39m0.1543   \u001b[39m | \u001b[39m0.8688   \u001b[39m | \u001b[39m0.9758   \u001b[39m | \u001b[39m0.8985   \u001b[39m | \u001b[39m0.9844   \u001b[39m | \u001b[39m0.5857   \u001b[39m | \u001b[39m0.3596   \u001b[39m | \u001b[39m0.8363   \u001b[39m | \u001b[39m0.721    \u001b[39m | \u001b[39m0.2059   \u001b[39m | \u001b[39m0.2133   \u001b[39m | \u001b[39m0.5445   \u001b[39m | \u001b[39m0.007826 \u001b[39m | \u001b[39m0.3605   \u001b[39m |\n",
      "=========================================================================================================================================================================================================================\n",
      "Best Coefficients: [np.float64(0.06505159298527952), np.float64(0.9488855372533332), np.float64(0.12203823484477883), np.float64(0.4951769101112702), np.float64(0.034388521115218396), np.float64(0.9093204020787821), np.float64(0.2587799816000169), np.float64(0.662522284353982), np.float64(0.31171107608941095), np.float64(0.5200680211778108), np.float64(0.9656320330745594), np.float64(0.8083973481164611), np.float64(0.3046137691733707), np.float64(0.09767211400638387), np.float64(0.6842330265121569), np.float64(0.4401524937396013)]\n",
      "Best Val Accuracy: 0.72\n",
      "Non-zero alphas: 6\n"
     ]
    },
    {
     "name": "stderr",
     "output_type": "stream",
     "text": [
      "Building TRAIN_KERNEL: 100%|██████████| 1225/1225 [00:38<00:00, 31.66it/s]\n"
     ]
    },
    {
     "name": "stdout",
     "output_type": "stream",
     "text": [
      "Train Accuracy: 0.76\n"
     ]
    },
    {
     "name": "stderr",
     "output_type": "stream",
     "text": [
      "Building TEST_KERNEL: 100%|██████████| 2500/2500 [01:28<00:00, 28.37it/s]\n"
     ]
    },
    {
     "name": "stdout",
     "output_type": "stream",
     "text": [
      "Validation Accuracy: 0.7\n"
     ]
    },
    {
     "name": "stderr",
     "output_type": "stream",
     "text": [
      "Building TEST_KERNEL: 100%|██████████| 5000/5000 [02:45<00:00, 30.27it/s]\n"
     ]
    },
    {
     "name": "stdout",
     "output_type": "stream",
     "text": [
      "Test Accuracy: 0.65\n",
      "Saving model...\n",
      "|   iter    |  target   |  coeff_0  |  coeff_1  | coeff_10  | coeff_11  | coeff_12  | coeff_13  | coeff_14  | coeff_15  |  coeff_2  |  coeff_3  |  coeff_4  |  coeff_5  |  coeff_6  |  coeff_7  |  coeff_8  |  coeff_9  |\n",
      "-------------------------------------------------------------------------------------------------------------------------------------------------------------------------------------------------------------------------\n",
      "Non-zero alphas: 10\n"
     ]
    },
    {
     "name": "stderr",
     "output_type": "stream",
     "text": [
      "Building TRAIN_KERNEL: 100%|██████████| 1225/1225 [01:07<00:00, 18.09it/s]\n",
      "Building TEST_KERNEL: 100%|██████████| 2500/2500 [02:15<00:00, 18.39it/s]\n"
     ]
    },
    {
     "name": "stdout",
     "output_type": "stream",
     "text": [
      "| \u001b[39m1        \u001b[39m | \u001b[39m0.66     \u001b[39m | \u001b[39m0.3745   \u001b[39m | \u001b[39m0.9507   \u001b[39m | \u001b[39m0.732    \u001b[39m | \u001b[39m0.5987   \u001b[39m | \u001b[39m0.156    \u001b[39m | \u001b[39m0.156    \u001b[39m | \u001b[39m0.05808  \u001b[39m | \u001b[39m0.8662   \u001b[39m | \u001b[39m0.6011   \u001b[39m | \u001b[39m0.7081   \u001b[39m | \u001b[39m0.02058  \u001b[39m | \u001b[39m0.9699   \u001b[39m | \u001b[39m0.8324   \u001b[39m | \u001b[39m0.2123   \u001b[39m | \u001b[39m0.1818   \u001b[39m | \u001b[39m0.1834   \u001b[39m |\n",
      "Non-zero alphas: 10\n"
     ]
    },
    {
     "name": "stderr",
     "output_type": "stream",
     "text": [
      "Building TRAIN_KERNEL: 100%|██████████| 1225/1225 [01:10<00:00, 17.32it/s]\n",
      "Building TEST_KERNEL: 100%|██████████| 2500/2500 [02:19<00:00, 17.96it/s]\n"
     ]
    },
    {
     "name": "stdout",
     "output_type": "stream",
     "text": [
      "| \u001b[35m2        \u001b[39m | \u001b[35m0.74     \u001b[39m | \u001b[35m0.3042   \u001b[39m | \u001b[35m0.5248   \u001b[39m | \u001b[35m0.4319   \u001b[39m | \u001b[35m0.2912   \u001b[39m | \u001b[35m0.6119   \u001b[39m | \u001b[35m0.1395   \u001b[39m | \u001b[35m0.2921   \u001b[39m | \u001b[35m0.3664   \u001b[39m | \u001b[35m0.4561   \u001b[39m | \u001b[35m0.7852   \u001b[39m | \u001b[35m0.1997   \u001b[39m | \u001b[35m0.5142   \u001b[39m | \u001b[35m0.5924   \u001b[39m | \u001b[35m0.04645  \u001b[39m | \u001b[35m0.6075   \u001b[39m | \u001b[35m0.1705   \u001b[39m |\n",
      "Non-zero alphas: 10\n"
     ]
    },
    {
     "name": "stderr",
     "output_type": "stream",
     "text": [
      "Building TRAIN_KERNEL: 100%|██████████| 1225/1225 [01:08<00:00, 17.87it/s]\n",
      "Building TEST_KERNEL: 100%|██████████| 2500/2500 [02:14<00:00, 18.63it/s]\n"
     ]
    },
    {
     "name": "stdout",
     "output_type": "stream",
     "text": [
      "| \u001b[35m3        \u001b[39m | \u001b[35m0.88     \u001b[39m | \u001b[35m0.06505  \u001b[39m | \u001b[35m0.9489   \u001b[39m | \u001b[35m0.9656   \u001b[39m | \u001b[35m0.8084   \u001b[39m | \u001b[35m0.3046   \u001b[39m | \u001b[35m0.09767  \u001b[39m | \u001b[35m0.6842   \u001b[39m | \u001b[35m0.4402   \u001b[39m | \u001b[35m0.122    \u001b[39m | \u001b[35m0.4952   \u001b[39m | \u001b[35m0.03439  \u001b[39m | \u001b[35m0.9093   \u001b[39m | \u001b[35m0.2588   \u001b[39m | \u001b[35m0.6625   \u001b[39m | \u001b[35m0.3117   \u001b[39m | \u001b[35m0.5201   \u001b[39m |\n",
      "Non-zero alphas: 10\n"
     ]
    },
    {
     "name": "stderr",
     "output_type": "stream",
     "text": [
      "Building TRAIN_KERNEL: 100%|██████████| 1225/1225 [01:08<00:00, 17.83it/s]\n",
      "Building TEST_KERNEL: 100%|██████████| 2500/2500 [02:20<00:00, 17.74it/s]\n"
     ]
    },
    {
     "name": "stdout",
     "output_type": "stream",
     "text": [
      "| \u001b[39m4        \u001b[39m | \u001b[39m0.84     \u001b[39m | \u001b[39m0.5467   \u001b[39m | \u001b[39m0.1849   \u001b[39m | \u001b[39m0.9696   \u001b[39m | \u001b[39m0.7751   \u001b[39m | \u001b[39m0.9395   \u001b[39m | \u001b[39m0.8948   \u001b[39m | \u001b[39m0.5979   \u001b[39m | \u001b[39m0.9219   \u001b[39m | \u001b[39m0.08849  \u001b[39m | \u001b[39m0.196    \u001b[39m | \u001b[39m0.04523  \u001b[39m | \u001b[39m0.3253   \u001b[39m | \u001b[39m0.3887   \u001b[39m | \u001b[39m0.2713   \u001b[39m | \u001b[39m0.8287   \u001b[39m | \u001b[39m0.3568   \u001b[39m |\n",
      "Non-zero alphas: 10\n"
     ]
    },
    {
     "name": "stderr",
     "output_type": "stream",
     "text": [
      "Building TRAIN_KERNEL: 100%|██████████| 1225/1225 [01:09<00:00, 17.75it/s]\n",
      "Building TEST_KERNEL: 100%|██████████| 2500/2500 [02:21<00:00, 17.73it/s]\n"
     ]
    },
    {
     "name": "stdout",
     "output_type": "stream",
     "text": [
      "| \u001b[39m5        \u001b[39m | \u001b[39m0.88     \u001b[39m | \u001b[39m0.2809   \u001b[39m | \u001b[39m0.5427   \u001b[39m | \u001b[39m0.1409   \u001b[39m | \u001b[39m0.8022   \u001b[39m | \u001b[39m0.07455  \u001b[39m | \u001b[39m0.9869   \u001b[39m | \u001b[39m0.7722   \u001b[39m | \u001b[39m0.1987   \u001b[39m | \u001b[39m0.005522 \u001b[39m | \u001b[39m0.8155   \u001b[39m | \u001b[39m0.7069   \u001b[39m | \u001b[39m0.729    \u001b[39m | \u001b[39m0.7713   \u001b[39m | \u001b[39m0.07404  \u001b[39m | \u001b[39m0.3585   \u001b[39m | \u001b[39m0.1159   \u001b[39m |\n",
      "Non-zero alphas: 10\n"
     ]
    },
    {
     "name": "stderr",
     "output_type": "stream",
     "text": [
      "Building TRAIN_KERNEL: 100%|██████████| 1225/1225 [01:10<00:00, 17.27it/s]\n",
      "Building TEST_KERNEL: 100%|██████████| 2500/2500 [02:11<00:00, 18.95it/s]\n"
     ]
    },
    {
     "name": "stdout",
     "output_type": "stream",
     "text": [
      "| \u001b[39m6        \u001b[39m | \u001b[39m0.8      \u001b[39m | \u001b[39m0.3739   \u001b[39m | \u001b[39m0.4383   \u001b[39m | \u001b[39m0.1525   \u001b[39m | \u001b[39m0.579    \u001b[39m | \u001b[39m0.1402   \u001b[39m | \u001b[39m0.9153   \u001b[39m | \u001b[39m0.4157   \u001b[39m | \u001b[39m0.04265  \u001b[39m | \u001b[39m0.001764 \u001b[39m | \u001b[39m0.6763   \u001b[39m | \u001b[39m0.6115   \u001b[39m | \u001b[39m0.7703   \u001b[39m | \u001b[39m0.7494   \u001b[39m | \u001b[39m0.003077 \u001b[39m | \u001b[39m0.167    \u001b[39m | \u001b[39m0.3259   \u001b[39m |\n",
      "Non-zero alphas: 10\n"
     ]
    },
    {
     "name": "stderr",
     "output_type": "stream",
     "text": [
      "Building TRAIN_KERNEL: 100%|██████████| 1225/1225 [01:07<00:00, 18.22it/s]\n",
      "Building TEST_KERNEL: 100%|██████████| 2500/2500 [02:17<00:00, 18.20it/s]\n"
     ]
    },
    {
     "name": "stdout",
     "output_type": "stream",
     "text": [
      "| \u001b[39m7        \u001b[39m | \u001b[39m0.74     \u001b[39m | \u001b[39m0.3013   \u001b[39m | \u001b[39m0.2361   \u001b[39m | \u001b[39m0.8316   \u001b[39m | \u001b[39m0.7423   \u001b[39m | \u001b[39m0.8344   \u001b[39m | \u001b[39m0.9564   \u001b[39m | \u001b[39m0.4983   \u001b[39m | \u001b[39m0.9174   \u001b[39m | \u001b[39m0.1877   \u001b[39m | \u001b[39m0.2881   \u001b[39m | \u001b[39m0.2457   \u001b[39m | \u001b[39m0.2637   \u001b[39m | \u001b[39m0.4798   \u001b[39m | \u001b[39m0.09818  \u001b[39m | \u001b[39m0.7688   \u001b[39m | \u001b[39m0.2048   \u001b[39m |\n",
      "Non-zero alphas: 10\n"
     ]
    },
    {
     "name": "stderr",
     "output_type": "stream",
     "text": [
      "Building TRAIN_KERNEL: 100%|██████████| 1225/1225 [01:08<00:00, 18.01it/s]\n",
      "Building TEST_KERNEL: 100%|██████████| 2500/2500 [02:17<00:00, 18.14it/s]\n"
     ]
    },
    {
     "name": "stdout",
     "output_type": "stream",
     "text": [
      "| \u001b[39m8        \u001b[39m | \u001b[39m0.88     \u001b[39m | \u001b[39m0.1491   \u001b[39m | \u001b[39m0.5135   \u001b[39m | \u001b[39m0.6306   \u001b[39m | \u001b[39m0.2698   \u001b[39m | \u001b[39m0.659    \u001b[39m | \u001b[39m0.2806   \u001b[39m | \u001b[39m0.3082   \u001b[39m | \u001b[39m0.0513   \u001b[39m | \u001b[39m0.7128   \u001b[39m | \u001b[39m0.8957   \u001b[39m | \u001b[39m0.1061   \u001b[39m | \u001b[39m0.2172   \u001b[39m | \u001b[39m0.3675   \u001b[39m | \u001b[39m0.2776   \u001b[39m | \u001b[39m0.5975   \u001b[39m | \u001b[39m0.09893  \u001b[39m |\n",
      "Non-zero alphas: 10\n"
     ]
    },
    {
     "name": "stderr",
     "output_type": "stream",
     "text": [
      "Building TRAIN_KERNEL: 100%|██████████| 1225/1225 [01:08<00:00, 17.83it/s]\n",
      "Building TEST_KERNEL: 100%|██████████| 2500/2500 [02:15<00:00, 18.41it/s]\n"
     ]
    },
    {
     "name": "stdout",
     "output_type": "stream",
     "text": [
      "| \u001b[39m9        \u001b[39m | \u001b[39m0.68     \u001b[39m | \u001b[39m0.2381   \u001b[39m | \u001b[39m0.5075   \u001b[39m | \u001b[39m0.3218   \u001b[39m | \u001b[39m0.6104   \u001b[39m | \u001b[39m0.9135   \u001b[39m | \u001b[39m0.8304   \u001b[39m | \u001b[39m0.3073   \u001b[39m | \u001b[39m0.6383   \u001b[39m | \u001b[39m0.978    \u001b[39m | \u001b[39m0.6164   \u001b[39m | \u001b[39m0.5837   \u001b[39m | \u001b[39m0.1719   \u001b[39m | \u001b[39m0.1725   \u001b[39m | \u001b[39m0.1669   \u001b[39m | \u001b[39m0.9974   \u001b[39m | \u001b[39m0.2141   \u001b[39m |\n",
      "Non-zero alphas: 10\n"
     ]
    },
    {
     "name": "stderr",
     "output_type": "stream",
     "text": [
      "Building TRAIN_KERNEL: 100%|██████████| 1225/1225 [01:06<00:00, 18.47it/s]\n",
      "Building TEST_KERNEL: 100%|██████████| 2500/2500 [02:14<00:00, 18.57it/s]\n"
     ]
    },
    {
     "name": "stdout",
     "output_type": "stream",
     "text": [
      "| \u001b[39m10       \u001b[39m | \u001b[39m0.86     \u001b[39m | \u001b[39m0.8743   \u001b[39m | \u001b[39m0.4682   \u001b[39m | \u001b[39m0.1181   \u001b[39m | \u001b[39m0.561    \u001b[39m | \u001b[39m0.9829   \u001b[39m | \u001b[39m0.6561   \u001b[39m | \u001b[39m0.6104   \u001b[39m | \u001b[39m0.02032  \u001b[39m | \u001b[39m0.3413   \u001b[39m | \u001b[39m0.6338   \u001b[39m | \u001b[39m0.9261   \u001b[39m | \u001b[39m0.2267   \u001b[39m | \u001b[39m0.6446   \u001b[39m | \u001b[39m0.6518   \u001b[39m | \u001b[39m0.7886   \u001b[39m | \u001b[39m0.3401   \u001b[39m |\n",
      "Non-zero alphas: 10\n"
     ]
    },
    {
     "name": "stderr",
     "output_type": "stream",
     "text": [
      "Building TRAIN_KERNEL: 100%|██████████| 1225/1225 [01:07<00:00, 18.03it/s]\n",
      "Building TEST_KERNEL: 100%|██████████| 2500/2500 [02:14<00:00, 18.63it/s]\n"
     ]
    },
    {
     "name": "stdout",
     "output_type": "stream",
     "text": [
      "| \u001b[39m11       \u001b[39m | \u001b[39m0.78     \u001b[39m | \u001b[39m0.3157   \u001b[39m | \u001b[39m0.6635   \u001b[39m | \u001b[39m0.8042   \u001b[39m | \u001b[39m0.003167 \u001b[39m | \u001b[39m0.7017   \u001b[39m | \u001b[39m0.5368   \u001b[39m | \u001b[39m0.4715   \u001b[39m | \u001b[39m0.6844   \u001b[39m | \u001b[39m0.1046   \u001b[39m | \u001b[39m0.872    \u001b[39m | \u001b[39m0.3788   \u001b[39m | \u001b[39m0.3335   \u001b[39m | \u001b[39m0.3684   \u001b[39m | \u001b[39m0.1503   \u001b[39m | \u001b[39m0.9851   \u001b[39m | \u001b[39m0.7451   \u001b[39m |\n",
      "Non-zero alphas: 10\n"
     ]
    },
    {
     "name": "stderr",
     "output_type": "stream",
     "text": [
      "Building TRAIN_KERNEL: 100%|██████████| 1225/1225 [01:08<00:00, 17.91it/s]\n",
      "Building TEST_KERNEL: 100%|██████████| 2500/2500 [02:16<00:00, 18.34it/s]\n"
     ]
    },
    {
     "name": "stdout",
     "output_type": "stream",
     "text": [
      "| \u001b[39m12       \u001b[39m | \u001b[39m0.86     \u001b[39m | \u001b[39m0.8081   \u001b[39m | \u001b[39m0.6462   \u001b[39m | \u001b[39m0.6599   \u001b[39m | \u001b[39m0.05111  \u001b[39m | \u001b[39m0.8338   \u001b[39m | \u001b[39m0.2336   \u001b[39m | \u001b[39m0.01959  \u001b[39m | \u001b[39m0.271    \u001b[39m | \u001b[39m0.4307   \u001b[39m | \u001b[39m0.1537   \u001b[39m | \u001b[39m0.1768   \u001b[39m | \u001b[39m0.2609   \u001b[39m | \u001b[39m0.9895   \u001b[39m | \u001b[39m0.5295   \u001b[39m | \u001b[39m0.2108   \u001b[39m | \u001b[39m0.1557   \u001b[39m |\n",
      "Non-zero alphas: 10\n"
     ]
    },
    {
     "name": "stderr",
     "output_type": "stream",
     "text": [
      "Building TRAIN_KERNEL: 100%|██████████| 1225/1225 [01:07<00:00, 18.25it/s]\n",
      "Building TEST_KERNEL: 100%|██████████| 2500/2500 [02:14<00:00, 18.61it/s]\n"
     ]
    },
    {
     "name": "stdout",
     "output_type": "stream",
     "text": [
      "| \u001b[39m13       \u001b[39m | \u001b[39m0.84     \u001b[39m | \u001b[39m0.9306   \u001b[39m | \u001b[39m0.8376   \u001b[39m | \u001b[39m0.7835   \u001b[39m | \u001b[39m0.07252  \u001b[39m | \u001b[39m0.9936   \u001b[39m | \u001b[39m0.9872   \u001b[39m | \u001b[39m0.91     \u001b[39m | \u001b[39m0.7949   \u001b[39m | \u001b[39m0.8441   \u001b[39m | \u001b[39m0.1167   \u001b[39m | \u001b[39m0.3174   \u001b[39m | \u001b[39m0.05548  \u001b[39m | \u001b[39m0.3904   \u001b[39m | \u001b[39m0.7072   \u001b[39m | \u001b[39m0.1423   \u001b[39m | \u001b[39m0.8683   \u001b[39m |\n",
      "Non-zero alphas: 10\n"
     ]
    },
    {
     "name": "stderr",
     "output_type": "stream",
     "text": [
      "Building TRAIN_KERNEL: 100%|██████████| 1225/1225 [01:06<00:00, 18.55it/s]\n",
      "Building TEST_KERNEL: 100%|██████████| 2500/2500 [02:16<00:00, 18.32it/s]\n"
     ]
    },
    {
     "name": "stdout",
     "output_type": "stream",
     "text": [
      "| \u001b[39m14       \u001b[39m | \u001b[39m0.8      \u001b[39m | \u001b[39m0.5318   \u001b[39m | \u001b[39m0.4783   \u001b[39m | \u001b[39m0.4877   \u001b[39m | \u001b[39m0.9015   \u001b[39m | \u001b[39m0.5223   \u001b[39m | \u001b[39m0.9531   \u001b[39m | \u001b[39m0.3934   \u001b[39m | \u001b[39m0.347    \u001b[39m | \u001b[39m0.09982  \u001b[39m | \u001b[39m0.3287   \u001b[39m | \u001b[39m0.8607   \u001b[39m | \u001b[39m0.3114   \u001b[39m | \u001b[39m0.7203   \u001b[39m | \u001b[39m0.7733   \u001b[39m | \u001b[39m0.6672   \u001b[39m | \u001b[39m0.1222   \u001b[39m |\n",
      "Non-zero alphas: 10\n"
     ]
    },
    {
     "name": "stderr",
     "output_type": "stream",
     "text": [
      "Building TRAIN_KERNEL: 100%|██████████| 1225/1225 [01:04<00:00, 19.08it/s]\n",
      "Building TEST_KERNEL: 100%|██████████| 2500/2500 [02:16<00:00, 18.25it/s]\n"
     ]
    },
    {
     "name": "stdout",
     "output_type": "stream",
     "text": [
      "| \u001b[35m15       \u001b[39m | \u001b[35m0.92     \u001b[39m | \u001b[35m0.5687   \u001b[39m | \u001b[35m0.821    \u001b[39m | \u001b[35m0.1681   \u001b[39m | \u001b[35m0.9414   \u001b[39m | \u001b[35m0.2384   \u001b[39m | \u001b[35m0.2118   \u001b[39m | \u001b[35m0.8863   \u001b[39m | \u001b[35m0.7654   \u001b[39m | \u001b[35m0.1898   \u001b[39m | \u001b[35m0.8091   \u001b[39m | \u001b[35m0.6285   \u001b[39m | \u001b[35m0.05496  \u001b[39m | \u001b[35m0.1604   \u001b[39m | \u001b[35m0.04872  \u001b[39m | \u001b[35m0.6927   \u001b[39m | \u001b[35m0.779    \u001b[39m |\n",
      "Non-zero alphas: 10\n"
     ]
    },
    {
     "name": "stderr",
     "output_type": "stream",
     "text": [
      "Building TRAIN_KERNEL: 100%|██████████| 1225/1225 [01:06<00:00, 18.32it/s]\n",
      "Building TEST_KERNEL: 100%|██████████| 2500/2500 [02:14<00:00, 18.61it/s]\n"
     ]
    },
    {
     "name": "stdout",
     "output_type": "stream",
     "text": [
      "| \u001b[39m16       \u001b[39m | \u001b[39m0.64     \u001b[39m | \u001b[39m0.6408   \u001b[39m | \u001b[39m0.5451   \u001b[39m | \u001b[39m0.3996   \u001b[39m | \u001b[39m0.74     \u001b[39m | \u001b[39m0.02666  \u001b[39m | \u001b[39m0.5511   \u001b[39m | \u001b[39m0.2818   \u001b[39m | \u001b[39m0.2533   \u001b[39m | \u001b[39m0.8916   \u001b[39m | \u001b[39m0.3739   \u001b[39m | \u001b[39m0.2868   \u001b[39m | \u001b[39m0.9204   \u001b[39m | \u001b[39m0.6048   \u001b[39m | \u001b[39m0.3257   \u001b[39m | \u001b[39m0.301    \u001b[39m | \u001b[39m0.8876   \u001b[39m |\n",
      "Non-zero alphas: 10\n"
     ]
    },
    {
     "name": "stderr",
     "output_type": "stream",
     "text": [
      "Building TRAIN_KERNEL: 100%|██████████| 1225/1225 [01:07<00:00, 18.03it/s]\n",
      "Building TEST_KERNEL: 100%|██████████| 2500/2500 [02:14<00:00, 18.64it/s]\n"
     ]
    },
    {
     "name": "stdout",
     "output_type": "stream",
     "text": [
      "| \u001b[39m17       \u001b[39m | \u001b[39m0.74     \u001b[39m | \u001b[39m0.369    \u001b[39m | \u001b[39m0.5786   \u001b[39m | \u001b[39m0.9015   \u001b[39m | \u001b[39m0.001486 \u001b[39m | \u001b[39m0.3995   \u001b[39m | \u001b[39m0.6676   \u001b[39m | \u001b[39m0.05527  \u001b[39m | \u001b[39m0.8329   \u001b[39m | \u001b[39m0.613    \u001b[39m | \u001b[39m0.254    \u001b[39m | \u001b[39m0.7441   \u001b[39m | \u001b[39m0.3013   \u001b[39m | \u001b[39m0.5812   \u001b[39m | \u001b[39m0.2915   \u001b[39m | \u001b[39m0.3727   \u001b[39m | \u001b[39m0.1752   \u001b[39m |\n",
      "Non-zero alphas: 10\n"
     ]
    },
    {
     "name": "stderr",
     "output_type": "stream",
     "text": [
      "Building TRAIN_KERNEL: 100%|██████████| 1225/1225 [01:06<00:00, 18.54it/s]\n",
      "Building TEST_KERNEL: 100%|██████████| 2500/2500 [02:16<00:00, 18.38it/s]\n"
     ]
    },
    {
     "name": "stdout",
     "output_type": "stream",
     "text": [
      "| \u001b[39m18       \u001b[39m | \u001b[39m0.7      \u001b[39m | \u001b[39m0.2204   \u001b[39m | \u001b[39m0.3533   \u001b[39m | \u001b[39m0.004992 \u001b[39m | \u001b[39m0.7255   \u001b[39m | \u001b[39m0.6118   \u001b[39m | \u001b[39m0.2944   \u001b[39m | \u001b[39m0.2215   \u001b[39m | \u001b[39m0.6808   \u001b[39m | \u001b[39m0.4829   \u001b[39m | \u001b[39m0.7047   \u001b[39m | \u001b[39m0.181    \u001b[39m | \u001b[39m0.7168   \u001b[39m | \u001b[39m0.412    \u001b[39m | \u001b[39m0.7767   \u001b[39m | \u001b[39m0.4099   \u001b[39m | \u001b[39m0.2025   \u001b[39m |\n",
      "Non-zero alphas: 10\n"
     ]
    },
    {
     "name": "stderr",
     "output_type": "stream",
     "text": [
      "Building TRAIN_KERNEL: 100%|██████████| 1225/1225 [01:08<00:00, 17.99it/s]\n",
      "Building TEST_KERNEL: 100%|██████████| 2500/2500 [02:11<00:00, 19.02it/s]\n"
     ]
    },
    {
     "name": "stdout",
     "output_type": "stream",
     "text": [
      "| \u001b[39m19       \u001b[39m | \u001b[39m0.8      \u001b[39m | \u001b[39m0.262    \u001b[39m | \u001b[39m0.7018   \u001b[39m | \u001b[39m0.7417   \u001b[39m | \u001b[39m0.3903   \u001b[39m | \u001b[39m0.5435   \u001b[39m | \u001b[39m0.1085   \u001b[39m | \u001b[39m0.4197   \u001b[39m | \u001b[39m0.06063  \u001b[39m | \u001b[39m0.6557   \u001b[39m | \u001b[39m0.554    \u001b[39m | \u001b[39m0.2698   \u001b[39m | \u001b[39m0.5881   \u001b[39m | \u001b[39m0.7687   \u001b[39m | \u001b[39m0.4663   \u001b[39m | \u001b[39m0.985    \u001b[39m | \u001b[39m0.7263   \u001b[39m |\n",
      "Non-zero alphas: 10\n"
     ]
    },
    {
     "name": "stderr",
     "output_type": "stream",
     "text": [
      "Building TRAIN_KERNEL: 100%|██████████| 1225/1225 [01:06<00:00, 18.54it/s]\n",
      "Building TEST_KERNEL: 100%|██████████| 2500/2500 [02:13<00:00, 18.68it/s]\n"
     ]
    },
    {
     "name": "stdout",
     "output_type": "stream",
     "text": [
      "| \u001b[39m20       \u001b[39m | \u001b[39m0.68     \u001b[39m | \u001b[39m0.7637   \u001b[39m | \u001b[39m0.1957   \u001b[39m | \u001b[39m0.8054   \u001b[39m | \u001b[39m0.1662   \u001b[39m | \u001b[39m0.5076   \u001b[39m | \u001b[39m0.3042   \u001b[39m | \u001b[39m0.608    \u001b[39m | \u001b[39m0.7166   \u001b[39m | \u001b[39m0.9795   \u001b[39m | \u001b[39m0.2166   \u001b[39m | \u001b[39m0.2543   \u001b[39m | \u001b[39m0.5582   \u001b[39m | \u001b[39m0.3628   \u001b[39m | \u001b[39m0.711    \u001b[39m | \u001b[39m0.8114   \u001b[39m | \u001b[39m0.3033   \u001b[39m |\n",
      "Non-zero alphas: 10\n"
     ]
    },
    {
     "name": "stderr",
     "output_type": "stream",
     "text": [
      "Building TRAIN_KERNEL: 100%|██████████| 1225/1225 [01:06<00:00, 18.35it/s]\n",
      "Building TEST_KERNEL: 100%|██████████| 2500/2500 [02:15<00:00, 18.52it/s]\n"
     ]
    },
    {
     "name": "stdout",
     "output_type": "stream",
     "text": [
      "| \u001b[39m21       \u001b[39m | \u001b[39m0.8      \u001b[39m | \u001b[39m0.7764   \u001b[39m | \u001b[39m0.8658   \u001b[39m | \u001b[39m0.8769   \u001b[39m | \u001b[39m0.3123   \u001b[39m | \u001b[39m0.6066   \u001b[39m | \u001b[39m0.4438   \u001b[39m | \u001b[39m0.01257  \u001b[39m | \u001b[39m0.8236   \u001b[39m | \u001b[39m0.3838   \u001b[39m | \u001b[39m0.9202   \u001b[39m | \u001b[39m0.5003   \u001b[39m | \u001b[39m0.6581   \u001b[39m | \u001b[39m0.8833   \u001b[39m | \u001b[39m0.7314   \u001b[39m | \u001b[39m0.9911   \u001b[39m | \u001b[39m0.7923   \u001b[39m |\n",
      "Non-zero alphas: 10\n"
     ]
    },
    {
     "name": "stderr",
     "output_type": "stream",
     "text": [
      "Building TRAIN_KERNEL: 100%|██████████| 1225/1225 [01:06<00:00, 18.53it/s]\n",
      "Building TEST_KERNEL: 100%|██████████| 2500/2500 [02:16<00:00, 18.35it/s]\n"
     ]
    },
    {
     "name": "stdout",
     "output_type": "stream",
     "text": [
      "| \u001b[39m22       \u001b[39m | \u001b[39m0.66     \u001b[39m | \u001b[39m0.079    \u001b[39m | \u001b[39m0.4658   \u001b[39m | \u001b[39m0.6447   \u001b[39m | \u001b[39m0.5901   \u001b[39m | \u001b[39m0.3892   \u001b[39m | \u001b[39m0.6057   \u001b[39m | \u001b[39m0.7806   \u001b[39m | \u001b[39m0.8121   \u001b[39m | \u001b[39m0.8609   \u001b[39m | \u001b[39m0.2406   \u001b[39m | \u001b[39m0.1748   \u001b[39m | \u001b[39m0.6373   \u001b[39m | \u001b[39m0.5513   \u001b[39m | \u001b[39m0.5554   \u001b[39m | \u001b[39m0.534    \u001b[39m | \u001b[39m0.3612   \u001b[39m |\n",
      "Non-zero alphas: 10\n"
     ]
    },
    {
     "name": "stderr",
     "output_type": "stream",
     "text": [
      "Building TRAIN_KERNEL: 100%|██████████| 1225/1225 [01:06<00:00, 18.49it/s]\n",
      "Building TEST_KERNEL: 100%|██████████| 2500/2500 [02:16<00:00, 18.27it/s]\n"
     ]
    },
    {
     "name": "stdout",
     "output_type": "stream",
     "text": [
      "| \u001b[39m23       \u001b[39m | \u001b[39m0.84     \u001b[39m | \u001b[39m0.5999   \u001b[39m | \u001b[39m0.9287   \u001b[39m | \u001b[39m0.3202   \u001b[39m | \u001b[39m0.635    \u001b[39m | \u001b[39m0.783    \u001b[39m | \u001b[39m0.1473   \u001b[39m | \u001b[39m0.7643   \u001b[39m | \u001b[39m0.4941   \u001b[39m | \u001b[39m0.02113  \u001b[39m | \u001b[39m0.2304   \u001b[39m | \u001b[39m0.37     \u001b[39m | \u001b[39m0.0893   \u001b[39m | \u001b[39m0.04689  \u001b[39m | \u001b[39m0.4207   \u001b[39m | \u001b[39m0.3109   \u001b[39m | \u001b[39m0.3666   \u001b[39m |\n",
      "Non-zero alphas: 10\n"
     ]
    },
    {
     "name": "stderr",
     "output_type": "stream",
     "text": [
      "Building TRAIN_KERNEL: 100%|██████████| 1225/1225 [01:07<00:00, 18.07it/s]\n",
      "Building TEST_KERNEL: 100%|██████████| 2500/2500 [02:12<00:00, 18.85it/s]\n"
     ]
    },
    {
     "name": "stdout",
     "output_type": "stream",
     "text": [
      "| \u001b[39m24       \u001b[39m | \u001b[39m0.76     \u001b[39m | \u001b[39m0.05572  \u001b[39m | \u001b[39m0.6186   \u001b[39m | \u001b[39m0.746    \u001b[39m | \u001b[39m0.5836   \u001b[39m | \u001b[39m0.2076   \u001b[39m | \u001b[39m0.6248   \u001b[39m | \u001b[39m0.4647   \u001b[39m | \u001b[39m0.5463   \u001b[39m | \u001b[39m0.04458  \u001b[39m | \u001b[39m0.1464   \u001b[39m | \u001b[39m0.3253   \u001b[39m | \u001b[39m0.5966   \u001b[39m | \u001b[39m0.6053   \u001b[39m | \u001b[39m0.7523   \u001b[39m | \u001b[39m0.549    \u001b[39m | \u001b[39m0.5289   \u001b[39m |\n",
      "Non-zero alphas: 10\n"
     ]
    },
    {
     "name": "stderr",
     "output_type": "stream",
     "text": [
      "Building TRAIN_KERNEL: 100%|██████████| 1225/1225 [01:05<00:00, 18.62it/s]\n",
      "Building TEST_KERNEL: 100%|██████████| 2500/2500 [02:14<00:00, 18.54it/s]\n"
     ]
    },
    {
     "name": "stdout",
     "output_type": "stream",
     "text": [
      "| \u001b[39m25       \u001b[39m | \u001b[39m0.7      \u001b[39m | \u001b[39m0.2918   \u001b[39m | \u001b[39m0.9933   \u001b[39m | \u001b[39m0.6162   \u001b[39m | \u001b[39m0.1704   \u001b[39m | \u001b[39m0.5959   \u001b[39m | \u001b[39m0.1138   \u001b[39m | \u001b[39m0.6047   \u001b[39m | \u001b[39m0.7634   \u001b[39m | \u001b[39m0.3989   \u001b[39m | \u001b[39m0.4102   \u001b[39m | \u001b[39m0.6913   \u001b[39m | \u001b[39m0.9013   \u001b[39m | \u001b[39m0.9394   \u001b[39m | \u001b[39m0.03754  \u001b[39m | \u001b[39m0.4325   \u001b[39m | \u001b[39m0.4857   \u001b[39m |\n",
      "Non-zero alphas: 10\n"
     ]
    },
    {
     "name": "stderr",
     "output_type": "stream",
     "text": [
      "Building TRAIN_KERNEL: 100%|██████████| 1225/1225 [01:03<00:00, 19.18it/s]\n",
      "Building TEST_KERNEL: 100%|██████████| 2500/2500 [02:16<00:00, 18.26it/s]\n"
     ]
    },
    {
     "name": "stdout",
     "output_type": "stream",
     "text": [
      "| \u001b[39m26       \u001b[39m | \u001b[39m0.7      \u001b[39m | \u001b[39m0.4892   \u001b[39m | \u001b[39m0.2586   \u001b[39m | \u001b[39m0.3416   \u001b[39m | \u001b[39m0.8598   \u001b[39m | \u001b[39m0.07477  \u001b[39m | \u001b[39m0.7394   \u001b[39m | \u001b[39m0.5796   \u001b[39m | \u001b[39m0.6912   \u001b[39m | \u001b[39m0.1403   \u001b[39m | \u001b[39m0.6253   \u001b[39m | \u001b[39m0.8636   \u001b[39m | \u001b[39m0.5237   \u001b[39m | \u001b[39m0.7512   \u001b[39m | \u001b[39m0.7249   \u001b[39m | \u001b[39m0.5371   \u001b[39m | \u001b[39m0.8393   \u001b[39m |\n",
      "Non-zero alphas: 10\n"
     ]
    },
    {
     "name": "stderr",
     "output_type": "stream",
     "text": [
      "Building TRAIN_KERNEL: 100%|██████████| 1225/1225 [01:06<00:00, 18.34it/s]\n",
      "Building TEST_KERNEL: 100%|██████████| 2500/2500 [02:13<00:00, 18.78it/s]\n"
     ]
    },
    {
     "name": "stdout",
     "output_type": "stream",
     "text": [
      "| \u001b[39m27       \u001b[39m | \u001b[39m0.64     \u001b[39m | \u001b[39m0.09818  \u001b[39m | \u001b[39m0.7689   \u001b[39m | \u001b[39m0.009608 \u001b[39m | \u001b[39m0.422    \u001b[39m | \u001b[39m0.1105   \u001b[39m | \u001b[39m0.8875   \u001b[39m | \u001b[39m0.6212   \u001b[39m | \u001b[39m0.07029  \u001b[39m | \u001b[39m0.9199   \u001b[39m | \u001b[39m0.7059   \u001b[39m | \u001b[39m0.1872   \u001b[39m | \u001b[39m0.7392   \u001b[39m | \u001b[39m0.4586   \u001b[39m | \u001b[39m0.3119   \u001b[39m | \u001b[39m0.1317   \u001b[39m | \u001b[39m0.003327 \u001b[39m |\n",
      "Non-zero alphas: 10\n"
     ]
    },
    {
     "name": "stderr",
     "output_type": "stream",
     "text": [
      "Building TRAIN_KERNEL: 100%|██████████| 1225/1225 [01:05<00:00, 18.69it/s]\n",
      "Building TEST_KERNEL: 100%|██████████| 2500/2500 [02:12<00:00, 18.91it/s]\n"
     ]
    },
    {
     "name": "stdout",
     "output_type": "stream",
     "text": [
      "| \u001b[39m28       \u001b[39m | \u001b[39m0.78     \u001b[39m | \u001b[39m0.1696   \u001b[39m | \u001b[39m0.9769   \u001b[39m | \u001b[39m0.8451   \u001b[39m | \u001b[39m0.5408   \u001b[39m | \u001b[39m0.9243   \u001b[39m | \u001b[39m0.6075   \u001b[39m | \u001b[39m0.5093   \u001b[39m | \u001b[39m0.2639   \u001b[39m | \u001b[39m0.8233   \u001b[39m | \u001b[39m0.4961   \u001b[39m | \u001b[39m0.2494   \u001b[39m | \u001b[39m0.4792   \u001b[39m | \u001b[39m0.8759   \u001b[39m | \u001b[39m0.8371   \u001b[39m | \u001b[39m0.3395   \u001b[39m | \u001b[39m0.2934   \u001b[39m |\n",
      "Non-zero alphas: 10\n"
     ]
    },
    {
     "name": "stderr",
     "output_type": "stream",
     "text": [
      "Building TRAIN_KERNEL: 100%|██████████| 1225/1225 [01:05<00:00, 18.65it/s]\n",
      "Building TEST_KERNEL: 100%|██████████| 2500/2500 [02:10<00:00, 19.10it/s]\n"
     ]
    },
    {
     "name": "stdout",
     "output_type": "stream",
     "text": [
      "| \u001b[39m29       \u001b[39m | \u001b[39m0.82     \u001b[39m | \u001b[39m0.5824   \u001b[39m | \u001b[39m0.1498   \u001b[39m | \u001b[39m0.1665   \u001b[39m | \u001b[39m0.2812   \u001b[39m | \u001b[39m0.649    \u001b[39m | \u001b[39m0.5298   \u001b[39m | \u001b[39m0.7272   \u001b[39m | \u001b[39m0.9472   \u001b[39m | \u001b[39m0.1197   \u001b[39m | \u001b[39m0.05265  \u001b[39m | \u001b[39m0.5273   \u001b[39m | \u001b[39m0.7674   \u001b[39m | \u001b[39m0.4109   \u001b[39m | \u001b[39m0.5427   \u001b[39m | \u001b[39m0.2697   \u001b[39m | \u001b[39m0.2026   \u001b[39m |\n",
      "Non-zero alphas: 10\n"
     ]
    },
    {
     "name": "stderr",
     "output_type": "stream",
     "text": [
      "Building TRAIN_KERNEL: 100%|██████████| 1225/1225 [01:06<00:00, 18.40it/s]\n",
      "Building TEST_KERNEL: 100%|██████████| 2500/2500 [02:14<00:00, 18.55it/s]\n"
     ]
    },
    {
     "name": "stdout",
     "output_type": "stream",
     "text": [
      "| \u001b[39m30       \u001b[39m | \u001b[39m0.84     \u001b[39m | \u001b[39m0.5692   \u001b[39m | \u001b[39m0.7647   \u001b[39m | \u001b[39m0.1543   \u001b[39m | \u001b[39m0.8688   \u001b[39m | \u001b[39m0.9758   \u001b[39m | \u001b[39m0.8985   \u001b[39m | \u001b[39m0.9844   \u001b[39m | \u001b[39m0.5857   \u001b[39m | \u001b[39m0.3596   \u001b[39m | \u001b[39m0.8363   \u001b[39m | \u001b[39m0.721    \u001b[39m | \u001b[39m0.2059   \u001b[39m | \u001b[39m0.2133   \u001b[39m | \u001b[39m0.5445   \u001b[39m | \u001b[39m0.007826 \u001b[39m | \u001b[39m0.3605   \u001b[39m |\n",
      "=========================================================================================================================================================================================================================\n",
      "Best Coefficients: [np.float64(0.5687151089796081), np.float64(0.821000178989465), np.float64(0.18978082564916976), np.float64(0.8091078596719234), np.float64(0.6284913287513677), np.float64(0.05495526878202106), np.float64(0.16036963102094937), np.float64(0.048717829715783756), np.float64(0.6927459291266069), np.float64(0.7789923892590851), np.float64(0.16808861383520857), np.float64(0.9413963339427905), np.float64(0.23836464004927826), np.float64(0.21178985959497498), np.float64(0.8862828780895776), np.float64(0.7653964744169817)]\n",
      "Best Val Accuracy: 0.92\n",
      "Non-zero alphas: 10\n"
     ]
    },
    {
     "name": "stderr",
     "output_type": "stream",
     "text": [
      "Building TRAIN_KERNEL: 100%|██████████| 1225/1225 [01:03<00:00, 19.31it/s]\n"
     ]
    },
    {
     "name": "stdout",
     "output_type": "stream",
     "text": [
      "Train Accuracy: 0.86\n"
     ]
    },
    {
     "name": "stderr",
     "output_type": "stream",
     "text": [
      "Building TEST_KERNEL: 100%|██████████| 2500/2500 [02:11<00:00, 18.96it/s]\n"
     ]
    },
    {
     "name": "stdout",
     "output_type": "stream",
     "text": [
      "Validation Accuracy: 0.84\n"
     ]
    },
    {
     "name": "stderr",
     "output_type": "stream",
     "text": [
      "Building TEST_KERNEL: 100%|██████████| 5000/5000 [04:27<00:00, 18.67it/s]\n"
     ]
    },
    {
     "name": "stdout",
     "output_type": "stream",
     "text": [
      "Test Accuracy: 0.82\n",
      "Saving model...\n",
      "|   iter    |  target   |  coeff_0  |  coeff_1  | coeff_10  | coeff_11  | coeff_12  | coeff_13  | coeff_14  | coeff_15  |  coeff_2  |  coeff_3  |  coeff_4  |  coeff_5  |  coeff_6  |  coeff_7  |  coeff_8  |  coeff_9  |\n",
      "-------------------------------------------------------------------------------------------------------------------------------------------------------------------------------------------------------------------------\n",
      "Non-zero alphas: 6\n"
     ]
    },
    {
     "name": "stderr",
     "output_type": "stream",
     "text": [
      "Building TRAIN_KERNEL: 100%|██████████| 1225/1225 [00:40<00:00, 30.01it/s]\n",
      "Building TEST_KERNEL: 100%|██████████| 2500/2500 [01:20<00:00, 31.22it/s]\n"
     ]
    },
    {
     "name": "stdout",
     "output_type": "stream",
     "text": [
      "| \u001b[39m1        \u001b[39m | \u001b[39m0.52     \u001b[39m | \u001b[39m0.3745   \u001b[39m | \u001b[39m0.9507   \u001b[39m | \u001b[39m0.732    \u001b[39m | \u001b[39m0.5987   \u001b[39m | \u001b[39m0.156    \u001b[39m | \u001b[39m0.156    \u001b[39m | \u001b[39m0.05808  \u001b[39m | \u001b[39m0.8662   \u001b[39m | \u001b[39m0.6011   \u001b[39m | \u001b[39m0.7081   \u001b[39m | \u001b[39m0.02058  \u001b[39m | \u001b[39m0.9699   \u001b[39m | \u001b[39m0.8324   \u001b[39m | \u001b[39m0.2123   \u001b[39m | \u001b[39m0.1818   \u001b[39m | \u001b[39m0.1834   \u001b[39m |\n",
      "Non-zero alphas: 6\n"
     ]
    },
    {
     "name": "stderr",
     "output_type": "stream",
     "text": [
      "Building TRAIN_KERNEL: 100%|██████████| 1225/1225 [00:42<00:00, 28.91it/s]\n",
      "Building TEST_KERNEL: 100%|██████████| 2500/2500 [01:21<00:00, 30.84it/s]\n"
     ]
    },
    {
     "name": "stdout",
     "output_type": "stream",
     "text": [
      "| \u001b[39m2        \u001b[39m | \u001b[39m0.52     \u001b[39m | \u001b[39m0.3042   \u001b[39m | \u001b[39m0.5248   \u001b[39m | \u001b[39m0.4319   \u001b[39m | \u001b[39m0.2912   \u001b[39m | \u001b[39m0.6119   \u001b[39m | \u001b[39m0.1395   \u001b[39m | \u001b[39m0.2921   \u001b[39m | \u001b[39m0.3664   \u001b[39m | \u001b[39m0.4561   \u001b[39m | \u001b[39m0.7852   \u001b[39m | \u001b[39m0.1997   \u001b[39m | \u001b[39m0.5142   \u001b[39m | \u001b[39m0.5924   \u001b[39m | \u001b[39m0.04645  \u001b[39m | \u001b[39m0.6075   \u001b[39m | \u001b[39m0.1705   \u001b[39m |\n",
      "Non-zero alphas: 6\n"
     ]
    },
    {
     "name": "stderr",
     "output_type": "stream",
     "text": [
      "Building TRAIN_KERNEL: 100%|██████████| 1225/1225 [00:37<00:00, 33.10it/s]\n",
      "Building TEST_KERNEL: 100%|██████████| 2500/2500 [01:23<00:00, 30.09it/s]\n"
     ]
    },
    {
     "name": "stdout",
     "output_type": "stream",
     "text": [
      "| \u001b[35m3        \u001b[39m | \u001b[35m0.66     \u001b[39m | \u001b[35m0.06505  \u001b[39m | \u001b[35m0.9489   \u001b[39m | \u001b[35m0.9656   \u001b[39m | \u001b[35m0.8084   \u001b[39m | \u001b[35m0.3046   \u001b[39m | \u001b[35m0.09767  \u001b[39m | \u001b[35m0.6842   \u001b[39m | \u001b[35m0.4402   \u001b[39m | \u001b[35m0.122    \u001b[39m | \u001b[35m0.4952   \u001b[39m | \u001b[35m0.03439  \u001b[39m | \u001b[35m0.9093   \u001b[39m | \u001b[35m0.2588   \u001b[39m | \u001b[35m0.6625   \u001b[39m | \u001b[35m0.3117   \u001b[39m | \u001b[35m0.5201   \u001b[39m |\n",
      "Non-zero alphas: 6\n"
     ]
    },
    {
     "name": "stderr",
     "output_type": "stream",
     "text": [
      "Building TRAIN_KERNEL: 100%|██████████| 1225/1225 [00:40<00:00, 30.32it/s]\n",
      "Building TEST_KERNEL: 100%|██████████| 2500/2500 [01:21<00:00, 30.57it/s]\n"
     ]
    },
    {
     "name": "stdout",
     "output_type": "stream",
     "text": [
      "| \u001b[39m4        \u001b[39m | \u001b[39m0.64     \u001b[39m | \u001b[39m0.5467   \u001b[39m | \u001b[39m0.1849   \u001b[39m | \u001b[39m0.9696   \u001b[39m | \u001b[39m0.7751   \u001b[39m | \u001b[39m0.9395   \u001b[39m | \u001b[39m0.8948   \u001b[39m | \u001b[39m0.5979   \u001b[39m | \u001b[39m0.9219   \u001b[39m | \u001b[39m0.08849  \u001b[39m | \u001b[39m0.196    \u001b[39m | \u001b[39m0.04523  \u001b[39m | \u001b[39m0.3253   \u001b[39m | \u001b[39m0.3887   \u001b[39m | \u001b[39m0.2713   \u001b[39m | \u001b[39m0.8287   \u001b[39m | \u001b[39m0.3568   \u001b[39m |\n",
      "Non-zero alphas: 6\n"
     ]
    },
    {
     "name": "stderr",
     "output_type": "stream",
     "text": [
      "Building TRAIN_KERNEL: 100%|██████████| 1225/1225 [00:42<00:00, 28.69it/s]\n",
      "Building TEST_KERNEL: 100%|██████████| 2500/2500 [01:13<00:00, 34.23it/s]\n"
     ]
    },
    {
     "name": "stdout",
     "output_type": "stream",
     "text": [
      "| \u001b[39m5        \u001b[39m | \u001b[39m0.52     \u001b[39m | \u001b[39m0.2809   \u001b[39m | \u001b[39m0.5427   \u001b[39m | \u001b[39m0.1409   \u001b[39m | \u001b[39m0.8022   \u001b[39m | \u001b[39m0.07455  \u001b[39m | \u001b[39m0.9869   \u001b[39m | \u001b[39m0.7722   \u001b[39m | \u001b[39m0.1987   \u001b[39m | \u001b[39m0.005522 \u001b[39m | \u001b[39m0.8155   \u001b[39m | \u001b[39m0.7069   \u001b[39m | \u001b[39m0.729    \u001b[39m | \u001b[39m0.7713   \u001b[39m | \u001b[39m0.07404  \u001b[39m | \u001b[39m0.3585   \u001b[39m | \u001b[39m0.1159   \u001b[39m |\n",
      "Non-zero alphas: 6\n"
     ]
    },
    {
     "name": "stderr",
     "output_type": "stream",
     "text": [
      "Building TRAIN_KERNEL: 100%|██████████| 1225/1225 [00:42<00:00, 28.50it/s]\n",
      "Building TEST_KERNEL: 100%|██████████| 2500/2500 [01:20<00:00, 30.98it/s]\n"
     ]
    },
    {
     "name": "stdout",
     "output_type": "stream",
     "text": [
      "| \u001b[35m6        \u001b[39m | \u001b[35m0.68     \u001b[39m | \u001b[35m0.204    \u001b[39m | \u001b[35m0.5551   \u001b[39m | \u001b[35m0.7331   \u001b[39m | \u001b[35m0.616    \u001b[39m | \u001b[35m0.188    \u001b[39m | \u001b[35m0.3554   \u001b[39m | \u001b[35m0.7838   \u001b[39m | \u001b[35m0.5542   \u001b[39m | \u001b[35m0.00523  \u001b[39m | \u001b[35m0.761    \u001b[39m | \u001b[35m0.03531  \u001b[39m | \u001b[35m0.7457   \u001b[39m | \u001b[35m0.2025   \u001b[39m | \u001b[35m0.9581   \u001b[39m | \u001b[35m0.3679   \u001b[39m | \u001b[35m0.3269   \u001b[39m |\n",
      "Non-zero alphas: 6\n"
     ]
    },
    {
     "name": "stderr",
     "output_type": "stream",
     "text": [
      "Building TRAIN_KERNEL: 100%|██████████| 1225/1225 [00:37<00:00, 32.32it/s]\n",
      "Building TEST_KERNEL: 100%|██████████| 2500/2500 [01:25<00:00, 29.36it/s]\n"
     ]
    },
    {
     "name": "stdout",
     "output_type": "stream",
     "text": [
      "| \u001b[39m7        \u001b[39m | \u001b[39m0.68     \u001b[39m | \u001b[39m0.1351   \u001b[39m | \u001b[39m0.4293   \u001b[39m | \u001b[39m1.0      \u001b[39m | \u001b[39m0.9275   \u001b[39m | \u001b[39m0.4856   \u001b[39m | \u001b[39m0.4405   \u001b[39m | \u001b[39m1.0      \u001b[39m | \u001b[39m0.7878   \u001b[39m | \u001b[39m0.0      \u001b[39m | \u001b[39m0.2882   \u001b[39m | \u001b[39m0.0      \u001b[39m | \u001b[39m0.6493   \u001b[39m | \u001b[39m0.0      \u001b[39m | \u001b[39m1.0      \u001b[39m | \u001b[39m0.5385   \u001b[39m | \u001b[39m0.7013   \u001b[39m |\n",
      "Non-zero alphas: 6\n"
     ]
    },
    {
     "name": "stderr",
     "output_type": "stream",
     "text": [
      "Building TRAIN_KERNEL: 100%|██████████| 1225/1225 [00:36<00:00, 33.22it/s]\n",
      "Building TEST_KERNEL: 100%|██████████| 2500/2500 [01:21<00:00, 30.53it/s]\n"
     ]
    },
    {
     "name": "stdout",
     "output_type": "stream",
     "text": [
      "| \u001b[35m8        \u001b[39m | \u001b[35m0.7      \u001b[39m | \u001b[35m0.0      \u001b[39m | \u001b[35m0.5458   \u001b[39m | \u001b[35m1.0      \u001b[39m | \u001b[35m1.0      \u001b[39m | \u001b[35m0.0      \u001b[39m | \u001b[35m0.0      \u001b[39m | \u001b[35m1.0      \u001b[39m | \u001b[35m0.2416   \u001b[39m | \u001b[35m0.0      \u001b[39m | \u001b[35m1.0      \u001b[39m | \u001b[35m0.0      \u001b[39m | \u001b[35m0.0      \u001b[39m | \u001b[35m0.0      \u001b[39m | \u001b[35m1.0      \u001b[39m | \u001b[35m0.0      \u001b[39m | \u001b[35m1.0      \u001b[39m |\n",
      "Non-zero alphas: 6\n"
     ]
    },
    {
     "name": "stderr",
     "output_type": "stream",
     "text": [
      "Building TRAIN_KERNEL: 100%|██████████| 1225/1225 [00:42<00:00, 29.01it/s]\n",
      "Building TEST_KERNEL: 100%|██████████| 2500/2500 [01:20<00:00, 31.08it/s]\n"
     ]
    },
    {
     "name": "stdout",
     "output_type": "stream",
     "text": [
      "| \u001b[39m9        \u001b[39m | \u001b[39m0.52     \u001b[39m | \u001b[39m0.0      \u001b[39m | \u001b[39m1.388e-17\u001b[39m | \u001b[39m1.0      \u001b[39m | \u001b[39m1.0      \u001b[39m | \u001b[39m1.0      \u001b[39m | \u001b[39m1.0      \u001b[39m | \u001b[39m1.0      \u001b[39m | \u001b[39m1.0      \u001b[39m | \u001b[39m1.0      \u001b[39m | \u001b[39m0.0      \u001b[39m | \u001b[39m1.0      \u001b[39m | \u001b[39m0.0      \u001b[39m | \u001b[39m0.0      \u001b[39m | \u001b[39m1.0      \u001b[39m | \u001b[39m1.0      \u001b[39m | \u001b[39m1.0      \u001b[39m |\n",
      "Non-zero alphas: 6\n"
     ]
    },
    {
     "name": "stderr",
     "output_type": "stream",
     "text": [
      "Building TRAIN_KERNEL: 100%|██████████| 1225/1225 [00:38<00:00, 32.00it/s]\n",
      "Building TEST_KERNEL: 100%|██████████| 2500/2500 [01:26<00:00, 28.97it/s]\n"
     ]
    },
    {
     "name": "stdout",
     "output_type": "stream",
     "text": [
      "| \u001b[39m10       \u001b[39m | \u001b[39m0.68     \u001b[39m | \u001b[39m1.0      \u001b[39m | \u001b[39m1.0      \u001b[39m | \u001b[39m1.0      \u001b[39m | \u001b[39m1.0      \u001b[39m | \u001b[39m0.0      \u001b[39m | \u001b[39m0.0      \u001b[39m | \u001b[39m1.0      \u001b[39m | \u001b[39m0.9969   \u001b[39m | \u001b[39m0.0      \u001b[39m | \u001b[39m1.0      \u001b[39m | \u001b[39m0.0      \u001b[39m | \u001b[39m0.4088   \u001b[39m | \u001b[39m0.0      \u001b[39m | \u001b[39m1.0      \u001b[39m | \u001b[39m0.0      \u001b[39m | \u001b[39m1.0      \u001b[39m |\n",
      "Non-zero alphas: 6\n"
     ]
    },
    {
     "name": "stderr",
     "output_type": "stream",
     "text": [
      "Building TRAIN_KERNEL: 100%|██████████| 1225/1225 [00:38<00:00, 32.13it/s]\n",
      "Building TEST_KERNEL: 100%|██████████| 2500/2500 [01:22<00:00, 30.44it/s]\n"
     ]
    },
    {
     "name": "stdout",
     "output_type": "stream",
     "text": [
      "| \u001b[39m11       \u001b[39m | \u001b[39m0.52     \u001b[39m | \u001b[39m0.0      \u001b[39m | \u001b[39m1.0      \u001b[39m | \u001b[39m1.0      \u001b[39m | \u001b[39m0.0      \u001b[39m | \u001b[39m0.0      \u001b[39m | \u001b[39m0.0      \u001b[39m | \u001b[39m1.0      \u001b[39m | \u001b[39m0.9465   \u001b[39m | \u001b[39m0.0      \u001b[39m | \u001b[39m1.0      \u001b[39m | \u001b[39m0.0      \u001b[39m | \u001b[39m0.0      \u001b[39m | \u001b[39m0.0      \u001b[39m | \u001b[39m1.0      \u001b[39m | \u001b[39m0.8619   \u001b[39m | \u001b[39m1.0      \u001b[39m |\n",
      "Non-zero alphas: 6\n"
     ]
    },
    {
     "name": "stderr",
     "output_type": "stream",
     "text": [
      "Building TRAIN_KERNEL: 100%|██████████| 1225/1225 [00:42<00:00, 28.50it/s]\n",
      "Building TEST_KERNEL: 100%|██████████| 2500/2500 [01:20<00:00, 31.04it/s]\n"
     ]
    },
    {
     "name": "stdout",
     "output_type": "stream",
     "text": [
      "| \u001b[39m12       \u001b[39m | \u001b[39m0.58     \u001b[39m | \u001b[39m0.6923   \u001b[39m | \u001b[39m0.1489   \u001b[39m | \u001b[39m1.0      \u001b[39m | \u001b[39m1.0      \u001b[39m | \u001b[39m0.1105   \u001b[39m | \u001b[39m0.0      \u001b[39m | \u001b[39m1.0      \u001b[39m | \u001b[39m0.07258  \u001b[39m | \u001b[39m0.0      \u001b[39m | \u001b[39m0.675    \u001b[39m | \u001b[39m0.0      \u001b[39m | \u001b[39m0.8333   \u001b[39m | \u001b[39m0.0      \u001b[39m | \u001b[39m1.0      \u001b[39m | \u001b[39m0.0      \u001b[39m | \u001b[39m0.8361   \u001b[39m |\n",
      "Non-zero alphas: 6\n"
     ]
    },
    {
     "name": "stderr",
     "output_type": "stream",
     "text": [
      "Building TRAIN_KERNEL: 100%|██████████| 1225/1225 [00:38<00:00, 31.86it/s]\n",
      "Building TEST_KERNEL: 100%|██████████| 2500/2500 [01:27<00:00, 28.46it/s]\n"
     ]
    },
    {
     "name": "stdout",
     "output_type": "stream",
     "text": [
      "| \u001b[35m13       \u001b[39m | \u001b[35m0.74     \u001b[39m | \u001b[35m0.7144   \u001b[39m | \u001b[35m0.8566   \u001b[39m | \u001b[35m0.8651   \u001b[39m | \u001b[35m0.9307   \u001b[39m | \u001b[35m0.5594   \u001b[39m | \u001b[35m0.6104   \u001b[39m | \u001b[35m0.68     \u001b[39m | \u001b[35m0.3164   \u001b[39m | \u001b[35m0.01842  \u001b[39m | \u001b[35m0.7787   \u001b[39m | \u001b[35m0.1878   \u001b[39m | \u001b[35m0.1819   \u001b[39m | \u001b[35m0.02101  \u001b[39m | \u001b[35m0.9107   \u001b[39m | \u001b[35m0.2342   \u001b[39m | \u001b[35m0.9588   \u001b[39m |\n",
      "Non-zero alphas: 6\n"
     ]
    },
    {
     "name": "stderr",
     "output_type": "stream",
     "text": [
      "Building TRAIN_KERNEL: 100%|██████████| 1225/1225 [00:36<00:00, 33.82it/s]\n",
      "Building TEST_KERNEL: 100%|██████████| 2500/2500 [01:23<00:00, 30.11it/s]\n"
     ]
    },
    {
     "name": "stdout",
     "output_type": "stream",
     "text": [
      "| \u001b[39m14       \u001b[39m | \u001b[39m0.74     \u001b[39m | \u001b[39m0.2566   \u001b[39m | \u001b[39m1.0      \u001b[39m | \u001b[39m1.0      \u001b[39m | \u001b[39m1.0      \u001b[39m | \u001b[39m0.4982   \u001b[39m | \u001b[39m0.6459   \u001b[39m | \u001b[39m0.9621   \u001b[39m | \u001b[39m0.5456   \u001b[39m | \u001b[39m0.0      \u001b[39m | \u001b[39m0.8622   \u001b[39m | \u001b[39m0.0      \u001b[39m | \u001b[39m0.1292   \u001b[39m | \u001b[39m0.0      \u001b[39m | \u001b[39m1.0      \u001b[39m | \u001b[39m0.0      \u001b[39m | \u001b[39m0.611    \u001b[39m |\n",
      "Non-zero alphas: 6\n"
     ]
    },
    {
     "name": "stderr",
     "output_type": "stream",
     "text": [
      "Building TRAIN_KERNEL: 100%|██████████| 1225/1225 [00:43<00:00, 28.48it/s]\n",
      "Building TEST_KERNEL: 100%|██████████| 2500/2500 [01:17<00:00, 32.21it/s]\n"
     ]
    },
    {
     "name": "stdout",
     "output_type": "stream",
     "text": [
      "| \u001b[39m15       \u001b[39m | \u001b[39m0.58     \u001b[39m | \u001b[39m0.2535   \u001b[39m | \u001b[39m0.9721   \u001b[39m | \u001b[39m0.8302   \u001b[39m | \u001b[39m0.9134   \u001b[39m | \u001b[39m0.8837   \u001b[39m | \u001b[39m0.1274   \u001b[39m | \u001b[39m0.6333   \u001b[39m | \u001b[39m0.3499   \u001b[39m | \u001b[39m0.05052  \u001b[39m | \u001b[39m0.6689   \u001b[39m | \u001b[39m0.3368   \u001b[39m | \u001b[39m0.1746   \u001b[39m | \u001b[39m0.1482   \u001b[39m | \u001b[39m0.7931   \u001b[39m | \u001b[39m0.0689   \u001b[39m | \u001b[39m0.6829   \u001b[39m |\n",
      "Non-zero alphas: 6\n"
     ]
    },
    {
     "name": "stderr",
     "output_type": "stream",
     "text": [
      "Building TRAIN_KERNEL: 100%|██████████| 1225/1225 [00:35<00:00, 34.33it/s]\n",
      "Building TEST_KERNEL: 100%|██████████| 2500/2500 [01:21<00:00, 30.52it/s]\n"
     ]
    },
    {
     "name": "stdout",
     "output_type": "stream",
     "text": [
      "| \u001b[39m16       \u001b[39m | \u001b[39m0.74     \u001b[39m | \u001b[39m0.519    \u001b[39m | \u001b[39m0.8482   \u001b[39m | \u001b[39m1.0      \u001b[39m | \u001b[39m1.0      \u001b[39m | \u001b[39m0.03032  \u001b[39m | \u001b[39m0.9314   \u001b[39m | \u001b[39m0.8561   \u001b[39m | \u001b[39m0.5044   \u001b[39m | \u001b[39m0.0      \u001b[39m | \u001b[39m0.8681   \u001b[39m | \u001b[39m0.0      \u001b[39m | \u001b[39m0.1935   \u001b[39m | \u001b[39m0.0      \u001b[39m | \u001b[39m1.0      \u001b[39m | \u001b[39m0.1289   \u001b[39m | \u001b[39m1.0      \u001b[39m |\n",
      "Non-zero alphas: 6\n"
     ]
    },
    {
     "name": "stderr",
     "output_type": "stream",
     "text": [
      "Building TRAIN_KERNEL: 100%|██████████| 1225/1225 [00:38<00:00, 31.63it/s]\n",
      "Building TEST_KERNEL: 100%|██████████| 2500/2500 [01:19<00:00, 31.46it/s]\n"
     ]
    },
    {
     "name": "stdout",
     "output_type": "stream",
     "text": [
      "| \u001b[39m17       \u001b[39m | \u001b[39m0.6      \u001b[39m | \u001b[39m0.9642   \u001b[39m | \u001b[39m0.03618  \u001b[39m | \u001b[39m0.6038   \u001b[39m | \u001b[39m0.7996   \u001b[39m | \u001b[39m0.3636   \u001b[39m | \u001b[39m0.9406   \u001b[39m | \u001b[39m0.6574   \u001b[39m | \u001b[39m0.4758   \u001b[39m | \u001b[39m0.07851  \u001b[39m | \u001b[39m0.9315   \u001b[39m | \u001b[39m0.2228   \u001b[39m | \u001b[39m0.0231   \u001b[39m | \u001b[39m0.1601   \u001b[39m | \u001b[39m0.9534   \u001b[39m | \u001b[39m0.0653   \u001b[39m | \u001b[39m0.6881   \u001b[39m |\n",
      "Non-zero alphas: 6\n"
     ]
    },
    {
     "name": "stderr",
     "output_type": "stream",
     "text": [
      "Building TRAIN_KERNEL: 100%|██████████| 1225/1225 [00:43<00:00, 28.36it/s]\n",
      "Building TEST_KERNEL: 100%|██████████| 2500/2500 [01:21<00:00, 30.76it/s]\n"
     ]
    },
    {
     "name": "stdout",
     "output_type": "stream",
     "text": [
      "| \u001b[39m18       \u001b[39m | \u001b[39m0.52     \u001b[39m | \u001b[39m0.302    \u001b[39m | \u001b[39m0.9159   \u001b[39m | \u001b[39m0.8473   \u001b[39m | \u001b[39m0.9217   \u001b[39m | \u001b[39m0.7153   \u001b[39m | \u001b[39m0.9902   \u001b[39m | \u001b[39m0.9151   \u001b[39m | \u001b[39m0.5158   \u001b[39m | \u001b[39m0.07848  \u001b[39m | \u001b[39m0.5817   \u001b[39m | \u001b[39m0.1902   \u001b[39m | \u001b[39m0.08953  \u001b[39m | \u001b[39m0.7697   \u001b[39m | \u001b[39m0.8971   \u001b[39m | \u001b[39m0.4028   \u001b[39m | \u001b[39m0.8337   \u001b[39m |\n",
      "Non-zero alphas: 6\n"
     ]
    },
    {
     "name": "stderr",
     "output_type": "stream",
     "text": [
      "Building TRAIN_KERNEL: 100%|██████████| 1225/1225 [00:42<00:00, 28.75it/s]\n",
      "Building TEST_KERNEL: 100%|██████████| 2500/2500 [01:20<00:00, 30.99it/s]\n"
     ]
    },
    {
     "name": "stdout",
     "output_type": "stream",
     "text": [
      "| \u001b[35m19       \u001b[39m | \u001b[35m0.76     \u001b[39m | \u001b[35m0.9475   \u001b[39m | \u001b[35m0.8623   \u001b[39m | \u001b[35m0.9365   \u001b[39m | \u001b[35m0.9722   \u001b[39m | \u001b[35m0.2308   \u001b[39m | \u001b[35m0.9655   \u001b[39m | \u001b[35m0.8123   \u001b[39m | \u001b[35m0.7492   \u001b[39m | \u001b[35m0.3222   \u001b[39m | \u001b[35m0.8812   \u001b[39m | \u001b[35m0.0825   \u001b[39m | \u001b[35m0.2275   \u001b[39m | \u001b[35m0.06297  \u001b[39m | \u001b[35m0.8126   \u001b[39m | \u001b[35m0.6755   \u001b[39m | \u001b[35m0.3876   \u001b[39m |\n",
      "Non-zero alphas: 6\n"
     ]
    },
    {
     "name": "stderr",
     "output_type": "stream",
     "text": [
      "Building TRAIN_KERNEL: 100%|██████████| 1225/1225 [00:38<00:00, 31.90it/s]\n",
      "Building TEST_KERNEL: 100%|██████████| 2500/2500 [01:26<00:00, 28.99it/s]\n"
     ]
    },
    {
     "name": "stdout",
     "output_type": "stream",
     "text": [
      "| \u001b[35m20       \u001b[39m | \u001b[35m0.78     \u001b[39m | \u001b[35m0.9082   \u001b[39m | \u001b[35m0.8841   \u001b[39m | \u001b[35m0.8978   \u001b[39m | \u001b[35m0.9367   \u001b[39m | \u001b[35m0.2636   \u001b[39m | \u001b[35m0.4973   \u001b[39m | \u001b[35m0.9972   \u001b[39m | \u001b[35m0.5352   \u001b[39m | \u001b[35m0.4749   \u001b[39m | \u001b[35m0.18     \u001b[39m | \u001b[35m0.05526  \u001b[39m | \u001b[35m0.7333   \u001b[39m | \u001b[35m0.1155   \u001b[39m | \u001b[35m0.8443   \u001b[39m | \u001b[35m0.6333   \u001b[39m | \u001b[35m0.0863   \u001b[39m |\n",
      "Non-zero alphas: 6\n"
     ]
    },
    {
     "name": "stderr",
     "output_type": "stream",
     "text": [
      "Building TRAIN_KERNEL: 100%|██████████| 1225/1225 [00:38<00:00, 31.77it/s]\n",
      "Building TEST_KERNEL: 100%|██████████| 2500/2500 [01:21<00:00, 30.54it/s]\n"
     ]
    },
    {
     "name": "stdout",
     "output_type": "stream",
     "text": [
      "| \u001b[39m21       \u001b[39m | \u001b[39m0.52     \u001b[39m | \u001b[39m0.9251   \u001b[39m | \u001b[39m0.7983   \u001b[39m | \u001b[39m0.9537   \u001b[39m | \u001b[39m0.9882   \u001b[39m | \u001b[39m0.2166   \u001b[39m | \u001b[39m0.6844   \u001b[39m | \u001b[39m0.3075   \u001b[39m | \u001b[39m0.9794   \u001b[39m | \u001b[39m0.4512   \u001b[39m | \u001b[39m0.2176   \u001b[39m | \u001b[39m0.6164   \u001b[39m | \u001b[39m0.6671   \u001b[39m | \u001b[39m0.1325   \u001b[39m | \u001b[39m0.8472   \u001b[39m | \u001b[39m0.7938   \u001b[39m | \u001b[39m0.1205   \u001b[39m |\n",
      "Non-zero alphas: 6\n"
     ]
    },
    {
     "name": "stderr",
     "output_type": "stream",
     "text": [
      "Building TRAIN_KERNEL: 100%|██████████| 1225/1225 [00:43<00:00, 28.27it/s]\n",
      "Building TEST_KERNEL: 100%|██████████| 2500/2500 [01:20<00:00, 30.92it/s]\n"
     ]
    },
    {
     "name": "stdout",
     "output_type": "stream",
     "text": [
      "| \u001b[39m22       \u001b[39m | \u001b[39m0.6      \u001b[39m | \u001b[39m0.9391   \u001b[39m | \u001b[39m0.8127   \u001b[39m | \u001b[39m0.952    \u001b[39m | \u001b[39m0.979    \u001b[39m | \u001b[39m0.7164   \u001b[39m | \u001b[39m0.3419   \u001b[39m | \u001b[39m0.9569   \u001b[39m | \u001b[39m0.5868   \u001b[39m | \u001b[39m0.2357   \u001b[39m | \u001b[39m0.9987   \u001b[39m | \u001b[39m0.2114   \u001b[39m | \u001b[39m0.5241   \u001b[39m | \u001b[39m0.1306   \u001b[39m | \u001b[39m0.731    \u001b[39m | \u001b[39m0.7963   \u001b[39m | \u001b[39m0.1065   \u001b[39m |\n",
      "Non-zero alphas: 6\n"
     ]
    },
    {
     "name": "stderr",
     "output_type": "stream",
     "text": [
      "Building TRAIN_KERNEL: 100%|██████████| 1225/1225 [00:38<00:00, 31.89it/s]\n",
      "Building TEST_KERNEL: 100%|██████████| 2500/2500 [01:27<00:00, 28.67it/s]\n"
     ]
    },
    {
     "name": "stdout",
     "output_type": "stream",
     "text": [
      "| \u001b[39m23       \u001b[39m | \u001b[39m0.54     \u001b[39m | \u001b[39m0.6502   \u001b[39m | \u001b[39m0.1153   \u001b[39m | \u001b[39m0.8425   \u001b[39m | \u001b[39m0.9254   \u001b[39m | \u001b[39m0.805    \u001b[39m | \u001b[39m0.8545   \u001b[39m | \u001b[39m0.5529   \u001b[39m | \u001b[39m0.7994   \u001b[39m | \u001b[39m0.3214   \u001b[39m | \u001b[39m0.6073   \u001b[39m | \u001b[39m0.3374   \u001b[39m | \u001b[39m0.3098   \u001b[39m | \u001b[39m0.4804   \u001b[39m | \u001b[39m0.2317   \u001b[39m | \u001b[39m0.7549   \u001b[39m | \u001b[39m0.5727   \u001b[39m |\n",
      "Non-zero alphas: 6\n"
     ]
    },
    {
     "name": "stderr",
     "output_type": "stream",
     "text": [
      "Building TRAIN_KERNEL: 100%|██████████| 1225/1225 [00:36<00:00, 33.46it/s]\n",
      "Building TEST_KERNEL: 100%|██████████| 2500/2500 [01:23<00:00, 30.10it/s]\n"
     ]
    },
    {
     "name": "stdout",
     "output_type": "stream",
     "text": [
      "| \u001b[39m24       \u001b[39m | \u001b[39m0.52     \u001b[39m | \u001b[39m0.8246   \u001b[39m | \u001b[39m0.77     \u001b[39m | \u001b[39m0.6834   \u001b[39m | \u001b[39m0.9686   \u001b[39m | \u001b[39m0.03964  \u001b[39m | \u001b[39m0.9779   \u001b[39m | \u001b[39m0.6805   \u001b[39m | \u001b[39m0.58     \u001b[39m | \u001b[39m0.9542   \u001b[39m | \u001b[39m0.2271   \u001b[39m | \u001b[39m0.1035   \u001b[39m | \u001b[39m0.5945   \u001b[39m | \u001b[39m0.1957   \u001b[39m | \u001b[39m0.9568   \u001b[39m | \u001b[39m0.1888   \u001b[39m | \u001b[39m0.3841   \u001b[39m |\n",
      "Non-zero alphas: 6\n"
     ]
    },
    {
     "name": "stderr",
     "output_type": "stream",
     "text": [
      "Building TRAIN_KERNEL: 100%|██████████| 1225/1225 [00:39<00:00, 31.07it/s]\n",
      "Building TEST_KERNEL: 100%|██████████| 2500/2500 [01:19<00:00, 31.54it/s]\n"
     ]
    },
    {
     "name": "stdout",
     "output_type": "stream",
     "text": [
      "| \u001b[39m25       \u001b[39m | \u001b[39m0.6      \u001b[39m | \u001b[39m0.2918   \u001b[39m | \u001b[39m0.9933   \u001b[39m | \u001b[39m0.6162   \u001b[39m | \u001b[39m0.1704   \u001b[39m | \u001b[39m0.5959   \u001b[39m | \u001b[39m0.1138   \u001b[39m | \u001b[39m0.6047   \u001b[39m | \u001b[39m0.7634   \u001b[39m | \u001b[39m0.3989   \u001b[39m | \u001b[39m0.4102   \u001b[39m | \u001b[39m0.6913   \u001b[39m | \u001b[39m0.9013   \u001b[39m | \u001b[39m0.9394   \u001b[39m | \u001b[39m0.03754  \u001b[39m | \u001b[39m0.4325   \u001b[39m | \u001b[39m0.4857   \u001b[39m |\n",
      "Non-zero alphas: 6\n"
     ]
    },
    {
     "name": "stderr",
     "output_type": "stream",
     "text": [
      "Building TRAIN_KERNEL: 100%|██████████| 1225/1225 [00:38<00:00, 31.75it/s]\n",
      "Building TEST_KERNEL: 100%|██████████| 2500/2500 [01:26<00:00, 29.04it/s]\n"
     ]
    },
    {
     "name": "stdout",
     "output_type": "stream",
     "text": [
      "| \u001b[39m26       \u001b[39m | \u001b[39m0.7      \u001b[39m | \u001b[39m0.7166   \u001b[39m | \u001b[39m0.9563   \u001b[39m | \u001b[39m0.9471   \u001b[39m | \u001b[39m0.6157   \u001b[39m | \u001b[39m0.06314  \u001b[39m | \u001b[39m0.6483   \u001b[39m | \u001b[39m0.828    \u001b[39m | \u001b[39m0.6418   \u001b[39m | \u001b[39m0.1848   \u001b[39m | \u001b[39m0.5886   \u001b[39m | \u001b[39m0.2789   \u001b[39m | \u001b[39m0.8465   \u001b[39m | \u001b[39m0.03848  \u001b[39m | \u001b[39m0.7195   \u001b[39m | \u001b[39m0.9063   \u001b[39m | \u001b[39m0.2072   \u001b[39m |\n",
      "Non-zero alphas: 6\n"
     ]
    },
    {
     "name": "stderr",
     "output_type": "stream",
     "text": [
      "Building TRAIN_KERNEL: 100%|██████████| 1225/1225 [00:38<00:00, 32.21it/s]\n",
      "Building TEST_KERNEL: 100%|██████████| 2500/2500 [01:22<00:00, 30.27it/s]\n"
     ]
    },
    {
     "name": "stdout",
     "output_type": "stream",
     "text": [
      "| \u001b[39m27       \u001b[39m | \u001b[39m0.52     \u001b[39m | \u001b[39m0.09818  \u001b[39m | \u001b[39m0.7689   \u001b[39m | \u001b[39m0.009608 \u001b[39m | \u001b[39m0.422    \u001b[39m | \u001b[39m0.1105   \u001b[39m | \u001b[39m0.8875   \u001b[39m | \u001b[39m0.6212   \u001b[39m | \u001b[39m0.07029  \u001b[39m | \u001b[39m0.9199   \u001b[39m | \u001b[39m0.7059   \u001b[39m | \u001b[39m0.1872   \u001b[39m | \u001b[39m0.7392   \u001b[39m | \u001b[39m0.4586   \u001b[39m | \u001b[39m0.3119   \u001b[39m | \u001b[39m0.1317   \u001b[39m | \u001b[39m0.003327 \u001b[39m |\n",
      "Non-zero alphas: 6\n"
     ]
    },
    {
     "name": "stderr",
     "output_type": "stream",
     "text": [
      "Building TRAIN_KERNEL: 100%|██████████| 1225/1225 [00:43<00:00, 28.45it/s]\n",
      "Building TEST_KERNEL: 100%|██████████| 2500/2500 [01:20<00:00, 31.13it/s]\n"
     ]
    },
    {
     "name": "stdout",
     "output_type": "stream",
     "text": [
      "| \u001b[39m28       \u001b[39m | \u001b[39m0.6      \u001b[39m | \u001b[39m0.4108   \u001b[39m | \u001b[39m0.5074   \u001b[39m | \u001b[39m0.728    \u001b[39m | \u001b[39m0.6911   \u001b[39m | \u001b[39m0.1211   \u001b[39m | \u001b[39m0.6501   \u001b[39m | \u001b[39m0.5232   \u001b[39m | \u001b[39m0.4141   \u001b[39m | \u001b[39m0.09324  \u001b[39m | \u001b[39m0.8408   \u001b[39m | \u001b[39m0.1636   \u001b[39m | \u001b[39m0.5754   \u001b[39m | \u001b[39m0.3354   \u001b[39m | \u001b[39m0.8639   \u001b[39m | \u001b[39m0.2339   \u001b[39m | \u001b[39m0.2529   \u001b[39m |\n",
      "Non-zero alphas: 6\n"
     ]
    },
    {
     "name": "stderr",
     "output_type": "stream",
     "text": [
      "Building TRAIN_KERNEL: 100%|██████████| 1225/1225 [00:36<00:00, 33.31it/s]\n",
      "Building TEST_KERNEL: 100%|██████████| 2500/2500 [01:27<00:00, 28.69it/s]\n"
     ]
    },
    {
     "name": "stdout",
     "output_type": "stream",
     "text": [
      "| \u001b[39m29       \u001b[39m | \u001b[39m0.52     \u001b[39m | \u001b[39m0.9848   \u001b[39m | \u001b[39m0.8937   \u001b[39m | \u001b[39m0.8905   \u001b[39m | \u001b[39m0.707    \u001b[39m | \u001b[39m0.2818   \u001b[39m | \u001b[39m0.8121   \u001b[39m | \u001b[39m0.3271   \u001b[39m | \u001b[39m0.8378   \u001b[39m | \u001b[39m0.2608   \u001b[39m | \u001b[39m0.8643   \u001b[39m | \u001b[39m0.0228   \u001b[39m | \u001b[39m0.02174  \u001b[39m | \u001b[39m0.1133   \u001b[39m | \u001b[39m0.9944   \u001b[39m | \u001b[39m0.8529   \u001b[39m | \u001b[39m0.6152   \u001b[39m |\n",
      "Non-zero alphas: 6\n"
     ]
    },
    {
     "name": "stderr",
     "output_type": "stream",
     "text": [
      "Building TRAIN_KERNEL: 100%|██████████| 1225/1225 [00:36<00:00, 33.29it/s]\n",
      "Building TEST_KERNEL: 100%|██████████| 2500/2500 [01:23<00:00, 30.01it/s]\n"
     ]
    },
    {
     "name": "stdout",
     "output_type": "stream",
     "text": [
      "| \u001b[39m30       \u001b[39m | \u001b[39m0.66     \u001b[39m | \u001b[39m0.5692   \u001b[39m | \u001b[39m0.7647   \u001b[39m | \u001b[39m0.1543   \u001b[39m | \u001b[39m0.8688   \u001b[39m | \u001b[39m0.9758   \u001b[39m | \u001b[39m0.8985   \u001b[39m | \u001b[39m0.9844   \u001b[39m | \u001b[39m0.5857   \u001b[39m | \u001b[39m0.3596   \u001b[39m | \u001b[39m0.8363   \u001b[39m | \u001b[39m0.721    \u001b[39m | \u001b[39m0.2059   \u001b[39m | \u001b[39m0.2133   \u001b[39m | \u001b[39m0.5445   \u001b[39m | \u001b[39m0.007826 \u001b[39m | \u001b[39m0.3605   \u001b[39m |\n",
      "=========================================================================================================================================================================================================================\n",
      "Best Coefficients: [np.float64(0.908168831862098), np.float64(0.8841176033010751), np.float64(0.4748512386627347), np.float64(0.17996663249984468), np.float64(0.05525995028467401), np.float64(0.7332544853719954), np.float64(0.11546203626040674), np.float64(0.8443257567179933), np.float64(0.6333179922721427), np.float64(0.08629597791814436), np.float64(0.8977635412772837), np.float64(0.9366965192942818), np.float64(0.2635567325782855), np.float64(0.49728859771407974), np.float64(0.9972088899222982), np.float64(0.5351860388443568)]\n",
      "Best Val Accuracy: 0.78\n",
      "Non-zero alphas: 6\n"
     ]
    },
    {
     "name": "stderr",
     "output_type": "stream",
     "text": [
      "Building TRAIN_KERNEL: 100%|██████████| 1225/1225 [00:43<00:00, 28.06it/s]\n"
     ]
    },
    {
     "name": "stdout",
     "output_type": "stream",
     "text": [
      "Train Accuracy: 0.72\n"
     ]
    },
    {
     "name": "stderr",
     "output_type": "stream",
     "text": [
      "Building TEST_KERNEL: 100%|██████████| 2500/2500 [01:22<00:00, 30.33it/s]\n"
     ]
    },
    {
     "name": "stdout",
     "output_type": "stream",
     "text": [
      "Validation Accuracy: 0.66\n"
     ]
    },
    {
     "name": "stderr",
     "output_type": "stream",
     "text": [
      "Building TEST_KERNEL: 100%|██████████| 5000/5000 [02:45<00:00, 30.24it/s]\n"
     ]
    },
    {
     "name": "stdout",
     "output_type": "stream",
     "text": [
      "Test Accuracy: 0.74\n",
      "Saving model...\n",
      "|   iter    |  target   |  coeff_0  |  coeff_1  | coeff_10  | coeff_11  | coeff_12  | coeff_13  | coeff_14  | coeff_15  |  coeff_2  |  coeff_3  |  coeff_4  |  coeff_5  |  coeff_6  |  coeff_7  |  coeff_8  |  coeff_9  |\n",
      "-------------------------------------------------------------------------------------------------------------------------------------------------------------------------------------------------------------------------\n",
      "Non-zero alphas: 6\n"
     ]
    },
    {
     "name": "stderr",
     "output_type": "stream",
     "text": [
      "Building TRAIN_KERNEL: 100%|██████████| 1225/1225 [00:38<00:00, 31.50it/s]\n",
      "Building TEST_KERNEL: 100%|██████████| 2500/2500 [01:17<00:00, 32.15it/s]\n"
     ]
    },
    {
     "name": "stdout",
     "output_type": "stream",
     "text": [
      "| \u001b[39m1        \u001b[39m | \u001b[39m0.46     \u001b[39m | \u001b[39m0.3745   \u001b[39m | \u001b[39m0.9507   \u001b[39m | \u001b[39m0.732    \u001b[39m | \u001b[39m0.5987   \u001b[39m | \u001b[39m0.156    \u001b[39m | \u001b[39m0.156    \u001b[39m | \u001b[39m0.05808  \u001b[39m | \u001b[39m0.8662   \u001b[39m | \u001b[39m0.6011   \u001b[39m | \u001b[39m0.7081   \u001b[39m | \u001b[39m0.02058  \u001b[39m | \u001b[39m0.9699   \u001b[39m | \u001b[39m0.8324   \u001b[39m | \u001b[39m0.2123   \u001b[39m | \u001b[39m0.1818   \u001b[39m | \u001b[39m0.1834   \u001b[39m |\n",
      "Non-zero alphas: 6\n"
     ]
    },
    {
     "name": "stderr",
     "output_type": "stream",
     "text": [
      "Building TRAIN_KERNEL: 100%|██████████| 1225/1225 [00:37<00:00, 32.35it/s]\n",
      "Building TEST_KERNEL: 100%|██████████| 2500/2500 [01:19<00:00, 31.56it/s]\n"
     ]
    },
    {
     "name": "stdout",
     "output_type": "stream",
     "text": [
      "| \u001b[39m2        \u001b[39m | \u001b[39m0.46     \u001b[39m | \u001b[39m0.3042   \u001b[39m | \u001b[39m0.5248   \u001b[39m | \u001b[39m0.4319   \u001b[39m | \u001b[39m0.2912   \u001b[39m | \u001b[39m0.6119   \u001b[39m | \u001b[39m0.1395   \u001b[39m | \u001b[39m0.2921   \u001b[39m | \u001b[39m0.3664   \u001b[39m | \u001b[39m0.4561   \u001b[39m | \u001b[39m0.7852   \u001b[39m | \u001b[39m0.1997   \u001b[39m | \u001b[39m0.5142   \u001b[39m | \u001b[39m0.5924   \u001b[39m | \u001b[39m0.04645  \u001b[39m | \u001b[39m0.6075   \u001b[39m | \u001b[39m0.1705   \u001b[39m |\n",
      "Non-zero alphas: 6\n"
     ]
    },
    {
     "name": "stderr",
     "output_type": "stream",
     "text": [
      "Building TRAIN_KERNEL: 100%|██████████| 1225/1225 [00:41<00:00, 29.84it/s]\n",
      "Building TEST_KERNEL: 100%|██████████| 2500/2500 [01:20<00:00, 31.21it/s]\n"
     ]
    },
    {
     "name": "stdout",
     "output_type": "stream",
     "text": [
      "| \u001b[35m3        \u001b[39m | \u001b[35m0.6      \u001b[39m | \u001b[35m0.06505  \u001b[39m | \u001b[35m0.9489   \u001b[39m | \u001b[35m0.9656   \u001b[39m | \u001b[35m0.8084   \u001b[39m | \u001b[35m0.3046   \u001b[39m | \u001b[35m0.09767  \u001b[39m | \u001b[35m0.6842   \u001b[39m | \u001b[35m0.4402   \u001b[39m | \u001b[35m0.122    \u001b[39m | \u001b[35m0.4952   \u001b[39m | \u001b[35m0.03439  \u001b[39m | \u001b[35m0.9093   \u001b[39m | \u001b[35m0.2588   \u001b[39m | \u001b[35m0.6625   \u001b[39m | \u001b[35m0.3117   \u001b[39m | \u001b[35m0.5201   \u001b[39m |\n",
      "Non-zero alphas: 6\n"
     ]
    },
    {
     "name": "stderr",
     "output_type": "stream",
     "text": [
      "Building TRAIN_KERNEL: 100%|██████████| 1225/1225 [00:37<00:00, 32.64it/s]\n",
      "Building TEST_KERNEL: 100%|██████████| 2500/2500 [01:22<00:00, 30.42it/s]\n"
     ]
    },
    {
     "name": "stdout",
     "output_type": "stream",
     "text": [
      "| \u001b[39m4        \u001b[39m | \u001b[39m0.48     \u001b[39m | \u001b[39m0.5467   \u001b[39m | \u001b[39m0.1849   \u001b[39m | \u001b[39m0.9696   \u001b[39m | \u001b[39m0.7751   \u001b[39m | \u001b[39m0.9395   \u001b[39m | \u001b[39m0.8948   \u001b[39m | \u001b[39m0.5979   \u001b[39m | \u001b[39m0.9219   \u001b[39m | \u001b[39m0.08849  \u001b[39m | \u001b[39m0.196    \u001b[39m | \u001b[39m0.04523  \u001b[39m | \u001b[39m0.3253   \u001b[39m | \u001b[39m0.3887   \u001b[39m | \u001b[39m0.2713   \u001b[39m | \u001b[39m0.8287   \u001b[39m | \u001b[39m0.3568   \u001b[39m |\n",
      "Non-zero alphas: 6\n"
     ]
    },
    {
     "name": "stderr",
     "output_type": "stream",
     "text": [
      "Building TRAIN_KERNEL: 100%|██████████| 1225/1225 [00:39<00:00, 30.95it/s]\n",
      "Building TEST_KERNEL: 100%|██████████| 2500/2500 [01:20<00:00, 30.96it/s]\n"
     ]
    },
    {
     "name": "stdout",
     "output_type": "stream",
     "text": [
      "| \u001b[39m5        \u001b[39m | \u001b[39m0.52     \u001b[39m | \u001b[39m0.2809   \u001b[39m | \u001b[39m0.5427   \u001b[39m | \u001b[39m0.1409   \u001b[39m | \u001b[39m0.8022   \u001b[39m | \u001b[39m0.07455  \u001b[39m | \u001b[39m0.9869   \u001b[39m | \u001b[39m0.7722   \u001b[39m | \u001b[39m0.1987   \u001b[39m | \u001b[39m0.005522 \u001b[39m | \u001b[39m0.8155   \u001b[39m | \u001b[39m0.7069   \u001b[39m | \u001b[39m0.729    \u001b[39m | \u001b[39m0.7713   \u001b[39m | \u001b[39m0.07404  \u001b[39m | \u001b[39m0.3585   \u001b[39m | \u001b[39m0.1159   \u001b[39m |\n",
      "Non-zero alphas: 6\n"
     ]
    },
    {
     "name": "stderr",
     "output_type": "stream",
     "text": [
      "Building TRAIN_KERNEL: 100%|██████████| 1225/1225 [00:35<00:00, 34.37it/s]\n",
      "Building TEST_KERNEL: 100%|██████████| 2500/2500 [01:19<00:00, 31.46it/s]\n"
     ]
    },
    {
     "name": "stdout",
     "output_type": "stream",
     "text": [
      "| \u001b[39m6        \u001b[39m | \u001b[39m0.48     \u001b[39m | \u001b[39m0.3739   \u001b[39m | \u001b[39m0.4383   \u001b[39m | \u001b[39m0.1525   \u001b[39m | \u001b[39m0.579    \u001b[39m | \u001b[39m0.1402   \u001b[39m | \u001b[39m0.9153   \u001b[39m | \u001b[39m0.4157   \u001b[39m | \u001b[39m0.04265  \u001b[39m | \u001b[39m0.001764 \u001b[39m | \u001b[39m0.6763   \u001b[39m | \u001b[39m0.6115   \u001b[39m | \u001b[39m0.7703   \u001b[39m | \u001b[39m0.7494   \u001b[39m | \u001b[39m0.003077 \u001b[39m | \u001b[39m0.167    \u001b[39m | \u001b[39m0.3259   \u001b[39m |\n",
      "Non-zero alphas: 6\n"
     ]
    },
    {
     "name": "stderr",
     "output_type": "stream",
     "text": [
      "Building TRAIN_KERNEL: 100%|██████████| 1225/1225 [00:40<00:00, 30.54it/s]\n",
      "Building TEST_KERNEL: 100%|██████████| 2500/2500 [01:21<00:00, 30.54it/s]\n"
     ]
    },
    {
     "name": "stdout",
     "output_type": "stream",
     "text": [
      "| \u001b[39m7        \u001b[39m | \u001b[39m0.6      \u001b[39m | \u001b[39m0.09017  \u001b[39m | \u001b[39m0.8852   \u001b[39m | \u001b[39m0.1796   \u001b[39m | \u001b[39m0.7708   \u001b[39m | \u001b[39m0.1383   \u001b[39m | \u001b[39m0.7279   \u001b[39m | \u001b[39m0.2384   \u001b[39m | \u001b[39m0.04143  \u001b[39m | \u001b[39m0.1589   \u001b[39m | \u001b[39m0.8166   \u001b[39m | \u001b[39m0.7594   \u001b[39m | \u001b[39m0.5768   \u001b[39m | \u001b[39m0.5352   \u001b[39m | \u001b[39m0.04738  \u001b[39m | \u001b[39m0.3533   \u001b[39m | \u001b[39m0.9031   \u001b[39m |\n",
      "Non-zero alphas: 6\n"
     ]
    },
    {
     "name": "stderr",
     "output_type": "stream",
     "text": [
      "Building TRAIN_KERNEL: 100%|██████████| 1225/1225 [00:39<00:00, 30.93it/s]\n",
      "Building TEST_KERNEL: 100%|██████████| 2500/2500 [01:19<00:00, 31.63it/s]\n"
     ]
    },
    {
     "name": "stdout",
     "output_type": "stream",
     "text": [
      "| \u001b[39m8        \u001b[39m | \u001b[39m0.58     \u001b[39m | \u001b[39m0.1491   \u001b[39m | \u001b[39m0.5135   \u001b[39m | \u001b[39m0.6306   \u001b[39m | \u001b[39m0.2698   \u001b[39m | \u001b[39m0.659    \u001b[39m | \u001b[39m0.2806   \u001b[39m | \u001b[39m0.3082   \u001b[39m | \u001b[39m0.0513   \u001b[39m | \u001b[39m0.7128   \u001b[39m | \u001b[39m0.8957   \u001b[39m | \u001b[39m0.1061   \u001b[39m | \u001b[39m0.2172   \u001b[39m | \u001b[39m0.3675   \u001b[39m | \u001b[39m0.2776   \u001b[39m | \u001b[39m0.5975   \u001b[39m | \u001b[39m0.09893  \u001b[39m |\n",
      "Non-zero alphas: 6\n"
     ]
    },
    {
     "name": "stderr",
     "output_type": "stream",
     "text": [
      "Building TRAIN_KERNEL: 100%|██████████| 1225/1225 [00:41<00:00, 29.59it/s]\n",
      "Building TEST_KERNEL: 100%|██████████| 2500/2500 [01:19<00:00, 31.48it/s]\n"
     ]
    },
    {
     "name": "stdout",
     "output_type": "stream",
     "text": [
      "| \u001b[39m9        \u001b[39m | \u001b[39m0.46     \u001b[39m | \u001b[39m0.2381   \u001b[39m | \u001b[39m0.5075   \u001b[39m | \u001b[39m0.3218   \u001b[39m | \u001b[39m0.6104   \u001b[39m | \u001b[39m0.9135   \u001b[39m | \u001b[39m0.8304   \u001b[39m | \u001b[39m0.3073   \u001b[39m | \u001b[39m0.6383   \u001b[39m | \u001b[39m0.978    \u001b[39m | \u001b[39m0.6164   \u001b[39m | \u001b[39m0.5837   \u001b[39m | \u001b[39m0.1719   \u001b[39m | \u001b[39m0.1725   \u001b[39m | \u001b[39m0.1669   \u001b[39m | \u001b[39m0.9974   \u001b[39m | \u001b[39m0.2141   \u001b[39m |\n",
      "Non-zero alphas: 6\n"
     ]
    },
    {
     "name": "stderr",
     "output_type": "stream",
     "text": [
      "Building TRAIN_KERNEL: 100%|██████████| 1225/1225 [00:40<00:00, 30.03it/s]\n",
      "Building TEST_KERNEL: 100%|██████████| 2500/2500 [01:19<00:00, 31.55it/s]\n"
     ]
    },
    {
     "name": "stdout",
     "output_type": "stream",
     "text": [
      "| \u001b[39m10       \u001b[39m | \u001b[39m0.58     \u001b[39m | \u001b[39m0.8743   \u001b[39m | \u001b[39m0.4682   \u001b[39m | \u001b[39m0.1181   \u001b[39m | \u001b[39m0.561    \u001b[39m | \u001b[39m0.9829   \u001b[39m | \u001b[39m0.6561   \u001b[39m | \u001b[39m0.6104   \u001b[39m | \u001b[39m0.02032  \u001b[39m | \u001b[39m0.3413   \u001b[39m | \u001b[39m0.6338   \u001b[39m | \u001b[39m0.9261   \u001b[39m | \u001b[39m0.2267   \u001b[39m | \u001b[39m0.6446   \u001b[39m | \u001b[39m0.6518   \u001b[39m | \u001b[39m0.7886   \u001b[39m | \u001b[39m0.3401   \u001b[39m |\n",
      "Non-zero alphas: 6\n"
     ]
    },
    {
     "name": "stderr",
     "output_type": "stream",
     "text": [
      "Building TRAIN_KERNEL: 100%|██████████| 1225/1225 [00:37<00:00, 32.25it/s]\n",
      "Building TEST_KERNEL: 100%|██████████| 2500/2500 [01:18<00:00, 31.92it/s]\n"
     ]
    },
    {
     "name": "stdout",
     "output_type": "stream",
     "text": [
      "| \u001b[39m11       \u001b[39m | \u001b[39m0.5      \u001b[39m | \u001b[39m0.7494   \u001b[39m | \u001b[39m0.6499   \u001b[39m | \u001b[39m0.233    \u001b[39m | \u001b[39m0.3041   \u001b[39m | \u001b[39m0.9066   \u001b[39m | \u001b[39m0.834    \u001b[39m | \u001b[39m0.5585   \u001b[39m | \u001b[39m0.4169   \u001b[39m | \u001b[39m0.3707   \u001b[39m | \u001b[39m0.4504   \u001b[39m | \u001b[39m0.8227   \u001b[39m | \u001b[39m0.3794   \u001b[39m | \u001b[39m0.6674   \u001b[39m | \u001b[39m0.6037   \u001b[39m | \u001b[39m0.9026   \u001b[39m | \u001b[39m0.5392   \u001b[39m |\n",
      "Non-zero alphas: 6\n"
     ]
    },
    {
     "name": "stderr",
     "output_type": "stream",
     "text": [
      "Building TRAIN_KERNEL: 100%|██████████| 1225/1225 [00:40<00:00, 29.90it/s]\n",
      "Building TEST_KERNEL: 100%|██████████| 2500/2500 [01:15<00:00, 33.11it/s]\n"
     ]
    },
    {
     "name": "stdout",
     "output_type": "stream",
     "text": [
      "| \u001b[35m12       \u001b[39m | \u001b[35m0.64     \u001b[39m | \u001b[35m0.8081   \u001b[39m | \u001b[35m0.6462   \u001b[39m | \u001b[35m0.6599   \u001b[39m | \u001b[35m0.05111  \u001b[39m | \u001b[35m0.8338   \u001b[39m | \u001b[35m0.2336   \u001b[39m | \u001b[35m0.01959  \u001b[39m | \u001b[35m0.271    \u001b[39m | \u001b[35m0.4307   \u001b[39m | \u001b[35m0.1537   \u001b[39m | \u001b[35m0.1768   \u001b[39m | \u001b[35m0.2609   \u001b[39m | \u001b[35m0.9895   \u001b[39m | \u001b[35m0.5295   \u001b[39m | \u001b[35m0.2108   \u001b[39m | \u001b[35m0.1557   \u001b[39m |\n",
      "Non-zero alphas: 6\n"
     ]
    },
    {
     "name": "stderr",
     "output_type": "stream",
     "text": [
      "Building TRAIN_KERNEL: 100%|██████████| 1225/1225 [00:40<00:00, 30.13it/s]\n",
      "Building TEST_KERNEL: 100%|██████████| 2500/2500 [01:20<00:00, 30.89it/s]\n"
     ]
    },
    {
     "name": "stdout",
     "output_type": "stream",
     "text": [
      "| \u001b[39m13       \u001b[39m | \u001b[39m0.6      \u001b[39m | \u001b[39m0.9306   \u001b[39m | \u001b[39m0.8376   \u001b[39m | \u001b[39m0.7835   \u001b[39m | \u001b[39m0.07252  \u001b[39m | \u001b[39m0.9936   \u001b[39m | \u001b[39m0.9872   \u001b[39m | \u001b[39m0.91     \u001b[39m | \u001b[39m0.7949   \u001b[39m | \u001b[39m0.8441   \u001b[39m | \u001b[39m0.1167   \u001b[39m | \u001b[39m0.3174   \u001b[39m | \u001b[39m0.05548  \u001b[39m | \u001b[39m0.3904   \u001b[39m | \u001b[39m0.7072   \u001b[39m | \u001b[39m0.1423   \u001b[39m | \u001b[39m0.8683   \u001b[39m |\n",
      "Non-zero alphas: 6\n"
     ]
    },
    {
     "name": "stderr",
     "output_type": "stream",
     "text": [
      "Building TRAIN_KERNEL: 100%|██████████| 1225/1225 [00:39<00:00, 31.13it/s]\n",
      "Building TEST_KERNEL: 100%|██████████| 2500/2500 [01:21<00:00, 30.72it/s]\n"
     ]
    },
    {
     "name": "stdout",
     "output_type": "stream",
     "text": [
      "| \u001b[39m14       \u001b[39m | \u001b[39m0.5      \u001b[39m | \u001b[39m0.9637   \u001b[39m | \u001b[39m0.6322   \u001b[39m | \u001b[39m0.3152   \u001b[39m | \u001b[39m0.187    \u001b[39m | \u001b[39m0.7552   \u001b[39m | \u001b[39m0.07596  \u001b[39m | \u001b[39m0.2315   \u001b[39m | \u001b[39m0.3459   \u001b[39m | \u001b[39m0.6723   \u001b[39m | \u001b[39m0.1776   \u001b[39m | \u001b[39m0.2593   \u001b[39m | \u001b[39m0.2392   \u001b[39m | \u001b[39m0.7897   \u001b[39m | \u001b[39m0.6014   \u001b[39m | \u001b[39m0.442    \u001b[39m | \u001b[39m0.111    \u001b[39m |\n",
      "Non-zero alphas: 6\n"
     ]
    },
    {
     "name": "stderr",
     "output_type": "stream",
     "text": [
      "Building TRAIN_KERNEL: 100%|██████████| 1225/1225 [00:36<00:00, 33.84it/s]\n",
      "Building TEST_KERNEL: 100%|██████████| 2500/2500 [01:21<00:00, 30.53it/s]\n"
     ]
    },
    {
     "name": "stdout",
     "output_type": "stream",
     "text": [
      "| \u001b[39m15       \u001b[39m | \u001b[39m0.46     \u001b[39m | \u001b[39m0.5687   \u001b[39m | \u001b[39m0.821    \u001b[39m | \u001b[39m0.1681   \u001b[39m | \u001b[39m0.9414   \u001b[39m | \u001b[39m0.2384   \u001b[39m | \u001b[39m0.2118   \u001b[39m | \u001b[39m0.8863   \u001b[39m | \u001b[39m0.7654   \u001b[39m | \u001b[39m0.1898   \u001b[39m | \u001b[39m0.8091   \u001b[39m | \u001b[39m0.6285   \u001b[39m | \u001b[39m0.05496  \u001b[39m | \u001b[39m0.1604   \u001b[39m | \u001b[39m0.04872  \u001b[39m | \u001b[39m0.6927   \u001b[39m | \u001b[39m0.779    \u001b[39m |\n",
      "Non-zero alphas: 6\n"
     ]
    },
    {
     "name": "stderr",
     "output_type": "stream",
     "text": [
      "Building TRAIN_KERNEL: 100%|██████████| 1225/1225 [00:41<00:00, 29.81it/s]\n",
      "Building TEST_KERNEL: 100%|██████████| 2500/2500 [01:19<00:00, 31.47it/s]\n"
     ]
    },
    {
     "name": "stdout",
     "output_type": "stream",
     "text": [
      "| \u001b[39m16       \u001b[39m | \u001b[39m0.46     \u001b[39m | \u001b[39m0.6408   \u001b[39m | \u001b[39m0.5451   \u001b[39m | \u001b[39m0.3996   \u001b[39m | \u001b[39m0.74     \u001b[39m | \u001b[39m0.02666  \u001b[39m | \u001b[39m0.5511   \u001b[39m | \u001b[39m0.2818   \u001b[39m | \u001b[39m0.2533   \u001b[39m | \u001b[39m0.8916   \u001b[39m | \u001b[39m0.3739   \u001b[39m | \u001b[39m0.2868   \u001b[39m | \u001b[39m0.9204   \u001b[39m | \u001b[39m0.6048   \u001b[39m | \u001b[39m0.3257   \u001b[39m | \u001b[39m0.301    \u001b[39m | \u001b[39m0.8876   \u001b[39m |\n",
      "Non-zero alphas: 6\n"
     ]
    },
    {
     "name": "stderr",
     "output_type": "stream",
     "text": [
      "Building TRAIN_KERNEL: 100%|██████████| 1225/1225 [00:41<00:00, 29.59it/s]\n",
      "Building TEST_KERNEL: 100%|██████████| 2500/2500 [01:18<00:00, 31.82it/s]\n"
     ]
    },
    {
     "name": "stdout",
     "output_type": "stream",
     "text": [
      "| \u001b[39m17       \u001b[39m | \u001b[39m0.62     \u001b[39m | \u001b[39m0.9187   \u001b[39m | \u001b[39m0.3773   \u001b[39m | \u001b[39m0.8218   \u001b[39m | \u001b[39m0.07124  \u001b[39m | \u001b[39m0.6781   \u001b[39m | \u001b[39m0.1632   \u001b[39m | \u001b[39m0.06476  \u001b[39m | \u001b[39m0.4025   \u001b[39m | \u001b[39m0.5368   \u001b[39m | \u001b[39m0.1713   \u001b[39m | \u001b[39m0.3249   \u001b[39m | \u001b[39m0.2071   \u001b[39m | \u001b[39m0.7178   \u001b[39m | \u001b[39m0.6544   \u001b[39m | \u001b[39m0.3296   \u001b[39m | \u001b[39m0.2631   \u001b[39m |\n",
      "Non-zero alphas: 6\n"
     ]
    },
    {
     "name": "stderr",
     "output_type": "stream",
     "text": [
      "Building TRAIN_KERNEL: 100%|██████████| 1225/1225 [00:39<00:00, 30.92it/s]\n",
      "Building TEST_KERNEL: 100%|██████████| 2500/2500 [01:21<00:00, 30.65it/s]\n"
     ]
    },
    {
     "name": "stdout",
     "output_type": "stream",
     "text": [
      "| \u001b[39m18       \u001b[39m | \u001b[39m0.48     \u001b[39m | \u001b[39m0.2204   \u001b[39m | \u001b[39m0.3533   \u001b[39m | \u001b[39m0.004992 \u001b[39m | \u001b[39m0.7255   \u001b[39m | \u001b[39m0.6118   \u001b[39m | \u001b[39m0.2944   \u001b[39m | \u001b[39m0.2215   \u001b[39m | \u001b[39m0.6808   \u001b[39m | \u001b[39m0.4829   \u001b[39m | \u001b[39m0.7047   \u001b[39m | \u001b[39m0.181    \u001b[39m | \u001b[39m0.7168   \u001b[39m | \u001b[39m0.412    \u001b[39m | \u001b[39m0.7767   \u001b[39m | \u001b[39m0.4099   \u001b[39m | \u001b[39m0.2025   \u001b[39m |\n",
      "Non-zero alphas: 6\n"
     ]
    },
    {
     "name": "stderr",
     "output_type": "stream",
     "text": [
      "Building TRAIN_KERNEL: 100%|██████████| 1225/1225 [00:39<00:00, 31.13it/s]\n",
      "Building TEST_KERNEL: 100%|██████████| 2500/2500 [01:19<00:00, 31.49it/s]\n"
     ]
    },
    {
     "name": "stdout",
     "output_type": "stream",
     "text": [
      "| \u001b[39m19       \u001b[39m | \u001b[39m0.52     \u001b[39m | \u001b[39m0.262    \u001b[39m | \u001b[39m0.7018   \u001b[39m | \u001b[39m0.7417   \u001b[39m | \u001b[39m0.3903   \u001b[39m | \u001b[39m0.5435   \u001b[39m | \u001b[39m0.1085   \u001b[39m | \u001b[39m0.4197   \u001b[39m | \u001b[39m0.06063  \u001b[39m | \u001b[39m0.6557   \u001b[39m | \u001b[39m0.554    \u001b[39m | \u001b[39m0.2698   \u001b[39m | \u001b[39m0.5881   \u001b[39m | \u001b[39m0.7687   \u001b[39m | \u001b[39m0.4663   \u001b[39m | \u001b[39m0.985    \u001b[39m | \u001b[39m0.7263   \u001b[39m |\n",
      "Non-zero alphas: 6\n"
     ]
    },
    {
     "name": "stderr",
     "output_type": "stream",
     "text": [
      "Building TRAIN_KERNEL: 100%|██████████| 1225/1225 [00:40<00:00, 29.98it/s]\n",
      "Building TEST_KERNEL: 100%|██████████| 2500/2500 [01:19<00:00, 31.64it/s]\n"
     ]
    },
    {
     "name": "stdout",
     "output_type": "stream",
     "text": [
      "| \u001b[39m20       \u001b[39m | \u001b[39m0.62     \u001b[39m | \u001b[39m0.9533   \u001b[39m | \u001b[39m0.5346   \u001b[39m | \u001b[39m0.7064   \u001b[39m | \u001b[39m0.1976   \u001b[39m | \u001b[39m0.6016   \u001b[39m | \u001b[39m0.0184   \u001b[39m | \u001b[39m0.5366   \u001b[39m | \u001b[39m0.3398   \u001b[39m | \u001b[39m0.59     \u001b[39m | \u001b[39m0.09451  \u001b[39m | \u001b[39m0.2923   \u001b[39m | \u001b[39m0.1614   \u001b[39m | \u001b[39m0.7257   \u001b[39m | \u001b[39m0.7126   \u001b[39m | \u001b[39m0.3753   \u001b[39m | \u001b[39m0.04689  \u001b[39m |\n",
      "Non-zero alphas: 6\n"
     ]
    },
    {
     "name": "stderr",
     "output_type": "stream",
     "text": [
      "Building TRAIN_KERNEL: 100%|██████████| 1225/1225 [00:40<00:00, 29.97it/s]\n",
      "Building TEST_KERNEL: 100%|██████████| 2500/2500 [01:16<00:00, 32.83it/s]\n"
     ]
    },
    {
     "name": "stdout",
     "output_type": "stream",
     "text": [
      "| \u001b[35m21       \u001b[39m | \u001b[35m0.7      \u001b[39m | \u001b[35m0.8702   \u001b[39m | \u001b[35m0.7829   \u001b[39m | \u001b[35m0.6824   \u001b[39m | \u001b[35m0.1074   \u001b[39m | \u001b[35m0.325    \u001b[39m | \u001b[35m0.2503   \u001b[39m | \u001b[35m0.1347   \u001b[39m | \u001b[35m0.1171   \u001b[39m | \u001b[35m0.2349   \u001b[39m | \u001b[35m0.2036   \u001b[39m | \u001b[35m0.1051   \u001b[39m | \u001b[35m0.2443   \u001b[39m | \u001b[35m0.6033   \u001b[39m | \u001b[35m0.4488   \u001b[39m | \u001b[35m0.2171   \u001b[39m | \u001b[35m0.1175   \u001b[39m |\n",
      "Non-zero alphas: 6\n"
     ]
    },
    {
     "name": "stderr",
     "output_type": "stream",
     "text": [
      "Building TRAIN_KERNEL: 100%|██████████| 1225/1225 [00:37<00:00, 32.76it/s]\n",
      "Building TEST_KERNEL: 100%|██████████| 2500/2500 [01:19<00:00, 31.47it/s]\n"
     ]
    },
    {
     "name": "stdout",
     "output_type": "stream",
     "text": [
      "| \u001b[35m22       \u001b[39m | \u001b[35m0.72     \u001b[39m | \u001b[35m0.8494   \u001b[39m | \u001b[35m0.6981   \u001b[39m | \u001b[35m0.9668   \u001b[39m | \u001b[35m0.02861  \u001b[39m | \u001b[35m0.4978   \u001b[39m | \u001b[35m0.2274   \u001b[39m | \u001b[35m0.2349   \u001b[39m | \u001b[35m0.1066   \u001b[39m | \u001b[35m0.2499   \u001b[39m | \u001b[35m0.1011   \u001b[39m | \u001b[35m0.1312   \u001b[39m | \u001b[35m0.136    \u001b[39m | \u001b[35m0.7331   \u001b[39m | \u001b[35m0.5998   \u001b[39m | \u001b[35m0.1169   \u001b[39m | \u001b[35m0.09085  \u001b[39m |\n",
      "Non-zero alphas: 6\n"
     ]
    },
    {
     "name": "stderr",
     "output_type": "stream",
     "text": [
      "Building TRAIN_KERNEL: 100%|██████████| 1225/1225 [00:41<00:00, 29.84it/s]\n",
      "Building TEST_KERNEL: 100%|██████████| 2500/2500 [01:19<00:00, 31.40it/s]\n"
     ]
    },
    {
     "name": "stdout",
     "output_type": "stream",
     "text": [
      "| \u001b[39m23       \u001b[39m | \u001b[39m0.66     \u001b[39m | \u001b[39m0.5994   \u001b[39m | \u001b[39m0.9968   \u001b[39m | \u001b[39m0.95     \u001b[39m | \u001b[39m0.03042  \u001b[39m | \u001b[39m0.5031   \u001b[39m | \u001b[39m0.2907   \u001b[39m | \u001b[39m0.125    \u001b[39m | \u001b[39m0.0      \u001b[39m | \u001b[39m0.1476   \u001b[39m | \u001b[39m0.3541   \u001b[39m | \u001b[39m0.08347  \u001b[39m | \u001b[39m0.0      \u001b[39m | \u001b[39m0.3588   \u001b[39m | \u001b[39m0.7787   \u001b[39m | \u001b[39m0.02879  \u001b[39m | \u001b[39m0.2155   \u001b[39m |\n",
      "Non-zero alphas: 6\n"
     ]
    },
    {
     "name": "stderr",
     "output_type": "stream",
     "text": [
      "Building TRAIN_KERNEL: 100%|██████████| 1225/1225 [00:36<00:00, 33.18it/s]\n",
      "Building TEST_KERNEL: 100%|██████████| 2500/2500 [01:18<00:00, 31.89it/s]\n"
     ]
    },
    {
     "name": "stdout",
     "output_type": "stream",
     "text": [
      "| \u001b[39m24       \u001b[39m | \u001b[39m0.56     \u001b[39m | \u001b[39m1.0      \u001b[39m | \u001b[39m0.7641   \u001b[39m | \u001b[39m0.9664   \u001b[39m | \u001b[39m0.0      \u001b[39m | \u001b[39m0.07397  \u001b[39m | \u001b[39m0.01015  \u001b[39m | \u001b[39m0.0      \u001b[39m | \u001b[39m0.0      \u001b[39m | \u001b[39m0.0      \u001b[39m | \u001b[39m0.0      \u001b[39m | \u001b[39m0.0      \u001b[39m | \u001b[39m0.0      \u001b[39m | \u001b[39m0.9157   \u001b[39m | \u001b[39m0.5637   \u001b[39m | \u001b[39m0.2197   \u001b[39m | \u001b[39m0.0      \u001b[39m |\n",
      "Non-zero alphas: 6\n"
     ]
    },
    {
     "name": "stderr",
     "output_type": "stream",
     "text": [
      "Building TRAIN_KERNEL: 100%|██████████| 1225/1225 [00:40<00:00, 30.57it/s]\n",
      "Building TEST_KERNEL: 100%|██████████| 2500/2500 [01:20<00:00, 31.22it/s]\n"
     ]
    },
    {
     "name": "stdout",
     "output_type": "stream",
     "text": [
      "| \u001b[39m25       \u001b[39m | \u001b[39m0.6      \u001b[39m | \u001b[39m0.9553   \u001b[39m | \u001b[39m0.7518   \u001b[39m | \u001b[39m0.9573   \u001b[39m | \u001b[39m0.0      \u001b[39m | \u001b[39m0.6529   \u001b[39m | \u001b[39m0.4788   \u001b[39m | \u001b[39m0.3463   \u001b[39m | \u001b[39m0.0      \u001b[39m | \u001b[39m0.3646   \u001b[39m | \u001b[39m0.1156   \u001b[39m | \u001b[39m0.1234   \u001b[39m | \u001b[39m0.2985   \u001b[39m | \u001b[39m0.4203   \u001b[39m | \u001b[39m0.4329   \u001b[39m | \u001b[39m0.0      \u001b[39m | \u001b[39m0.07176  \u001b[39m |\n",
      "Non-zero alphas: 6\n"
     ]
    },
    {
     "name": "stderr",
     "output_type": "stream",
     "text": [
      "Building TRAIN_KERNEL: 100%|██████████| 1225/1225 [00:40<00:00, 30.10it/s]\n",
      "Building TEST_KERNEL: 100%|██████████| 2500/2500 [01:17<00:00, 32.27it/s]\n"
     ]
    },
    {
     "name": "stdout",
     "output_type": "stream",
     "text": [
      "| \u001b[39m26       \u001b[39m | \u001b[39m0.62     \u001b[39m | \u001b[39m0.578    \u001b[39m | \u001b[39m0.7062   \u001b[39m | \u001b[39m0.7611   \u001b[39m | \u001b[39m0.01704  \u001b[39m | \u001b[39m0.4043   \u001b[39m | \u001b[39m0.2258   \u001b[39m | \u001b[39m0.2973   \u001b[39m | \u001b[39m0.2583   \u001b[39m | \u001b[39m0.1573   \u001b[39m | \u001b[39m0.1319   \u001b[39m | \u001b[39m0.2352   \u001b[39m | \u001b[39m0.1345   \u001b[39m | \u001b[39m0.7363   \u001b[39m | \u001b[39m0.7242   \u001b[39m | \u001b[39m0.01356  \u001b[39m | \u001b[39m0.2394   \u001b[39m |\n",
      "Non-zero alphas: 6\n"
     ]
    },
    {
     "name": "stderr",
     "output_type": "stream",
     "text": [
      "Building TRAIN_KERNEL: 100%|██████████| 1225/1225 [00:40<00:00, 30.36it/s]\n",
      "Building TEST_KERNEL: 100%|██████████| 2500/2500 [01:19<00:00, 31.64it/s]\n"
     ]
    },
    {
     "name": "stdout",
     "output_type": "stream",
     "text": [
      "| \u001b[39m27       \u001b[39m | \u001b[39m0.46     \u001b[39m | \u001b[39m0.09818  \u001b[39m | \u001b[39m0.7689   \u001b[39m | \u001b[39m0.009608 \u001b[39m | \u001b[39m0.422    \u001b[39m | \u001b[39m0.1105   \u001b[39m | \u001b[39m0.8875   \u001b[39m | \u001b[39m0.6212   \u001b[39m | \u001b[39m0.07029  \u001b[39m | \u001b[39m0.9199   \u001b[39m | \u001b[39m0.7059   \u001b[39m | \u001b[39m0.1872   \u001b[39m | \u001b[39m0.7392   \u001b[39m | \u001b[39m0.4586   \u001b[39m | \u001b[39m0.3119   \u001b[39m | \u001b[39m0.1317   \u001b[39m | \u001b[39m0.003327 \u001b[39m |\n",
      "Non-zero alphas: 6\n"
     ]
    },
    {
     "name": "stderr",
     "output_type": "stream",
     "text": [
      "Building TRAIN_KERNEL: 100%|██████████| 1225/1225 [00:40<00:00, 29.98it/s]\n",
      "Building TEST_KERNEL: 100%|██████████| 2500/2500 [01:21<00:00, 30.58it/s]\n"
     ]
    },
    {
     "name": "stdout",
     "output_type": "stream",
     "text": [
      "| \u001b[39m28       \u001b[39m | \u001b[39m0.7      \u001b[39m | \u001b[39m0.7955   \u001b[39m | \u001b[39m0.7381   \u001b[39m | \u001b[39m1.0      \u001b[39m | \u001b[39m0.2003   \u001b[39m | \u001b[39m0.5766   \u001b[39m | \u001b[39m0.186    \u001b[39m | \u001b[39m0.09712  \u001b[39m | \u001b[39m0.01427  \u001b[39m | \u001b[39m0.3189   \u001b[39m | \u001b[39m0.3844   \u001b[39m | \u001b[39m0.06545  \u001b[39m | \u001b[39m0.06458  \u001b[39m | \u001b[39m0.682    \u001b[39m | \u001b[39m0.6077   \u001b[39m | \u001b[39m0.3228   \u001b[39m | \u001b[39m0.03125  \u001b[39m |\n",
      "Non-zero alphas: 6\n"
     ]
    },
    {
     "name": "stderr",
     "output_type": "stream",
     "text": [
      "Building TRAIN_KERNEL: 100%|██████████| 1225/1225 [00:35<00:00, 34.50it/s]\n",
      "Building TEST_KERNEL: 100%|██████████| 2500/2500 [01:23<00:00, 29.95it/s]\n"
     ]
    },
    {
     "name": "stdout",
     "output_type": "stream",
     "text": [
      "| \u001b[39m29       \u001b[39m | \u001b[39m0.64     \u001b[39m | \u001b[39m0.5753   \u001b[39m | \u001b[39m0.461    \u001b[39m | \u001b[39m0.8293   \u001b[39m | \u001b[39m0.03456  \u001b[39m | \u001b[39m0.433    \u001b[39m | \u001b[39m0.04465  \u001b[39m | \u001b[39m0.3875   \u001b[39m | \u001b[39m0.1508   \u001b[39m | \u001b[39m0.2868   \u001b[39m | \u001b[39m0.1475   \u001b[39m | \u001b[39m0.1597   \u001b[39m | \u001b[39m0.2337   \u001b[39m | \u001b[39m0.9803   \u001b[39m | \u001b[39m0.7059   \u001b[39m | \u001b[39m0.5338   \u001b[39m | \u001b[39m0.02502  \u001b[39m |\n",
      "Non-zero alphas: 6\n"
     ]
    },
    {
     "name": "stderr",
     "output_type": "stream",
     "text": [
      "Building TRAIN_KERNEL: 100%|██████████| 1225/1225 [00:40<00:00, 30.12it/s]\n",
      "Building TEST_KERNEL: 100%|██████████| 2500/2500 [01:17<00:00, 32.45it/s]\n"
     ]
    },
    {
     "name": "stdout",
     "output_type": "stream",
     "text": [
      "| \u001b[39m30       \u001b[39m | \u001b[39m0.68     \u001b[39m | \u001b[39m0.8112   \u001b[39m | \u001b[39m0.8536   \u001b[39m | \u001b[39m0.91     \u001b[39m | \u001b[39m0.01078  \u001b[39m | \u001b[39m0.2186   \u001b[39m | \u001b[39m0.2068   \u001b[39m | \u001b[39m0.5076   \u001b[39m | \u001b[39m0.1636   \u001b[39m | \u001b[39m0.2047   \u001b[39m | \u001b[39m0.5302   \u001b[39m | \u001b[39m0.01042  \u001b[39m | \u001b[39m0.1397   \u001b[39m | \u001b[39m0.0226   \u001b[39m | \u001b[39m0.5028   \u001b[39m | \u001b[39m0.2112   \u001b[39m | \u001b[39m0.3382   \u001b[39m |\n",
      "=========================================================================================================================================================================================================================\n",
      "Best Coefficients: [np.float64(0.8494459487912474), np.float64(0.6981087513633258), np.float64(0.24992891879597037), np.float64(0.10106118860175835), np.float64(0.13123791793790462), np.float64(0.13595383454997978), np.float64(0.733143297283683), np.float64(0.5997618229001812), np.float64(0.11687896295624906), np.float64(0.09085494705492332), np.float64(0.966823091839512), np.float64(0.02860599813796699), np.float64(0.4977945590181713), np.float64(0.22741784375666985), np.float64(0.23485845663099966), np.float64(0.10658447511889546)]\n",
      "Best Val Accuracy: 0.72\n",
      "Non-zero alphas: 6\n"
     ]
    },
    {
     "name": "stderr",
     "output_type": "stream",
     "text": [
      "Building TRAIN_KERNEL: 100%|██████████| 1225/1225 [00:43<00:00, 28.31it/s]\n"
     ]
    },
    {
     "name": "stdout",
     "output_type": "stream",
     "text": [
      "Train Accuracy: 0.94\n"
     ]
    },
    {
     "name": "stderr",
     "output_type": "stream",
     "text": [
      "Building TEST_KERNEL: 100%|██████████| 2500/2500 [01:19<00:00, 31.50it/s]\n"
     ]
    },
    {
     "name": "stdout",
     "output_type": "stream",
     "text": [
      "Validation Accuracy: 0.78\n"
     ]
    },
    {
     "name": "stderr",
     "output_type": "stream",
     "text": [
      "Building TEST_KERNEL: 100%|██████████| 5000/5000 [02:42<00:00, 30.77it/s]\n"
     ]
    },
    {
     "name": "stdout",
     "output_type": "stream",
     "text": [
      "Test Accuracy: 0.71\n",
      "Saving model...\n",
      "|   iter    |  target   |  coeff_0  |  coeff_1  | coeff_10  | coeff_11  | coeff_12  | coeff_13  | coeff_14  | coeff_15  |  coeff_2  |  coeff_3  |  coeff_4  |  coeff_5  |  coeff_6  |  coeff_7  |  coeff_8  |  coeff_9  |\n",
      "-------------------------------------------------------------------------------------------------------------------------------------------------------------------------------------------------------------------------\n",
      "Non-zero alphas: 7\n"
     ]
    },
    {
     "name": "stderr",
     "output_type": "stream",
     "text": [
      "Building TRAIN_KERNEL: 100%|██████████| 1225/1225 [00:46<00:00, 26.27it/s]\n",
      "Building TEST_KERNEL: 100%|██████████| 2500/2500 [01:34<00:00, 26.32it/s]\n"
     ]
    },
    {
     "name": "stdout",
     "output_type": "stream",
     "text": [
      "| \u001b[39m1        \u001b[39m | \u001b[39m0.48     \u001b[39m | \u001b[39m0.3745   \u001b[39m | \u001b[39m0.9507   \u001b[39m | \u001b[39m0.732    \u001b[39m | \u001b[39m0.5987   \u001b[39m | \u001b[39m0.156    \u001b[39m | \u001b[39m0.156    \u001b[39m | \u001b[39m0.05808  \u001b[39m | \u001b[39m0.8662   \u001b[39m | \u001b[39m0.6011   \u001b[39m | \u001b[39m0.7081   \u001b[39m | \u001b[39m0.02058  \u001b[39m | \u001b[39m0.9699   \u001b[39m | \u001b[39m0.8324   \u001b[39m | \u001b[39m0.2123   \u001b[39m | \u001b[39m0.1818   \u001b[39m | \u001b[39m0.1834   \u001b[39m |\n",
      "Non-zero alphas: 7\n"
     ]
    },
    {
     "name": "stderr",
     "output_type": "stream",
     "text": [
      "Building TRAIN_KERNEL: 100%|██████████| 1225/1225 [00:48<00:00, 25.17it/s]\n",
      "Building TEST_KERNEL: 100%|██████████| 2500/2500 [01:35<00:00, 26.08it/s]\n"
     ]
    },
    {
     "name": "stdout",
     "output_type": "stream",
     "text": [
      "| \u001b[39m2        \u001b[39m | \u001b[39m0.44     \u001b[39m | \u001b[39m0.3042   \u001b[39m | \u001b[39m0.5248   \u001b[39m | \u001b[39m0.4319   \u001b[39m | \u001b[39m0.2912   \u001b[39m | \u001b[39m0.6119   \u001b[39m | \u001b[39m0.1395   \u001b[39m | \u001b[39m0.2921   \u001b[39m | \u001b[39m0.3664   \u001b[39m | \u001b[39m0.4561   \u001b[39m | \u001b[39m0.7852   \u001b[39m | \u001b[39m0.1997   \u001b[39m | \u001b[39m0.5142   \u001b[39m | \u001b[39m0.5924   \u001b[39m | \u001b[39m0.04645  \u001b[39m | \u001b[39m0.6075   \u001b[39m | \u001b[39m0.1705   \u001b[39m |\n",
      "Non-zero alphas: 7\n"
     ]
    },
    {
     "name": "stderr",
     "output_type": "stream",
     "text": [
      "Building TRAIN_KERNEL: 100%|██████████| 1225/1225 [00:47<00:00, 25.66it/s]\n",
      "Building TEST_KERNEL: 100%|██████████| 2500/2500 [01:35<00:00, 26.09it/s]\n"
     ]
    },
    {
     "name": "stdout",
     "output_type": "stream",
     "text": [
      "| \u001b[35m3        \u001b[39m | \u001b[35m0.5      \u001b[39m | \u001b[35m0.06505  \u001b[39m | \u001b[35m0.9489   \u001b[39m | \u001b[35m0.9656   \u001b[39m | \u001b[35m0.8084   \u001b[39m | \u001b[35m0.3046   \u001b[39m | \u001b[35m0.09767  \u001b[39m | \u001b[35m0.6842   \u001b[39m | \u001b[35m0.4402   \u001b[39m | \u001b[35m0.122    \u001b[39m | \u001b[35m0.4952   \u001b[39m | \u001b[35m0.03439  \u001b[39m | \u001b[35m0.9093   \u001b[39m | \u001b[35m0.2588   \u001b[39m | \u001b[35m0.6625   \u001b[39m | \u001b[35m0.3117   \u001b[39m | \u001b[35m0.5201   \u001b[39m |\n",
      "Non-zero alphas: 7\n"
     ]
    },
    {
     "name": "stderr",
     "output_type": "stream",
     "text": [
      "Building TRAIN_KERNEL: 100%|██████████| 1225/1225 [00:48<00:00, 25.11it/s]\n",
      "Building TEST_KERNEL: 100%|██████████| 2500/2500 [01:32<00:00, 26.89it/s]\n"
     ]
    },
    {
     "name": "stdout",
     "output_type": "stream",
     "text": [
      "| \u001b[39m4        \u001b[39m | \u001b[39m0.5      \u001b[39m | \u001b[39m0.5467   \u001b[39m | \u001b[39m0.1849   \u001b[39m | \u001b[39m0.9696   \u001b[39m | \u001b[39m0.7751   \u001b[39m | \u001b[39m0.9395   \u001b[39m | \u001b[39m0.8948   \u001b[39m | \u001b[39m0.5979   \u001b[39m | \u001b[39m0.9219   \u001b[39m | \u001b[39m0.08849  \u001b[39m | \u001b[39m0.196    \u001b[39m | \u001b[39m0.04523  \u001b[39m | \u001b[39m0.3253   \u001b[39m | \u001b[39m0.3887   \u001b[39m | \u001b[39m0.2713   \u001b[39m | \u001b[39m0.8287   \u001b[39m | \u001b[39m0.3568   \u001b[39m |\n",
      "Non-zero alphas: 7\n"
     ]
    },
    {
     "name": "stderr",
     "output_type": "stream",
     "text": [
      "Building TRAIN_KERNEL: 100%|██████████| 1225/1225 [00:48<00:00, 25.43it/s]\n",
      "Building TEST_KERNEL: 100%|██████████| 2500/2500 [01:37<00:00, 25.62it/s]\n"
     ]
    },
    {
     "name": "stdout",
     "output_type": "stream",
     "text": [
      "| \u001b[39m5        \u001b[39m | \u001b[39m0.44     \u001b[39m | \u001b[39m0.2809   \u001b[39m | \u001b[39m0.5427   \u001b[39m | \u001b[39m0.1409   \u001b[39m | \u001b[39m0.8022   \u001b[39m | \u001b[39m0.07455  \u001b[39m | \u001b[39m0.9869   \u001b[39m | \u001b[39m0.7722   \u001b[39m | \u001b[39m0.1987   \u001b[39m | \u001b[39m0.005522 \u001b[39m | \u001b[39m0.8155   \u001b[39m | \u001b[39m0.7069   \u001b[39m | \u001b[39m0.729    \u001b[39m | \u001b[39m0.7713   \u001b[39m | \u001b[39m0.07404  \u001b[39m | \u001b[39m0.3585   \u001b[39m | \u001b[39m0.1159   \u001b[39m |\n",
      "Non-zero alphas: 7\n"
     ]
    },
    {
     "name": "stderr",
     "output_type": "stream",
     "text": [
      "Building TRAIN_KERNEL: 100%|██████████| 1225/1225 [00:45<00:00, 27.20it/s]\n",
      "Building TEST_KERNEL: 100%|██████████| 2500/2500 [01:36<00:00, 25.88it/s]\n"
     ]
    },
    {
     "name": "stdout",
     "output_type": "stream",
     "text": [
      "| \u001b[39m6        \u001b[39m | \u001b[39m0.48     \u001b[39m | \u001b[39m0.3574   \u001b[39m | \u001b[39m0.8674   \u001b[39m | \u001b[39m0.6049   \u001b[39m | \u001b[39m0.7791   \u001b[39m | \u001b[39m0.1146   \u001b[39m | \u001b[39m0.3133   \u001b[39m | \u001b[39m0.3886   \u001b[39m | \u001b[39m0.86     \u001b[39m | \u001b[39m0.6644   \u001b[39m | \u001b[39m0.4905   \u001b[39m | \u001b[39m0.3005   \u001b[39m | \u001b[39m0.7599   \u001b[39m | \u001b[39m0.8883   \u001b[39m | \u001b[39m0.5368   \u001b[39m | \u001b[39m0.04343  \u001b[39m | \u001b[39m0.2719   \u001b[39m |\n",
      "Non-zero alphas: 7\n"
     ]
    },
    {
     "name": "stderr",
     "output_type": "stream",
     "text": [
      "Building TRAIN_KERNEL: 100%|██████████| 1225/1225 [00:48<00:00, 25.18it/s]\n",
      "Building TEST_KERNEL: 100%|██████████| 2500/2500 [01:35<00:00, 26.13it/s]\n"
     ]
    },
    {
     "name": "stdout",
     "output_type": "stream",
     "text": [
      "| \u001b[39m7        \u001b[39m | \u001b[39m0.5      \u001b[39m | \u001b[39m0.3075   \u001b[39m | \u001b[39m0.5991   \u001b[39m | \u001b[39m1.0      \u001b[39m | \u001b[39m0.8867   \u001b[39m | \u001b[39m0.6273   \u001b[39m | \u001b[39m0.5214   \u001b[39m | \u001b[39m0.6819   \u001b[39m | \u001b[39m0.7794   \u001b[39m | \u001b[39m0.06678  \u001b[39m | \u001b[39m0.2446   \u001b[39m | \u001b[39m0.0      \u001b[39m | \u001b[39m0.6484   \u001b[39m | \u001b[39m0.2701   \u001b[39m | \u001b[39m0.5713   \u001b[39m | \u001b[39m0.5485   \u001b[39m | \u001b[39m0.5008   \u001b[39m |\n",
      "Non-zero alphas: 7\n"
     ]
    },
    {
     "name": "stderr",
     "output_type": "stream",
     "text": [
      "Building TRAIN_KERNEL: 100%|██████████| 1225/1225 [00:48<00:00, 25.25it/s]\n",
      "Building TEST_KERNEL: 100%|██████████| 2500/2500 [01:34<00:00, 26.55it/s]\n"
     ]
    },
    {
     "name": "stdout",
     "output_type": "stream",
     "text": [
      "| \u001b[39m8        \u001b[39m | \u001b[39m0.44     \u001b[39m | \u001b[39m1.0      \u001b[39m | \u001b[39m0.4339   \u001b[39m | \u001b[39m1.0      \u001b[39m | \u001b[39m1.0      \u001b[39m | \u001b[39m1.0      \u001b[39m | \u001b[39m1.0      \u001b[39m | \u001b[39m1.0      \u001b[39m | \u001b[39m1.0      \u001b[39m | \u001b[39m0.0      \u001b[39m | \u001b[39m0.0      \u001b[39m | \u001b[39m0.0      \u001b[39m | \u001b[39m0.3711   \u001b[39m | \u001b[39m0.0      \u001b[39m | \u001b[39m1.0      \u001b[39m | \u001b[39m1.0      \u001b[39m | \u001b[39m1.0      \u001b[39m |\n",
      "Non-zero alphas: 7\n"
     ]
    },
    {
     "name": "stderr",
     "output_type": "stream",
     "text": [
      "Building TRAIN_KERNEL: 100%|██████████| 1225/1225 [00:42<00:00, 29.02it/s]\n",
      "Building TEST_KERNEL: 100%|██████████| 2500/2500 [01:36<00:00, 25.88it/s]\n"
     ]
    },
    {
     "name": "stdout",
     "output_type": "stream",
     "text": [
      "| \u001b[39m9        \u001b[39m | \u001b[39m0.5      \u001b[39m | \u001b[39m0.03701  \u001b[39m | \u001b[39m0.2819   \u001b[39m | \u001b[39m1.0      \u001b[39m | \u001b[39m1.0      \u001b[39m | \u001b[39m0.8472   \u001b[39m | \u001b[39m0.7119   \u001b[39m | \u001b[39m0.4498   \u001b[39m | \u001b[39m1.0      \u001b[39m | \u001b[39m0.0      \u001b[39m | \u001b[39m0.0      \u001b[39m | \u001b[39m0.0      \u001b[39m | \u001b[39m0.5565   \u001b[39m | \u001b[39m0.3758   \u001b[39m | \u001b[39m0.268    \u001b[39m | \u001b[39m0.4818   \u001b[39m | \u001b[39m0.1628   \u001b[39m |\n",
      "Non-zero alphas: 7\n"
     ]
    },
    {
     "name": "stderr",
     "output_type": "stream",
     "text": [
      "Building TRAIN_KERNEL: 100%|██████████| 1225/1225 [00:44<00:00, 27.68it/s]\n",
      "Building TEST_KERNEL: 100%|██████████| 2500/2500 [01:35<00:00, 26.25it/s]\n"
     ]
    },
    {
     "name": "stdout",
     "output_type": "stream",
     "text": [
      "| \u001b[39m10       \u001b[39m | \u001b[39m0.5      \u001b[39m | \u001b[39m0.0      \u001b[39m | \u001b[39m0.9614   \u001b[39m | \u001b[39m1.0      \u001b[39m | \u001b[39m1.0      \u001b[39m | \u001b[39m0.5009   \u001b[39m | \u001b[39m0.162    \u001b[39m | \u001b[39m0.2777   \u001b[39m | \u001b[39m1.0      \u001b[39m | \u001b[39m0.0      \u001b[39m | \u001b[39m0.0      \u001b[39m | \u001b[39m0.0      \u001b[39m | \u001b[39m1.0      \u001b[39m | \u001b[39m0.05414  \u001b[39m | \u001b[39m0.7347   \u001b[39m | \u001b[39m0.0      \u001b[39m | \u001b[39m0.3187   \u001b[39m |\n",
      "Non-zero alphas: 7\n"
     ]
    },
    {
     "name": "stderr",
     "output_type": "stream",
     "text": [
      "Building TRAIN_KERNEL: 100%|██████████| 1225/1225 [00:49<00:00, 24.91it/s]\n",
      "Building TEST_KERNEL: 100%|██████████| 2500/2500 [01:35<00:00, 26.10it/s]\n"
     ]
    },
    {
     "name": "stdout",
     "output_type": "stream",
     "text": [
      "| \u001b[39m11       \u001b[39m | \u001b[39m0.5      \u001b[39m | \u001b[39m0.001498 \u001b[39m | \u001b[39m0.9535   \u001b[39m | \u001b[39m0.8923   \u001b[39m | \u001b[39m0.9823   \u001b[39m | \u001b[39m0.9194   \u001b[39m | \u001b[39m0.4033   \u001b[39m | \u001b[39m0.1      \u001b[39m | \u001b[39m0.9349   \u001b[39m | \u001b[39m0.1867   \u001b[39m | \u001b[39m0.07252  \u001b[39m | \u001b[39m0.3534   \u001b[39m | \u001b[39m0.9649   \u001b[39m | \u001b[39m0.7835   \u001b[39m | \u001b[39m0.6615   \u001b[39m | \u001b[39m0.137    \u001b[39m | \u001b[39m0.9011   \u001b[39m |\n",
      "Non-zero alphas: 7\n"
     ]
    },
    {
     "name": "stderr",
     "output_type": "stream",
     "text": [
      "Building TRAIN_KERNEL: 100%|██████████| 1225/1225 [00:47<00:00, 26.06it/s]\n",
      "Building TEST_KERNEL: 100%|██████████| 2500/2500 [01:34<00:00, 26.53it/s]\n"
     ]
    },
    {
     "name": "stdout",
     "output_type": "stream",
     "text": [
      "| \u001b[39m12       \u001b[39m | \u001b[39m0.46     \u001b[39m | \u001b[39m0.0      \u001b[39m | \u001b[39m1.0      \u001b[39m | \u001b[39m1.0      \u001b[39m | \u001b[39m1.0      \u001b[39m | \u001b[39m0.6872   \u001b[39m | \u001b[39m0.0      \u001b[39m | \u001b[39m0.0      \u001b[39m | \u001b[39m0.0      \u001b[39m | \u001b[39m0.0      \u001b[39m | \u001b[39m0.0      \u001b[39m | \u001b[39m0.0      \u001b[39m | \u001b[39m1.0      \u001b[39m | \u001b[39m0.2129   \u001b[39m | \u001b[39m1.0      \u001b[39m | \u001b[39m0.0      \u001b[39m | \u001b[39m1.0      \u001b[39m |\n",
      "Non-zero alphas: 7\n"
     ]
    },
    {
     "name": "stderr",
     "output_type": "stream",
     "text": [
      "Building TRAIN_KERNEL: 100%|██████████| 1225/1225 [00:48<00:00, 25.31it/s]\n",
      "Building TEST_KERNEL: 100%|██████████| 2500/2500 [01:35<00:00, 26.23it/s]\n"
     ]
    },
    {
     "name": "stdout",
     "output_type": "stream",
     "text": [
      "| \u001b[39m13       \u001b[39m | \u001b[39m0.5      \u001b[39m | \u001b[39m0.0      \u001b[39m | \u001b[39m1.0      \u001b[39m | \u001b[39m1.0      \u001b[39m | \u001b[39m1.0      \u001b[39m | \u001b[39m0.7184   \u001b[39m | \u001b[39m0.1176   \u001b[39m | \u001b[39m0.9653   \u001b[39m | \u001b[39m1.0      \u001b[39m | \u001b[39m0.0      \u001b[39m | \u001b[39m0.0      \u001b[39m | \u001b[39m0.0      \u001b[39m | \u001b[39m1.0      \u001b[39m | \u001b[39m0.7343   \u001b[39m | \u001b[39m0.3899   \u001b[39m | \u001b[39m0.2114   \u001b[39m | \u001b[39m0.4625   \u001b[39m |\n",
      "Non-zero alphas: 7\n"
     ]
    },
    {
     "name": "stderr",
     "output_type": "stream",
     "text": [
      "Building TRAIN_KERNEL: 100%|██████████| 1225/1225 [00:48<00:00, 25.06it/s]\n",
      "Building TEST_KERNEL: 100%|██████████| 2500/2500 [01:34<00:00, 26.40it/s]\n"
     ]
    },
    {
     "name": "stdout",
     "output_type": "stream",
     "text": [
      "| \u001b[39m14       \u001b[39m | \u001b[39m0.5      \u001b[39m | \u001b[39m0.0      \u001b[39m | \u001b[39m1.0      \u001b[39m | \u001b[39m1.0      \u001b[39m | \u001b[39m1.0      \u001b[39m | \u001b[39m0.4729   \u001b[39m | \u001b[39m0.5972   \u001b[39m | \u001b[39m0.6501   \u001b[39m | \u001b[39m1.0      \u001b[39m | \u001b[39m0.4755   \u001b[39m | \u001b[39m0.122    \u001b[39m | \u001b[39m0.0      \u001b[39m | \u001b[39m1.0      \u001b[39m | \u001b[39m0.06875  \u001b[39m | \u001b[39m0.02132  \u001b[39m | \u001b[39m0.08137  \u001b[39m | \u001b[39m0.8445   \u001b[39m |\n",
      "Non-zero alphas: 7\n"
     ]
    },
    {
     "name": "stderr",
     "output_type": "stream",
     "text": [
      "Building TRAIN_KERNEL: 100%|██████████| 1225/1225 [00:48<00:00, 25.22it/s]\n",
      "Building TEST_KERNEL: 100%|██████████| 2500/2500 [01:31<00:00, 27.26it/s]\n"
     ]
    },
    {
     "name": "stdout",
     "output_type": "stream",
     "text": [
      "| \u001b[39m15       \u001b[39m | \u001b[39m0.46     \u001b[39m | \u001b[39m0.0      \u001b[39m | \u001b[39m0.1653   \u001b[39m | \u001b[39m1.0      \u001b[39m | \u001b[39m1.0      \u001b[39m | \u001b[39m1.0      \u001b[39m | \u001b[39m0.9577   \u001b[39m | \u001b[39m0.5385   \u001b[39m | \u001b[39m1.0      \u001b[39m | \u001b[39m0.3335   \u001b[39m | \u001b[39m0.0      \u001b[39m | \u001b[39m0.0      \u001b[39m | \u001b[39m1.0      \u001b[39m | \u001b[39m1.0      \u001b[39m | \u001b[39m0.07207  \u001b[39m | \u001b[39m0.0      \u001b[39m | \u001b[39m1.0      \u001b[39m |\n",
      "Non-zero alphas: 7\n"
     ]
    },
    {
     "name": "stderr",
     "output_type": "stream",
     "text": [
      "Building TRAIN_KERNEL: 100%|██████████| 1225/1225 [00:47<00:00, 25.73it/s]\n",
      "Building TEST_KERNEL: 100%|██████████| 2500/2500 [01:36<00:00, 25.80it/s]\n"
     ]
    },
    {
     "name": "stdout",
     "output_type": "stream",
     "text": [
      "| \u001b[35m16       \u001b[39m | \u001b[35m0.54     \u001b[39m | \u001b[35m0.0      \u001b[39m | \u001b[35m1.0      \u001b[39m | \u001b[35m1.0      \u001b[39m | \u001b[35m1.0      \u001b[39m | \u001b[35m0.4013   \u001b[39m | \u001b[35m0.1652   \u001b[39m | \u001b[35m0.4334   \u001b[39m | \u001b[35m1.0      \u001b[39m | \u001b[35m0.09954  \u001b[39m | \u001b[35m0.0      \u001b[39m | \u001b[35m0.3722   \u001b[39m | \u001b[35m1.0      \u001b[39m | \u001b[35m0.2091   \u001b[39m | \u001b[35m0.2959   \u001b[39m | \u001b[35m0.8282   \u001b[39m | \u001b[35m0.5217   \u001b[39m |\n",
      "Non-zero alphas: 7\n"
     ]
    },
    {
     "name": "stderr",
     "output_type": "stream",
     "text": [
      "Building TRAIN_KERNEL: 100%|██████████| 1225/1225 [00:44<00:00, 27.24it/s]\n",
      "Building TEST_KERNEL: 100%|██████████| 2500/2500 [01:36<00:00, 26.00it/s]\n"
     ]
    },
    {
     "name": "stdout",
     "output_type": "stream",
     "text": [
      "| \u001b[39m17       \u001b[39m | \u001b[39m0.46     \u001b[39m | \u001b[39m0.001789 \u001b[39m | \u001b[39m0.6473   \u001b[39m | \u001b[39m0.8614   \u001b[39m | \u001b[39m0.6718   \u001b[39m | \u001b[39m0.3229   \u001b[39m | \u001b[39m0.2771   \u001b[39m | \u001b[39m0.3066   \u001b[39m | \u001b[39m0.9805   \u001b[39m | \u001b[39m0.4998   \u001b[39m | \u001b[39m0.1053   \u001b[39m | \u001b[39m0.5935   \u001b[39m | \u001b[39m0.7123   \u001b[39m | \u001b[39m0.2027   \u001b[39m | \u001b[39m0.6547   \u001b[39m | \u001b[39m0.5313   \u001b[39m | \u001b[39m0.7575   \u001b[39m |\n",
      "Non-zero alphas: 7\n"
     ]
    },
    {
     "name": "stderr",
     "output_type": "stream",
     "text": [
      "Building TRAIN_KERNEL: 100%|██████████| 1225/1225 [00:48<00:00, 25.14it/s]\n",
      "Building TEST_KERNEL: 100%|██████████| 2500/2500 [01:36<00:00, 26.04it/s]\n"
     ]
    },
    {
     "name": "stdout",
     "output_type": "stream",
     "text": [
      "| \u001b[39m18       \u001b[39m | \u001b[39m0.48     \u001b[39m | \u001b[39m0.2204   \u001b[39m | \u001b[39m0.3533   \u001b[39m | \u001b[39m0.004992 \u001b[39m | \u001b[39m0.7255   \u001b[39m | \u001b[39m0.6118   \u001b[39m | \u001b[39m0.2944   \u001b[39m | \u001b[39m0.2215   \u001b[39m | \u001b[39m0.6808   \u001b[39m | \u001b[39m0.4829   \u001b[39m | \u001b[39m0.7047   \u001b[39m | \u001b[39m0.181    \u001b[39m | \u001b[39m0.7168   \u001b[39m | \u001b[39m0.412    \u001b[39m | \u001b[39m0.7767   \u001b[39m | \u001b[39m0.4099   \u001b[39m | \u001b[39m0.2025   \u001b[39m |\n",
      "Non-zero alphas: 7\n"
     ]
    },
    {
     "name": "stderr",
     "output_type": "stream",
     "text": [
      "Building TRAIN_KERNEL: 100%|██████████| 1225/1225 [00:46<00:00, 26.57it/s]\n",
      "Building TEST_KERNEL: 100%|██████████| 2500/2500 [01:25<00:00, 29.20it/s]\n"
     ]
    },
    {
     "name": "stdout",
     "output_type": "stream",
     "text": [
      "| \u001b[39m19       \u001b[39m | \u001b[39m0.5      \u001b[39m | \u001b[39m0.6678   \u001b[39m | \u001b[39m0.9769   \u001b[39m | \u001b[39m0.9683   \u001b[39m | \u001b[39m0.9768   \u001b[39m | \u001b[39m0.1538   \u001b[39m | \u001b[39m0.578    \u001b[39m | \u001b[39m0.7064   \u001b[39m | \u001b[39m0.7048   \u001b[39m | \u001b[39m0.1736   \u001b[39m | \u001b[39m0.1802   \u001b[39m | \u001b[39m0.4801   \u001b[39m | \u001b[39m0.9379   \u001b[39m | \u001b[39m0.5274   \u001b[39m | \u001b[39m0.5641   \u001b[39m | \u001b[39m0.9067   \u001b[39m | \u001b[39m0.2784   \u001b[39m |\n",
      "Non-zero alphas: 7\n"
     ]
    },
    {
     "name": "stderr",
     "output_type": "stream",
     "text": [
      "Building TRAIN_KERNEL: 100%|██████████| 1225/1225 [00:45<00:00, 27.07it/s]\n",
      "Building TEST_KERNEL: 100%|██████████| 2500/2500 [01:32<00:00, 27.07it/s]\n"
     ]
    },
    {
     "name": "stdout",
     "output_type": "stream",
     "text": [
      "| \u001b[39m20       \u001b[39m | \u001b[39m0.48     \u001b[39m | \u001b[39m0.2188   \u001b[39m | \u001b[39m0.847    \u001b[39m | \u001b[39m0.509    \u001b[39m | \u001b[39m0.9069   \u001b[39m | \u001b[39m0.584    \u001b[39m | \u001b[39m0.0393   \u001b[39m | \u001b[39m0.7614   \u001b[39m | \u001b[39m0.979    \u001b[39m | \u001b[39m0.03317  \u001b[39m | \u001b[39m0.04409  \u001b[39m | \u001b[39m0.5196   \u001b[39m | \u001b[39m0.6058   \u001b[39m | \u001b[39m0.1188   \u001b[39m | \u001b[39m0.2079   \u001b[39m | \u001b[39m0.277    \u001b[39m | \u001b[39m0.322    \u001b[39m |\n",
      "Non-zero alphas: 7\n"
     ]
    },
    {
     "name": "stderr",
     "output_type": "stream",
     "text": [
      "Building TRAIN_KERNEL: 100%|██████████| 1225/1225 [00:44<00:00, 27.41it/s]\n",
      "Building TEST_KERNEL: 100%|██████████| 2500/2500 [01:30<00:00, 27.75it/s]\n"
     ]
    },
    {
     "name": "stdout",
     "output_type": "stream",
     "text": [
      "| \u001b[39m21       \u001b[39m | \u001b[39m0.46     \u001b[39m | \u001b[39m0.3993   \u001b[39m | \u001b[39m0.9931   \u001b[39m | \u001b[39m0.8091   \u001b[39m | \u001b[39m0.7044   \u001b[39m | \u001b[39m0.6311   \u001b[39m | \u001b[39m0.8556   \u001b[39m | \u001b[39m0.3179   \u001b[39m | \u001b[39m0.9658   \u001b[39m | \u001b[39m0.0008694\u001b[39m | \u001b[39m0.09904  \u001b[39m | \u001b[39m0.1537   \u001b[39m | \u001b[39m0.3791   \u001b[39m | \u001b[39m0.3409   \u001b[39m | \u001b[39m0.07829  \u001b[39m | \u001b[39m0.838    \u001b[39m | \u001b[39m0.2294   \u001b[39m |\n",
      "Non-zero alphas: 7\n"
     ]
    },
    {
     "name": "stderr",
     "output_type": "stream",
     "text": [
      "Building TRAIN_KERNEL: 100%|██████████| 1225/1225 [00:46<00:00, 26.26it/s]\n",
      "Building TEST_KERNEL: 100%|██████████| 2500/2500 [01:31<00:00, 27.42it/s]\n"
     ]
    },
    {
     "name": "stdout",
     "output_type": "stream",
     "text": [
      "| \u001b[39m22       \u001b[39m | \u001b[39m0.46     \u001b[39m | \u001b[39m0.8644   \u001b[39m | \u001b[39m0.2073   \u001b[39m | \u001b[39m0.9433   \u001b[39m | \u001b[39m0.701    \u001b[39m | \u001b[39m0.6888   \u001b[39m | \u001b[39m0.8127   \u001b[39m | \u001b[39m0.6433   \u001b[39m | \u001b[39m0.8143   \u001b[39m | \u001b[39m0.1163   \u001b[39m | \u001b[39m0.4495   \u001b[39m | \u001b[39m0.1423   \u001b[39m | \u001b[39m0.06545  \u001b[39m | \u001b[39m0.4225   \u001b[39m | \u001b[39m0.07191  \u001b[39m | \u001b[39m0.8211   \u001b[39m | \u001b[39m0.6509   \u001b[39m |\n",
      "Non-zero alphas: 7\n"
     ]
    },
    {
     "name": "stderr",
     "output_type": "stream",
     "text": [
      "Building TRAIN_KERNEL: 100%|██████████| 1225/1225 [00:46<00:00, 26.53it/s]\n",
      "Building TEST_KERNEL: 100%|██████████| 2500/2500 [01:31<00:00, 27.41it/s]\n"
     ]
    },
    {
     "name": "stdout",
     "output_type": "stream",
     "text": [
      "| \u001b[39m23       \u001b[39m | \u001b[39m0.5      \u001b[39m | \u001b[39m0.5999   \u001b[39m | \u001b[39m0.9287   \u001b[39m | \u001b[39m0.3202   \u001b[39m | \u001b[39m0.635    \u001b[39m | \u001b[39m0.783    \u001b[39m | \u001b[39m0.1473   \u001b[39m | \u001b[39m0.7643   \u001b[39m | \u001b[39m0.4941   \u001b[39m | \u001b[39m0.02113  \u001b[39m | \u001b[39m0.2304   \u001b[39m | \u001b[39m0.37     \u001b[39m | \u001b[39m0.0893   \u001b[39m | \u001b[39m0.04689  \u001b[39m | \u001b[39m0.4207   \u001b[39m | \u001b[39m0.3109   \u001b[39m | \u001b[39m0.3666   \u001b[39m |\n",
      "Non-zero alphas: 7\n"
     ]
    },
    {
     "name": "stderr",
     "output_type": "stream",
     "text": [
      "Building TRAIN_KERNEL: 100%|██████████| 1225/1225 [00:45<00:00, 26.66it/s]\n",
      "Building TEST_KERNEL: 100%|██████████| 2500/2500 [01:31<00:00, 27.32it/s]\n"
     ]
    },
    {
     "name": "stdout",
     "output_type": "stream",
     "text": [
      "| \u001b[39m24       \u001b[39m | \u001b[39m0.46     \u001b[39m | \u001b[39m0.05572  \u001b[39m | \u001b[39m0.6186   \u001b[39m | \u001b[39m0.746    \u001b[39m | \u001b[39m0.5836   \u001b[39m | \u001b[39m0.2076   \u001b[39m | \u001b[39m0.6248   \u001b[39m | \u001b[39m0.4647   \u001b[39m | \u001b[39m0.5463   \u001b[39m | \u001b[39m0.04458  \u001b[39m | \u001b[39m0.1464   \u001b[39m | \u001b[39m0.3253   \u001b[39m | \u001b[39m0.5966   \u001b[39m | \u001b[39m0.6053   \u001b[39m | \u001b[39m0.7523   \u001b[39m | \u001b[39m0.549    \u001b[39m | \u001b[39m0.5289   \u001b[39m |\n",
      "Non-zero alphas: 7\n"
     ]
    },
    {
     "name": "stderr",
     "output_type": "stream",
     "text": [
      "Building TRAIN_KERNEL: 100%|██████████| 1225/1225 [00:44<00:00, 27.54it/s]\n",
      "Building TEST_KERNEL: 100%|██████████| 2500/2500 [01:32<00:00, 27.08it/s]\n"
     ]
    },
    {
     "name": "stdout",
     "output_type": "stream",
     "text": [
      "| \u001b[39m25       \u001b[39m | \u001b[39m0.54     \u001b[39m | \u001b[39m0.2918   \u001b[39m | \u001b[39m0.9933   \u001b[39m | \u001b[39m0.6162   \u001b[39m | \u001b[39m0.1704   \u001b[39m | \u001b[39m0.5959   \u001b[39m | \u001b[39m0.1138   \u001b[39m | \u001b[39m0.6047   \u001b[39m | \u001b[39m0.7634   \u001b[39m | \u001b[39m0.3989   \u001b[39m | \u001b[39m0.4102   \u001b[39m | \u001b[39m0.6913   \u001b[39m | \u001b[39m0.9013   \u001b[39m | \u001b[39m0.9394   \u001b[39m | \u001b[39m0.03754  \u001b[39m | \u001b[39m0.4325   \u001b[39m | \u001b[39m0.4857   \u001b[39m |\n",
      "Non-zero alphas: 7\n"
     ]
    },
    {
     "name": "stderr",
     "output_type": "stream",
     "text": [
      "Building TRAIN_KERNEL: 100%|██████████| 1225/1225 [00:44<00:00, 27.32it/s]\n",
      "Building TEST_KERNEL: 100%|██████████| 2500/2500 [01:33<00:00, 26.78it/s]\n"
     ]
    },
    {
     "name": "stdout",
     "output_type": "stream",
     "text": [
      "| \u001b[39m26       \u001b[39m | \u001b[39m0.52     \u001b[39m | \u001b[39m0.4892   \u001b[39m | \u001b[39m0.2586   \u001b[39m | \u001b[39m0.3416   \u001b[39m | \u001b[39m0.8598   \u001b[39m | \u001b[39m0.07477  \u001b[39m | \u001b[39m0.7394   \u001b[39m | \u001b[39m0.5796   \u001b[39m | \u001b[39m0.6912   \u001b[39m | \u001b[39m0.1403   \u001b[39m | \u001b[39m0.6253   \u001b[39m | \u001b[39m0.8636   \u001b[39m | \u001b[39m0.5237   \u001b[39m | \u001b[39m0.7512   \u001b[39m | \u001b[39m0.7249   \u001b[39m | \u001b[39m0.5371   \u001b[39m | \u001b[39m0.8393   \u001b[39m |\n",
      "Non-zero alphas: 7\n"
     ]
    },
    {
     "name": "stderr",
     "output_type": "stream",
     "text": [
      "Building TRAIN_KERNEL: 100%|██████████| 1225/1225 [00:46<00:00, 26.49it/s]\n",
      "Building TEST_KERNEL: 100%|██████████| 2500/2500 [01:29<00:00, 27.86it/s]\n"
     ]
    },
    {
     "name": "stdout",
     "output_type": "stream",
     "text": [
      "| \u001b[39m27       \u001b[39m | \u001b[39m0.48     \u001b[39m | \u001b[39m0.09818  \u001b[39m | \u001b[39m0.7689   \u001b[39m | \u001b[39m0.009608 \u001b[39m | \u001b[39m0.422    \u001b[39m | \u001b[39m0.1105   \u001b[39m | \u001b[39m0.8875   \u001b[39m | \u001b[39m0.6212   \u001b[39m | \u001b[39m0.07029  \u001b[39m | \u001b[39m0.9199   \u001b[39m | \u001b[39m0.7059   \u001b[39m | \u001b[39m0.1872   \u001b[39m | \u001b[39m0.7392   \u001b[39m | \u001b[39m0.4586   \u001b[39m | \u001b[39m0.3119   \u001b[39m | \u001b[39m0.1317   \u001b[39m | \u001b[39m0.003327 \u001b[39m |\n",
      "Non-zero alphas: 7\n"
     ]
    },
    {
     "name": "stderr",
     "output_type": "stream",
     "text": [
      "Building TRAIN_KERNEL: 100%|██████████| 1225/1225 [00:46<00:00, 26.52it/s]\n",
      "Building TEST_KERNEL: 100%|██████████| 2500/2500 [01:31<00:00, 27.39it/s]\n"
     ]
    },
    {
     "name": "stdout",
     "output_type": "stream",
     "text": [
      "| \u001b[39m28       \u001b[39m | \u001b[39m0.48     \u001b[39m | \u001b[39m0.1696   \u001b[39m | \u001b[39m0.9769   \u001b[39m | \u001b[39m0.8451   \u001b[39m | \u001b[39m0.5408   \u001b[39m | \u001b[39m0.9243   \u001b[39m | \u001b[39m0.6075   \u001b[39m | \u001b[39m0.5093   \u001b[39m | \u001b[39m0.2639   \u001b[39m | \u001b[39m0.8233   \u001b[39m | \u001b[39m0.4961   \u001b[39m | \u001b[39m0.2494   \u001b[39m | \u001b[39m0.4792   \u001b[39m | \u001b[39m0.8759   \u001b[39m | \u001b[39m0.8371   \u001b[39m | \u001b[39m0.3395   \u001b[39m | \u001b[39m0.2934   \u001b[39m |\n",
      "Non-zero alphas: 7\n"
     ]
    },
    {
     "name": "stderr",
     "output_type": "stream",
     "text": [
      "Building TRAIN_KERNEL: 100%|██████████| 1225/1225 [00:44<00:00, 27.60it/s]\n",
      "Building TEST_KERNEL: 100%|██████████| 2500/2500 [01:30<00:00, 27.56it/s]\n"
     ]
    },
    {
     "name": "stdout",
     "output_type": "stream",
     "text": [
      "| \u001b[39m29       \u001b[39m | \u001b[39m0.46     \u001b[39m | \u001b[39m0.5824   \u001b[39m | \u001b[39m0.1498   \u001b[39m | \u001b[39m0.1665   \u001b[39m | \u001b[39m0.2812   \u001b[39m | \u001b[39m0.649    \u001b[39m | \u001b[39m0.5298   \u001b[39m | \u001b[39m0.7272   \u001b[39m | \u001b[39m0.9472   \u001b[39m | \u001b[39m0.1197   \u001b[39m | \u001b[39m0.05265  \u001b[39m | \u001b[39m0.5273   \u001b[39m | \u001b[39m0.7674   \u001b[39m | \u001b[39m0.4109   \u001b[39m | \u001b[39m0.5427   \u001b[39m | \u001b[39m0.2697   \u001b[39m | \u001b[39m0.2026   \u001b[39m |\n",
      "Non-zero alphas: 7\n"
     ]
    },
    {
     "name": "stderr",
     "output_type": "stream",
     "text": [
      "Building TRAIN_KERNEL: 100%|██████████| 1225/1225 [00:47<00:00, 26.05it/s]\n",
      "Building TEST_KERNEL: 100%|██████████| 2500/2500 [01:29<00:00, 27.84it/s]\n"
     ]
    },
    {
     "name": "stdout",
     "output_type": "stream",
     "text": [
      "| \u001b[39m30       \u001b[39m | \u001b[39m0.54     \u001b[39m | \u001b[39m0.5692   \u001b[39m | \u001b[39m0.7647   \u001b[39m | \u001b[39m0.1543   \u001b[39m | \u001b[39m0.8688   \u001b[39m | \u001b[39m0.9758   \u001b[39m | \u001b[39m0.8985   \u001b[39m | \u001b[39m0.9844   \u001b[39m | \u001b[39m0.5857   \u001b[39m | \u001b[39m0.3596   \u001b[39m | \u001b[39m0.8363   \u001b[39m | \u001b[39m0.721    \u001b[39m | \u001b[39m0.2059   \u001b[39m | \u001b[39m0.2133   \u001b[39m | \u001b[39m0.5445   \u001b[39m | \u001b[39m0.007826 \u001b[39m | \u001b[39m0.3605   \u001b[39m |\n",
      "=========================================================================================================================================================================================================================\n",
      "Best Coefficients: [np.float64(0.0), np.float64(1.0), np.float64(0.09953922541789498), np.float64(0.0), np.float64(0.3722496659540305), np.float64(1.0), np.float64(0.2090814270042888), np.float64(0.2959087896120482), np.float64(0.8282118750498317), np.float64(0.5217439555287846), np.float64(1.0), np.float64(1.0), np.float64(0.40133169560301984), np.float64(0.16523525242541973), np.float64(0.4334403358569306), np.float64(1.0)]\n",
      "Best Val Accuracy: 0.54\n",
      "Non-zero alphas: 7\n"
     ]
    },
    {
     "name": "stderr",
     "output_type": "stream",
     "text": [
      "Building TRAIN_KERNEL: 100%|██████████| 1225/1225 [00:48<00:00, 25.35it/s]\n"
     ]
    },
    {
     "name": "stdout",
     "output_type": "stream",
     "text": [
      "Train Accuracy: 0.7\n"
     ]
    },
    {
     "name": "stderr",
     "output_type": "stream",
     "text": [
      "Building TEST_KERNEL: 100%|██████████| 2500/2500 [01:30<00:00, 27.50it/s]\n"
     ]
    },
    {
     "name": "stdout",
     "output_type": "stream",
     "text": [
      "Validation Accuracy: 0.52\n"
     ]
    },
    {
     "name": "stderr",
     "output_type": "stream",
     "text": [
      "Building TEST_KERNEL: 100%|██████████| 5000/5000 [03:03<00:00, 27.24it/s]\n"
     ]
    },
    {
     "name": "stdout",
     "output_type": "stream",
     "text": [
      "Test Accuracy: 0.62\n",
      "Saving model...\n",
      "|   iter    |  target   |  coeff_0  |  coeff_1  | coeff_10  | coeff_11  | coeff_12  | coeff_13  | coeff_14  | coeff_15  |  coeff_2  |  coeff_3  |  coeff_4  |  coeff_5  |  coeff_6  |  coeff_7  |  coeff_8  |  coeff_9  |\n",
      "-------------------------------------------------------------------------------------------------------------------------------------------------------------------------------------------------------------------------\n",
      "Non-zero alphas: 6\n"
     ]
    },
    {
     "name": "stderr",
     "output_type": "stream",
     "text": [
      "Building TRAIN_KERNEL: 100%|██████████| 1225/1225 [00:35<00:00, 34.92it/s]\n",
      "Building TEST_KERNEL: 100%|██████████| 2500/2500 [01:19<00:00, 31.35it/s]\n"
     ]
    },
    {
     "name": "stdout",
     "output_type": "stream",
     "text": [
      "| \u001b[39m1        \u001b[39m | \u001b[39m0.62     \u001b[39m | \u001b[39m0.3745   \u001b[39m | \u001b[39m0.9507   \u001b[39m | \u001b[39m0.732    \u001b[39m | \u001b[39m0.5987   \u001b[39m | \u001b[39m0.156    \u001b[39m | \u001b[39m0.156    \u001b[39m | \u001b[39m0.05808  \u001b[39m | \u001b[39m0.8662   \u001b[39m | \u001b[39m0.6011   \u001b[39m | \u001b[39m0.7081   \u001b[39m | \u001b[39m0.02058  \u001b[39m | \u001b[39m0.9699   \u001b[39m | \u001b[39m0.8324   \u001b[39m | \u001b[39m0.2123   \u001b[39m | \u001b[39m0.1818   \u001b[39m | \u001b[39m0.1834   \u001b[39m |\n",
      "Non-zero alphas: 6\n"
     ]
    },
    {
     "name": "stderr",
     "output_type": "stream",
     "text": [
      "Building TRAIN_KERNEL: 100%|██████████| 1225/1225 [00:39<00:00, 31.06it/s]\n",
      "Building TEST_KERNEL: 100%|██████████| 2500/2500 [01:18<00:00, 31.90it/s]\n"
     ]
    },
    {
     "name": "stdout",
     "output_type": "stream",
     "text": [
      "| \u001b[35m2        \u001b[39m | \u001b[35m0.66     \u001b[39m | \u001b[35m0.3042   \u001b[39m | \u001b[35m0.5248   \u001b[39m | \u001b[35m0.4319   \u001b[39m | \u001b[35m0.2912   \u001b[39m | \u001b[35m0.6119   \u001b[39m | \u001b[35m0.1395   \u001b[39m | \u001b[35m0.2921   \u001b[39m | \u001b[35m0.3664   \u001b[39m | \u001b[35m0.4561   \u001b[39m | \u001b[35m0.7852   \u001b[39m | \u001b[35m0.1997   \u001b[39m | \u001b[35m0.5142   \u001b[39m | \u001b[35m0.5924   \u001b[39m | \u001b[35m0.04645  \u001b[39m | \u001b[35m0.6075   \u001b[39m | \u001b[35m0.1705   \u001b[39m |\n",
      "Non-zero alphas: 6\n"
     ]
    },
    {
     "name": "stderr",
     "output_type": "stream",
     "text": [
      "Building TRAIN_KERNEL: 100%|██████████| 1225/1225 [00:40<00:00, 30.43it/s]\n",
      "Building TEST_KERNEL: 100%|██████████| 2500/2500 [01:18<00:00, 31.95it/s]\n"
     ]
    },
    {
     "name": "stdout",
     "output_type": "stream",
     "text": [
      "| \u001b[35m3        \u001b[39m | \u001b[35m0.7      \u001b[39m | \u001b[35m0.06505  \u001b[39m | \u001b[35m0.9489   \u001b[39m | \u001b[35m0.9656   \u001b[39m | \u001b[35m0.8084   \u001b[39m | \u001b[35m0.3046   \u001b[39m | \u001b[35m0.09767  \u001b[39m | \u001b[35m0.6842   \u001b[39m | \u001b[35m0.4402   \u001b[39m | \u001b[35m0.122    \u001b[39m | \u001b[35m0.4952   \u001b[39m | \u001b[35m0.03439  \u001b[39m | \u001b[35m0.9093   \u001b[39m | \u001b[35m0.2588   \u001b[39m | \u001b[35m0.6625   \u001b[39m | \u001b[35m0.3117   \u001b[39m | \u001b[35m0.5201   \u001b[39m |\n",
      "Non-zero alphas: 6\n"
     ]
    },
    {
     "name": "stderr",
     "output_type": "stream",
     "text": [
      "Building TRAIN_KERNEL: 100%|██████████| 1225/1225 [00:40<00:00, 30.30it/s]\n",
      "Building TEST_KERNEL: 100%|██████████| 2500/2500 [01:16<00:00, 32.75it/s]\n"
     ]
    },
    {
     "name": "stdout",
     "output_type": "stream",
     "text": [
      "| \u001b[39m4        \u001b[39m | \u001b[39m0.68     \u001b[39m | \u001b[39m0.5467   \u001b[39m | \u001b[39m0.1849   \u001b[39m | \u001b[39m0.9696   \u001b[39m | \u001b[39m0.7751   \u001b[39m | \u001b[39m0.9395   \u001b[39m | \u001b[39m0.8948   \u001b[39m | \u001b[39m0.5979   \u001b[39m | \u001b[39m0.9219   \u001b[39m | \u001b[39m0.08849  \u001b[39m | \u001b[39m0.196    \u001b[39m | \u001b[39m0.04523  \u001b[39m | \u001b[39m0.3253   \u001b[39m | \u001b[39m0.3887   \u001b[39m | \u001b[39m0.2713   \u001b[39m | \u001b[39m0.8287   \u001b[39m | \u001b[39m0.3568   \u001b[39m |\n",
      "Non-zero alphas: 6\n"
     ]
    },
    {
     "name": "stderr",
     "output_type": "stream",
     "text": [
      "Building TRAIN_KERNEL: 100%|██████████| 1225/1225 [00:40<00:00, 30.08it/s]\n",
      "Building TEST_KERNEL: 100%|██████████| 2500/2500 [01:17<00:00, 32.36it/s]\n"
     ]
    },
    {
     "name": "stdout",
     "output_type": "stream",
     "text": [
      "| \u001b[35m5        \u001b[39m | \u001b[35m0.72     \u001b[39m | \u001b[35m0.2809   \u001b[39m | \u001b[35m0.5427   \u001b[39m | \u001b[35m0.1409   \u001b[39m | \u001b[35m0.8022   \u001b[39m | \u001b[35m0.07455  \u001b[39m | \u001b[35m0.9869   \u001b[39m | \u001b[35m0.7722   \u001b[39m | \u001b[35m0.1987   \u001b[39m | \u001b[35m0.005522 \u001b[39m | \u001b[35m0.8155   \u001b[39m | \u001b[35m0.7069   \u001b[39m | \u001b[35m0.729    \u001b[39m | \u001b[35m0.7713   \u001b[39m | \u001b[35m0.07404  \u001b[39m | \u001b[35m0.3585   \u001b[39m | \u001b[35m0.1159   \u001b[39m |\n",
      "Non-zero alphas: 6\n"
     ]
    },
    {
     "name": "stderr",
     "output_type": "stream",
     "text": [
      "Building TRAIN_KERNEL: 100%|██████████| 1225/1225 [00:38<00:00, 31.90it/s]\n",
      "Building TEST_KERNEL: 100%|██████████| 2500/2500 [01:18<00:00, 31.67it/s]\n"
     ]
    },
    {
     "name": "stdout",
     "output_type": "stream",
     "text": [
      "| \u001b[39m6        \u001b[39m | \u001b[39m0.64     \u001b[39m | \u001b[39m0.3739   \u001b[39m | \u001b[39m0.4383   \u001b[39m | \u001b[39m0.1525   \u001b[39m | \u001b[39m0.579    \u001b[39m | \u001b[39m0.1402   \u001b[39m | \u001b[39m0.9153   \u001b[39m | \u001b[39m0.4157   \u001b[39m | \u001b[39m0.04265  \u001b[39m | \u001b[39m0.001764 \u001b[39m | \u001b[39m0.6763   \u001b[39m | \u001b[39m0.6115   \u001b[39m | \u001b[39m0.7703   \u001b[39m | \u001b[39m0.7494   \u001b[39m | \u001b[39m0.003077 \u001b[39m | \u001b[39m0.167    \u001b[39m | \u001b[39m0.3259   \u001b[39m |\n",
      "Non-zero alphas: 6\n"
     ]
    },
    {
     "name": "stderr",
     "output_type": "stream",
     "text": [
      "Building TRAIN_KERNEL: 100%|██████████| 1225/1225 [00:32<00:00, 37.91it/s]\n",
      "Building TEST_KERNEL: 100%|██████████| 2500/2500 [01:01<00:00, 40.74it/s]\n"
     ]
    },
    {
     "name": "stdout",
     "output_type": "stream",
     "text": [
      "| \u001b[39m7        \u001b[39m | \u001b[39m0.7      \u001b[39m | \u001b[39m0.09017  \u001b[39m | \u001b[39m0.8852   \u001b[39m | \u001b[39m0.1796   \u001b[39m | \u001b[39m0.7708   \u001b[39m | \u001b[39m0.1383   \u001b[39m | \u001b[39m0.7279   \u001b[39m | \u001b[39m0.2384   \u001b[39m | \u001b[39m0.04143  \u001b[39m | \u001b[39m0.1589   \u001b[39m | \u001b[39m0.8166   \u001b[39m | \u001b[39m0.7594   \u001b[39m | \u001b[39m0.5768   \u001b[39m | \u001b[39m0.5352   \u001b[39m | \u001b[39m0.04738  \u001b[39m | \u001b[39m0.3533   \u001b[39m | \u001b[39m0.9031   \u001b[39m |\n",
      "Non-zero alphas: 6\n"
     ]
    },
    {
     "name": "stderr",
     "output_type": "stream",
     "text": [
      "Building TRAIN_KERNEL: 100%|██████████| 1225/1225 [00:32<00:00, 38.12it/s]\n",
      "Building TEST_KERNEL: 100%|██████████| 2500/2500 [01:04<00:00, 38.71it/s]\n"
     ]
    },
    {
     "name": "stdout",
     "output_type": "stream",
     "text": [
      "| \u001b[39m8        \u001b[39m | \u001b[39m0.66     \u001b[39m | \u001b[39m0.1491   \u001b[39m | \u001b[39m0.5135   \u001b[39m | \u001b[39m0.6306   \u001b[39m | \u001b[39m0.2698   \u001b[39m | \u001b[39m0.659    \u001b[39m | \u001b[39m0.2806   \u001b[39m | \u001b[39m0.3082   \u001b[39m | \u001b[39m0.0513   \u001b[39m | \u001b[39m0.7128   \u001b[39m | \u001b[39m0.8957   \u001b[39m | \u001b[39m0.1061   \u001b[39m | \u001b[39m0.2172   \u001b[39m | \u001b[39m0.3675   \u001b[39m | \u001b[39m0.2776   \u001b[39m | \u001b[39m0.5975   \u001b[39m | \u001b[39m0.09893  \u001b[39m |\n",
      "Non-zero alphas: 6\n"
     ]
    },
    {
     "name": "stderr",
     "output_type": "stream",
     "text": [
      "Building TRAIN_KERNEL: 100%|██████████| 1225/1225 [00:28<00:00, 42.73it/s]\n",
      "Building TEST_KERNEL: 100%|██████████| 2500/2500 [01:05<00:00, 38.03it/s]\n"
     ]
    },
    {
     "name": "stdout",
     "output_type": "stream",
     "text": [
      "| \u001b[39m9        \u001b[39m | \u001b[39m0.64     \u001b[39m | \u001b[39m0.2381   \u001b[39m | \u001b[39m0.5075   \u001b[39m | \u001b[39m0.3218   \u001b[39m | \u001b[39m0.6104   \u001b[39m | \u001b[39m0.9135   \u001b[39m | \u001b[39m0.8304   \u001b[39m | \u001b[39m0.3073   \u001b[39m | \u001b[39m0.6383   \u001b[39m | \u001b[39m0.978    \u001b[39m | \u001b[39m0.6164   \u001b[39m | \u001b[39m0.5837   \u001b[39m | \u001b[39m0.1719   \u001b[39m | \u001b[39m0.1725   \u001b[39m | \u001b[39m0.1669   \u001b[39m | \u001b[39m0.9974   \u001b[39m | \u001b[39m0.2141   \u001b[39m |\n",
      "Non-zero alphas: 6\n"
     ]
    },
    {
     "name": "stderr",
     "output_type": "stream",
     "text": [
      "Building TRAIN_KERNEL: 100%|██████████| 1225/1225 [00:32<00:00, 37.47it/s]\n",
      "Building TEST_KERNEL: 100%|██████████| 2500/2500 [01:02<00:00, 40.24it/s]\n"
     ]
    },
    {
     "name": "stdout",
     "output_type": "stream",
     "text": [
      "| \u001b[39m10       \u001b[39m | \u001b[39m0.68     \u001b[39m | \u001b[39m0.8743   \u001b[39m | \u001b[39m0.4682   \u001b[39m | \u001b[39m0.1181   \u001b[39m | \u001b[39m0.561    \u001b[39m | \u001b[39m0.9829   \u001b[39m | \u001b[39m0.6561   \u001b[39m | \u001b[39m0.6104   \u001b[39m | \u001b[39m0.02032  \u001b[39m | \u001b[39m0.3413   \u001b[39m | \u001b[39m0.6338   \u001b[39m | \u001b[39m0.9261   \u001b[39m | \u001b[39m0.2267   \u001b[39m | \u001b[39m0.6446   \u001b[39m | \u001b[39m0.6518   \u001b[39m | \u001b[39m0.7886   \u001b[39m | \u001b[39m0.3401   \u001b[39m |\n",
      "Non-zero alphas: 6\n"
     ]
    },
    {
     "name": "stderr",
     "output_type": "stream",
     "text": [
      "Building TRAIN_KERNEL: 100%|██████████| 1225/1225 [00:32<00:00, 38.04it/s]\n",
      "Building TEST_KERNEL: 100%|██████████| 2500/2500 [01:01<00:00, 40.62it/s]\n"
     ]
    },
    {
     "name": "stdout",
     "output_type": "stream",
     "text": [
      "| \u001b[39m11       \u001b[39m | \u001b[39m0.66     \u001b[39m | \u001b[39m0.3157   \u001b[39m | \u001b[39m0.6635   \u001b[39m | \u001b[39m0.8042   \u001b[39m | \u001b[39m0.003167 \u001b[39m | \u001b[39m0.7017   \u001b[39m | \u001b[39m0.5368   \u001b[39m | \u001b[39m0.4715   \u001b[39m | \u001b[39m0.6844   \u001b[39m | \u001b[39m0.1046   \u001b[39m | \u001b[39m0.872    \u001b[39m | \u001b[39m0.3788   \u001b[39m | \u001b[39m0.3335   \u001b[39m | \u001b[39m0.3684   \u001b[39m | \u001b[39m0.1503   \u001b[39m | \u001b[39m0.9851   \u001b[39m | \u001b[39m0.7451   \u001b[39m |\n",
      "Non-zero alphas: 6\n"
     ]
    },
    {
     "name": "stderr",
     "output_type": "stream",
     "text": [
      "Building TRAIN_KERNEL: 100%|██████████| 1225/1225 [00:31<00:00, 38.29it/s]\n",
      "Building TEST_KERNEL: 100%|██████████| 2500/2500 [01:03<00:00, 39.10it/s]\n"
     ]
    },
    {
     "name": "stdout",
     "output_type": "stream",
     "text": [
      "| \u001b[39m12       \u001b[39m | \u001b[39m0.66     \u001b[39m | \u001b[39m0.8081   \u001b[39m | \u001b[39m0.6462   \u001b[39m | \u001b[39m0.6599   \u001b[39m | \u001b[39m0.05111  \u001b[39m | \u001b[39m0.8338   \u001b[39m | \u001b[39m0.2336   \u001b[39m | \u001b[39m0.01959  \u001b[39m | \u001b[39m0.271    \u001b[39m | \u001b[39m0.4307   \u001b[39m | \u001b[39m0.1537   \u001b[39m | \u001b[39m0.1768   \u001b[39m | \u001b[39m0.2609   \u001b[39m | \u001b[39m0.9895   \u001b[39m | \u001b[39m0.5295   \u001b[39m | \u001b[39m0.2108   \u001b[39m | \u001b[39m0.1557   \u001b[39m |\n",
      "Non-zero alphas: 6\n"
     ]
    },
    {
     "name": "stderr",
     "output_type": "stream",
     "text": [
      "Building TRAIN_KERNEL: 100%|██████████| 1225/1225 [00:28<00:00, 42.78it/s]\n",
      "Building TEST_KERNEL: 100%|██████████| 2500/2500 [01:01<00:00, 40.44it/s]\n"
     ]
    },
    {
     "name": "stdout",
     "output_type": "stream",
     "text": [
      "| \u001b[39m13       \u001b[39m | \u001b[39m0.64     \u001b[39m | \u001b[39m0.9306   \u001b[39m | \u001b[39m0.8376   \u001b[39m | \u001b[39m0.7835   \u001b[39m | \u001b[39m0.07252  \u001b[39m | \u001b[39m0.9936   \u001b[39m | \u001b[39m0.9872   \u001b[39m | \u001b[39m0.91     \u001b[39m | \u001b[39m0.7949   \u001b[39m | \u001b[39m0.8441   \u001b[39m | \u001b[39m0.1167   \u001b[39m | \u001b[39m0.3174   \u001b[39m | \u001b[39m0.05548  \u001b[39m | \u001b[39m0.3904   \u001b[39m | \u001b[39m0.7072   \u001b[39m | \u001b[39m0.1423   \u001b[39m | \u001b[39m0.8683   \u001b[39m |\n",
      "Non-zero alphas: 6\n"
     ]
    },
    {
     "name": "stderr",
     "output_type": "stream",
     "text": [
      "Building TRAIN_KERNEL: 100%|██████████| 1225/1225 [00:32<00:00, 37.83it/s]\n",
      "Building TEST_KERNEL: 100%|██████████| 2500/2500 [01:01<00:00, 40.80it/s]\n"
     ]
    },
    {
     "name": "stdout",
     "output_type": "stream",
     "text": [
      "| \u001b[39m14       \u001b[39m | \u001b[39m0.68     \u001b[39m | \u001b[39m0.5318   \u001b[39m | \u001b[39m0.4783   \u001b[39m | \u001b[39m0.4877   \u001b[39m | \u001b[39m0.9015   \u001b[39m | \u001b[39m0.5223   \u001b[39m | \u001b[39m0.9531   \u001b[39m | \u001b[39m0.3934   \u001b[39m | \u001b[39m0.347    \u001b[39m | \u001b[39m0.09982  \u001b[39m | \u001b[39m0.3287   \u001b[39m | \u001b[39m0.8607   \u001b[39m | \u001b[39m0.3114   \u001b[39m | \u001b[39m0.7203   \u001b[39m | \u001b[39m0.7733   \u001b[39m | \u001b[39m0.6672   \u001b[39m | \u001b[39m0.1222   \u001b[39m |\n",
      "Non-zero alphas: 6\n"
     ]
    },
    {
     "name": "stderr",
     "output_type": "stream",
     "text": [
      "Building TRAIN_KERNEL: 100%|██████████| 1225/1225 [00:32<00:00, 38.09it/s]\n",
      "Building TEST_KERNEL: 100%|██████████| 2500/2500 [01:04<00:00, 39.01it/s]\n"
     ]
    },
    {
     "name": "stdout",
     "output_type": "stream",
     "text": [
      "| \u001b[39m15       \u001b[39m | \u001b[39m0.66     \u001b[39m | \u001b[39m0.5687   \u001b[39m | \u001b[39m0.821    \u001b[39m | \u001b[39m0.1681   \u001b[39m | \u001b[39m0.9414   \u001b[39m | \u001b[39m0.2384   \u001b[39m | \u001b[39m0.2118   \u001b[39m | \u001b[39m0.8863   \u001b[39m | \u001b[39m0.7654   \u001b[39m | \u001b[39m0.1898   \u001b[39m | \u001b[39m0.8091   \u001b[39m | \u001b[39m0.6285   \u001b[39m | \u001b[39m0.05496  \u001b[39m | \u001b[39m0.1604   \u001b[39m | \u001b[39m0.04872  \u001b[39m | \u001b[39m0.6927   \u001b[39m | \u001b[39m0.779    \u001b[39m |\n",
      "Non-zero alphas: 6\n"
     ]
    },
    {
     "name": "stderr",
     "output_type": "stream",
     "text": [
      "Building TRAIN_KERNEL: 100%|██████████| 1225/1225 [00:28<00:00, 42.47it/s]\n",
      "Building TEST_KERNEL: 100%|██████████| 2500/2500 [01:05<00:00, 38.39it/s]\n"
     ]
    },
    {
     "name": "stdout",
     "output_type": "stream",
     "text": [
      "| \u001b[39m16       \u001b[39m | \u001b[39m0.62     \u001b[39m | \u001b[39m0.6408   \u001b[39m | \u001b[39m0.5451   \u001b[39m | \u001b[39m0.3996   \u001b[39m | \u001b[39m0.74     \u001b[39m | \u001b[39m0.02666  \u001b[39m | \u001b[39m0.5511   \u001b[39m | \u001b[39m0.2818   \u001b[39m | \u001b[39m0.2533   \u001b[39m | \u001b[39m0.8916   \u001b[39m | \u001b[39m0.3739   \u001b[39m | \u001b[39m0.2868   \u001b[39m | \u001b[39m0.9204   \u001b[39m | \u001b[39m0.6048   \u001b[39m | \u001b[39m0.3257   \u001b[39m | \u001b[39m0.301    \u001b[39m | \u001b[39m0.8876   \u001b[39m |\n",
      "Non-zero alphas: 6\n"
     ]
    },
    {
     "name": "stderr",
     "output_type": "stream",
     "text": [
      "Building TRAIN_KERNEL: 100%|██████████| 1225/1225 [00:32<00:00, 37.76it/s]\n",
      "Building TEST_KERNEL: 100%|██████████| 2500/2500 [01:01<00:00, 40.44it/s]\n"
     ]
    },
    {
     "name": "stdout",
     "output_type": "stream",
     "text": [
      "| \u001b[39m17       \u001b[39m | \u001b[39m0.66     \u001b[39m | \u001b[39m0.369    \u001b[39m | \u001b[39m0.5786   \u001b[39m | \u001b[39m0.9015   \u001b[39m | \u001b[39m0.001486 \u001b[39m | \u001b[39m0.3995   \u001b[39m | \u001b[39m0.6676   \u001b[39m | \u001b[39m0.05527  \u001b[39m | \u001b[39m0.8329   \u001b[39m | \u001b[39m0.613    \u001b[39m | \u001b[39m0.254    \u001b[39m | \u001b[39m0.7441   \u001b[39m | \u001b[39m0.3013   \u001b[39m | \u001b[39m0.5812   \u001b[39m | \u001b[39m0.2915   \u001b[39m | \u001b[39m0.3727   \u001b[39m | \u001b[39m0.1752   \u001b[39m |\n",
      "Non-zero alphas: 6\n"
     ]
    },
    {
     "name": "stderr",
     "output_type": "stream",
     "text": [
      "Building TRAIN_KERNEL: 100%|██████████| 1225/1225 [00:32<00:00, 37.95it/s]\n",
      "Building TEST_KERNEL: 100%|██████████| 2500/2500 [01:04<00:00, 39.03it/s]\n"
     ]
    },
    {
     "name": "stdout",
     "output_type": "stream",
     "text": [
      "| \u001b[39m18       \u001b[39m | \u001b[39m0.66     \u001b[39m | \u001b[39m0.2204   \u001b[39m | \u001b[39m0.3533   \u001b[39m | \u001b[39m0.004992 \u001b[39m | \u001b[39m0.7255   \u001b[39m | \u001b[39m0.6118   \u001b[39m | \u001b[39m0.2944   \u001b[39m | \u001b[39m0.2215   \u001b[39m | \u001b[39m0.6808   \u001b[39m | \u001b[39m0.4829   \u001b[39m | \u001b[39m0.7047   \u001b[39m | \u001b[39m0.181    \u001b[39m | \u001b[39m0.7168   \u001b[39m | \u001b[39m0.412    \u001b[39m | \u001b[39m0.7767   \u001b[39m | \u001b[39m0.4099   \u001b[39m | \u001b[39m0.2025   \u001b[39m |\n",
      "Non-zero alphas: 6\n"
     ]
    },
    {
     "name": "stderr",
     "output_type": "stream",
     "text": [
      "Building TRAIN_KERNEL: 100%|██████████| 1225/1225 [00:28<00:00, 42.64it/s]\n",
      "Building TEST_KERNEL: 100%|██████████| 2500/2500 [01:06<00:00, 37.74it/s]\n"
     ]
    },
    {
     "name": "stdout",
     "output_type": "stream",
     "text": [
      "| \u001b[39m19       \u001b[39m | \u001b[39m0.7      \u001b[39m | \u001b[39m0.262    \u001b[39m | \u001b[39m0.7018   \u001b[39m | \u001b[39m0.7417   \u001b[39m | \u001b[39m0.3903   \u001b[39m | \u001b[39m0.5435   \u001b[39m | \u001b[39m0.1085   \u001b[39m | \u001b[39m0.4197   \u001b[39m | \u001b[39m0.06063  \u001b[39m | \u001b[39m0.6557   \u001b[39m | \u001b[39m0.554    \u001b[39m | \u001b[39m0.2698   \u001b[39m | \u001b[39m0.5881   \u001b[39m | \u001b[39m0.7687   \u001b[39m | \u001b[39m0.4663   \u001b[39m | \u001b[39m0.985    \u001b[39m | \u001b[39m0.7263   \u001b[39m |\n",
      "Non-zero alphas: 6\n"
     ]
    },
    {
     "name": "stderr",
     "output_type": "stream",
     "text": [
      "Building TRAIN_KERNEL: 100%|██████████| 1225/1225 [00:28<00:00, 42.27it/s]\n",
      "Building TEST_KERNEL: 100%|██████████| 2500/2500 [01:06<00:00, 37.82it/s]\n"
     ]
    },
    {
     "name": "stdout",
     "output_type": "stream",
     "text": [
      "| \u001b[39m20       \u001b[39m | \u001b[39m0.7      \u001b[39m | \u001b[39m0.7637   \u001b[39m | \u001b[39m0.1957   \u001b[39m | \u001b[39m0.8054   \u001b[39m | \u001b[39m0.1662   \u001b[39m | \u001b[39m0.5076   \u001b[39m | \u001b[39m0.3042   \u001b[39m | \u001b[39m0.608    \u001b[39m | \u001b[39m0.7166   \u001b[39m | \u001b[39m0.9795   \u001b[39m | \u001b[39m0.2166   \u001b[39m | \u001b[39m0.2543   \u001b[39m | \u001b[39m0.5582   \u001b[39m | \u001b[39m0.3628   \u001b[39m | \u001b[39m0.711    \u001b[39m | \u001b[39m0.8114   \u001b[39m | \u001b[39m0.3033   \u001b[39m |\n",
      "Non-zero alphas: 6\n"
     ]
    },
    {
     "name": "stderr",
     "output_type": "stream",
     "text": [
      "Building TRAIN_KERNEL: 100%|██████████| 1225/1225 [00:28<00:00, 42.43it/s]\n",
      "Building TEST_KERNEL: 100%|██████████| 2500/2500 [01:06<00:00, 37.83it/s]\n"
     ]
    },
    {
     "name": "stdout",
     "output_type": "stream",
     "text": [
      "| \u001b[39m21       \u001b[39m | \u001b[39m0.66     \u001b[39m | \u001b[39m0.7764   \u001b[39m | \u001b[39m0.8658   \u001b[39m | \u001b[39m0.8769   \u001b[39m | \u001b[39m0.3123   \u001b[39m | \u001b[39m0.6066   \u001b[39m | \u001b[39m0.4438   \u001b[39m | \u001b[39m0.01257  \u001b[39m | \u001b[39m0.8236   \u001b[39m | \u001b[39m0.3838   \u001b[39m | \u001b[39m0.9202   \u001b[39m | \u001b[39m0.5003   \u001b[39m | \u001b[39m0.6581   \u001b[39m | \u001b[39m0.8833   \u001b[39m | \u001b[39m0.7314   \u001b[39m | \u001b[39m0.9911   \u001b[39m | \u001b[39m0.7923   \u001b[39m |\n",
      "Non-zero alphas: 6\n"
     ]
    },
    {
     "name": "stderr",
     "output_type": "stream",
     "text": [
      "Building TRAIN_KERNEL: 100%|██████████| 1225/1225 [00:32<00:00, 37.67it/s]\n",
      "Building TEST_KERNEL: 100%|██████████| 2500/2500 [01:01<00:00, 40.48it/s]\n"
     ]
    },
    {
     "name": "stdout",
     "output_type": "stream",
     "text": [
      "| \u001b[39m22       \u001b[39m | \u001b[39m0.68     \u001b[39m | \u001b[39m0.079    \u001b[39m | \u001b[39m0.4658   \u001b[39m | \u001b[39m0.6447   \u001b[39m | \u001b[39m0.5901   \u001b[39m | \u001b[39m0.3892   \u001b[39m | \u001b[39m0.6057   \u001b[39m | \u001b[39m0.7806   \u001b[39m | \u001b[39m0.8121   \u001b[39m | \u001b[39m0.8609   \u001b[39m | \u001b[39m0.2406   \u001b[39m | \u001b[39m0.1748   \u001b[39m | \u001b[39m0.6373   \u001b[39m | \u001b[39m0.5513   \u001b[39m | \u001b[39m0.5554   \u001b[39m | \u001b[39m0.534    \u001b[39m | \u001b[39m0.3612   \u001b[39m |\n",
      "Non-zero alphas: 6\n"
     ]
    },
    {
     "name": "stderr",
     "output_type": "stream",
     "text": [
      "Building TRAIN_KERNEL: 100%|██████████| 1225/1225 [00:32<00:00, 37.92it/s]\n",
      "Building TEST_KERNEL: 100%|██████████| 2500/2500 [01:04<00:00, 38.61it/s]\n"
     ]
    },
    {
     "name": "stdout",
     "output_type": "stream",
     "text": [
      "| \u001b[39m23       \u001b[39m | \u001b[39m0.66     \u001b[39m | \u001b[39m0.5999   \u001b[39m | \u001b[39m0.9287   \u001b[39m | \u001b[39m0.3202   \u001b[39m | \u001b[39m0.635    \u001b[39m | \u001b[39m0.783    \u001b[39m | \u001b[39m0.1473   \u001b[39m | \u001b[39m0.7643   \u001b[39m | \u001b[39m0.4941   \u001b[39m | \u001b[39m0.02113  \u001b[39m | \u001b[39m0.2304   \u001b[39m | \u001b[39m0.37     \u001b[39m | \u001b[39m0.0893   \u001b[39m | \u001b[39m0.04689  \u001b[39m | \u001b[39m0.4207   \u001b[39m | \u001b[39m0.3109   \u001b[39m | \u001b[39m0.3666   \u001b[39m |\n",
      "Non-zero alphas: 6\n"
     ]
    },
    {
     "name": "stderr",
     "output_type": "stream",
     "text": [
      "Building TRAIN_KERNEL: 100%|██████████| 1225/1225 [00:28<00:00, 42.70it/s]\n",
      "Building TEST_KERNEL: 100%|██████████| 2500/2500 [01:05<00:00, 38.33it/s]\n"
     ]
    },
    {
     "name": "stdout",
     "output_type": "stream",
     "text": [
      "| \u001b[39m24       \u001b[39m | \u001b[39m0.7      \u001b[39m | \u001b[39m0.05572  \u001b[39m | \u001b[39m0.6186   \u001b[39m | \u001b[39m0.746    \u001b[39m | \u001b[39m0.5836   \u001b[39m | \u001b[39m0.2076   \u001b[39m | \u001b[39m0.6248   \u001b[39m | \u001b[39m0.4647   \u001b[39m | \u001b[39m0.5463   \u001b[39m | \u001b[39m0.04458  \u001b[39m | \u001b[39m0.1464   \u001b[39m | \u001b[39m0.3253   \u001b[39m | \u001b[39m0.5966   \u001b[39m | \u001b[39m0.6053   \u001b[39m | \u001b[39m0.7523   \u001b[39m | \u001b[39m0.549    \u001b[39m | \u001b[39m0.5289   \u001b[39m |\n",
      "Non-zero alphas: 6\n"
     ]
    },
    {
     "name": "stderr",
     "output_type": "stream",
     "text": [
      "Building TRAIN_KERNEL: 100%|██████████| 1225/1225 [00:29<00:00, 42.17it/s]\n",
      "Building TEST_KERNEL: 100%|██████████| 2500/2500 [01:05<00:00, 38.00it/s]\n"
     ]
    },
    {
     "name": "stdout",
     "output_type": "stream",
     "text": [
      "| \u001b[39m25       \u001b[39m | \u001b[39m0.68     \u001b[39m | \u001b[39m0.2918   \u001b[39m | \u001b[39m0.9933   \u001b[39m | \u001b[39m0.6162   \u001b[39m | \u001b[39m0.1704   \u001b[39m | \u001b[39m0.5959   \u001b[39m | \u001b[39m0.1138   \u001b[39m | \u001b[39m0.6047   \u001b[39m | \u001b[39m0.7634   \u001b[39m | \u001b[39m0.3989   \u001b[39m | \u001b[39m0.4102   \u001b[39m | \u001b[39m0.6913   \u001b[39m | \u001b[39m0.9013   \u001b[39m | \u001b[39m0.9394   \u001b[39m | \u001b[39m0.03754  \u001b[39m | \u001b[39m0.4325   \u001b[39m | \u001b[39m0.4857   \u001b[39m |\n",
      "Non-zero alphas: 6\n"
     ]
    },
    {
     "name": "stderr",
     "output_type": "stream",
     "text": [
      "Building TRAIN_KERNEL: 100%|██████████| 1225/1225 [00:32<00:00, 37.56it/s]\n",
      "Building TEST_KERNEL: 100%|██████████| 2500/2500 [01:02<00:00, 40.28it/s]\n"
     ]
    },
    {
     "name": "stdout",
     "output_type": "stream",
     "text": [
      "| \u001b[39m26       \u001b[39m | \u001b[39m0.66     \u001b[39m | \u001b[39m0.4892   \u001b[39m | \u001b[39m0.2586   \u001b[39m | \u001b[39m0.3416   \u001b[39m | \u001b[39m0.8598   \u001b[39m | \u001b[39m0.07477  \u001b[39m | \u001b[39m0.7394   \u001b[39m | \u001b[39m0.5796   \u001b[39m | \u001b[39m0.6912   \u001b[39m | \u001b[39m0.1403   \u001b[39m | \u001b[39m0.6253   \u001b[39m | \u001b[39m0.8636   \u001b[39m | \u001b[39m0.5237   \u001b[39m | \u001b[39m0.7512   \u001b[39m | \u001b[39m0.7249   \u001b[39m | \u001b[39m0.5371   \u001b[39m | \u001b[39m0.8393   \u001b[39m |\n",
      "Non-zero alphas: 6\n"
     ]
    },
    {
     "name": "stderr",
     "output_type": "stream",
     "text": [
      "Building TRAIN_KERNEL: 100%|██████████| 1225/1225 [00:32<00:00, 37.85it/s]\n",
      "Building TEST_KERNEL: 100%|██████████| 2500/2500 [01:00<00:00, 41.02it/s]\n"
     ]
    },
    {
     "name": "stdout",
     "output_type": "stream",
     "text": [
      "| \u001b[39m27       \u001b[39m | \u001b[39m0.6      \u001b[39m | \u001b[39m0.09818  \u001b[39m | \u001b[39m0.7689   \u001b[39m | \u001b[39m0.009608 \u001b[39m | \u001b[39m0.422    \u001b[39m | \u001b[39m0.1105   \u001b[39m | \u001b[39m0.8875   \u001b[39m | \u001b[39m0.6212   \u001b[39m | \u001b[39m0.07029  \u001b[39m | \u001b[39m0.9199   \u001b[39m | \u001b[39m0.7059   \u001b[39m | \u001b[39m0.1872   \u001b[39m | \u001b[39m0.7392   \u001b[39m | \u001b[39m0.4586   \u001b[39m | \u001b[39m0.3119   \u001b[39m | \u001b[39m0.1317   \u001b[39m | \u001b[39m0.003327 \u001b[39m |\n",
      "Non-zero alphas: 6\n"
     ]
    },
    {
     "name": "stderr",
     "output_type": "stream",
     "text": [
      "Building TRAIN_KERNEL: 100%|██████████| 1225/1225 [00:31<00:00, 38.31it/s]\n",
      "Building TEST_KERNEL: 100%|██████████| 2500/2500 [01:03<00:00, 39.25it/s]\n"
     ]
    },
    {
     "name": "stdout",
     "output_type": "stream",
     "text": [
      "| \u001b[39m28       \u001b[39m | \u001b[39m0.7      \u001b[39m | \u001b[39m0.1696   \u001b[39m | \u001b[39m0.9769   \u001b[39m | \u001b[39m0.8451   \u001b[39m | \u001b[39m0.5408   \u001b[39m | \u001b[39m0.9243   \u001b[39m | \u001b[39m0.6075   \u001b[39m | \u001b[39m0.5093   \u001b[39m | \u001b[39m0.2639   \u001b[39m | \u001b[39m0.8233   \u001b[39m | \u001b[39m0.4961   \u001b[39m | \u001b[39m0.2494   \u001b[39m | \u001b[39m0.4792   \u001b[39m | \u001b[39m0.8759   \u001b[39m | \u001b[39m0.8371   \u001b[39m | \u001b[39m0.3395   \u001b[39m | \u001b[39m0.2934   \u001b[39m |\n",
      "Non-zero alphas: 6\n"
     ]
    },
    {
     "name": "stderr",
     "output_type": "stream",
     "text": [
      "Building TRAIN_KERNEL: 100%|██████████| 1225/1225 [00:32<00:00, 37.95it/s]\n",
      "Building TEST_KERNEL: 100%|██████████| 2500/2500 [01:01<00:00, 40.63it/s]\n"
     ]
    },
    {
     "name": "stdout",
     "output_type": "stream",
     "text": [
      "| \u001b[39m29       \u001b[39m | \u001b[39m0.68     \u001b[39m | \u001b[39m0.5824   \u001b[39m | \u001b[39m0.1498   \u001b[39m | \u001b[39m0.1665   \u001b[39m | \u001b[39m0.2812   \u001b[39m | \u001b[39m0.649    \u001b[39m | \u001b[39m0.5298   \u001b[39m | \u001b[39m0.7272   \u001b[39m | \u001b[39m0.9472   \u001b[39m | \u001b[39m0.1197   \u001b[39m | \u001b[39m0.05265  \u001b[39m | \u001b[39m0.5273   \u001b[39m | \u001b[39m0.7674   \u001b[39m | \u001b[39m0.4109   \u001b[39m | \u001b[39m0.5427   \u001b[39m | \u001b[39m0.2697   \u001b[39m | \u001b[39m0.2026   \u001b[39m |\n",
      "Non-zero alphas: 6\n"
     ]
    },
    {
     "name": "stderr",
     "output_type": "stream",
     "text": [
      "Building TRAIN_KERNEL: 100%|██████████| 1225/1225 [00:32<00:00, 37.97it/s]\n",
      "Building TEST_KERNEL: 100%|██████████| 2500/2500 [01:01<00:00, 40.43it/s]\n"
     ]
    },
    {
     "name": "stdout",
     "output_type": "stream",
     "text": [
      "| \u001b[39m30       \u001b[39m | \u001b[39m0.68     \u001b[39m | \u001b[39m0.5692   \u001b[39m | \u001b[39m0.7647   \u001b[39m | \u001b[39m0.1543   \u001b[39m | \u001b[39m0.8688   \u001b[39m | \u001b[39m0.9758   \u001b[39m | \u001b[39m0.8985   \u001b[39m | \u001b[39m0.9844   \u001b[39m | \u001b[39m0.5857   \u001b[39m | \u001b[39m0.3596   \u001b[39m | \u001b[39m0.8363   \u001b[39m | \u001b[39m0.721    \u001b[39m | \u001b[39m0.2059   \u001b[39m | \u001b[39m0.2133   \u001b[39m | \u001b[39m0.5445   \u001b[39m | \u001b[39m0.007826 \u001b[39m | \u001b[39m0.3605   \u001b[39m |\n",
      "=========================================================================================================================================================================================================================\n",
      "Best Coefficients: [np.float64(0.28093450968738076), np.float64(0.5426960831582485), np.float64(0.005522117123602399), np.float64(0.8154614284548342), np.float64(0.7068573438476171), np.float64(0.7290071680409873), np.float64(0.7712703466859457), np.float64(0.07404465173409036), np.float64(0.3584657285442726), np.float64(0.11586905952512971), np.float64(0.14092422497476265), np.float64(0.8021969807540397), np.float64(0.07455064367977082), np.float64(0.9868869366005173), np.float64(0.7722447692966574), np.float64(0.1987156815341724)]\n",
      "Best Val Accuracy: 0.72\n",
      "Non-zero alphas: 6\n"
     ]
    },
    {
     "name": "stderr",
     "output_type": "stream",
     "text": [
      "Building TRAIN_KERNEL: 100%|██████████| 1225/1225 [00:33<00:00, 36.66it/s]\n"
     ]
    },
    {
     "name": "stdout",
     "output_type": "stream",
     "text": [
      "Train Accuracy: 0.84\n"
     ]
    },
    {
     "name": "stderr",
     "output_type": "stream",
     "text": [
      "Building TEST_KERNEL: 100%|██████████| 2500/2500 [01:02<00:00, 39.94it/s]\n"
     ]
    },
    {
     "name": "stdout",
     "output_type": "stream",
     "text": [
      "Validation Accuracy: 0.66\n"
     ]
    },
    {
     "name": "stderr",
     "output_type": "stream",
     "text": [
      "Building TEST_KERNEL: 100%|██████████| 5000/5000 [02:05<00:00, 39.82it/s]\n"
     ]
    },
    {
     "name": "stdout",
     "output_type": "stream",
     "text": [
      "Test Accuracy: 0.64\n",
      "Saving model...\n"
     ]
    }
   ],
   "source": [
    "from time import sleep\n",
    "\n",
    "for SEED in SEEDS:\n",
    "\n",
    "    random.seed(SEED)\n",
    "\n",
    "    test_labels, val_labels, test_features, val_features = train_test_split(INITIAL_TEST_LABELS, INITIAL_TEST_FEATURES, test_size=0.33, random_state=SEED)\n",
    "\n",
    "    fixed_alphas = generate_random_alphas()\n",
    "\n",
    "    def objective_function(**kwargs):\n",
    "        # Convert kwargs to a coefficient array\n",
    "        coefficients = np.array([kwargs[f\"coeff_{i}\"] for i in range(4**CONFIG[\"N_QUBITS\"])])\n",
    "        #print(\"Coefficients:\", coefficients)\n",
    "        # Fit the QuantumSVM model with the generated Hamiltonian\n",
    "        quantum_svm = QuantumSVM(n_qubits=CONFIG[\"N_QUBITS\"], Hamiltonian_c=coefficients, alphas_c=fixed_alphas, embedding_code=CONFIG[\"ENCODING\"], sparsity_coefficient=CONFIG[\"SPARSITY\"])\n",
    "        quantum_svm.fit(train_features, train_labels)\n",
    "        \n",
    "        y_val = quantum_svm.predict(val_features)\n",
    "        val_accuracy = accuracy_score(val_labels, y_val)\n",
    "        return val_accuracy\n",
    "\n",
    "\n",
    "    pbounds = {f\"coeff_{i}\": (0, 1) for i in range(4**CONFIG[\"N_QUBITS\"])}\n",
    "\n",
    "    # Initialize Bayesian Optimizer\n",
    "    optimizer = BayesianOptimization(\n",
    "        f=objective_function,\n",
    "        pbounds=pbounds,\n",
    "        random_state=42,\n",
    "        verbose=2\n",
    "    )\n",
    "\n",
    "    optimizer.maximize(\n",
    "        init_points=5,  # Number of random initial points\n",
    "        n_iter=OPT_TIMES-5        # Number of optimization steps\n",
    "    )\n",
    "    # Retrieve the best coefficients\n",
    "    best_coefficients = [optimizer.max[\"params\"][f\"coeff_{i}\"] for i in range(4**CONFIG[\"N_QUBITS\"])]\n",
    "\n",
    "    print(\"Best Coefficients:\", best_coefficients)\n",
    "    print(\"Best Val Accuracy:\", optimizer.max[\"target\"])\n",
    "\n",
    "    quantum_svm = QuantumSVM(n_qubits=CONFIG[\"N_QUBITS\"], Hamiltonian_c=best_coefficients, alphas_c=fixed_alphas, embedding_code=CONFIG[\"ENCODING\"], sparsity_coefficient=CONFIG[\"SPARSITY\"])\n",
    "\n",
    "    quantum_svm.fit(train_features, train_labels)\n",
    "    y_train = quantum_svm.predict_on_train()\n",
    "    train_accuracy = accuracy_score(train_labels, y_train)\n",
    "    print(f\"Train Accuracy: {train_accuracy}\")\n",
    "\n",
    "    y_val = quantum_svm.predict(val_features)\n",
    "    val_accuracy = accuracy_score(val_labels, y_val)\n",
    "    print(f\"Validation Accuracy: {val_accuracy}\")\n",
    "\n",
    "    y_test = quantum_svm.predict(test_features)\n",
    "    accuracy = accuracy_score(test_labels, y_test)\n",
    "    print(f\"Test Accuracy: {accuracy}\")\n",
    "\n",
    "\n",
    "    # now I want to save the model Hamiltonian_c and hidden_alphas\n",
    "    print(\"Saving model...\")\n",
    "    Hamiltonian_c = quantum_svm.Hamiltonian_c\n",
    "    hidden_alphas = quantum_svm.hidden_alphas\n",
    "\n",
    "    #print(\"Hamiltonian_c: \", Hamiltonian_c)\n",
    "    #print(\"hidden_alphas: \", hidden_alphas)\n",
    "    save_results(EXP, CONFIG[\"ENCODING\"], SEED, train_accuracy, val_accuracy, accuracy, Hamiltonian_c, hidden_alphas)\n",
    "    sleep(60)"
   ]
  }
 ],
 "metadata": {
  "kernelspec": {
   "display_name": "venv",
   "language": "python",
   "name": "python3"
  },
  "language_info": {
   "codemirror_mode": {
    "name": "ipython",
    "version": 3
   },
   "file_extension": ".py",
   "mimetype": "text/x-python",
   "name": "python",
   "nbconvert_exporter": "python",
   "pygments_lexer": "ipython3",
   "version": "3.11.5"
  }
 },
 "nbformat": 4,
 "nbformat_minor": 2
}
